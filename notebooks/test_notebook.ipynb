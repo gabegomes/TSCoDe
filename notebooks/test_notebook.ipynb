{
 "metadata": {
  "language_info": {
   "codemirror_mode": {
    "name": "ipython",
    "version": 3
   },
   "file_extension": ".py",
   "mimetype": "text/x-python",
   "name": "python",
   "nbconvert_exporter": "python",
   "pygments_lexer": "ipython3",
   "version": "3.6.12"
  },
  "orig_nbformat": 2,
  "kernelspec": {
   "name": "python3612jvsc74a57bd013b132f2c1b4759c35299cc27b3a010876219416598289e22ec2dbcead05f2f6",
   "display_name": "Python 3.6.12 64-bit ('my-rdkit-env': conda)"
  }
 },
 "nbformat": 4,
 "nbformat_minor": 2,
 "cells": [
  {
   "cell_type": "code",
   "execution_count": null,
   "metadata": {},
   "outputs": [],
   "source": [
    "from main import polygonize\n",
    "import numpy as np\n",
    "\n",
    "def get_directions(vecs):\n",
    "    '''\n",
    "    Returns two or three vectors specifying the direction in which each molecule should be aligned\n",
    "    in the cyclical TS, pointing towards the center of the polygon.\n",
    "    '''\n",
    "    assert len(vecs) in (2,3)\n",
    "    if len(vecs) == 2:\n",
    "        return np.array([[0,1,0],\n",
    "                            [0,-1,0]])\n",
    "    else:\n",
    "        a = vecs[0,1,0] # first vec, end, x\n",
    "        b = vecs[1,1,0] # second vec, end, x\n",
    "        c = vecs[1,1,1] # second vec, end, y\n",
    "\n",
    "        x = a/2\n",
    "        y = (b**2 + c**2 - a*b)/(2*c)\n",
    "        cc = np.array([x,y,0])\n",
    "        # coordinates of the triangle circocenter\n",
    "\n",
    "        v1 = cc - np.mean((vecs[0,1],vecs[2,1]), axis=0)\n",
    "        v2 = cc - np.mean((vecs[1,1],vecs[0,1]), axis=0)\n",
    "        v3 = cc - np.mean((vecs[2,1],vecs[1,1]), axis=0)\n",
    "        # versors connecting center of side with circocenter\n",
    "\n",
    "        return np.vstack((v1,v2,v3))\n",
    "\n",
    "# get_directions(polygonize([1,1,1])[0])\n",
    "# polygonize([1,1,1])[0]\n",
    "\n",
    "from linalg_tools import cartesian_product\n",
    "rotation_steps = 2\n",
    "a = cartesian_product(*[range(-rotation_steps, rotation_steps+1) for _ in range(3)])*45/rotation_steps\n",
    "a[0:10]"
   ]
  },
  {
   "cell_type": "code",
   "execution_count": null,
   "metadata": {},
   "outputs": [],
   "source": [
    "x = np.array([[[0.,         0. ,        0.        ],\n",
    "  [1.97332738, 0.   ,      0.        ]],\n",
    "\n",
    " [[2.83868969, 4.15092487, 0.        ],\n",
    "  [1.97332738, 0.        , 0.        ]],\n",
    "\n",
    " [[2.83868969, 4.15092487, 0.        ],\n",
    "  [0.        , 0.        , 0.        ]]])\n",
    "\n",
    "[np.linalg.norm(i[0]-i[1]) for i in x]"
   ]
  },
  {
   "source": [
    "## Dataclass"
   ],
   "cell_type": "markdown",
   "metadata": {}
  },
  {
   "cell_type": "code",
   "execution_count": null,
   "metadata": {},
   "outputs": [],
   "source": [
    "from main import Options\n",
    "options = Options()\n",
    "dir(options)\n",
    "{var:options.__getattribute__(var) for var in dir(options) if var[0:2] != '__'}"
   ]
  },
  {
   "source": [
    "## Options with numbers"
   ],
   "cell_type": "markdown",
   "metadata": {}
  },
  {
   "cell_type": "code",
   "execution_count": null,
   "metadata": {},
   "outputs": [],
   "source": [
    "keywords_list = ['STEPS=5']\n",
    "line = 'NOOPT STEPS=7 BYPASS'\n",
    "keywords = [l.split('=')[0] for l in line.split()]\n",
    "keywords"
   ]
  },
  {
   "source": [
    "## options with commas/equals"
   ],
   "cell_type": "markdown",
   "metadata": {}
  },
  {
   "cell_type": "code",
   "execution_count": null,
   "metadata": {},
   "outputs": [],
   "source": [
    "d = {0:[[1,'a']], 1:[[9,'a']]}\n",
    "def _set_custom_orbs(orb_string):\n",
    "    '''\n",
    "    orb_string looks like 'a=2.345,b=3.456,c=2.22'\n",
    "\n",
    "    '''\n",
    "    pairs = [(piece.split('=')[0], float(piece.split('=')[1])) for piece in orb_string.split(',')]\n",
    "\n",
    "    for letter, dist in pairs:\n",
    "        for index in range(len(self.objects)):\n",
    "            for pairing in self.pairing_dict[index]:\n",
    "\n",
    "    # for each pairing specified by the user, check each pairing recorded\n",
    "    # in the pairing_dict on that molecule.\n",
    "\n",
    "                if pairing[1] == letter:\n",
    "                    for reactive_atom, reactive_index in zip(self.objects[index].reactive_atoms_classes, self.objects[index].reactive_indexes):\n",
    "                        if reactive_index == pairing[0]:\n",
    "                            reactive_atom.init(self.objects[index], reactive_index, update=True, orb_dim=dist/2)\n",
    "\n",
    "                # If the letter matches, look for the correct reactive atom on that molecule. When we find the correct match,\n",
    "                # set the new orbital center with imposed distance from the reactive atom. The imposed distance is half the \n",
    "                # user-specified one, as the final atomic distances will be given by two halves of this length.\n",
    "\n",
    "\n",
    "# _set_custom_orbs('a=2.345,b=3.456')\n",
    "# d = {0:[[1,'a']], 1:[[9,'a']]}\n",
    "\n",
    "'CLASHES(a=3.5)'[8:-1]"
   ]
  },
  {
   "source": [
    "## SUPRAFAC Keyword"
   ],
   "cell_type": "markdown",
   "metadata": {}
  },
  {
   "cell_type": "code",
   "execution_count": null,
   "metadata": {},
   "outputs": [],
   "source": [
    "l = [0,2,3,1]\n",
    "\n",
    "for n in l:\n",
    "    keep = [i for i in l if n >= i]\n",
    "    if len(keep) == 2:\n",
    "        b = [i in keep for i in l]\n",
    "        print(keep)\n",
    "        print(n)\n",
    "        print(b)"
   ]
  },
  {
   "source": [
    "## Rodrigues Formula"
   ],
   "cell_type": "markdown",
   "metadata": {}
  },
  {
   "cell_type": "code",
   "execution_count": null,
   "metadata": {},
   "outputs": [],
   "source": [
    "import numpy as np\n",
    "from linalg_tools import norm, rot_mat_from_pointer\n",
    "def rodrigues(pivot, angle):\n",
    "    '''\n",
    "    Pivot is a shape (3,) array\n",
    "    Angle in degrees\n",
    "    '''\n",
    "\n",
    "    p = norm(pivot)\n",
    "    a = angle/180*np.pi\n",
    "    x = np.array([1,0,0])\n",
    "    y = np.array([0,1,0])\n",
    "    z = np.array([0,0,1])\n",
    "\n",
    "    v0 = x*np.cos(a) + np.cross(p, x) * np.sin(a) + p*(np.dot(p, x))*(1-np.cos(a))\n",
    "    v1 = y*np.cos(a) + np.cross(p, y) * np.sin(a) + p*(np.dot(p, y))*(1-np.cos(a))\n",
    "    v2 = z*np.cos(a) + np.cross(p, z) * np.sin(a) + p*(np.dot(p, z))*(1-np.cos(a))\n",
    "\n",
    "    v0 = v0[..., None]\n",
    "    v1 = v1[..., None]\n",
    "    v2 = v2[..., None]\n",
    "\n",
    "    return np.hstack((v0,v1,v2))\n",
    "pivot = np.array([1,0,0])"
   ]
  },
  {
   "cell_type": "code",
   "execution_count": null,
   "metadata": {},
   "outputs": [],
   "source": [
    "%timeit -r 100 rodrigues(pivot, 180)"
   ]
  },
  {
   "cell_type": "code",
   "execution_count": null,
   "metadata": {},
   "outputs": [],
   "source": [
    "%timeit -r 100 rot_mat_from_pointer(pivot, 180)"
   ]
  },
  {
   "cell_type": "code",
   "execution_count": null,
   "metadata": {},
   "outputs": [],
   "source": [
    "print(rodrigues(pivot, 55))\n",
    "print(rot_mat_from_pointer(pivot, 55))"
   ]
  },
  {
   "source": [
    "## Align vectors"
   ],
   "cell_type": "markdown",
   "metadata": {}
  },
  {
   "cell_type": "code",
   "execution_count": null,
   "metadata": {},
   "outputs": [],
   "source": [
    "from scipy.spatial.transform import Rotation as R\n",
    "v1 = np.array((1,0,0))\n",
    "v2 = np.array((0,1,0))\n",
    "R.align_vectors((v1,v2),(v1,-v2))[0].as_matrix()"
   ]
  },
  {
   "source": [],
   "cell_type": "markdown",
   "metadata": {}
  },
  {
   "source": [
    "## RMSD threshold\r\n",
    "Looking for the best RMSD treshold for optimized structures obtainment"
   ],
   "cell_type": "markdown",
   "metadata": {}
  },
  {
   "cell_type": "code",
   "execution_count": null,
   "metadata": {},
   "outputs": [],
   "source": [
    "from prune import prune_conformers\n",
    "import numpy as np\n",
    "import matplotlib.pyplot as plt\n",
    "import os\n",
    "from cclib.io import ccread\n",
    "os.chdir('Resources/RMSD_test')\n",
    "\n",
    "fig = plt.figure(figsize=(8,5))\n",
    "plt.ylabel(r'% structures kept')\n",
    "plt.xlabel('RMSD')\n",
    "\n",
    "for filename in os.listdir():\n",
    "    if filename[-4:] == '.xyz':\n",
    "        data = ccread(filename)\n",
    "        x, y = [], []\n",
    "        for RMSD in np.arange(0.5,3,0.05):\n",
    "            mask = prune_conformers(data.atomcoords, data.atomnos, max_rmsd=RMSD)[1]\n",
    "            kept = len([m for m in mask if m == True])/len(mask)\n",
    "            # s = f'kept {len([m for m in mask if m == True])}/{len(mask)}'\n",
    "            y.append(kept)\n",
    "            x.append(RMSD)\n",
    "        plt.plot(x, y, label=filename)\n",
    "plt.legend()"
   ]
  },
  {
   "source": [
    "## MOPAC Berny\n",
    "### Full list of KEYWORDS\n",
    "        & - TURN NEXT LINE INTO KEYWORDS\n",
    "        + - ADD ANOTHER LINE OF KEYWORDS\n",
    "        0SCF - READ IN DATA, THEN STOP\n",
    "        1ELECTRON- PRINT FINAL ONE-ELECTRON MATRIX\n",
    "        1SCF - DO ONE SCF AND THEN STOP\n",
    "        AIDER - READ IN AB INITIO DERIVATIVES\n",
    "        AIGIN - GEOMETRY MUST BE IN GAUSSIAN FORMAT\n",
    "        AIGOUT - IN ARC FILE, INCLUDE AB-INITIO GEOMETRY\n",
    "        ANALYT - USE ANALYTICAL DERIVATIVES OF ENERGY WRT GEOMETRY\n",
    "        AM1 - USE THE AM1 HAMILTONIAN\n",
    "        BAR=n.n - REDUCE BAR LENGTH BY A MAXIMUM OF n.n\n",
    "        BIRADICAL- SYSTEM HAS TWO UNPAIRED ELECTRONS\n",
    "        BONDS - PRINT FINAL BOND-ORDER MATRIX\n",
    "        C.I. - A MULTI-ELECTRON CONFIGURATION INTERACTION SPECIFIED\n",
    "        Keywords\n",
    "        CHARGE=n - CHARGE ON SYSTEM = n (e.g. NH4 => CHARGE=1)\n",
    "        COMPFG - PRINT HEAT OF FORMATION CALCULATED IN COMPFG\n",
    "        CONNOLLY - USE CONNOLLY SURFACE\n",
    "        DEBUG - DEBUG OPTION TURNED ON\n",
    "        DENOUT - DENSITY MATRIX OUTPUT (CHANNEL 10)\n",
    "        DENSITY - PRINT FINAL DENSITY MATRIX\n",
    "        DEP - GENERATE FORTRAN CODE FOR PARAMETERS FOR NEW ELEMENTS\n",
    "        DEPVAR=n - TRANSLATION VECTOR IS A MULTIPLE OF BOND-LENGTH\n",
    "        DERIV - PRINT PART OF WORKING IN DERIV\n",
    "        DFORCE - FORCE CALCULATION SPECIFIED, ALSO PRINT FORCE MATRIX.\n",
    "        DFP - USE DAVIDON-FLETCHER-POWELL METHOD TO OPTIMIZE GEOMETRIES\n",
    "        DIPOLE - FIT THE ESP TO THE CALCULATED DIPOLE\n",
    "        DIPX - X COMPONENT OF DIPOLE TO BE FITTED\n",
    "        DIPY - Y COMPONENT OF DIPOLE TO BE FITTED\n",
    "        DIPZ - Z COMPONENT OF DIPOLE TO BE FITTED\n",
    "        DMAX - MAXIMUM STEPSIZE IN EIGENVECTOR FOLLOWING\n",
    "        DOUBLET - DOUBLET STATE REQUIRED\n",
    "        DRC - DYNAMIC REACTION COORDINATE CALCULATION\n",
    "        DUMP=n - WRITE RESTART FILES EVERY n SECONDS\n",
    "        ECHO - DATA ARE ECHOED BACK BEFORE CALCULATION STARTS\n",
    "        EF - USE EF ROUTINE FOR MINIMUM SEARCH\n",
    "        EIGINV -\n",
    "        EIGS - PRINT ALL EIGENVALUES IN ITER\n",
    "        ENPART - PARTITION ENERGY INTO COMPONENTS\n",
    "        ESP - ELECTROSTATIC POTENTIAL CALCULATION\n",
    "        ESPRST - RESTART OF ELECTROSTATIC POTENTIAL\n",
    "        ESR - CALCULATE RHF UNPAIRED SPIN DENSITY\n",
    "        EXCITED - OPTIMIZE FIRST EXCITED SINGLET STATE\n",
    "        EXTERNAL - READ PARAMETERS OFF DISK\n",
    "        FILL=n - IN RHF OPEN AND CLOSED SHELL, FORCE M.O. n\n",
    "        TO BE FILLED\n",
    "        FLEPO - PRINT DETAILS OF GEOMETRY OPTIMIZATION\n",
    "        FMAT - PRINT DETAILS OF WORKING IN FMAT\n",
    "        FOCK - PRINT LAST FOCK MATRIX\n",
    "        FORCE - FORCE CALCULATION SPECIFIED\n",
    "        GEO-OK - OVERRIDE INTERATOMIC DISTANCE CHECK\n",
    "        GNORM=n.n- EXIT WHEN GRADIENT NORM DROPS BELOW n.n\n",
    "        GRADIENTS- PRINT ALL GRADIENTS\n",
    "        GRAPH - GENERATE FILE FOR GRAPHICS\n",
    "        HCORE - PRINT DETAILS OF WORKING IN HCORE\n",
    "        HESS=N - OPTIONS FOR CALCULATING HESSIAN MATRICES IN EF\n",
    "        H-PRIO - HEAT OF FORMATION TAKES PRIORITY IN DRC\n",
    "        HYPERFINE- HYPERFINE COUPLING CONSTANTS TO BE CALCULATED\n",
    "        IRC - INTRINSIC REACTION COORDINATE CALCULATION\n",
    "        ISOTOPE - FORCE MATRIX WRITTEN TO DISK (CHANNEL 9 )\n",
    "        ITER - PRINT DETAILS OF WORKING IN ITER\n",
    "        ITRY=N - SET LIMIT OF NUMBER OF SCF ITERATIONS TO N.\n",
    "        IUPD - MODE OF HESSIAN UPDATE IN EIGENVECTOR FOLLOWING\n",
    "        K=(N,N) - BRILLOUIN ZONE STRUCTURE TO BE CALCULATED\n",
    "        KINETIC - EXCESS KINETIC ENERGY ADDED TO DRC CALCULATION\n",
    "        LINMIN - PRINT DETAILS OF LINE MINIMIZATION\n",
    "        LARGE - PRINT EXPANDED OUTPUT\n",
    "        LET - OVERRIDE CERTAIN SAFETY CHECKS\n",
    "        LOCALIZE - PRINT LOCALIZED ORBITALS\n",
    "        MAX - PRINTS MAXIMUM GRID SIZE (23*23)\n",
    "        MECI - PRINT DETAILS OF MECI CALCULATION\n",
    "        MICROS - USE SPECIFIC MICROSTATES IN THE C.I.\n",
    "        MINDO/3 - USE THE MINDO/3 HAMILTONIAN\n",
    "        MMOK - USE MOLECULAR MECHANICS CORRECTION TO CONH BONDS\n",
    "        MODE=N - IN EF, FOLLOW HESSIAN MODE NO. N\n",
    "        MOLDAT - PRINT DETAILS OF WORKING IN MOLDAT\n",
    "        MS=N - IN MECI, MAGNETIC COMPONENT OF SPIN\n",
    "        MULLIK - PRINT THE MULLIKEN POPULATION ANALYSIS\n",
    "        NLLSQ - MINIMIZE GRADIENTS USING NLLSQ\n",
    "        NOANCI - DO NOT USE ANALYTICAL C.I. DERIVATIVES\n",
    "        NODIIS - DO NOT USE DIIS GEOMETRY OPTIMIZER\n",
    "        NOINTER - DO NOT PRINT INTERATOMIC DISTANCES\n",
    "        NOLOG - SUPPRESS LOG FILE TRAIL, WHERE POSSIBLE\n",
    "        NOMM - DO NOT USE MOLECULAR MECHANICS CORRECTION TO CONH BONDS\n",
    "        NONR -\n",
    "        NOTHIEL - DO NOT USE THIEL’S FSTMIN TECHNIQUE\n",
    "        NSURF=N - NUMBER OF SURFACES IN AN ESP CALCULATION\n",
    "        NOXYZ - DO NOT PRINT CARTESIAN COORDINATES\n",
    "        NSURF - NUMBER OF LAYERS USED IN ELECTROSTATIC POTENTIAL\n",
    "        OLDENS - READ INITIAL DENSITY MATRIX OFF DISK\n",
    "        OLDGEO - PREVIOUS GEOMETRY TO BE USED\n",
    "        OPEN - OPEN-SHELL RHF CALCULATION REQUESTED\n",
    "        ORIDE -\n",
    "        PARASOK - IN AM1 CALCULATIONS SOME MNDO PARAMETERS ARE TO BE USED\n",
    "        PI - RESOLVE DENSITY MATRIX INTO SIGMA AND PI BONDS\n",
    "        PL - MONITOR CONVERGENCE OF DENSITY MATRIX IN ITER\n",
    "        PM3 - USE THE MNDO-PM3 HAMILTONIAN\n",
    "        POINT=N - NUMBER OF POINTS IN REACTION PATH\n",
    "        POINT1=N - NUMBER OF POINTS IN FIRST DIRECTION IN GRID CALCULATION\n",
    "        POINT2=N - NUMBER OF POINTS IN SECOND DIRECTION IN GRID CALCULATION\n",
    "        POLAR - CALCULATE FIRST, SECOND AND THIRD ORDER POLARIZABILITIES\n",
    "        POTWRT - IN ESP, WRITE OUT ELECTROSTATIC POTENTIAL TO UNIT 21\n",
    "        POWSQ - PRINT DETAILS OF WORKING IN POWSQ\n",
    "        PRECISE - CRITERIA TO BE INCREASED BY 100 TIMES\n",
    "        PULAY - USE PULAY’S CONVERGER TO OBTAIN A SCF\n",
    "        QUARTET - QUARTET STATE REQUIRED\n",
    "        QUINTET - QUINTET STATE REQUIRED\n",
    "        RECALC=N - IN EF, RECALCULATE HESSIAN EVERY N STEPS\n",
    "        RESTART - CALCULATION RESTARTED\n",
    "        ROOT=n - ROOT n TO BE OPTIMIZED IN A C.I. CALCULATION\n",
    "        ROT=n - THE SYMMETRY NUMBER OF THE SYSTEM IS n.\n",
    "        SADDLE - OPTIMIZE TRANSITION STATE\n",
    "        SCALE - SCALING FACTOR FOR VAN DER WAALS DISTANCE IN ESP\n",
    "        SCFCRT=n - DEFAULT SCF CRITERION REPLACED BY THE VALUE SUPPLIED\n",
    "        SCINCR - INCREMENT BETWEEN LAYERS IN ESP\n",
    "        SETUP - EXTRA KEYWORDS TO BE READ OF SETUP FILE\n",
    "        SEXTET - SEXTET STATE REQUIRED\n",
    "        SHIFT=n - A DAMPING FACTOR OF n DEFINED TO START SCF\n",
    "        SIGMA - MINIMIZE GRADIENTS USING SIGMA\n",
    "        SINGLET - SINGLET STATE REQUIRED\n",
    "        SLOPE - MULTIPLIER USED TO SCALE MNDO CHARGES\n",
    "        SPIN - PRINT FINAL UHF SPIN MATRIX\n",
    "        STEP - STEP SIZE IN PATH\n",
    "        Keywords\n",
    "        STEP1=n - STEP SIZE n FOR FIRST COORDINATE IN GRID CALCULATION\n",
    "        STEP2=n - STEP SIZE n FOR SECOND COORDINATE IN GRID CALCULATION\n",
    "        STO-3G - DEORTHOGONALIZE ORBITALS IN STO-3G BASIS\n",
    "        SYMAVG - AVERAGE SYMMETRY EQUIVALENT ESP CHARGES\n",
    "        SYMMETRY - IMPOSE SYMMETRY CONDITIONS\n",
    "        T=n - A TIME OF n SECONDS REQUESTED\n",
    "        THERMO - PERFORM A THERMODYNAMICS CALCULATION\n",
    "        TIMES - PRINT TIMES OF VARIOUS STAGES\n",
    "        T-PRIO - TIME TAKES PRIORITY IN DRC\n",
    "        TRANS - THE SYSTEM IS A TRANSITION STATE\n",
    "        (USED IN THERMODYNAMICS CALCULATION)\n",
    "        TRIPLET - TRIPLET STATE REQUIRED\n",
    "        TS - USING EF ROUTINE FOR TS SEARCH\n",
    "        UHF - UNRESTRICTED HARTREE-FOCK CALCULATION\n",
    "        VECTORS - PRINT FINAL EIGENVECTORS\n",
    "        VELOCITY - SUPPLY THE INITIAL VELOCITY VECTOR IN A DRC CALCULATION\n",
    "        WILLIAMS - USE WILLIAMS SURFACE\n",
    "        X-PRIO - GEOMETRY CHANGES TAKE PRIORITY IN DRC\n",
    "        XYZ - DO ALL GEOMETRIC OPERATIONS IN CARTESIAN COORDINATES."
   ],
   "cell_type": "markdown",
   "metadata": {}
  },
  {
   "cell_type": "code",
   "execution_count": null,
   "metadata": {},
   "outputs": [],
   "source": [
    "from optimization_methods import mopac_opt\n",
    "from tscode import write_xyz\n",
    "import numpy as np\n",
    "import os\n",
    "from cclib.io import ccread\n",
    "os.chdir('Resources/SN2')\n",
    "data = ccread('test_berny.xyz')\n",
    "constrained_indexes = np.array(((0,18),(6,16)))"
   ]
  },
  {
   "cell_type": "code",
   "execution_count": null,
   "metadata": {},
   "outputs": [],
   "source": [
    "newcoords = mopac_opt(data.atomcoords[0], data.atomnos, method='PM7 TS')[0]\n",
    "with open('test_berny_out.xyz', 'w') as f:\n",
    "    write_xyz(newcoords, data.atomnos, f, title='test_berny_out.xyz')\n",
    "os.system('obabel test_berny_out.xyz -O test_berny_out.sdf')\n",
    "os.system('gview test_berny_out.sdf')"
   ]
  },
  {
   "cell_type": "code",
   "execution_count": null,
   "metadata": {},
   "outputs": [],
   "source": [
    "from spyrmsd.rmsd import rmsd\n",
    "rmsd(data.atomcoords[0], newcoords, data.atomnos, data.atomnos, center=True, minimize=True)"
   ]
  }
 ]
}