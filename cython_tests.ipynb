{
 "cells": [
  {
   "cell_type": "code",
   "execution_count": 39,
   "metadata": {},
   "outputs": [],
   "source": [
    "rejects = []\n",
    "def flatten(seq):\n",
    "    for s in seq:\n",
    "        if type(s) in (tuple, list, set):\n",
    "            flatten(s)\n",
    "        else:\n",
    "            rejects.append(s)\n",
    "\n",
    "def scramble(array, sequence):\n",
    "    return np.array([array[s] for s in sequence])\n",
    "\n",
    "\n",
    "def prune_conformers(structures, atomnos, k = 1, max_rmsd = 1):\n",
    "\n",
    "    if k != 1:\n",
    "\n",
    "        r = np.arange(structures.shape[0])\n",
    "        sequence = np.random.permutation(r)\n",
    "        inv_sequence = np.array([np.where(sequence == i)[0][0] for i in r], dtype=int)\n",
    "\n",
    "        structures = scramble(structures, sequence)\n",
    "        # energies = scramble_mask(energies, sequence)\n",
    "        # scrambling array before splitting, so to improve efficiency when doing\n",
    "        # multiple runs of group pruning\n",
    "\n",
    "    mask_out = []\n",
    "    d = len(structures) // k\n",
    "\n",
    "    for step in range(k):\n",
    "        if step == k-1:\n",
    "            structures_subset = structures[d*step:]\n",
    "            # energies_subset = energies[d*step:]\n",
    "        else:\n",
    "            structures_subset = structures[d*step:d*(step+1)]\n",
    "            # energies_subset = energies[d*step:d*(step+1)]\n",
    "\n",
    "        rmsd_mat = np.zeros((len(structures_subset), len(structures_subset)))\n",
    "        rmsd_mat[:] = np.nan\n",
    "        for i, tgt in enumerate(structures_subset):\n",
    "            for j, ref in enumerate(structures_subset[i+1:]):\n",
    "                val = rmsd(tgt, ref, atomnos, atomnos, center=True, minimize=True)\n",
    "                rmsd_mat[i, i+j+1] = val\n",
    "                if val < max_rmsd:\n",
    "                    break\n",
    "\n",
    "\n",
    "        where = np.where(rmsd_mat < max_rmsd)\n",
    "        matches = [(i,j) for i,j in zip(where[0], where[1])]\n",
    "\n",
    "        g = nx.Graph(matches)\n",
    "\n",
    "        subgraphs = [g.subgraph(c) for c in nx.connected_components(g)]\n",
    "        groups = [tuple(graph.nodes) for graph in subgraphs]\n",
    "\n",
    "        best_of_cluster = [group[0] for group in groups]\n",
    "        # re-do with energies\n",
    "\n",
    "        rejects_sets = [set(a) - {b} for a, b in zip(groups, best_of_cluster)]\n",
    "\n",
    "        flatten(rejects_sets)\n",
    "\n",
    "        mask = np.array([True for _ in range(len(structures_subset))], dtype=bool)\n",
    "        for i in rejects:\n",
    "            mask[i] = False\n",
    "\n",
    "        mask_out.append(mask)\n",
    "    \n",
    "    mask = np.concatenate(mask_out)\n",
    "\n",
    "    if k != 1:\n",
    "        mask = scramble(mask, inv_sequence)\n",
    "        structures = scramble(structures, inv_sequence)\n",
    "        # undoing the previous shuffling, therefore preserving the input order\n",
    "\n",
    "    return structures[mask], mask"
   ]
  },
  {
   "cell_type": "code",
   "execution_count": 2,
   "metadata": {},
   "outputs": [
    {
     "output_type": "execute_result",
     "data": {
      "text/plain": [
       "(200, 19, 3)"
      ]
     },
     "metadata": {},
     "execution_count": 2
    }
   ],
   "source": [
    "from cclib.io import ccread\n",
    "import os\n",
    "import numpy as np\n",
    "from spyrmsd.rmsd import rmsd\n",
    "import networkx as nx\n",
    "\n",
    "# from prune import prune_conformers as p\n",
    "# from prune import prune_conformers_v2 as p2\n",
    "%load_ext cython\n",
    "os.chdir('Resources/SN2')\n",
    "mol = ccread('TS_out_test.xyz')\n",
    "stack = np.vstack([mol.atomcoords for _ in range(50)])\n",
    "stack.shape"
   ]
  },
  {
   "cell_type": "code",
   "execution_count": 2,
   "metadata": {},
   "outputs": [
    {
     "output_type": "error",
     "ename": "NameError",
     "evalue": "name 'mol' is not defined",
     "traceback": [
      "\u001b[1;31m---------------------------------------------------------------------------\u001b[0m",
      "\u001b[1;31mNameError\u001b[0m                                 Traceback (most recent call last)",
      "\u001b[1;32m<ipython-input-2-8e9b0cd219e6>\u001b[0m in \u001b[0;36m<module>\u001b[1;34m\u001b[0m\n\u001b[0;32m      1\u001b[0m \u001b[1;32mfrom\u001b[0m \u001b[0mase\u001b[0m \u001b[1;32mimport\u001b[0m \u001b[0mAtoms\u001b[0m\u001b[1;33m\u001b[0m\u001b[1;33m\u001b[0m\u001b[0m\n\u001b[0;32m      2\u001b[0m \u001b[1;32mfrom\u001b[0m \u001b[0mase\u001b[0m\u001b[1;33m.\u001b[0m\u001b[0mvisualize\u001b[0m \u001b[1;32mimport\u001b[0m \u001b[0mview\u001b[0m\u001b[1;33m\u001b[0m\u001b[1;33m\u001b[0m\u001b[0m\n\u001b[1;32m----> 3\u001b[1;33m \u001b[0mview\u001b[0m\u001b[1;33m(\u001b[0m\u001b[0mAtoms\u001b[0m\u001b[1;33m(\u001b[0m\u001b[0mmol\u001b[0m\u001b[1;33m.\u001b[0m\u001b[0matomnos\u001b[0m\u001b[1;33m,\u001b[0m \u001b[0mpositions\u001b[0m\u001b[1;33m=\u001b[0m\u001b[0mmol\u001b[0m\u001b[1;33m.\u001b[0m\u001b[0matomcoords\u001b[0m\u001b[1;33m[\u001b[0m\u001b[1;36m0\u001b[0m\u001b[1;33m]\u001b[0m\u001b[1;33m)\u001b[0m\u001b[1;33m)\u001b[0m\u001b[1;33m\u001b[0m\u001b[1;33m\u001b[0m\u001b[0m\n\u001b[0m",
      "\u001b[1;31mNameError\u001b[0m: name 'mol' is not defined"
     ]
    }
   ],
   "source": [
    "from ase import Atoms\n",
    "from ase.visualize import view\n",
    "view(Atoms(mol.atomnos, positions=mol.atomcoords[0]))"
   ]
  },
  {
   "cell_type": "code",
   "execution_count": 46,
   "metadata": {
    "tags": []
   },
   "outputs": [
    {
     "output_type": "stream",
     "name": "stderr",
     "text": [
      "warning: C:\\Users\\Nik\\.ipython\\cython\\_cython_magic_914a8b223fa87075565a1d84555b95fa01a5bc9f.pyx:24:48: Buffer unpacking not optimized away.\nwarning: C:\\Users\\Nik\\.ipython\\cython\\_cython_magic_914a8b223fa87075565a1d84555b95fa01a5bc9f.pyx:24:48: Buffer unpacking not optimized away.\nwarning: C:\\Users\\Nik\\.ipython\\cython\\_cython_magic_914a8b223fa87075565a1d84555b95fa01a5bc9f.pyx:29:60: Buffer unpacking not optimized away.\nwarning: C:\\Users\\Nik\\.ipython\\cython\\_cython_magic_914a8b223fa87075565a1d84555b95fa01a5bc9f.pyx:29:60: Buffer unpacking not optimized away.\nwarning: C:\\Users\\Nik\\.ipython\\cython\\_cython_magic_914a8b223fa87075565a1d84555b95fa01a5bc9f.pyx:30:60: Buffer unpacking not optimized away.\nwarning: C:\\Users\\Nik\\.ipython\\cython\\_cython_magic_914a8b223fa87075565a1d84555b95fa01a5bc9f.pyx:30:60: Buffer unpacking not optimized away.\nwarning: C:\\Users\\Nik\\.ipython\\cython\\_cython_magic_914a8b223fa87075565a1d84555b95fa01a5bc9f.pyx:130:26: Buffer unpacking not optimized away.\nwarning: C:\\Users\\Nik\\.ipython\\cython\\_cython_magic_914a8b223fa87075565a1d84555b95fa01a5bc9f.pyx:130:26: Buffer unpacking not optimized away.\nwarning: C:\\Users\\Nik\\.ipython\\cython\\_cython_magic_914a8b223fa87075565a1d84555b95fa01a5bc9f.pyx:130:73: Buffer unpacking not optimized away.\nwarning: C:\\Users\\Nik\\.ipython\\cython\\_cython_magic_914a8b223fa87075565a1d84555b95fa01a5bc9f.pyx:130:73: Buffer unpacking not optimized away.\nwarning: C:\\Users\\Nik\\.ipython\\cython\\_cython_magic_914a8b223fa87075565a1d84555b95fa01a5bc9f.pyx:162:31: Buffer unpacking not optimized away.\nwarning: C:\\Users\\Nik\\.ipython\\cython\\_cython_magic_914a8b223fa87075565a1d84555b95fa01a5bc9f.pyx:162:31: Buffer unpacking not optimized away.\nwarning: C:\\Users\\Nik\\.ipython\\cython\\_cython_magic_914a8b223fa87075565a1d84555b95fa01a5bc9f.pyx:162:72: Buffer unpacking not optimized away.\nwarning: C:\\Users\\Nik\\.ipython\\cython\\_cython_magic_914a8b223fa87075565a1d84555b95fa01a5bc9f.pyx:162:72: Buffer unpacking not optimized away.\nwarning: C:\\Users\\Nik\\.ipython\\cython\\_cython_magic_914a8b223fa87075565a1d84555b95fa01a5bc9f.pyx:172:29: Buffer unpacking not optimized away.\nwarning: C:\\Users\\Nik\\.ipython\\cython\\_cython_magic_914a8b223fa87075565a1d84555b95fa01a5bc9f.pyx:172:29: Buffer unpacking not optimized away.\nwarning: C:\\Users\\Nik\\.ipython\\cython\\_cython_magic_914a8b223fa87075565a1d84555b95fa01a5bc9f.pyx:172:70: Buffer unpacking not optimized away.\nwarning: C:\\Users\\Nik\\.ipython\\cython\\_cython_magic_914a8b223fa87075565a1d84555b95fa01a5bc9f.pyx:172:70: Buffer unpacking not optimized away.\nwarning: C:\\Users\\Nik\\.ipython\\cython\\_cython_magic_914a8b223fa87075565a1d84555b95fa01a5bc9f.pyx:177:29: Buffer unpacking not optimized away.\nwarning: C:\\Users\\Nik\\.ipython\\cython\\_cython_magic_914a8b223fa87075565a1d84555b95fa01a5bc9f.pyx:177:29: Buffer unpacking not optimized away.\nwarning: C:\\Users\\Nik\\.ipython\\cython\\_cython_magic_914a8b223fa87075565a1d84555b95fa01a5bc9f.pyx:212:35: Buffer unpacking not optimized away.\nwarning: C:\\Users\\Nik\\.ipython\\cython\\_cython_magic_914a8b223fa87075565a1d84555b95fa01a5bc9f.pyx:212:35: Buffer unpacking not optimized away.\n"
     ]
    }
   ],
   "source": [
    "%%cython --compile=-fopenmp --link-args=-fopenmp\n",
    "import numpy as np\n",
    "cimport numpy as np\n",
    "import networkx as nx\n",
    "cimport cython\n",
    "\n",
    "from libc.stdio cimport stdout, fprintf\n",
    "import sys\n",
    "from time import time\n",
    "# sys.stdout.flush()\n",
    "\n",
    "\n",
    "DTYPE = np.float\n",
    "ctypedef np.float_t DTYPE_t\n",
    "\n",
    "\n",
    "# cdef int en(tup, energies):\n",
    "#     ens = [energies[t] for t in tup]\n",
    "#     return tup[ens.index(min(ens))]\n",
    "        \n",
    "\n",
    "@cython.boundscheck(False) # turn off bounds-checking for entire function\n",
    "@cython.wraparound(False)  # turn off negative index wrapping for entire function\n",
    "cdef inline np.ndarray[np.int_t, ndim=3, mode='c'] scramble_mask(np.ndarray array,\n",
    "                                                np.ndarray[np.int_t, ndim=1, mode='c'] sequence):\n",
    "    return np.array([array[s] for s in sequence])\n",
    "\n",
    "@cython.boundscheck(False) # turn off bounds-checking for entire function\n",
    "@cython.wraparound(False)  # turn off negative index wrapping for entire function\n",
    "cdef inline np.ndarray[np.int_t, ndim=3, mode='c'] scramble(np.ndarray[DTYPE_t, ndim=3, mode='c'] array,\n",
    "                                                            np.ndarray[np.int_t, ndim=1, mode='c'] sequence):\n",
    "    return np.array([array[s] for s in sequence])\n",
    "\n",
    "@cython.boundscheck(False) # turn off bounds-checking for entire function\n",
    "@cython.wraparound(False)  # turn off negative index wrapping for entire function\n",
    "cpdef np.ndarray[np.int_t, ndim=1, mode='c'] prune_conformers_v2(np.ndarray[DTYPE_t, ndim=3, mode='c'] structures,\n",
    "                                                                 np.ndarray[np.int_t, ndim=1, mode='c'] atomnos,\n",
    "                                                                 int k = 1,\n",
    "                                                                 double max_rmsd = 1.):\n",
    "\n",
    "    cdef np.ndarray[np.int_t, ndim=1, mode='c'] r, sequence, inv_sequence, mask\n",
    "\n",
    "    if k != 1:\n",
    "\n",
    "        r = np.arange(structures.shape[0])\n",
    "        sequence = np.random.permutation(r)\n",
    "        inv_sequence = np.array([np.where(sequence == i)[0][0] for i in r], dtype=int)\n",
    "\n",
    "        structures = scramble(structures, sequence)\n",
    "        # energies = scramble_mask(energies, sequence)\n",
    "        # scrambling array before splitting, so to improve efficiency when doing\n",
    "        # multiple runs of group pruning\n",
    "\n",
    "    cdef list mask_out = []\n",
    "    cdef unsigned int step, d = len(structures) // k\n",
    "    cdef unsigned int l\n",
    "    cdef unsigned int i, j\n",
    "    cdef np.ndarray[DTYPE_t, ndim=2, mode='c'] rmsd_mat\n",
    "    cdef double[:,:] rmsd_mat_view\n",
    "    cdef int[:] energies_subset\n",
    "    cdef np.ndarray[DTYPE_t, ndim=3, mode='c'] structures_subset\n",
    "    cdef tuple where\n",
    "    cdef list matches, subgraphs, groups, best_of_cluster, rejects_sets, rejects\n",
    "    cdef object g\n",
    "    cdef double val\n",
    "\n",
    "    for step in range(k):\n",
    "        if step == k-1:\n",
    "            structures_subset = structures[d*step:]\n",
    "            # energies_subset = energies[d*step:]\n",
    "        else:\n",
    "            structures_subset = structures[d*step:d*(step+1)]\n",
    "            # energies_subset = energies[d*step:d*(step+1)]\n",
    "\n",
    "        l = structures_subset.shape[0]\n",
    "        rmsd_mat = np.zeros((l, l))\n",
    "        rmsd_mat[:] = max_rmsd\n",
    "        rmsd_mat_view = rmsd_mat\n",
    "\n",
    "        # t0 = time()\n",
    "\n",
    "        for i in range(l):\n",
    "            for j in range(i+1,l):\n",
    "                val = rmsd_c(structures_subset[i], structures_subset[j])\n",
    "                rmsd_mat_view[i, j] = val\n",
    "                if val < max_rmsd:\n",
    "                    break\n",
    "\n",
    "\n",
    "        # t1 = time()\n",
    "\n",
    "        where = np.where(rmsd_mat < max_rmsd)\n",
    "        matches = [(i,j) for i,j in zip(where[0], where[1])]\n",
    "\n",
    "        g = nx.Graph(matches)\n",
    "\n",
    "        subgraphs = [g.subgraph(c) for c in nx.connected_components(g)]\n",
    "        groups = [tuple(graph.nodes) for graph in subgraphs]\n",
    "\n",
    "        best_of_cluster = [group[0] for group in groups]\n",
    "        # re-do with energies?\n",
    "\n",
    "        rejects_sets = [set(a) - {b} for a, b in zip(groups, best_of_cluster)]\n",
    "        rejects = []\n",
    "        for s in rejects_sets:\n",
    "            for i in s:\n",
    "                rejects.append(i)\n",
    "\n",
    "        mask = np.array([1 for _ in range(len(structures_subset))], dtype=int)\n",
    "        for i in rejects:\n",
    "            mask[i] = 0\n",
    "\n",
    "        mask_out.append(mask)\n",
    "    \n",
    "    mask = np.concatenate(mask_out)\n",
    "\n",
    "    if k != 1:\n",
    "        mask = scramble_mask(mask, inv_sequence)\n",
    "        structures = scramble(structures, inv_sequence)\n",
    "        # undoing the previous shuffling, therefore preserving the input order\n",
    "\n",
    "    # t2 = time()\n",
    "    # print(f'First step: {round(t1-t0, 2)} s\\nSecond step: {round(t2-t1, 2)} s')\n",
    "    # sys.stdout.flush()\n",
    "\n",
    "    return mask\n",
    "\n",
    "\n",
    "@cython.boundscheck(False) # turn off bounds-checking for entire function\n",
    "@cython.wraparound(False)  # turn off negative index wrapping for entire function\n",
    "cdef inline double rmsd_c(np.ndarray[DTYPE_t, ndim=2, mode='c'] coords1, np.ndarray[DTYPE_t, ndim=2, mode='c'] coords2):\n",
    "\n",
    "    cdef float atol = 1e-9\n",
    "    cdef double c0, c1, c2\n",
    "    cdef np.ndarray[DTYPE_t, ndim=2, mode='c'] A = coords1 - np.mean(coords1, axis=0)\n",
    "    cdef np.ndarray[DTYPE_t, ndim=2, mode='c'] B = coords2 - np.mean(coords2, axis=0)\n",
    "\n",
    "\n",
    "    cdef int N = A.shape[0]\n",
    "\n",
    "    cdef double Ga = np.trace(A.T @ A)\n",
    "    cdef double Gb = np.trace(B.T @ B)\n",
    "\n",
    "    cdef np.ndarray[DTYPE_t, ndim=2, mode='c'] M = M_mtx(A, B)\n",
    "    cdef np.ndarray[DTYPE_t, ndim=2, mode='c'] K = K_mtx(M)\n",
    "\n",
    "    c2, c1, c0 = coefficients(M, K)\n",
    "\n",
    "    cdef double l_max = _lambda_max_eig(K)\n",
    "\n",
    "    cdef double s = Ga + Gb - 2 * l_max\n",
    "    cdef double rmsd\n",
    "\n",
    "    if abs(s) < atol:  # Avoid numerical errors when Ga + Gb = 2 * l_max\n",
    "        rmsd = 0.0\n",
    "    else:\n",
    "        rmsd = np.sqrt(s / N)\n",
    "\n",
    "    return rmsd\n",
    "\n",
    "@cython.boundscheck(False) # turn off bounds-checking for entire function\n",
    "@cython.wraparound(False)  # turn off negative index wrapping for entire function\n",
    "cdef inline tuple coefficients(np.ndarray[DTYPE_t, ndim=2, mode='c'] M, np.ndarray[DTYPE_t, ndim=2, mode='c'] K):\n",
    "\n",
    "    cdef double c2 = -2 * np.trace(M.T @ M)\n",
    "    cdef double c1 = -8 * np.linalg.det(M)\n",
    "    cdef double c0 = np.linalg.det(K)\n",
    "\n",
    "    return c2, c1, c0\n",
    "\n",
    "@cython.boundscheck(False) # turn off bounds-checking for entire function\n",
    "@cython.wraparound(False)  # turn off negative index wrapping for entire function\n",
    "cdef inline np.ndarray M_mtx(np.ndarray[DTYPE_t, ndim=2, mode='c'] A, np.ndarray[DTYPE_t, ndim=2, mode='c'] B):\n",
    "    return B.T @ A\n",
    "\n",
    "@cython.boundscheck(False) # turn off bounds-checking for entire function\n",
    "@cython.wraparound(False)  # turn off negative index wrapping for entire function\n",
    "cdef inline np.ndarray K_mtx(np.ndarray[DTYPE_t, ndim=2, mode='c'] M):\n",
    "\n",
    "    S_xx = M[0, 0]\n",
    "    S_xy = M[0, 1]\n",
    "    S_xz = M[0, 2]\n",
    "    S_yx = M[1, 0]\n",
    "    S_yy = M[1, 1]\n",
    "    S_yz = M[1, 2]\n",
    "    S_zx = M[2, 0]\n",
    "    S_zy = M[2, 1]\n",
    "    S_zz = M[2, 2]\n",
    "\n",
    "    # p = plus, m = minus\n",
    "    S_xx_yy_zz_ppp = S_xx + S_yy + S_zz\n",
    "    S_yz_zy_pm = S_yz - S_zy\n",
    "    S_zx_xz_pm = S_zx - S_xz\n",
    "    S_xy_yx_pm = S_xy - S_yx\n",
    "    S_xx_yy_zz_pmm = S_xx - S_yy - S_zz\n",
    "    S_xy_yx_pp = S_xy + S_yx\n",
    "    S_zx_xz_pp = S_zx + S_xz\n",
    "    S_xx_yy_zz_mpm = -S_xx + S_yy - S_zz\n",
    "    S_yz_zy_pp = S_yz + S_zy\n",
    "    S_xx_yy_zz_mmp = -S_xx - S_yy + S_zz\n",
    "\n",
    "    return np.array(\n",
    "        [\n",
    "            [S_xx_yy_zz_ppp, S_yz_zy_pm, S_zx_xz_pm, S_xy_yx_pm],\n",
    "            [S_yz_zy_pm, S_xx_yy_zz_pmm, S_xy_yx_pp, S_zx_xz_pp],\n",
    "            [S_zx_xz_pm, S_xy_yx_pp, S_xx_yy_zz_mpm, S_yz_zy_pp],\n",
    "            [S_xy_yx_pm, S_zx_xz_pp, S_yz_zy_pp, S_xx_yy_zz_mmp],\n",
    "        ]\n",
    "    )\n",
    "\n",
    "@cython.boundscheck(False) # turn off bounds-checking for entire function\n",
    "@cython.wraparound(False)  # turn off negative index wrapping for entire function\n",
    "cdef inline double _lambda_max_eig(np.ndarray[DTYPE_t, ndim=2, mode='c'] K):\n",
    "    return np.max(np.linalg.eig(K)[0])\n"
   ]
  },
  {
   "cell_type": "code",
   "execution_count": 50,
   "metadata": {},
   "outputs": [
    {
     "output_type": "stream",
     "name": "stdout",
     "text": [
      "4 structures kept\n"
     ]
    },
    {
     "output_type": "execute_result",
     "data": {
      "text/plain": [
       "array([1, 1, 1, 1, 0, 0, 0, 0, 0, 0, 0, 0, 0, 0, 0, 0, 0, 0, 0, 0, 0, 0,\n",
       "       0, 0, 0, 0, 0, 0, 0, 0, 0, 0, 0, 0, 0, 0, 0, 0, 0, 0, 0, 0, 0, 0,\n",
       "       0, 0, 0, 0, 0, 0, 0, 0, 0, 0, 0, 0, 0, 0, 0, 0, 0, 0, 0, 0, 0, 0,\n",
       "       0, 0, 0, 0, 0, 0, 0, 0, 0, 0, 0, 0, 0, 0, 0, 0, 0, 0, 0, 0, 0, 0,\n",
       "       0, 0, 0, 0, 0, 0, 0, 0, 0, 0, 0, 0, 0, 0, 0, 0, 0, 0, 0, 0, 0, 0,\n",
       "       0, 0, 0, 0, 0, 0, 0, 0, 0, 0, 0, 0, 0, 0, 0, 0, 0, 0, 0, 0, 0, 0,\n",
       "       0, 0, 0, 0, 0, 0, 0, 0, 0, 0, 0, 0, 0, 0, 0, 0, 0, 0, 0, 0, 0, 0,\n",
       "       0, 0, 0, 0, 0, 0, 0, 0, 0, 0, 0, 0, 0, 0, 0, 0, 0, 0, 0, 0, 0, 0,\n",
       "       0, 0, 0, 0, 0, 0, 0, 0, 0, 0, 0, 0, 0, 0, 0, 0, 0, 0, 0, 0, 0, 0,\n",
       "       0, 0])"
      ]
     },
     "metadata": {},
     "execution_count": 50
    }
   ],
   "source": [
    "mask = prune_conformers_v2(stack, mol.atomnos)\n",
    "print(f'{len([i for i in mask if i==1])} structures kept')\n",
    "mask"
   ]
  },
  {
   "cell_type": "code",
   "execution_count": 49,
   "metadata": {},
   "outputs": [
    {
     "output_type": "stream",
     "name": "stdout",
     "text": [
      "4 structures kept\n"
     ]
    },
    {
     "output_type": "execute_result",
     "data": {
      "text/plain": [
       "array([ True,  True,  True,  True, False, False, False, False, False,\n",
       "       False, False, False, False, False, False, False, False, False,\n",
       "       False, False, False, False, False, False, False, False, False,\n",
       "       False, False, False, False, False, False, False, False, False,\n",
       "       False, False, False, False, False, False, False, False, False,\n",
       "       False, False, False, False, False, False, False, False, False,\n",
       "       False, False, False, False, False, False, False, False, False,\n",
       "       False, False, False, False, False, False, False, False, False,\n",
       "       False, False, False, False, False, False, False, False, False,\n",
       "       False, False, False, False, False, False, False, False, False,\n",
       "       False, False, False, False, False, False, False, False, False,\n",
       "       False, False, False, False, False, False, False, False, False,\n",
       "       False, False, False, False, False, False, False, False, False,\n",
       "       False, False, False, False, False, False, False, False, False,\n",
       "       False, False, False, False, False, False, False, False, False,\n",
       "       False, False, False, False, False, False, False, False, False,\n",
       "       False, False, False, False, False, False, False, False, False,\n",
       "       False, False, False, False, False, False, False, False, False,\n",
       "       False, False, False, False, False, False, False, False, False,\n",
       "       False, False, False, False, False, False, False, False, False,\n",
       "       False, False, False, False, False, False, False, False, False,\n",
       "       False, False, False, False, False, False, False, False, False,\n",
       "       False, False])"
      ]
     },
     "metadata": {},
     "execution_count": 49
    }
   ],
   "source": [
    "_, mask = prune_conformers(stack, mol.atomnos)\n",
    "print(f'{len([i for i in mask if i==1])} structures kept')\n",
    "mask"
   ]
  },
  {
   "cell_type": "code",
   "execution_count": 47,
   "metadata": {},
   "outputs": [
    {
     "output_type": "stream",
     "name": "stdout",
     "text": [
      "138 ms ± 5.41 ms per loop (mean ± std. dev. of 7 runs, 10 loops each)\n",
      "CYTHON\n",
      "\n",
      "338 ms ± 10.4 ms per loop (mean ± std. dev. of 7 runs, 1 loop each)\n",
      "PYTHON\n"
     ]
    }
   ],
   "source": [
    "%timeit prune_conformers_v2(stack, mol.atomnos, k=1)\n",
    "print('CYTHON\\n')\n",
    "%timeit prune_conformers(stack, mol.atomnos, k=1)\n",
    "print('PYTHON')\n"
   ]
  },
  {
   "cell_type": "code",
   "execution_count": 48,
   "metadata": {},
   "outputs": [
    {
     "output_type": "execute_result",
     "data": {
      "text/plain": [
       "2.449275362318841"
      ]
     },
     "metadata": {},
     "execution_count": 48
    }
   ],
   "source": [
    "(138/338)**-1"
   ]
  },
  {
   "cell_type": "code",
   "execution_count": 25,
   "metadata": {},
   "outputs": [],
   "source": [
    "%%cython \n",
    "import numpy as np\n",
    "cimport numpy as np\n",
    "@cython.boundscheck(False) # turn off bounds-checking for entire function\n",
    "@cython.wraparound(False)  # turn off negative index wrapping for entire function\n",
    "cpdef test(np.ndarray[double, ndim=3, mode='c'] structures_subset):\n",
    "    cdef unsigned int l = structures_subset.shape[0]\n",
    "    cdef double[:,:,:] str_ptr = structures_subset\n",
    "    cdef np.ndarray rmsd_mat = np.zeros((l,l), dtype=float)\n",
    "    rmsd_mat[:] = 5\n",
    "    cdef double[:,:] rmsd_mat_view = rmsd_mat\n",
    "    cdef int i, j\n",
    "    for i in range(l):\n",
    "        for j in range(len(structures_subset[i+1:])):\n",
    "            rmsd_mat_view[i, i+j+1] = np.sum(np.stack((structures_subset[i], structures_subset[j])))\n",
    "    return rmsd_mat"
   ]
  },
  {
   "cell_type": "code",
   "execution_count": 17,
   "metadata": {},
   "outputs": [
    {
     "output_type": "stream",
     "name": "stdout",
     "text": [
      "1.19 s ± 22 ms per loop (mean ± std. dev. of 7 runs, 1 loop each)\n"
     ]
    }
   ],
   "source": [
    "# %timeit -r 10 prune_conformers_v2(stack, mol.atomnos, k=1)\n",
    "# %timeit -r 1 get_rmsd_mat(stack)\n",
    "%timeit test(stack)\n",
    "# test(stack)[0,2]"
   ]
  },
  {
   "cell_type": "code",
   "execution_count": 6,
   "metadata": {},
   "outputs": [],
   "source": [
    "import numpy as np\n",
    "def ptest(structures_subset):\n",
    "    rmsd_mat = np.zeros((len(structures_subset), len(structures_subset)))\n",
    "    rmsd_mat[:] = 5\n",
    "    for i in range(len(structures_subset)):\n",
    "        for j in range(len(structures_subset[i+1:])):\n",
    "            rmsd_mat[i, i+j+1] = np.sum(np.stack((structures_subset[i], structures_subset[j])))\n",
    "    return rmsd_mat"
   ]
  },
  {
   "cell_type": "code",
   "execution_count": 7,
   "metadata": {},
   "outputs": [
    {
     "output_type": "stream",
     "name": "stdout",
     "text": [
      "1.31 s ± 47.1 ms per loop (mean ± std. dev. of 7 runs, 1 loop each)\n"
     ]
    }
   ],
   "source": [
    "%timeit ptest(stack)"
   ]
  },
  {
   "source": [
    "# COMPENETRATION"
   ],
   "cell_type": "markdown",
   "metadata": {}
  },
  {
   "cell_type": "code",
   "execution_count": null,
   "metadata": {},
   "outputs": [],
   "source": [
    "%%cython\n",
    "import numpy as np\n",
    "cimport numpy as np\n",
    "from math import sqrt\n",
    "cimport cython\n",
    "\n",
    "DTYPE = np.float64\n",
    "ctypedef np.float64_t DTYPE_t\n",
    "\n",
    "cdef float s\n",
    "cdef float norm\n",
    "@cython.boundscheck(False) # turn off bounds-checking for entire function\n",
    "@cython.wraparound(False)  # turn off negative index wrapping for entire function\n",
    "cdef double norm_of(double[:] v):\n",
    "    s = v[0]*v[0] + v[1]*v[1] + v[2]*v[2]\n",
    "    cdef double norm = sqrt(s)\n",
    "    return norm\n",
    "\n",
    "@cython.boundscheck(False) # turn off bounds-checking for entire function\n",
    "@cython.wraparound(False)  # turn off negative index wrapping for entire function\n",
    "cpdef int compenetration_check(np.ndarray[DTYPE_t, ndim=2] coords, list ids):\n",
    "\n",
    "    cdef double thresh = 1.2\n",
    "    cdef int clashes = 0\n",
    "    cdef int max_clashes = 2\n",
    "    # max_clashes clashes is good, max_clashes + 1 is not\n",
    "    cdef np.ndarray[DTYPE_t, ndim=2] m1, m2, m3\n",
    "    cdef np.ndarray[DTYPE_t, ndim=1] v1, v2, v3\n",
    "    cdef float dist\n",
    "\n",
    "    if len(ids) == 2:\n",
    "        m1 = coords[0:ids[0]]\n",
    "        m2 = coords[ids[0]:]\n",
    "        for v1 in m1:\n",
    "            for v2 in m2:\n",
    "                dist = norm_of(v1-v2)\n",
    "                if dist < thresh:\n",
    "                    clashes += 1\n",
    "                if clashes > max_clashes:\n",
    "                    return 0\n",
    "        return 1\n",
    "\n",
    "    else:\n",
    "        m1 = coords[0:ids[0]]\n",
    "        m2 = coords[ids[0]:ids[0]+ids[1]]\n",
    "        m3 = coords[ids[0]+ids[1]:]\n",
    "\n",
    "        for v1 in m1:\n",
    "            for v2 in m2:\n",
    "                dist = norm_of(v1-v2)\n",
    "                if dist < thresh:\n",
    "                    clashes += 1\n",
    "                if clashes > max_clashes:\n",
    "                    return 0\n",
    "\n",
    "        for v2 in m2:\n",
    "            for v3 in m3:\n",
    "                dist = norm_of(v2-v3)\n",
    "                if dist < thresh:\n",
    "                    clashes += 1\n",
    "                if clashes > max_clashes:\n",
    "                    return 0\n",
    "\n",
    "        for v3 in m3:\n",
    "            for v1 in m1:\n",
    "                dist = norm_of(v3-v1)\n",
    "                if dist < thresh:\n",
    "                    clashes += 1\n",
    "                if clashes > max_clashes:\n",
    "                    return 0\n",
    "\n",
    "        return 1"
   ]
  },
  {
   "cell_type": "code",
   "execution_count": null,
   "metadata": {},
   "outputs": [],
   "source": [
    "compenetration_check(stack[0], )"
   ]
  }
 ],
 "metadata": {
  "kernelspec": {
   "name": "python3612jvsc74a57bd013b132f2c1b4759c35299cc27b3a010876219416598289e22ec2dbcead05f2f6",
   "display_name": "Python 3.6.12 64-bit ('my-rdkit-env': conda)"
  },
  "language_info": {
   "codemirror_mode": {
    "name": "ipython",
    "version": 3
   },
   "file_extension": ".py",
   "mimetype": "text/x-python",
   "name": "python",
   "nbconvert_exporter": "python",
   "pygments_lexer": "ipython3",
   "version": "3.6.12-final"
  }
 },
 "nbformat": 4,
 "nbformat_minor": 2
}