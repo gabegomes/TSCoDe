{
 "cells": [
  {
   "cell_type": "code",
   "execution_count": 1,
   "metadata": {},
   "outputs": [],
   "source": [
    "%load_ext cython"
   ]
  },
  {
   "cell_type": "code",
   "execution_count": 2,
   "metadata": {
    "tags": [
     "outputPrepend"
    ]
   },
   "outputs": [
    {
     "output_type": "stream",
     "name": "stderr",
     "text": [
      "o\\x00d\\x00u\\x00l\\x00e\\x00s\\x00;\\x00C\\x00:\\x00\\\\\\x00W\\x00I\\x00N\\x00D\\x00O\\x00W\\x00S\\x00\\\\\\x00s\\x00y\\x00s\\x00t\\x00e\\x00m\\x003\\x002\\x00\\\\\\x00W\\x00i\\x00n\\x00d\\x00o\\x00w\\x00s\\x00P\\x00o\\x00w\\x00e\\x00r\\x00S\\x00h\\x00e\\x00l\\x00l\\x00\\\\\\x00v\\x001\\x00.\\x000\\x00\\\\\\x00M\\x00o\\x00d\\x00u\\x00l\\x00e\\x00s\\x00\\r\\x00\\n\\x00P\\x00U\\x00B\\x00L\\x00I\\x00C\\x00=\\x00C\\x00:\\x00\\\\\\x00U\\x00s\\x00e\\x00r\\x00s\\x00\\\\\\x00P\\x00u\\x00b\\x00l\\x00i\\x00c\\x00\\r\\x00\\n\\x00P\\x00Y\\x00T\\x00H\\x00O\\x00N\\x00I\\x00O\\x00E\\x00N\\x00C\\x00O\\x00D\\x00I\\x00N\\x00G\\x00=\\x00u\\x00t\\x00f\\x00-\\x008\\x00\\r\\x00\\n\\x00P\\x00Y\\x00T\\x00H\\x00O\\x00N\\x00P\\x00A\\x00T\\x00H\\x00=\\x00C\\x00:\\x00\\\\\\x00U\\x00s\\x00e\\x00r\\x00s\\x00\\\\\\x00e\\x00h\\x00r\\x00m\\x00a\\x00\\\\\\x00a\\x00n\\x00a\\x00c\\x00o\\x00n\\x00d\\x00a\\x003\\x00;\\x00c\\x00:\\x00\\\\\\x00U\\x00s\\x00e\\x00r\\x00s\\x00\\\\\\x00e\\x00h\\x00r\\x00m\\x00a\\x00\\\\\\x00.\\x00v\\x00s\\x00c\\x00o\\x00d\\x00e\\x00\\\\\\x00e\\x00x\\x00t\\x00e\\x00n\\x00s\\x00i\\x00o\\x00n\\x00s\\x00\\\\\\x00m\\x00s\\x00-\\x00t\\x00o\\x00o\\x00l\\x00s\\x00a\\x00i\\x00.\\x00j\\x00u\\x00p\\x00y\\x00t\\x00e\\x00r\\x00-\\x002\\x000\\x002\\x001\\x00.\\x005\\x00.\\x007\\x000\\x002\\x009\\x001\\x009\\x006\\x003\\x004\\x00\\\\\\x00p\\x00y\\x00t\\x00h\\x00o\\x00n\\x00F\\x00i\\x00l\\x00e\\x00s\\x00;\\x00c\\x00:\\x00\\\\\\x00U\\x00s\\x00e\\x00r\\x00s\\x00\\\\\\x00e\\x00h\\x00r\\x00m\\x00a\\x00\\\\\\x00.\\x00v\\x00s\\x00c\\x00o\\x00d\\x00e\\x00\\\\\\x00e\\x00x\\x00t\\x00e\\x00n\\x00s\\x00i\\x00o\\x00n\\x00s\\x00\\\\\\x00m\\x00s\\x00-\\x00t\\x00o\\x00o\\x00l\\x00s\\x00a\\x00i\\x00.\\x00j\\x00u\\x00p\\x00y\\x00t\\x00e\\x00r\\x00-\\x002\\x000\\x002\\x001\\x00.\\x005\\x00.\\x007\\x000\\x002\\x009\\x001\\x009\\x006\\x003\\x004\\x00\\\\\\x00p\\x00y\\x00t\\x00h\\x00o\\x00n\\x00F\\x00i\\x00l\\x00e\\x00s\\x00\\\\\\x00l\\x00i\\x00b\\x00\\\\\\x00p\\x00y\\x00t\\x00h\\x00o\\x00n\\x00\\r\\x00\\n\\x00P\\x00Y\\x00T\\x00H\\x00O\\x00N\\x00U\\x00N\\x00B\\x00U\\x00F\\x00F\\x00E\\x00R\\x00E\\x00D\\x00=\\x001\\x00\\r\\x00\\n\\x00S\\x00E\\x00S\\x00S\\x00I\\x00O\\x00N\\x00N\\x00A\\x00M\\x00E\\x00=\\x00C\\x00o\\x00n\\x00s\\x00o\\x00l\\x00e\\x00\\r\\x00\\n\\x00S\\x00Y\\x00S\\x00T\\x00E\\x00M\\x00D\\x00R\\x00I\\x00V\\x00E\\x00=\\x00C\\x00:\\x00\\r\\x00\\n\\x00S\\x00Y\\x00S\\x00T\\x00E\\x00M\\x00R\\x00O\\x00O\\x00T\\x00=\\x00C\\x00:\\x00\\\\\\x00W\\x00I\\x00N\\x00D\\x00O\\x00W\\x00S\\x00\\r\\x00\\n\\x00T\\x00E\\x00M\\x00P\\x00=\\x00C\\x00:\\x00\\\\\\x00U\\x00s\\x00e\\x00r\\x00s\\x00\\\\\\x00e\\x00h\\x00r\\x00m\\x00a\\x00\\\\\\x00A\\x00p\\x00p\\x00D\\x00a\\x00t\\x00a\\x00\\\\\\x00L\\x00o\\x00c\\x00a\\x00l\\x00\\\\\\x00T\\x00e\\x00m\\x00p\\x00\\r\\x00\\n\\x00T\\x00E\\x00R\\x00M\\x00=\\x00x\\x00t\\x00e\\x00r\\x00m\\x00-\\x00c\\x00o\\x00l\\x00o\\x00r\\x00\\r\\x00\\n\\x00T\\x00M\\x00P\\x00=\\x00C\\x00:\\x00\\\\\\x00U\\x00s\\x00e\\x00r\\x00s\\x00\\\\\\x00e\\x00h\\x00r\\x00m\\x00a\\x00\\\\\\x00A\\x00p\\x00p\\x00D\\x00a\\x00t\\x00a\\x00\\\\\\x00L\\x00o\\x00c\\x00a\\x00l\\x00\\\\\\x00T\\x00e\\x00m\\x00p\\x00\\r\\x00\\n\\x00U\\x00C\\x00R\\x00T\\x00V\\x00e\\x00r\\x00s\\x00i\\x00o\\x00n\\x00=\\x001\\x000\\x00.\\x000\\x00.\\x001\\x009\\x000\\x004\\x001\\x00.\\x000\\x00\\r\\x00\\n\\x00U\\x00n\\x00i\\x00v\\x00e\\x00r\\x00s\\x00a\\x00l\\x00C\\x00R\\x00T\\x00S\\x00d\\x00k\\x00D\\x00i\\x00r\\x00=\\x00C\\x00:\\x00\\\\\\x00P\\x00r\\x00o\\x00g\\x00r\\x00a\\x00m\\x00 \\x00F\\x00i\\x00l\\x00e\\x00s\\x00 \\x00(\\x00x\\x008\\x006\\x00)\\x00\\\\\\x00W\\x00i\\x00n\\x00d\\x00o\\x00w\\x00s\\x00 \\x00K\\x00i\\x00t\\x00s\\x00\\\\\\x001\\x000\\x00\\\\\\x00\\r\\x00\\n\\x00U\\x00S\\x00E\\x00R\\x00D\\x00O\\x00M\\x00A\\x00I\\x00N\\x00=\\x00D\\x00E\\x00S\\x00K\\x00T\\x00O\\x00P\\x00-\\x00T\\x00H\\x005\\x009\\x007\\x00M\\x00L\\x00\\r\\x00\\n\\x00U\\x00S\\x00E\\x00R\\x00D\\x00O\\x00M\\x00A\\x00I\\x00N\\x00_\\x00R\\x00O\\x00A\\x00M\\x00I\\x00N\\x00G\\x00P\\x00R\\x00O\\x00F\\x00I\\x00L\\x00E\\x00=\\x00D\\x00E\\x00S\\x00K\\x00T\\x00O\\x00P\\x00-\\x00T\\x00H\\x005\\x009\\x007\\x00M\\x00L\\x00\\r\\x00\\n\\x00U\\x00S\\x00E\\x00R\\x00N\\x00A\\x00M\\x00E\\x00=\\x00e\\x00h\\x00r\\x00m\\x00a\\x00\\r\\x00\\n\\x00U\\x00S\\x00E\\x00R\\x00P\\x00R\\x00O\\x00F\\x00I\\x00L\\x00E\\x00=\\x00C\\x00:\\x00\\\\\\x00U\\x00s\\x00e\\x00r\\x00s\\x00\\\\\\x00e\\x00h\\x00r\\x00m\\x00a\\x00\\r\\x00\\n\\x00V\\x00C\\x00I\\x00D\\x00E\\x00I\\x00n\\x00s\\x00t\\x00a\\x00l\\x00l\\x00D\\x00i\\x00r\\x00=\\x00C\\x00:\\x00\\\\\\x00P\\x00r\\x00o\\x00g\\x00r\\x00a\\x00m\\x00 \\x00F\\x00i\\x00l\\x00e\\x00s\\x00 \\x00(\\x00x\\x008\\x006\\x00)\\x00\\\\\\x00M\\x00i\\x00c\\x00r\\x00o\\x00s\\x00o\\x00f\\x00t\\x00 \\x00V\\x00i\\x00s\\x00u\\x00a\\x00l\\x00 \\x00S\\x00t\\x00u\\x00d\\x00i\\x00o\\x00\\\\\\x002\\x000\\x001\\x009\\x00\\\\\\x00B\\x00u\\x00i\\x00l\\x00d\\x00T\\x00o\\x00o\\x00l\\x00s\\x00\\\\\\x00C\\x00o\\x00m\\x00m\\x00o\\x00n\\x007\\x00\\\\\\x00I\\x00D\\x00E\\x00\\\\\\x00V\\x00C\\x00\\\\\\x00\\r\\x00\\n\\x00V\\x00C\\x00I\\x00N\\x00S\\x00T\\x00A\\x00L\\x00L\\x00D\\x00I\\x00R\\x00=\\x00C\\x00:\\x00\\\\\\x00P\\x00r\\x00o\\x00g\\x00r\\x00a\\x00m\\x00 \\x00F\\x00i\\x00l\\x00e\\x00s\\x00 \\x00(\\x00x\\x008\\x006\\x00)\\x00\\\\\\x00M\\x00i\\x00c\\x00r\\x00o\\x00s\\x00o\\x00f\\x00t\\x00 \\x00V\\x00i\\x00s\\x00u\\x00a\\x00l\\x00 \\x00S\\x00t\\x00u\\x00d\\x00i\\x00o\\x00\\\\\\x002\\x000\\x001\\x009\\x00\\\\\\x00B\\x00u\\x00i\\x00l\\x00d\\x00T\\x00o\\x00o\\x00l\\x00s\\x00\\\\\\x00V\\x00C\\x00\\\\\\x00\\r\\x00\\n\\x00V\\x00C\\x00T\\x00o\\x00o\\x00l\\x00s\\x00I\\x00n\\x00s\\x00t\\x00a\\x00l\\x00l\\x00D\\x00i\\x00r\\x00=\\x00C\\x00:\\x00\\\\\\x00P\\x00r\\x00o\\x00g\\x00r\\x00a\\x00m\\x00 \\x00F\\x00i\\x00l\\x00e\\x00s\\x00 \\x00(\\x00x\\x008\\x006\\x00)\\x00\\\\\\x00M\\x00i\\x00c\\x00r\\x00o\\x00s\\x00o\\x00f\\x00t\\x00 \\x00V\\x00i\\x00s\\x00u\\x00a\\x00l\\x00 \\x00S\\x00t\\x00u\\x00d\\x00i\\x00o\\x00\\\\\\x002\\x000\\x001\\x009\\x00\\\\\\x00B\\x00u\\x00i\\x00l\\x00d\\x00T\\x00o\\x00o\\x00l\\x00s\\x00\\\\\\x00V\\x00C\\x00\\\\\\x00T\\x00o\\x00o\\x00l\\x00s\\x00\\\\\\x00M\\x00S\\x00V\\x00C\\x00\\\\\\x001\\x004\\x00.\\x002\\x008\\x00.\\x002\\x009\\x009\\x001\\x000\\x00\\\\\\x00\\r\\x00\\n\\x00V\\x00C\\x00T\\x00o\\x00o\\x00l\\x00s\\x00R\\x00e\\x00d\\x00i\\x00s\\x00t\\x00D\\x00i\\x00r\\x00=\\x00C\\x00:\\x00\\\\\\x00P\\x00r\\x00o\\x00g\\x00r\\x00a\\x00m\\x00 \\x00F\\x00i\\x00l\\x00e\\x00s\\x00 \\x00(\\x00x\\x008\\x006\\x00)\\x00\\\\\\x00M\\x00i\\x00c\\x00r\\x00o\\x00s\\x00o\\x00f\\x00t\\x00 \\x00V\\x00i\\x00s\\x00u\\x00a\\x00l\\x00 \\x00S\\x00t\\x00u\\x00d\\x00i\\x00o\\x00\\\\\\x002\\x000\\x001\\x009\\x00\\\\\\x00B\\x00u\\x00i\\x00l\\x00d\\x00T\\x00o\\x00o\\x00l\\x00s\\x00\\\\\\x00V\\x00C\\x00\\\\\\x00R\\x00e\\x00d\\x00i\\x00s\\x00t\\x00\\\\\\x00M\\x00S\\x00V\\x00C\\x00\\\\\\x001\\x004\\x00.\\x002\\x008\\x00.\\x002\\x009\\x009\\x001\\x000\\x00\\\\\\x00\\r\\x00\\n\\x00V\\x00C\\x00T\\x00o\\x00o\\x00l\\x00s\\x00V\\x00e\\x00r\\x00s\\x00i\\x00o\\x00n\\x00=\\x001\\x004\\x00.\\x002\\x008\\x00.\\x002\\x009\\x009\\x001\\x000\\x00\\r\\x00\\n\\x00V\\x00i\\x00s\\x00u\\x00a\\x00l\\x00S\\x00t\\x00u\\x00d\\x00i\\x00o\\x00V\\x00e\\x00r\\x00s\\x00i\\x00o\\x00n\\x00=\\x001\\x006\\x00.\\x000\\x00\\r\\x00\\n\\x00V\\x00S\\x001\\x004\\x000\\x00C\\x00O\\x00M\\x00N\\x00T\\x00O\\x00O\\x00L\\x00S\\x00=\\x00C\\x00:\\x00\\\\\\x00P\\x00r\\x00o\\x00g\\x00r\\x00a\\x00m\\x00 \\x00F\\x00i\\x00l\\x00e\\x00s\\x00 \\x00(\\x00x\\x008\\x006\\x00)\\x00\\\\\\x00M\\x00i\\x00c\\x00r\\x00o\\x00s\\x00o\\x00f\\x00t\\x00 \\x00V\\x00i\\x00s\\x00u\\x00a\\x00l\\x00 \\x00S\\x00t\\x00u\\x00d\\x00i\\x00o\\x00 \\x001\\x004\\x00.\\x000\\x00\\\\\\x00C\\x00o\\x00m\\x00m\\x00o\\x00n\\x007\\x00\\\\\\x00T\\x00o\\x00o\\x00l\\x00s\\x00\\\\\\x00\\r\\x00\\n\\x00V\\x00S\\x001\\x006\\x000\\x00C\\x00O\\x00M\\x00N\\x00T\\x00O\\x00O\\x00L\\x00S\\x00=\\x00C\\x00:\\x00\\\\\\x00P\\x00r\\x00o\\x00g\\x00r\\x00a\\x00m\\x00 \\x00F\\x00i\\x00l\\x00e\\x00s\\x00 \\x00(\\x00x\\x008\\x006\\x00)\\x00\\\\\\x00M\\x00i\\x00c\\x00r\\x00o\\x00s\\x00o\\x00f\\x00t\\x00 \\x00V\\x00i\\x00s\\x00u\\x00a\\x00l\\x00 \\x00S\\x00t\\x00u\\x00d\\x00i\\x00o\\x00\\\\\\x002\\x000\\x001\\x009\\x00\\\\\\x00B\\x00u\\x00i\\x00l\\x00d\\x00T\\x00o\\x00o\\x00l\\x00s\\x00\\\\\\x00C\\x00o\\x00m\\x00m\\x00o\\x00n\\x007\\x00\\\\\\x00T\\x00o\\x00o\\x00l\\x00s\\x00\\\\\\x00\\r\\x00\\n\\x00V\\x00S\\x00C\\x00M\\x00D\\x00_\\x00A\\x00R\\x00G\\x00_\\x00a\\x00p\\x00p\\x00_\\x00p\\x00l\\x00a\\x00t\\x00=\\x00D\\x00e\\x00s\\x00k\\x00t\\x00o\\x00p\\x00\\r\\x00\\n\\x00V\\x00S\\x00C\\x00M\\x00D\\x00_\\x00A\\x00R\\x00G\\x00_\\x00H\\x00O\\x00S\\x00T\\x00_\\x00A\\x00R\\x00C\\x00H\\x00=\\x00x\\x008\\x006\\x00\\r\\x00\\n\\x00V\\x00S\\x00C\\x00M\\x00D\\x00_\\x00A\\x00R\\x00G\\x00_\\x00T\\x00G\\x00T\\x00_\\x00A\\x00R\\x00C\\x00H\\x00=\\x00x\\x006\\x004\\x00\\r\\x00\\n\\x00V\\x00S\\x00C\\x00M\\x00D\\x00_\\x00V\\x00E\\x00R\\x00=\\x001\\x006\\x00.\\x009\\x00.\\x003\\x00\\r\\x00\\n\\x00V\\x00S\\x00C\\x00O\\x00D\\x00E\\x00_\\x00A\\x00M\\x00D\\x00_\\x00E\\x00N\\x00T\\x00R\\x00Y\\x00P\\x00O\\x00I\\x00N\\x00T\\x00=\\x00v\\x00s\\x00/\\x00w\\x00o\\x00r\\x00k\\x00b\\x00e\\x00n\\x00c\\x00h\\x00/\\x00s\\x00e\\x00r\\x00v\\x00i\\x00c\\x00e\\x00s\\x00/\\x00e\\x00x\\x00t\\x00e\\x00n\\x00s\\x00i\\x00o\\x00n\\x00s\\x00/\\x00n\\x00o\\x00d\\x00e\\x00/\\x00e\\x00x\\x00t\\x00e\\x00n\\x00s\\x00i\\x00o\\x00n\\x00H\\x00o\\x00s\\x00t\\x00P\\x00r\\x00o\\x00c\\x00e\\x00s\\x00s\\x00\\r\\x00\\n\\x00V\\x00S\\x00C\\x00O\\x00D\\x00E\\x00_\\x00C\\x00L\\x00I\\x00=\\x001\\x00\\r\\x00\\n\\x00V\\x00S\\x00C\\x00O\\x00D\\x00E\\x00_\\x00C\\x00W\\x00D\\x00=\\x00C\\x00:\\x00\\\\\\x00U\\x00s\\x00e\\x00r\\x00s\\x00\\\\\\x00e\\x00h\\x00r\\x00m\\x00a\\x00\\\\\\x00D\\x00e\\x00s\\x00k\\x00t\\x00o\\x00p\\x00\\\\\\x00C\\x00o\\x00d\\x00i\\x00n\\x00g\\x00\\\\\\x00T\\x00S\\x00C\\x00o\\x00D\\x00e\\x00\\\\\\x00R\\x00e\\x00s\\x00o\\x00u\\x00r\\x00c\\x00e\\x00s\\x00\\\\\\x00S\\x00N\\x002\\x00\\r\\x00\\n\\x00V\\x00S\\x00C\\x00O\\x00D\\x00E\\x00_\\x00H\\x00A\\x00N\\x00D\\x00L\\x00E\\x00S\\x00_\\x00U\\x00N\\x00C\\x00A\\x00U\\x00G\\x00H\\x00T\\x00_\\x00E\\x00R\\x00R\\x00O\\x00R\\x00S\\x00=\\x00t\\x00r\\x00u\\x00e\\x00\\r\\x00\\n\\x00V\\x00S\\x00C\\x00O\\x00D\\x00E\\x00_\\x00I\\x00P\\x00C\\x00_\\x00H\\x00O\\x00O\\x00K\\x00=\\x00\\\\\\x00\\\\\\x00.\\x00\\\\\\x00p\\x00i\\x00p\\x00e\\x00\\\\\\x000\\x002\\x007\\x001\\x002\\x007\\x00f\\x007\\x000\\x00a\\x00e\\x00f\\x009\\x00e\\x003\\x006\\x004\\x00d\\x004\\x000\\x00f\\x007\\x001\\x006\\x000\\x00b\\x002\\x009\\x007\\x00c\\x008\\x00e\\x00-\\x001\\x00.\\x005\\x005\\x00.\\x001\\x00-\\x00m\\x00a\\x00i\\x00n\\x00-\\x00s\\x00o\\x00c\\x00k\\x00\\r\\x00\\n\\x00V\\x00S\\x00C\\x00O\\x00D\\x00E\\x00_\\x00I\\x00P\\x00C\\x00_\\x00H\\x00O\\x00O\\x00K\\x00_\\x00E\\x00X\\x00T\\x00H\\x00O\\x00S\\x00T\\x00=\\x00\\\\\\x00\\\\\\x00.\\x00\\\\\\x00p\\x00i\\x00p\\x00e\\x00\\\\\\x00v\\x00s\\x00c\\x00o\\x00d\\x00e\\x00-\\x00i\\x00p\\x00c\\x00-\\x00c\\x00d\\x001\\x001\\x00a\\x001\\x00f\\x007\\x00-\\x00b\\x001\\x000\\x002\\x00-\\x004\\x00f\\x000\\x00b\\x00-\\x00a\\x005\\x006\\x003\\x00-\\x00e\\x00b\\x005\\x00f\\x00b\\x003\\x005\\x004\\x00c\\x008\\x005\\x007\\x00-\\x00s\\x00o\\x00c\\x00k\\x00\\r\\x00\\n\\x00V\\x00S\\x00C\\x00O\\x00D\\x00E\\x00_\\x00L\\x00O\\x00G\\x00_\\x00N\\x00A\\x00T\\x00I\\x00V\\x00E\\x00=\\x00f\\x00a\\x00l\\x00s\\x00e\\x00\\r\\x00\\n\\x00V\\x00S\\x00C\\x00O\\x00D\\x00E\\x00_\\x00L\\x00O\\x00G\\x00_\\x00S\\x00T\\x00A\\x00C\\x00K\\x00=\\x00f\\x00a\\x00l\\x00s\\x00e\\x00\\r\\x00\\n\\x00V\\x00S\\x00C\\x00O\\x00D\\x00E\\x00_\\x00N\\x00L\\x00S\\x00_\\x00C\\x00O\\x00N\\x00F\\x00I\\x00G\\x00=\\x00{\\x00\"\\x00l\\x00o\\x00c\\x00a\\x00l\\x00e\\x00\"\\x00:\\x00\"\\x00i\\x00t\\x00\"\\x00,\\x00\"\\x00a\\x00v\\x00a\\x00i\\x00l\\x00a\\x00b\\x00l\\x00e\\x00L\\x00a\\x00n\\x00g\\x00u\\x00a\\x00g\\x00e\\x00s\\x00\"\\x00:\\x00{\\x00}\\x00,\\x00\"\\x00_\\x00l\\x00a\\x00n\\x00g\\x00u\\x00a\\x00g\\x00e\\x00P\\x00a\\x00c\\x00k\\x00S\\x00u\\x00p\\x00p\\x00o\\x00r\\x00t\\x00\"\\x00:\\x00t\\x00r\\x00u\\x00e\\x00}\\x00\\r\\x00\\n\\x00V\\x00S\\x00C\\x00O\\x00D\\x00E\\x00_\\x00N\\x00O\\x00D\\x00E\\x00_\\x00C\\x00A\\x00C\\x00H\\x00E\\x00D\\x00_\\x00D\\x00A\\x00T\\x00A\\x00_\\x00D\\x00I\\x00R\\x00=\\x00C\\x00:\\x00\\\\\\x00U\\x00s\\x00e\\x00r\\x00s\\x00\\\\\\x00e\\x00h\\x00r\\x00m\\x00a\\x00\\\\\\x00A\\x00p\\x00p\\x00D\\x00a\\x00t\\x00a\\x00\\\\\\x00R\\x00o\\x00a\\x00m\\x00i\\x00n\\x00g\\x00\\\\\\x00C\\x00o\\x00d\\x00e\\x00\\\\\\x00C\\x00a\\x00c\\x00h\\x00e\\x00d\\x00D\\x00a\\x00t\\x00a\\x00\\\\\\x000\\x008\\x00a\\x002\\x001\\x007\\x00c\\x004\\x00d\\x002\\x007\\x00a\\x000\\x002\\x00a\\x005\\x00b\\x00c\\x00d\\x00e\\x008\\x009\\x008\\x00f\\x00d\\x007\\x009\\x008\\x001\\x00b\\x00d\\x00a\\x005\\x00b\\x004\\x009\\x003\\x009\\x001\\x00b\\x00\\r\\x00\\n\\x00V\\x00S\\x00C\\x00O\\x00D\\x00E\\x00_\\x00P\\x00I\\x00D\\x00=\\x001\\x002\\x000\\x002\\x004\\x00\\r\\x00\\n\\x00V\\x00S\\x00C\\x00O\\x00D\\x00E\\x00_\\x00P\\x00I\\x00P\\x00E\\x00_\\x00L\\x00O\\x00G\\x00G\\x00I\\x00N\\x00G\\x00=\\x00t\\x00r\\x00u\\x00e\\x00\\r\\x00\\n\\x00V\\x00S\\x00C\\x00O\\x00D\\x00E\\x00_\\x00V\\x00E\\x00R\\x00B\\x00O\\x00S\\x00E\\x00_\\x00L\\x00O\\x00G\\x00G\\x00I\\x00N\\x00G\\x00=\\x00t\\x00r\\x00u\\x00e\\x00\\r\\x00\\n\\x00V\\x00S\\x00I\\x00N\\x00S\\x00T\\x00A\\x00L\\x00L\\x00D\\x00I\\x00R\\x00=\\x00C\\x00:\\x00\\\\\\x00P\\x00r\\x00o\\x00g\\x00r\\x00a\\x00m\\x00 \\x00F\\x00i\\x00l\\x00e\\x00s\\x00 \\x00(\\x00x\\x008\\x006\\x00)\\x00\\\\\\x00M\\x00i\\x00c\\x00r\\x00o\\x00s\\x00o\\x00f\\x00t\\x00 \\x00V\\x00i\\x00s\\x00u\\x00a\\x00l\\x00 \\x00S\\x00t\\x00u\\x00d\\x00i\\x00o\\x00\\\\\\x002\\x000\\x001\\x009\\x00\\\\\\x00B\\x00u\\x00i\\x00l\\x00d\\x00T\\x00o\\x00o\\x00l\\x00s\\x00\\\\\\x00\\r\\x00\\n\\x00W\\x00I\\x00N\\x00D\\x00I\\x00R\\x00=\\x00C\\x00:\\x00\\\\\\x00W\\x00I\\x00N\\x00D\\x00O\\x00W\\x00S\\x00\\r\\x00\\n\\x00J\\x00P\\x00Y\\x00_\\x00I\\x00N\\x00T\\x00E\\x00R\\x00R\\x00U\\x00P\\x00T\\x00_\\x00E\\x00V\\x00E\\x00N\\x00T\\x00=\\x006\\x006\\x004\\x00\\r\\x00\\n\\x00I\\x00P\\x00Y\\x00_\\x00I\\x00N\\x00T\\x00E\\x00R\\x00R\\x00U\\x00P\\x00T\\x00_\\x00E\\x00V\\x00E\\x00N\\x00T\\x00=\\x006\\x006\\x004\\x00\\r\\x00\\n\\x00J\\x00P\\x00Y\\x00_\\x00P\\x00A\\x00R\\x00E\\x00N\\x00T\\x00_\\x00P\\x00I\\x00D\\x00=\\x006\\x005\\x006\\x00\\r\\x00\\n\\x00W\\x00i\\x00n\\x00d\\x00o\\x00w\\x00s\\x00L\\x00i\\x00b\\x00P\\x00a\\x00t\\x00h\\x00=\\x00C\\x00:\\x00\\\\\\x00P\\x00r\\x00o\\x00g\\x00r\\x00a\\x00m\\x00 \\x00F\\x00i\\x00l\\x00e\\x00s\\x00 \\x00(\\x00x\\x008\\x006\\x00)\\x00\\\\\\x00W\\x00i\\x00n\\x00d\\x00o\\x00w\\x00s\\x00 \\x00K\\x00i\\x00t\\x00s\\x00\\\\\\x001\\x000\\x00\\\\\\x00U\\x00n\\x00i\\x00o\\x00n\\x00M\\x00e\\x00t\\x00a\\x00d\\x00a\\x00t\\x00a\\x00\\\\\\x001\\x000\\x00.\\x000\\x00.\\x001\\x009\\x000\\x004\\x001\\x00.\\x000\\x00;\\x00C\\x00:\\x00\\\\\\x00P\\x00r\\x00o\\x00g\\x00r\\x00a\\x00m\\x00 \\x00F\\x00i\\x00l\\x00e\\x00s\\x00 \\x00(\\x00x\\x008\\x006\\x00)\\x00\\\\\\x00W\\x00i\\x00n\\x00d\\x00o\\x00w\\x00s\\x00 \\x00K\\x00i\\x00t\\x00s\\x00\\\\\\x001\\x000\\x00\\\\\\x00R\\x00e\\x00f\\x00e\\x00r\\x00e\\x00n\\x00c\\x00e\\x00s\\x00\\\\\\x001\\x000\\x00.\\x000\\x00.\\x001\\x009\\x000\\x004\\x001\\x00.\\x000\\x00\\r\\x00\\n\\x00W\\x00i\\x00n\\x00d\\x00o\\x00w\\x00s\\x00S\\x00d\\x00k\\x00B\\x00i\\x00n\\x00P\\x00a\\x00t\\x00h\\x00=\\x00C\\x00:\\x00\\\\\\x00P\\x00r\\x00o\\x00g\\x00r\\x00a\\x00m\\x00 \\x00F\\x00i\\x00l\\x00e\\x00s\\x00 \\x00(\\x00x\\x008\\x006\\x00)\\x00\\\\\\x00W\\x00i\\x00n\\x00d\\x00o\\x00w\\x00s\\x00 \\x00K\\x00i\\x00t\\x00s\\x00\\\\\\x001\\x000\\x00\\\\\\x00b\\x00i\\x00n\\x00\\\\\\x00\\r\\x00\\n\\x00W\\x00i\\x00n\\x00d\\x00o\\x00w\\x00s\\x00S\\x00d\\x00k\\x00D\\x00i\\x00r\\x00=\\x00C\\x00:\\x00\\\\\\x00P\\x00r\\x00o\\x00g\\x00r\\x00a\\x00m\\x00 \\x00F\\x00i\\x00l\\x00e\\x00s\\x00 \\x00(\\x00x\\x008\\x006\\x00)\\x00\\\\\\x00W\\x00i\\x00n\\x00d\\x00o\\x00w\\x00s\\x00 \\x00K\\x00i\\x00t\\x00s\\x00\\\\\\x001\\x000\\x00\\\\\\x00\\r\\x00\\n\\x00W\\x00i\\x00n\\x00d\\x00o\\x00w\\x00s\\x00S\\x00D\\x00K\\x00L\\x00i\\x00b\\x00V\\x00e\\x00r\\x00s\\x00i\\x00o\\x00n\\x00=\\x001\\x000\\x00.\\x000\\x00.\\x001\\x009\\x000\\x004\\x001\\x00.\\x000\\x00\\\\\\x00\\r\\x00\\n\\x00W\\x00i\\x00n\\x00d\\x00o\\x00w\\x00s\\x00S\\x00d\\x00k\\x00V\\x00e\\x00r\\x00B\\x00i\\x00n\\x00P\\x00a\\x00t\\x00h\\x00=\\x00C\\x00:\\x00\\\\\\x00P\\x00r\\x00o\\x00g\\x00r\\x00a\\x00m\\x00 \\x00F\\x00i\\x00l\\x00e\\x00s\\x00 \\x00(\\x00x\\x008\\x006\\x00)\\x00\\\\\\x00W\\x00i\\x00n\\x00d\\x00o\\x00w\\x00s\\x00 \\x00K\\x00i\\x00t\\x00s\\x00\\\\\\x001\\x000\\x00\\\\\\x00b\\x00i\\x00n\\x00\\\\\\x001\\x000\\x00.\\x000\\x00.\\x001\\x009\\x000\\x004\\x001\\x00.\\x000\\x00\\\\\\x00\\r\\x00\\n\\x00W\\x00i\\x00n\\x00d\\x00o\\x00w\\x00s\\x00S\\x00D\\x00K\\x00V\\x00e\\x00r\\x00s\\x00i\\x00o\\x00n\\x00=\\x001\\x000\\x00.\\x000\\x00.\\x001\\x009\\x000\\x004\\x001\\x00.\\x000\\x00\\\\\\x00\\r\\x00\\n\\x00_\\x00_\\x00d\\x00e\\x00v\\x00i\\x00n\\x00i\\x00t\\x00_\\x00p\\x00a\\x00t\\x00h\\x00=\\x00C\\x00:\\x00\\\\\\x00P\\x00r\\x00o\\x00g\\x00r\\x00a\\x00m\\x00 \\x00F\\x00i\\x00l\\x00e\\x00s\\x00 \\x00(\\x00x\\x008\\x006\\x00)\\x00\\\\\\x00M\\x00i\\x00c\\x00r\\x00o\\x00s\\x00o\\x00f\\x00t\\x00 \\x00V\\x00i\\x00s\\x00u\\x00a\\x00l\\x00 \\x00S\\x00t\\x00u\\x00d\\x00i\\x00o\\x00\\\\\\x002\\x000\\x001\\x009\\x00\\\\\\x00B\\x00u\\x00i\\x00l\\x00d\\x00T\\x00o\\x00o\\x00l\\x00s\\x00\\\\\\x00C\\x00o\\x00m\\x00m\\x00o\\x00n\\x007\\x00\\\\\\x00T\\x00o\\x00o\\x00l\\x00s\\x00\\\\\\x00d\\x00e\\x00v\\x00i\\x00n\\x00i\\x00t\\x00\\\\\\x00d\\x00e\\x00v\\x00i\\x00n\\x00i\\x00t\\x00.\\x00e\\x00x\\x00e\\x00\\r\\x00\\n\\x00_\\x00_\\x00D\\x00O\\x00T\\x00N\\x00E\\x00T\\x00_\\x00A\\x00D\\x00D\\x00_\\x003\\x002\\x00B\\x00I\\x00T\\x00=\\x001\\x00\\r\\x00\\n\\x00_\\x00_\\x00D\\x00O\\x00T\\x00N\\x00E\\x00T\\x00_\\x00A\\x00D\\x00D\\x00_\\x006\\x004\\x00B\\x00I\\x00T\\x00=\\x001\\x00\\r\\x00\\n\\x00_\\x00_\\x00D\\x00O\\x00T\\x00N\\x00E\\x00T\\x00_\\x00P\\x00R\\x00E\\x00F\\x00E\\x00R\\x00R\\x00E\\x00D\\x00_\\x00B\\x00I\\x00T\\x00N\\x00E\\x00S\\x00S\\x00=\\x003\\x002\\x00\\r\\x00\\n\\x00_\\x00_\\x00V\\x00S\\x00C\\x00M\\x00D\\x00_\\x00P\\x00R\\x00E\\x00I\\x00N\\x00I\\x00T\\x00_\\x00P\\x00A\\x00T\\x00H\\x00=\\x00C\\x00:\\x00\\\\\\x00U\\x00s\\x00e\\x00r\\x00s\\x00\\\\\\x00e\\x00h\\x00r\\x00m\\x00a\\x00\\\\\\x00a\\x00n\\x00a\\x00c\\x00o\\x00n\\x00d\\x00a\\x003\\x00\\\\\\x00e\\x00n\\x00v\\x00s\\x00\\\\\\x00t\\x00s\\x00c\\x00o\\x00d\\x00e\\x00\\\\\\x00l\\x00i\\x00b\\x00\\\\\\x00s\\x00i\\x00t\\x00e\\x00-\\x00p\\x00a\\x00c\\x00k\\x00a\\x00g\\x00e\\x00s\\x00\\\\\\x00p\\x00y\\x00w\\x00i\\x00n\\x003\\x002\\x00_\\x00s\\x00y\\x00s\\x00t\\x00e\\x00m\\x003\\x002\\x00;\\x00C\\x00:\\x00\\\\\\x00U\\x00s\\x00e\\x00r\\x00s\\x00\\\\\\x00e\\x00h\\x00r\\x00m\\x00a\\x00\\\\\\x00a\\x00n\\x00a\\x00c\\x00o\\x00n\\x00d\\x00a\\x003\\x00\\\\\\x00e\\x00n\\x00v\\x00s\\x00\\\\\\x00t\\x00s\\x00c\\x00o\\x00d\\x00e\\x00;\\x00C\\x00:\\x00\\\\\\x00U\\x00s\\x00e\\x00r\\x00s\\x00\\\\\\x00e\\x00h\\x00r\\x00m\\x00a\\x00\\\\\\x00a\\x00n\\x00a\\x00c\\x00o\\x00n\\x00d\\x00a\\x003\\x00\\\\\\x00e\\x00n\\x00v\\x00s\\x00\\\\\\x00t\\x00s\\x00c\\x00o\\x00d\\x00e\\x00\\\\\\x00L\\x00i\\x00b\\x00r\\x00a\\x00r\\x00y\\x00\\\\\\x00m\\x00i\\x00n\\x00g\\x00w\\x00-\\x00w\\x006\\x004\\x00\\\\\\x00b\\x00i\\x00n\\x00;\\x00C\\x00:\\x00\\\\\\x00U\\x00s\\x00e\\x00r\\x00s\\x00\\\\\\x00e\\x00h\\x00r\\x00m\\x00a\\x00\\\\\\x00a\\x00n\\x00a\\x00c\\x00o\\x00n\\x00d\\x00a\\x003\\x00\\\\\\x00e\\x00n\\x00v\\x00s\\x00\\\\\\x00t\\x00s\\x00c\\x00o\\x00d\\x00e\\x00\\\\\\x00L\\x00i\\x00b\\x00r\\x00a\\x00r\\x00y\\x00\\\\\\x00u\\x00s\\x00r\\x00\\\\\\x00b\\x00i\\x00n\\x00;\\x00C\\x00:\\x00\\\\\\x00U\\x00s\\x00e\\x00r\\x00s\\x00\\\\\\x00e\\x00h\\x00r\\x00m\\x00a\\x00\\\\\\x00a\\x00n\\x00a\\x00c\\x00o\\x00n\\x00d\\x00a\\x003\\x00\\\\\\x00e\\x00n\\x00v\\x00s\\x00\\\\\\x00t\\x00s\\x00c\\x00o\\x00d\\x00e\\x00\\\\\\x00L\\x00i\\x00b\\x00r\\x00a\\x00r\\x00y\\x00\\\\\\x00b\\x00i\\x00n\\x00;\\x00C\\x00:\\x00\\\\\\x00U\\x00s\\x00e\\x00r\\x00s\\x00\\\\\\x00e\\x00h\\x00r\\x00m\\x00a\\x00\\\\\\x00a\\x00n\\x00a\\x00c\\x00o\\x00n\\x00d\\x00a\\x003\\x00\\\\\\x00e\\x00n\\x00v\\x00s\\x00\\\\\\x00t\\x00s\\x00c\\x00o\\x00d\\x00e\\x00\\\\\\x00S\\x00c\\x00r\\x00i\\x00p\\x00t\\x00s\\x00;\\x00C\\x00:\\x00\\\\\\x00U\\x00s\\x00e\\x00r\\x00s\\x00\\\\\\x00e\\x00h\\x00r\\x00m\\x00a\\x00\\\\\\x00a\\x00n\\x00a\\x00c\\x00o\\x00n\\x00d\\x00a\\x003\\x00\\\\\\x00e\\x00n\\x00v\\x00s\\x00\\\\\\x00t\\x00s\\x00c\\x00o\\x00d\\x00e\\x00\\\\\\x00b\\x00i\\x00n\\x00;\\x00C\\x00:\\x00\\\\\\x00U\\x00s\\x00e\\x00r\\x00s\\x00\\\\\\x00e\\x00h\\x00r\\x00m\\x00a\\x00\\\\\\x00a\\x00n\\x00a\\x00c\\x00o\\x00n\\x00d\\x00a\\x003\\x00\\\\\\x00c\\x00o\\x00n\\x00d\\x00a\\x00b\\x00i\\x00n\\x00;\\x00C\\x00:\\x00\\\\\\x00P\\x00r\\x00o\\x00g\\x00r\\x00a\\x00m\\x00 \\x00F\\x00i\\x00l\\x00e\\x00s\\x00\\\\\\x00M\\x00i\\x00c\\x00r\\x00o\\x00s\\x00o\\x00f\\x00t\\x00 \\x00M\\x00P\\x00I\\x00\\\\\\x00B\\x00i\\x00n\\x00;\\x00C\\x00:\\x00\\\\\\x00W\\x00I\\x00N\\x00D\\x00O\\x00W\\x00S\\x00\\\\\\x00s\\x00y\\x00s\\x00t\\x00e\\x00m\\x003\\x002\\x00;\\x00C\\x00:\\x00\\\\\\x00W\\x00I\\x00N\\x00D\\x00O\\x00W\\x00S\\x00;\\x00C\\x00:\\x00\\\\\\x00W\\x00I\\x00N\\x00D\\x00O\\x00W\\x00S\\x00\\\\\\x00S\\x00y\\x00s\\x00t\\x00e\\x00m\\x003\\x002\\x00\\\\\\x00W\\x00b\\x00e\\x00m\\x00;\\x00C\\x00:\\x00\\\\\\x00W\\x00I\\x00N\\x00D\\x00O\\x00W\\x00S\\x00\\\\\\x00S\\x00y\\x00s\\x00t\\x00e\\x00m\\x003\\x002\\x00\\\\\\x00W\\x00i\\x00n\\x00d\\x00o\\x00w\\x00s\\x00P\\x00o\\x00w\\x00e\\x00r\\x00S\\x00h\\x00e\\x00l\\x00l\\x00\\\\\\x00v\\x001\\x00.\\x000\\x00;\\x00C\\x00:\\x00\\\\\\x00W\\x00I\\x00N\\x00D\\x00O\\x00W\\x00S\\x00\\\\\\x00S\\x00y\\x00s\\x00t\\x00e\\x00m\\x003\\x002\\x00\\\\\\x00O\\x00p\\x00e\\x00n\\x00S\\x00S\\x00H\\x00;\\x00C\\x00:\\x00\\\\\\x00P\\x00r\\x00o\\x00g\\x00r\\x00a\\x00m\\x00 \\x00F\\x00i\\x00l\\x00e\\x00s\\x00\\\\\\x00g\\x00l\\x00f\\x00w\\x00-\\x003\\x00.\\x003\\x00.\\x002\\x00.\\x00b\\x00i\\x00n\\x00.\\x00W\\x00I\\x00N\\x006\\x004\\x00\\\\\\x00l\\x00i\\x00b\\x00-\\x00m\\x00i\\x00n\\x00g\\x00w\\x00-\\x00w\\x006\\x004\\x00;\\x00C\\x00:\\x00\\\\\\x00G\\x000\\x009\\x00W\\x00;\\x00C\\x00:\\x00\\\\\\x00P\\x00r\\x00o\\x00g\\x00r\\x00a\\x00m\\x00 \\x00F\\x00i\\x00l\\x00e\\x00s\\x00\\\\\\x00C\\x00a\\x00l\\x00i\\x00b\\x00r\\x00e\\x002\\x00;\\x00C\\x00:\\x00\\\\\\x00P\\x00r\\x00o\\x00g\\x00r\\x00a\\x00m\\x00 \\x00F\\x00i\\x00l\\x00e\\x00s\\x00\\\\\\x00G\\x00i\\x00t\\x00\\\\\\x00c\\x00m\\x00d\\x00;\\x00C\\x00:\\x00\\\\\\x00U\\x00s\\x00e\\x00r\\x00s\\x00\\\\\\x00e\\x00h\\x00r\\x00m\\x00a\\x00\\\\\\x00a\\x00n\\x00a\\x00c\\x00o\\x00n\\x00d\\x00a\\x003\\x00;\\x00C\\x00:\\x00\\\\\\x00P\\x00r\\x00o\\x00g\\x00r\\x00a\\x00m\\x00 \\x00F\\x00i\\x00l\\x00e\\x00s\\x00 \\x00(\\x00x\\x008\\x006\\x00)\\x00\\\\\\x00W\\x00i\\x00n\\x00d\\x00o\\x00w\\x00s\\x00 \\x00K\\x00i\\x00t\\x00s\\x00\\\\\\x001\\x000\\x00\\\\\\x00b\\x00i\\x00n\\x00\\\\\\x00x\\x006\\x004\\x00;\\x00C\\x00:\\x00\\\\\\x00P\\x00r\\x00o\\x00g\\x00r\\x00a\\x00m\\x00 \\x00F\\x00i\\x00l\\x00e\\x00s\\x00 \\x00(\\x00x\\x008\\x006\\x00)\\x00\\\\\\x00U\\x00n\\x00i\\x00v\\x00e\\x00r\\x00s\\x00i\\x00t\\x00y\\x00 \\x00o\\x00f\\x00 \\x00I\\x00l\\x00l\\x00i\\x00n\\x00o\\x00i\\x00s\\x00\\\\\\x00V\\x00M\\x00D\\x00;\\x00C\\x00:\\x00\\\\\\x00P\\x00r\\x00o\\x00g\\x00r\\x00a\\x00m\\x00 \\x00F\\x00i\\x00l\\x00e\\x00s\\x00\\\\\\x00M\\x00O\\x00P\\x00A\\x00C\\x00;\\x00C\\x00:\\x00\\\\\\x00P\\x00r\\x00o\\x00g\\x00r\\x00a\\x00m\\x00 \\x00F\\x00i\\x00l\\x00e\\x00s\\x00\\\\\\x00O\\x00p\\x00e\\x00n\\x00B\\x00a\\x00b\\x00e\\x00l\\x00-\\x003\\x00.\\x001\\x00.\\x001\\x00;\\x00C\\x00:\\x00\\\\\\x00U\\x00s\\x00e\\x00r\\x00s\\x00\\\\\\x00e\\x00h\\x00r\\x00m\\x00a\\x00\\\\\\x00A\\x00p\\x00p\\x00D\\x00a\\x00t\\x00a\\x00\\\\\\x00L\\x00o\\x00c\\x00a\\x00l\\x00\\\\\\x00M\\x00i\\x00c\\x00r\\x00o\\x00s\\x00o\\x00f\\x00t\\x00\\\\\\x00W\\x00i\\x00n\\x00d\\x00o\\x00w\\x00s\\x00A\\x00p\\x00p\\x00s\\x00;\\x00C\\x00:\\x00\\\\\\x00U\\x00s\\x00e\\x00r\\x00s\\x00\\\\\\x00e\\x00h\\x00r\\x00m\\x00a\\x00\\\\\\x00A\\x00p\\x00p\\x00D\\x00a\\x00t\\x00a\\x00\\\\\\x00L\\x00o\\x00c\\x00a\\x00l\\x00\\\\\\x00P\\x00r\\x00o\\x00g\\x00r\\x00a\\x00m\\x00s\\x00\\\\\\x00M\\x00i\\x00c\\x00r\\x00o\\x00s\\x00o\\x00f\\x00t\\x00 \\x00V\\x00S\\x00 \\x00C\\x00o\\x00d\\x00e\\x00\\\\\\x00b\\x00i\\x00n\\x00;\\x00C\\x00:\\x00\\\\\\x00P\\x00r\\x00o\\x00g\\x00r\\x00a\\x00m\\x00 \\x00F\\x00i\\x00l\\x00e\\x00s\\x00\\\\\\x00h\\x00e\\x00r\\x00o\\x00k\\x00u\\x00\\\\\\x00b\\x00i\\x00n\\x00;\\x00C\\x00:\\x00\\\\\\x00U\\x00s\\x00e\\x00r\\x00s\\x00\\\\\\x00e\\x00h\\x00r\\x00m\\x00a\\x00\\\\\\x00A\\x00p\\x00p\\x00D\\x00a\\x00t\\x00a\\x00\\\\\\x00L\\x00o\\x00c\\x00a\\x00l\\x00\\\\\\x00M\\x00i\\x00c\\x00r\\x00o\\x00s\\x00o\\x00f\\x00t\\x00\\\\\\x00W\\x00i\\x00n\\x00d\\x00o\\x00w\\x00s\\x00A\\x00p\\x00p\\x00s\\x00;\\x00.\\x00\\r\\x00\\n\\x00'\n"
     ]
    },
    {
     "output_type": "error",
     "ename": "DistutilsPlatformError",
     "evalue": "Error executing cmd /u /c \"C:\\Program Files (x86)\\Microsoft Visual Studio\\2019\\BuildTools\\VC\\Auxiliary\\Build\\vcvarsall.bat\" x86_amd64 && set",
     "traceback": [
      "\u001b[1;31m---------------------------------------------------------------------------\u001b[0m",
      "\u001b[1;31mCalledProcessError\u001b[0m                        Traceback (most recent call last)",
      "\u001b[1;32m~\\anaconda3\\envs\\tscode\\lib\\distutils\\_msvccompiler.py\u001b[0m in \u001b[0;36m_get_vc_env\u001b[1;34m(plat_spec)\u001b[0m\n\u001b[0;32m    138\u001b[0m             \u001b[1;34m'cmd /u /c \"{}\" {} && set'\u001b[0m\u001b[1;33m.\u001b[0m\u001b[0mformat\u001b[0m\u001b[1;33m(\u001b[0m\u001b[0mvcvarsall\u001b[0m\u001b[1;33m,\u001b[0m \u001b[0mplat_spec\u001b[0m\u001b[1;33m)\u001b[0m\u001b[1;33m,\u001b[0m\u001b[1;33m\u001b[0m\u001b[1;33m\u001b[0m\u001b[0m\n\u001b[1;32m--> 139\u001b[1;33m             \u001b[0mstderr\u001b[0m\u001b[1;33m=\u001b[0m\u001b[0msubprocess\u001b[0m\u001b[1;33m.\u001b[0m\u001b[0mSTDOUT\u001b[0m\u001b[1;33m,\u001b[0m\u001b[1;33m\u001b[0m\u001b[1;33m\u001b[0m\u001b[0m\n\u001b[0m\u001b[0;32m    140\u001b[0m         ).decode('utf-16le', errors='replace')\n",
      "\u001b[1;32m~\\anaconda3\\envs\\tscode\\lib\\subprocess.py\u001b[0m in \u001b[0;36mcheck_output\u001b[1;34m(timeout, *popenargs, **kwargs)\u001b[0m\n\u001b[0;32m    355\u001b[0m     return run(*popenargs, stdout=PIPE, timeout=timeout, check=True,\n\u001b[1;32m--> 356\u001b[1;33m                **kwargs).stdout\n\u001b[0m\u001b[0;32m    357\u001b[0m \u001b[1;33m\u001b[0m\u001b[0m\n",
      "\u001b[1;32m~\\anaconda3\\envs\\tscode\\lib\\subprocess.py\u001b[0m in \u001b[0;36mrun\u001b[1;34m(input, timeout, check, *popenargs, **kwargs)\u001b[0m\n\u001b[0;32m    437\u001b[0m             raise CalledProcessError(retcode, process.args,\n\u001b[1;32m--> 438\u001b[1;33m                                      output=stdout, stderr=stderr)\n\u001b[0m\u001b[0;32m    439\u001b[0m     \u001b[1;32mreturn\u001b[0m \u001b[0mCompletedProcess\u001b[0m\u001b[1;33m(\u001b[0m\u001b[0mprocess\u001b[0m\u001b[1;33m.\u001b[0m\u001b[0margs\u001b[0m\u001b[1;33m,\u001b[0m \u001b[0mretcode\u001b[0m\u001b[1;33m,\u001b[0m \u001b[0mstdout\u001b[0m\u001b[1;33m,\u001b[0m \u001b[0mstderr\u001b[0m\u001b[1;33m)\u001b[0m\u001b[1;33m\u001b[0m\u001b[1;33m\u001b[0m\u001b[0m\n",
      "\u001b[1;31mCalledProcessError\u001b[0m: Command 'cmd /u /c \"C:\\Program Files (x86)\\Microsoft Visual Studio\\2019\\BuildTools\\VC\\Auxiliary\\Build\\vcvarsall.bat\" x86_amd64 && set' returned non-zero exit status 1.",
      "\nDuring handling of the above exception, another exception occurred:\n",
      "\u001b[1;31mDistutilsPlatformError\u001b[0m                    Traceback (most recent call last)",
      "\u001b[1;32m<ipython-input-2-c5addfc8f43d>\u001b[0m in \u001b[0;36m<module>\u001b[1;34m\u001b[0m\n\u001b[1;32m----> 1\u001b[1;33m \u001b[0mget_ipython\u001b[0m\u001b[1;33m(\u001b[0m\u001b[1;33m)\u001b[0m\u001b[1;33m.\u001b[0m\u001b[0mrun_cell_magic\u001b[0m\u001b[1;33m(\u001b[0m\u001b[1;34m'cython'\u001b[0m\u001b[1;33m,\u001b[0m \u001b[1;34m''\u001b[0m\u001b[1;33m,\u001b[0m \u001b[1;34m'\\ncpdef int s(int n):\\n    cdef int i, x = 0\\n    for i in range(n):\\n        x += i\\n    return x\\n'\u001b[0m\u001b[1;33m)\u001b[0m\u001b[1;33m\u001b[0m\u001b[1;33m\u001b[0m\u001b[0m\n\u001b[0m",
      "\u001b[1;32m~\\anaconda3\\envs\\tscode\\lib\\site-packages\\IPython\\core\\interactiveshell.py\u001b[0m in \u001b[0;36mrun_cell_magic\u001b[1;34m(self, magic_name, line, cell)\u001b[0m\n\u001b[0;32m   2369\u001b[0m             \u001b[1;32mwith\u001b[0m \u001b[0mself\u001b[0m\u001b[1;33m.\u001b[0m\u001b[0mbuiltin_trap\u001b[0m\u001b[1;33m:\u001b[0m\u001b[1;33m\u001b[0m\u001b[1;33m\u001b[0m\u001b[0m\n\u001b[0;32m   2370\u001b[0m                 \u001b[0margs\u001b[0m \u001b[1;33m=\u001b[0m \u001b[1;33m(\u001b[0m\u001b[0mmagic_arg_s\u001b[0m\u001b[1;33m,\u001b[0m \u001b[0mcell\u001b[0m\u001b[1;33m)\u001b[0m\u001b[1;33m\u001b[0m\u001b[1;33m\u001b[0m\u001b[0m\n\u001b[1;32m-> 2371\u001b[1;33m                 \u001b[0mresult\u001b[0m \u001b[1;33m=\u001b[0m \u001b[0mfn\u001b[0m\u001b[1;33m(\u001b[0m\u001b[1;33m*\u001b[0m\u001b[0margs\u001b[0m\u001b[1;33m,\u001b[0m \u001b[1;33m**\u001b[0m\u001b[0mkwargs\u001b[0m\u001b[1;33m)\u001b[0m\u001b[1;33m\u001b[0m\u001b[1;33m\u001b[0m\u001b[0m\n\u001b[0m\u001b[0;32m   2372\u001b[0m             \u001b[1;32mreturn\u001b[0m \u001b[0mresult\u001b[0m\u001b[1;33m\u001b[0m\u001b[1;33m\u001b[0m\u001b[0m\n\u001b[0;32m   2373\u001b[0m \u001b[1;33m\u001b[0m\u001b[0m\n",
      "\u001b[1;32m<decorator-gen-129>\u001b[0m in \u001b[0;36mcython\u001b[1;34m(self, line, cell)\u001b[0m\n",
      "\u001b[1;32m~\\anaconda3\\envs\\tscode\\lib\\site-packages\\IPython\\core\\magic.py\u001b[0m in \u001b[0;36m<lambda>\u001b[1;34m(f, *a, **k)\u001b[0m\n\u001b[0;32m    185\u001b[0m     \u001b[1;31m# but it's overkill for just that one bit of state.\u001b[0m\u001b[1;33m\u001b[0m\u001b[1;33m\u001b[0m\u001b[1;33m\u001b[0m\u001b[0m\n\u001b[0;32m    186\u001b[0m     \u001b[1;32mdef\u001b[0m \u001b[0mmagic_deco\u001b[0m\u001b[1;33m(\u001b[0m\u001b[0marg\u001b[0m\u001b[1;33m)\u001b[0m\u001b[1;33m:\u001b[0m\u001b[1;33m\u001b[0m\u001b[1;33m\u001b[0m\u001b[0m\n\u001b[1;32m--> 187\u001b[1;33m         \u001b[0mcall\u001b[0m \u001b[1;33m=\u001b[0m \u001b[1;32mlambda\u001b[0m \u001b[0mf\u001b[0m\u001b[1;33m,\u001b[0m \u001b[1;33m*\u001b[0m\u001b[0ma\u001b[0m\u001b[1;33m,\u001b[0m \u001b[1;33m**\u001b[0m\u001b[0mk\u001b[0m\u001b[1;33m:\u001b[0m \u001b[0mf\u001b[0m\u001b[1;33m(\u001b[0m\u001b[1;33m*\u001b[0m\u001b[0ma\u001b[0m\u001b[1;33m,\u001b[0m \u001b[1;33m**\u001b[0m\u001b[0mk\u001b[0m\u001b[1;33m)\u001b[0m\u001b[1;33m\u001b[0m\u001b[1;33m\u001b[0m\u001b[0m\n\u001b[0m\u001b[0;32m    188\u001b[0m \u001b[1;33m\u001b[0m\u001b[0m\n\u001b[0;32m    189\u001b[0m         \u001b[1;32mif\u001b[0m \u001b[0mcallable\u001b[0m\u001b[1;33m(\u001b[0m\u001b[0marg\u001b[0m\u001b[1;33m)\u001b[0m\u001b[1;33m:\u001b[0m\u001b[1;33m\u001b[0m\u001b[1;33m\u001b[0m\u001b[0m\n",
      "\u001b[1;32m~\\anaconda3\\envs\\tscode\\lib\\site-packages\\Cython\\Build\\IpythonMagic.py\u001b[0m in \u001b[0;36mcython\u001b[1;34m(self, line, cell)\u001b[0m\n\u001b[0;32m    344\u001b[0m         \u001b[1;32mtry\u001b[0m\u001b[1;33m:\u001b[0m\u001b[1;33m\u001b[0m\u001b[1;33m\u001b[0m\u001b[0m\n\u001b[0;32m    345\u001b[0m             self._build_extension(extension, lib_dir, pgo_step_name='use' if args.pgo else None,\n\u001b[1;32m--> 346\u001b[1;33m                                   quiet=args.quiet)\n\u001b[0m\u001b[0;32m    347\u001b[0m         \u001b[1;32mexcept\u001b[0m \u001b[0mdistutils\u001b[0m\u001b[1;33m.\u001b[0m\u001b[0merrors\u001b[0m\u001b[1;33m.\u001b[0m\u001b[0mCompileError\u001b[0m\u001b[1;33m:\u001b[0m\u001b[1;33m\u001b[0m\u001b[1;33m\u001b[0m\u001b[0m\n\u001b[0;32m    348\u001b[0m             \u001b[1;31m# Build failed and printed error message\u001b[0m\u001b[1;33m\u001b[0m\u001b[1;33m\u001b[0m\u001b[1;33m\u001b[0m\u001b[0m\n",
      "\u001b[1;32m~\\anaconda3\\envs\\tscode\\lib\\site-packages\\Cython\\Build\\IpythonMagic.py\u001b[0m in \u001b[0;36m_build_extension\u001b[1;34m(self, extension, lib_dir, temp_dir, pgo_step_name, quiet)\u001b[0m\n\u001b[0;32m    457\u001b[0m             \u001b[1;32mif\u001b[0m \u001b[1;32mnot\u001b[0m \u001b[0mquiet\u001b[0m\u001b[1;33m:\u001b[0m\u001b[1;33m\u001b[0m\u001b[1;33m\u001b[0m\u001b[0m\n\u001b[0;32m    458\u001b[0m                 \u001b[0mold_threshold\u001b[0m \u001b[1;33m=\u001b[0m \u001b[0mdistutils\u001b[0m\u001b[1;33m.\u001b[0m\u001b[0mlog\u001b[0m\u001b[1;33m.\u001b[0m\u001b[0mset_threshold\u001b[0m\u001b[1;33m(\u001b[0m\u001b[0mdistutils\u001b[0m\u001b[1;33m.\u001b[0m\u001b[0mlog\u001b[0m\u001b[1;33m.\u001b[0m\u001b[0mDEBUG\u001b[0m\u001b[1;33m)\u001b[0m\u001b[1;33m\u001b[0m\u001b[1;33m\u001b[0m\u001b[0m\n\u001b[1;32m--> 459\u001b[1;33m             \u001b[0mbuild_extension\u001b[0m\u001b[1;33m.\u001b[0m\u001b[0mrun\u001b[0m\u001b[1;33m(\u001b[0m\u001b[1;33m)\u001b[0m\u001b[1;33m\u001b[0m\u001b[1;33m\u001b[0m\u001b[0m\n\u001b[0m\u001b[0;32m    460\u001b[0m         \u001b[1;32mfinally\u001b[0m\u001b[1;33m:\u001b[0m\u001b[1;33m\u001b[0m\u001b[1;33m\u001b[0m\u001b[0m\n\u001b[0;32m    461\u001b[0m             \u001b[1;32mif\u001b[0m \u001b[1;32mnot\u001b[0m \u001b[0mquiet\u001b[0m \u001b[1;32mand\u001b[0m \u001b[0mold_threshold\u001b[0m \u001b[1;32mis\u001b[0m \u001b[1;32mnot\u001b[0m \u001b[1;32mNone\u001b[0m\u001b[1;33m:\u001b[0m\u001b[1;33m\u001b[0m\u001b[1;33m\u001b[0m\u001b[0m\n",
      "\u001b[1;32m~\\anaconda3\\envs\\tscode\\lib\\distutils\\command\\build_ext.py\u001b[0m in \u001b[0;36mrun\u001b[1;34m(self)\u001b[0m\n\u001b[0;32m    337\u001b[0m \u001b[1;33m\u001b[0m\u001b[0m\n\u001b[0;32m    338\u001b[0m         \u001b[1;31m# Now actually compile and link everything.\u001b[0m\u001b[1;33m\u001b[0m\u001b[1;33m\u001b[0m\u001b[1;33m\u001b[0m\u001b[0m\n\u001b[1;32m--> 339\u001b[1;33m         \u001b[0mself\u001b[0m\u001b[1;33m.\u001b[0m\u001b[0mbuild_extensions\u001b[0m\u001b[1;33m(\u001b[0m\u001b[1;33m)\u001b[0m\u001b[1;33m\u001b[0m\u001b[1;33m\u001b[0m\u001b[0m\n\u001b[0m\u001b[0;32m    340\u001b[0m \u001b[1;33m\u001b[0m\u001b[0m\n\u001b[0;32m    341\u001b[0m     \u001b[1;32mdef\u001b[0m \u001b[0mcheck_extensions_list\u001b[0m\u001b[1;33m(\u001b[0m\u001b[0mself\u001b[0m\u001b[1;33m,\u001b[0m \u001b[0mextensions\u001b[0m\u001b[1;33m)\u001b[0m\u001b[1;33m:\u001b[0m\u001b[1;33m\u001b[0m\u001b[1;33m\u001b[0m\u001b[0m\n",
      "\u001b[1;32m~\\anaconda3\\envs\\tscode\\lib\\distutils\\command\\build_ext.py\u001b[0m in \u001b[0;36mbuild_extensions\u001b[1;34m(self)\u001b[0m\n\u001b[0;32m    446\u001b[0m             \u001b[0mself\u001b[0m\u001b[1;33m.\u001b[0m\u001b[0m_build_extensions_parallel\u001b[0m\u001b[1;33m(\u001b[0m\u001b[1;33m)\u001b[0m\u001b[1;33m\u001b[0m\u001b[1;33m\u001b[0m\u001b[0m\n\u001b[0;32m    447\u001b[0m         \u001b[1;32melse\u001b[0m\u001b[1;33m:\u001b[0m\u001b[1;33m\u001b[0m\u001b[1;33m\u001b[0m\u001b[0m\n\u001b[1;32m--> 448\u001b[1;33m             \u001b[0mself\u001b[0m\u001b[1;33m.\u001b[0m\u001b[0m_build_extensions_serial\u001b[0m\u001b[1;33m(\u001b[0m\u001b[1;33m)\u001b[0m\u001b[1;33m\u001b[0m\u001b[1;33m\u001b[0m\u001b[0m\n\u001b[0m\u001b[0;32m    449\u001b[0m \u001b[1;33m\u001b[0m\u001b[0m\n\u001b[0;32m    450\u001b[0m     \u001b[1;32mdef\u001b[0m \u001b[0m_build_extensions_parallel\u001b[0m\u001b[1;33m(\u001b[0m\u001b[0mself\u001b[0m\u001b[1;33m)\u001b[0m\u001b[1;33m:\u001b[0m\u001b[1;33m\u001b[0m\u001b[1;33m\u001b[0m\u001b[0m\n",
      "\u001b[1;32m~\\anaconda3\\envs\\tscode\\lib\\distutils\\command\\build_ext.py\u001b[0m in \u001b[0;36m_build_extensions_serial\u001b[1;34m(self)\u001b[0m\n\u001b[0;32m    471\u001b[0m         \u001b[1;32mfor\u001b[0m \u001b[0mext\u001b[0m \u001b[1;32min\u001b[0m \u001b[0mself\u001b[0m\u001b[1;33m.\u001b[0m\u001b[0mextensions\u001b[0m\u001b[1;33m:\u001b[0m\u001b[1;33m\u001b[0m\u001b[1;33m\u001b[0m\u001b[0m\n\u001b[0;32m    472\u001b[0m             \u001b[1;32mwith\u001b[0m \u001b[0mself\u001b[0m\u001b[1;33m.\u001b[0m\u001b[0m_filter_build_errors\u001b[0m\u001b[1;33m(\u001b[0m\u001b[0mext\u001b[0m\u001b[1;33m)\u001b[0m\u001b[1;33m:\u001b[0m\u001b[1;33m\u001b[0m\u001b[1;33m\u001b[0m\u001b[0m\n\u001b[1;32m--> 473\u001b[1;33m                 \u001b[0mself\u001b[0m\u001b[1;33m.\u001b[0m\u001b[0mbuild_extension\u001b[0m\u001b[1;33m(\u001b[0m\u001b[0mext\u001b[0m\u001b[1;33m)\u001b[0m\u001b[1;33m\u001b[0m\u001b[1;33m\u001b[0m\u001b[0m\n\u001b[0m\u001b[0;32m    474\u001b[0m \u001b[1;33m\u001b[0m\u001b[0m\n\u001b[0;32m    475\u001b[0m     \u001b[1;33m@\u001b[0m\u001b[0mcontextlib\u001b[0m\u001b[1;33m.\u001b[0m\u001b[0mcontextmanager\u001b[0m\u001b[1;33m\u001b[0m\u001b[1;33m\u001b[0m\u001b[0m\n",
      "\u001b[1;32m~\\anaconda3\\envs\\tscode\\lib\\distutils\\command\\build_ext.py\u001b[0m in \u001b[0;36mbuild_extension\u001b[1;34m(self, ext)\u001b[0m\n\u001b[0;32m    531\u001b[0m                                          \u001b[0mdebug\u001b[0m\u001b[1;33m=\u001b[0m\u001b[0mself\u001b[0m\u001b[1;33m.\u001b[0m\u001b[0mdebug\u001b[0m\u001b[1;33m,\u001b[0m\u001b[1;33m\u001b[0m\u001b[1;33m\u001b[0m\u001b[0m\n\u001b[0;32m    532\u001b[0m                                          \u001b[0mextra_postargs\u001b[0m\u001b[1;33m=\u001b[0m\u001b[0mextra_args\u001b[0m\u001b[1;33m,\u001b[0m\u001b[1;33m\u001b[0m\u001b[1;33m\u001b[0m\u001b[0m\n\u001b[1;32m--> 533\u001b[1;33m                                          depends=ext.depends)\n\u001b[0m\u001b[0;32m    534\u001b[0m \u001b[1;33m\u001b[0m\u001b[0m\n\u001b[0;32m    535\u001b[0m         \u001b[1;31m# XXX outdated variable, kept here in case third-part code\u001b[0m\u001b[1;33m\u001b[0m\u001b[1;33m\u001b[0m\u001b[1;33m\u001b[0m\u001b[0m\n",
      "\u001b[1;32m~\\anaconda3\\envs\\tscode\\lib\\distutils\\_msvccompiler.py\u001b[0m in \u001b[0;36mcompile\u001b[1;34m(self, sources, output_dir, macros, include_dirs, debug, extra_preargs, extra_postargs, depends)\u001b[0m\n\u001b[0;32m    343\u001b[0m \u001b[1;33m\u001b[0m\u001b[0m\n\u001b[0;32m    344\u001b[0m         \u001b[1;32mif\u001b[0m \u001b[1;32mnot\u001b[0m \u001b[0mself\u001b[0m\u001b[1;33m.\u001b[0m\u001b[0minitialized\u001b[0m\u001b[1;33m:\u001b[0m\u001b[1;33m\u001b[0m\u001b[1;33m\u001b[0m\u001b[0m\n\u001b[1;32m--> 345\u001b[1;33m             \u001b[0mself\u001b[0m\u001b[1;33m.\u001b[0m\u001b[0minitialize\u001b[0m\u001b[1;33m(\u001b[0m\u001b[1;33m)\u001b[0m\u001b[1;33m\u001b[0m\u001b[1;33m\u001b[0m\u001b[0m\n\u001b[0m\u001b[0;32m    346\u001b[0m         compile_info = self._setup_compile(output_dir, macros, include_dirs,\n\u001b[0;32m    347\u001b[0m                                            sources, depends, extra_postargs)\n",
      "\u001b[1;32m~\\anaconda3\\envs\\tscode\\lib\\distutils\\_msvccompiler.py\u001b[0m in \u001b[0;36minitialize\u001b[1;34m(self, plat_name)\u001b[0m\n\u001b[0;32m    236\u001b[0m         \u001b[0mplat_spec\u001b[0m \u001b[1;33m=\u001b[0m \u001b[0mPLAT_TO_VCVARS\u001b[0m\u001b[1;33m[\u001b[0m\u001b[0mplat_name\u001b[0m\u001b[1;33m]\u001b[0m\u001b[1;33m\u001b[0m\u001b[1;33m\u001b[0m\u001b[0m\n\u001b[0;32m    237\u001b[0m \u001b[1;33m\u001b[0m\u001b[0m\n\u001b[1;32m--> 238\u001b[1;33m         \u001b[0mvc_env\u001b[0m \u001b[1;33m=\u001b[0m \u001b[0m_get_vc_env\u001b[0m\u001b[1;33m(\u001b[0m\u001b[0mplat_spec\u001b[0m\u001b[1;33m)\u001b[0m\u001b[1;33m\u001b[0m\u001b[1;33m\u001b[0m\u001b[0m\n\u001b[0m\u001b[0;32m    239\u001b[0m         \u001b[1;32mif\u001b[0m \u001b[1;32mnot\u001b[0m \u001b[0mvc_env\u001b[0m\u001b[1;33m:\u001b[0m\u001b[1;33m\u001b[0m\u001b[1;33m\u001b[0m\u001b[0m\n\u001b[0;32m    240\u001b[0m             raise DistutilsPlatformError(\"Unable to find a compatible \"\n",
      "\u001b[1;32m~\\anaconda3\\envs\\tscode\\lib\\distutils\\_msvccompiler.py\u001b[0m in \u001b[0;36m_get_vc_env\u001b[1;34m(plat_spec)\u001b[0m\n\u001b[0;32m    142\u001b[0m         \u001b[0mlog\u001b[0m\u001b[1;33m.\u001b[0m\u001b[0merror\u001b[0m\u001b[1;33m(\u001b[0m\u001b[0mexc\u001b[0m\u001b[1;33m.\u001b[0m\u001b[0moutput\u001b[0m\u001b[1;33m)\u001b[0m\u001b[1;33m\u001b[0m\u001b[1;33m\u001b[0m\u001b[0m\n\u001b[0;32m    143\u001b[0m         raise DistutilsPlatformError(\"Error executing {}\"\n\u001b[1;32m--> 144\u001b[1;33m                 .format(exc.cmd))\n\u001b[0m\u001b[0;32m    145\u001b[0m \u001b[1;33m\u001b[0m\u001b[0m\n\u001b[0;32m    146\u001b[0m     env = {\n",
      "\u001b[1;31mDistutilsPlatformError\u001b[0m: Error executing cmd /u /c \"C:\\Program Files (x86)\\Microsoft Visual Studio\\2019\\BuildTools\\VC\\Auxiliary\\Build\\vcvarsall.bat\" x86_amd64 && set"
     ]
    }
   ],
   "source": [
    "%%cython\n",
    "\n",
    "cpdef int s(int n):\n",
    "    cdef int i, x = 0\n",
    "    for i in range(n):\n",
    "        x += i\n",
    "    return x"
   ]
  },
  {
   "cell_type": "code",
   "execution_count": 39,
   "metadata": {},
   "outputs": [],
   "source": [
    "rejects = []\n",
    "def flatten(seq):\n",
    "    for s in seq:\n",
    "        if type(s) in (tuple, list, set):\n",
    "            flatten(s)\n",
    "        else:\n",
    "            rejects.append(s)\n",
    "\n",
    "def scramble(array, sequence):\n",
    "    return np.array([array[s] for s in sequence])\n",
    "\n",
    "\n",
    "def prune_conformers(structures, atomnos, k = 1, max_rmsd = 1):\n",
    "\n",
    "    if k != 1:\n",
    "\n",
    "        r = np.arange(structures.shape[0])\n",
    "        sequence = np.random.permutation(r)\n",
    "        inv_sequence = np.array([np.where(sequence == i)[0][0] for i in r], dtype=int)\n",
    "\n",
    "        structures = scramble(structures, sequence)\n",
    "        # energies = scramble_mask(energies, sequence)\n",
    "        # scrambling array before splitting, so to improve efficiency when doing\n",
    "        # multiple runs of group pruning\n",
    "\n",
    "    mask_out = []\n",
    "    d = len(structures) // k\n",
    "\n",
    "    for step in range(k):\n",
    "        if step == k-1:\n",
    "            structures_subset = structures[d*step:]\n",
    "            # energies_subset = energies[d*step:]\n",
    "        else:\n",
    "            structures_subset = structures[d*step:d*(step+1)]\n",
    "            # energies_subset = energies[d*step:d*(step+1)]\n",
    "\n",
    "        rmsd_mat = np.zeros((len(structures_subset), len(structures_subset)))\n",
    "        rmsd_mat[:] = np.nan\n",
    "        for i, tgt in enumerate(structures_subset):\n",
    "            for j, ref in enumerate(structures_subset[i+1:]):\n",
    "                val = rmsd(tgt, ref, atomnos, atomnos, center=True, minimize=True)\n",
    "                rmsd_mat[i, i+j+1] = val\n",
    "                if val < max_rmsd:\n",
    "                    break\n",
    "\n",
    "\n",
    "        where = np.where(rmsd_mat < max_rmsd)\n",
    "        matches = [(i,j) for i,j in zip(where[0], where[1])]\n",
    "\n",
    "        g = nx.Graph(matches)\n",
    "\n",
    "        subgraphs = [g.subgraph(c) for c in nx.connected_components(g)]\n",
    "        groups = [tuple(graph.nodes) for graph in subgraphs]\n",
    "\n",
    "        best_of_cluster = [group[0] for group in groups]\n",
    "        # re-do with energies\n",
    "\n",
    "        rejects_sets = [set(a) - {b} for a, b in zip(groups, best_of_cluster)]\n",
    "\n",
    "        flatten(rejects_sets)\n",
    "\n",
    "        mask = np.array([True for _ in range(len(structures_subset))], dtype=bool)\n",
    "        for i in rejects:\n",
    "            mask[i] = False\n",
    "\n",
    "        mask_out.append(mask)\n",
    "    \n",
    "    mask = np.concatenate(mask_out)\n",
    "\n",
    "    if k != 1:\n",
    "        mask = scramble(mask, inv_sequence)\n",
    "        structures = scramble(structures, inv_sequence)\n",
    "        # undoing the previous shuffling, therefore preserving the input order\n",
    "\n",
    "    return structures[mask], mask"
   ]
  },
  {
   "cell_type": "code",
   "execution_count": 2,
   "metadata": {},
   "outputs": [
    {
     "output_type": "execute_result",
     "data": {
      "text/plain": [
       "(200, 19, 3)"
      ]
     },
     "metadata": {},
     "execution_count": 2
    }
   ],
   "source": [
    "from cclib.io import ccread\n",
    "import os\n",
    "import numpy as np\n",
    "from spyrmsd.rmsd import rmsd\n",
    "import networkx as nx\n",
    "\n",
    "# from prune import prune_conformers as p\n",
    "# from prune import prune_conformers_v2 as p2\n",
    "%load_ext cython\n",
    "os.chdir('Resources/SN2')\n",
    "mol = ccread('TS_out_test.xyz')\n",
    "stack = np.vstack([mol.atomcoords for _ in range(50)])\n",
    "stack.shape"
   ]
  },
  {
   "cell_type": "code",
   "execution_count": 2,
   "metadata": {},
   "outputs": [
    {
     "output_type": "error",
     "ename": "NameError",
     "evalue": "name 'mol' is not defined",
     "traceback": [
      "\u001b[1;31m---------------------------------------------------------------------------\u001b[0m",
      "\u001b[1;31mNameError\u001b[0m                                 Traceback (most recent call last)",
      "\u001b[1;32m<ipython-input-2-8e9b0cd219e6>\u001b[0m in \u001b[0;36m<module>\u001b[1;34m\u001b[0m\n\u001b[0;32m      1\u001b[0m \u001b[1;32mfrom\u001b[0m \u001b[0mase\u001b[0m \u001b[1;32mimport\u001b[0m \u001b[0mAtoms\u001b[0m\u001b[1;33m\u001b[0m\u001b[1;33m\u001b[0m\u001b[0m\n\u001b[0;32m      2\u001b[0m \u001b[1;32mfrom\u001b[0m \u001b[0mase\u001b[0m\u001b[1;33m.\u001b[0m\u001b[0mvisualize\u001b[0m \u001b[1;32mimport\u001b[0m \u001b[0mview\u001b[0m\u001b[1;33m\u001b[0m\u001b[1;33m\u001b[0m\u001b[0m\n\u001b[1;32m----> 3\u001b[1;33m \u001b[0mview\u001b[0m\u001b[1;33m(\u001b[0m\u001b[0mAtoms\u001b[0m\u001b[1;33m(\u001b[0m\u001b[0mmol\u001b[0m\u001b[1;33m.\u001b[0m\u001b[0matomnos\u001b[0m\u001b[1;33m,\u001b[0m \u001b[0mpositions\u001b[0m\u001b[1;33m=\u001b[0m\u001b[0mmol\u001b[0m\u001b[1;33m.\u001b[0m\u001b[0matomcoords\u001b[0m\u001b[1;33m[\u001b[0m\u001b[1;36m0\u001b[0m\u001b[1;33m]\u001b[0m\u001b[1;33m)\u001b[0m\u001b[1;33m)\u001b[0m\u001b[1;33m\u001b[0m\u001b[1;33m\u001b[0m\u001b[0m\n\u001b[0m",
      "\u001b[1;31mNameError\u001b[0m: name 'mol' is not defined"
     ]
    }
   ],
   "source": [
    "from ase import Atoms\n",
    "from ase.visualize import view\n",
    "view(Atoms(mol.atomnos, positions=mol.atomcoords[0]))"
   ]
  },
  {
   "cell_type": "code",
   "execution_count": 46,
   "metadata": {
    "tags": []
   },
   "outputs": [
    {
     "output_type": "stream",
     "name": "stderr",
     "text": [
      "warning: C:\\Users\\Nik\\.ipython\\cython\\_cython_magic_914a8b223fa87075565a1d84555b95fa01a5bc9f.pyx:24:48: Buffer unpacking not optimized away.\nwarning: C:\\Users\\Nik\\.ipython\\cython\\_cython_magic_914a8b223fa87075565a1d84555b95fa01a5bc9f.pyx:24:48: Buffer unpacking not optimized away.\nwarning: C:\\Users\\Nik\\.ipython\\cython\\_cython_magic_914a8b223fa87075565a1d84555b95fa01a5bc9f.pyx:29:60: Buffer unpacking not optimized away.\nwarning: C:\\Users\\Nik\\.ipython\\cython\\_cython_magic_914a8b223fa87075565a1d84555b95fa01a5bc9f.pyx:29:60: Buffer unpacking not optimized away.\nwarning: C:\\Users\\Nik\\.ipython\\cython\\_cython_magic_914a8b223fa87075565a1d84555b95fa01a5bc9f.pyx:30:60: Buffer unpacking not optimized away.\nwarning: C:\\Users\\Nik\\.ipython\\cython\\_cython_magic_914a8b223fa87075565a1d84555b95fa01a5bc9f.pyx:30:60: Buffer unpacking not optimized away.\nwarning: C:\\Users\\Nik\\.ipython\\cython\\_cython_magic_914a8b223fa87075565a1d84555b95fa01a5bc9f.pyx:130:26: Buffer unpacking not optimized away.\nwarning: C:\\Users\\Nik\\.ipython\\cython\\_cython_magic_914a8b223fa87075565a1d84555b95fa01a5bc9f.pyx:130:26: Buffer unpacking not optimized away.\nwarning: C:\\Users\\Nik\\.ipython\\cython\\_cython_magic_914a8b223fa87075565a1d84555b95fa01a5bc9f.pyx:130:73: Buffer unpacking not optimized away.\nwarning: C:\\Users\\Nik\\.ipython\\cython\\_cython_magic_914a8b223fa87075565a1d84555b95fa01a5bc9f.pyx:130:73: Buffer unpacking not optimized away.\nwarning: C:\\Users\\Nik\\.ipython\\cython\\_cython_magic_914a8b223fa87075565a1d84555b95fa01a5bc9f.pyx:162:31: Buffer unpacking not optimized away.\nwarning: C:\\Users\\Nik\\.ipython\\cython\\_cython_magic_914a8b223fa87075565a1d84555b95fa01a5bc9f.pyx:162:31: Buffer unpacking not optimized away.\nwarning: C:\\Users\\Nik\\.ipython\\cython\\_cython_magic_914a8b223fa87075565a1d84555b95fa01a5bc9f.pyx:162:72: Buffer unpacking not optimized away.\nwarning: C:\\Users\\Nik\\.ipython\\cython\\_cython_magic_914a8b223fa87075565a1d84555b95fa01a5bc9f.pyx:162:72: Buffer unpacking not optimized away.\nwarning: C:\\Users\\Nik\\.ipython\\cython\\_cython_magic_914a8b223fa87075565a1d84555b95fa01a5bc9f.pyx:172:29: Buffer unpacking not optimized away.\nwarning: C:\\Users\\Nik\\.ipython\\cython\\_cython_magic_914a8b223fa87075565a1d84555b95fa01a5bc9f.pyx:172:29: Buffer unpacking not optimized away.\nwarning: C:\\Users\\Nik\\.ipython\\cython\\_cython_magic_914a8b223fa87075565a1d84555b95fa01a5bc9f.pyx:172:70: Buffer unpacking not optimized away.\nwarning: C:\\Users\\Nik\\.ipython\\cython\\_cython_magic_914a8b223fa87075565a1d84555b95fa01a5bc9f.pyx:172:70: Buffer unpacking not optimized away.\nwarning: C:\\Users\\Nik\\.ipython\\cython\\_cython_magic_914a8b223fa87075565a1d84555b95fa01a5bc9f.pyx:177:29: Buffer unpacking not optimized away.\nwarning: C:\\Users\\Nik\\.ipython\\cython\\_cython_magic_914a8b223fa87075565a1d84555b95fa01a5bc9f.pyx:177:29: Buffer unpacking not optimized away.\nwarning: C:\\Users\\Nik\\.ipython\\cython\\_cython_magic_914a8b223fa87075565a1d84555b95fa01a5bc9f.pyx:212:35: Buffer unpacking not optimized away.\nwarning: C:\\Users\\Nik\\.ipython\\cython\\_cython_magic_914a8b223fa87075565a1d84555b95fa01a5bc9f.pyx:212:35: Buffer unpacking not optimized away.\n"
     ]
    }
   ],
   "source": [
    "%%cython --compile=-fopenmp --link-args=-fopenmp\n",
    "import numpy as np\n",
    "cimport numpy as np\n",
    "import networkx as nx\n",
    "cimport cython\n",
    "\n",
    "from libc.stdio cimport stdout, fprintf\n",
    "import sys\n",
    "from time import time\n",
    "# sys.stdout.flush()\n",
    "\n",
    "\n",
    "DTYPE = np.float\n",
    "ctypedef np.float_t DTYPE_t\n",
    "\n",
    "\n",
    "# cdef int en(tup, energies):\n",
    "#     ens = [energies[t] for t in tup]\n",
    "#     return tup[ens.index(min(ens))]\n",
    "        \n",
    "\n",
    "@cython.boundscheck(False) # turn off bounds-checking for entire function\n",
    "@cython.wraparound(False)  # turn off negative index wrapping for entire function\n",
    "cdef inline np.ndarray[np.int_t, ndim=3, mode='c'] scramble_mask(np.ndarray array,\n",
    "                                                np.ndarray[np.int_t, ndim=1, mode='c'] sequence):\n",
    "    return np.array([array[s] for s in sequence])\n",
    "\n",
    "@cython.boundscheck(False) # turn off bounds-checking for entire function\n",
    "@cython.wraparound(False)  # turn off negative index wrapping for entire function\n",
    "cdef inline np.ndarray[np.int_t, ndim=3, mode='c'] scramble(np.ndarray[DTYPE_t, ndim=3, mode='c'] array,\n",
    "                                                            np.ndarray[np.int_t, ndim=1, mode='c'] sequence):\n",
    "    return np.array([array[s] for s in sequence])\n",
    "\n",
    "@cython.boundscheck(False) # turn off bounds-checking for entire function\n",
    "@cython.wraparound(False)  # turn off negative index wrapping for entire function\n",
    "cpdef np.ndarray[np.int_t, ndim=1, mode='c'] prune_conformers_v2(np.ndarray[DTYPE_t, ndim=3, mode='c'] structures,\n",
    "                                                                 np.ndarray[np.int_t, ndim=1, mode='c'] atomnos,\n",
    "                                                                 int k = 1,\n",
    "                                                                 double max_rmsd = 1.):\n",
    "\n",
    "    cdef np.ndarray[np.int_t, ndim=1, mode='c'] r, sequence, inv_sequence, mask\n",
    "\n",
    "    if k != 1:\n",
    "\n",
    "        r = np.arange(structures.shape[0])\n",
    "        sequence = np.random.permutation(r)\n",
    "        inv_sequence = np.array([np.where(sequence == i)[0][0] for i in r], dtype=int)\n",
    "\n",
    "        structures = scramble(structures, sequence)\n",
    "        # energies = scramble_mask(energies, sequence)\n",
    "        # scrambling array before splitting, so to improve efficiency when doing\n",
    "        # multiple runs of group pruning\n",
    "\n",
    "    cdef list mask_out = []\n",
    "    cdef unsigned int step, d = len(structures) // k\n",
    "    cdef unsigned int l\n",
    "    cdef unsigned int i, j\n",
    "    cdef np.ndarray[DTYPE_t, ndim=2, mode='c'] rmsd_mat\n",
    "    cdef double[:,:] rmsd_mat_view\n",
    "    cdef int[:] energies_subset\n",
    "    cdef np.ndarray[DTYPE_t, ndim=3, mode='c'] structures_subset\n",
    "    cdef tuple where\n",
    "    cdef list matches, subgraphs, groups, best_of_cluster, rejects_sets, rejects\n",
    "    cdef object g\n",
    "    cdef double val\n",
    "\n",
    "    for step in range(k):\n",
    "        if step == k-1:\n",
    "            structures_subset = structures[d*step:]\n",
    "            # energies_subset = energies[d*step:]\n",
    "        else:\n",
    "            structures_subset = structures[d*step:d*(step+1)]\n",
    "            # energies_subset = energies[d*step:d*(step+1)]\n",
    "\n",
    "        l = structures_subset.shape[0]\n",
    "        rmsd_mat = np.zeros((l, l))\n",
    "        rmsd_mat[:] = max_rmsd\n",
    "        rmsd_mat_view = rmsd_mat\n",
    "\n",
    "        # t0 = time()\n",
    "\n",
    "        for i in range(l):\n",
    "            for j in range(i+1,l):\n",
    "                val = rmsd_c(structures_subset[i], structures_subset[j])\n",
    "                rmsd_mat_view[i, j] = val\n",
    "                if val < max_rmsd:\n",
    "                    break\n",
    "\n",
    "\n",
    "        # t1 = time()\n",
    "\n",
    "        where = np.where(rmsd_mat < max_rmsd)\n",
    "        matches = [(i,j) for i,j in zip(where[0], where[1])]\n",
    "\n",
    "        g = nx.Graph(matches)\n",
    "\n",
    "        subgraphs = [g.subgraph(c) for c in nx.connected_components(g)]\n",
    "        groups = [tuple(graph.nodes) for graph in subgraphs]\n",
    "\n",
    "        best_of_cluster = [group[0] for group in groups]\n",
    "        # re-do with energies?\n",
    "\n",
    "        rejects_sets = [set(a) - {b} for a, b in zip(groups, best_of_cluster)]\n",
    "        rejects = []\n",
    "        for s in rejects_sets:\n",
    "            for i in s:\n",
    "                rejects.append(i)\n",
    "\n",
    "        mask = np.array([1 for _ in range(len(structures_subset))], dtype=int)\n",
    "        for i in rejects:\n",
    "            mask[i] = 0\n",
    "\n",
    "        mask_out.append(mask)\n",
    "    \n",
    "    mask = np.concatenate(mask_out)\n",
    "\n",
    "    if k != 1:\n",
    "        mask = scramble_mask(mask, inv_sequence)\n",
    "        structures = scramble(structures, inv_sequence)\n",
    "        # undoing the previous shuffling, therefore preserving the input order\n",
    "\n",
    "    # t2 = time()\n",
    "    # print(f'First step: {round(t1-t0, 2)} s\\nSecond step: {round(t2-t1, 2)} s')\n",
    "    # sys.stdout.flush()\n",
    "\n",
    "    return mask\n",
    "\n",
    "\n",
    "@cython.boundscheck(False) # turn off bounds-checking for entire function\n",
    "@cython.wraparound(False)  # turn off negative index wrapping for entire function\n",
    "cdef inline double rmsd_c(np.ndarray[DTYPE_t, ndim=2, mode='c'] coords1, np.ndarray[DTYPE_t, ndim=2, mode='c'] coords2):\n",
    "\n",
    "    cdef float atol = 1e-9\n",
    "    cdef double c0, c1, c2\n",
    "    cdef np.ndarray[DTYPE_t, ndim=2, mode='c'] A = coords1 - np.mean(coords1, axis=0)\n",
    "    cdef np.ndarray[DTYPE_t, ndim=2, mode='c'] B = coords2 - np.mean(coords2, axis=0)\n",
    "\n",
    "\n",
    "    cdef int N = A.shape[0]\n",
    "\n",
    "    cdef double Ga = np.trace(A.T @ A)\n",
    "    cdef double Gb = np.trace(B.T @ B)\n",
    "\n",
    "    cdef np.ndarray[DTYPE_t, ndim=2, mode='c'] M = M_mtx(A, B)\n",
    "    cdef np.ndarray[DTYPE_t, ndim=2, mode='c'] K = K_mtx(M)\n",
    "\n",
    "    c2, c1, c0 = coefficients(M, K)\n",
    "\n",
    "    cdef double l_max = _lambda_max_eig(K)\n",
    "\n",
    "    cdef double s = Ga + Gb - 2 * l_max\n",
    "    cdef double rmsd\n",
    "\n",
    "    if abs(s) < atol:  # Avoid numerical errors when Ga + Gb = 2 * l_max\n",
    "        rmsd = 0.0\n",
    "    else:\n",
    "        rmsd = np.sqrt(s / N)\n",
    "\n",
    "    return rmsd\n",
    "\n",
    "@cython.boundscheck(False) # turn off bounds-checking for entire function\n",
    "@cython.wraparound(False)  # turn off negative index wrapping for entire function\n",
    "cdef inline tuple coefficients(np.ndarray[DTYPE_t, ndim=2, mode='c'] M, np.ndarray[DTYPE_t, ndim=2, mode='c'] K):\n",
    "\n",
    "    cdef double c2 = -2 * np.trace(M.T @ M)\n",
    "    cdef double c1 = -8 * np.linalg.det(M)\n",
    "    cdef double c0 = np.linalg.det(K)\n",
    "\n",
    "    return c2, c1, c0\n",
    "\n",
    "@cython.boundscheck(False) # turn off bounds-checking for entire function\n",
    "@cython.wraparound(False)  # turn off negative index wrapping for entire function\n",
    "cdef inline np.ndarray M_mtx(np.ndarray[DTYPE_t, ndim=2, mode='c'] A, np.ndarray[DTYPE_t, ndim=2, mode='c'] B):\n",
    "    return B.T @ A\n",
    "\n",
    "@cython.boundscheck(False) # turn off bounds-checking for entire function\n",
    "@cython.wraparound(False)  # turn off negative index wrapping for entire function\n",
    "cdef inline np.ndarray K_mtx(np.ndarray[DTYPE_t, ndim=2, mode='c'] M):\n",
    "\n",
    "    S_xx = M[0, 0]\n",
    "    S_xy = M[0, 1]\n",
    "    S_xz = M[0, 2]\n",
    "    S_yx = M[1, 0]\n",
    "    S_yy = M[1, 1]\n",
    "    S_yz = M[1, 2]\n",
    "    S_zx = M[2, 0]\n",
    "    S_zy = M[2, 1]\n",
    "    S_zz = M[2, 2]\n",
    "\n",
    "    # p = plus, m = minus\n",
    "    S_xx_yy_zz_ppp = S_xx + S_yy + S_zz\n",
    "    S_yz_zy_pm = S_yz - S_zy\n",
    "    S_zx_xz_pm = S_zx - S_xz\n",
    "    S_xy_yx_pm = S_xy - S_yx\n",
    "    S_xx_yy_zz_pmm = S_xx - S_yy - S_zz\n",
    "    S_xy_yx_pp = S_xy + S_yx\n",
    "    S_zx_xz_pp = S_zx + S_xz\n",
    "    S_xx_yy_zz_mpm = -S_xx + S_yy - S_zz\n",
    "    S_yz_zy_pp = S_yz + S_zy\n",
    "    S_xx_yy_zz_mmp = -S_xx - S_yy + S_zz\n",
    "\n",
    "    return np.array(\n",
    "        [\n",
    "            [S_xx_yy_zz_ppp, S_yz_zy_pm, S_zx_xz_pm, S_xy_yx_pm],\n",
    "            [S_yz_zy_pm, S_xx_yy_zz_pmm, S_xy_yx_pp, S_zx_xz_pp],\n",
    "            [S_zx_xz_pm, S_xy_yx_pp, S_xx_yy_zz_mpm, S_yz_zy_pp],\n",
    "            [S_xy_yx_pm, S_zx_xz_pp, S_yz_zy_pp, S_xx_yy_zz_mmp],\n",
    "        ]\n",
    "    )\n",
    "\n",
    "@cython.boundscheck(False) # turn off bounds-checking for entire function\n",
    "@cython.wraparound(False)  # turn off negative index wrapping for entire function\n",
    "cdef inline double _lambda_max_eig(np.ndarray[DTYPE_t, ndim=2, mode='c'] K):\n",
    "    return np.max(np.linalg.eig(K)[0])\n"
   ]
  },
  {
   "cell_type": "code",
   "execution_count": 50,
   "metadata": {},
   "outputs": [
    {
     "output_type": "stream",
     "name": "stdout",
     "text": [
      "4 structures kept\n"
     ]
    },
    {
     "output_type": "execute_result",
     "data": {
      "text/plain": [
       "array([1, 1, 1, 1, 0, 0, 0, 0, 0, 0, 0, 0, 0, 0, 0, 0, 0, 0, 0, 0, 0, 0,\n",
       "       0, 0, 0, 0, 0, 0, 0, 0, 0, 0, 0, 0, 0, 0, 0, 0, 0, 0, 0, 0, 0, 0,\n",
       "       0, 0, 0, 0, 0, 0, 0, 0, 0, 0, 0, 0, 0, 0, 0, 0, 0, 0, 0, 0, 0, 0,\n",
       "       0, 0, 0, 0, 0, 0, 0, 0, 0, 0, 0, 0, 0, 0, 0, 0, 0, 0, 0, 0, 0, 0,\n",
       "       0, 0, 0, 0, 0, 0, 0, 0, 0, 0, 0, 0, 0, 0, 0, 0, 0, 0, 0, 0, 0, 0,\n",
       "       0, 0, 0, 0, 0, 0, 0, 0, 0, 0, 0, 0, 0, 0, 0, 0, 0, 0, 0, 0, 0, 0,\n",
       "       0, 0, 0, 0, 0, 0, 0, 0, 0, 0, 0, 0, 0, 0, 0, 0, 0, 0, 0, 0, 0, 0,\n",
       "       0, 0, 0, 0, 0, 0, 0, 0, 0, 0, 0, 0, 0, 0, 0, 0, 0, 0, 0, 0, 0, 0,\n",
       "       0, 0, 0, 0, 0, 0, 0, 0, 0, 0, 0, 0, 0, 0, 0, 0, 0, 0, 0, 0, 0, 0,\n",
       "       0, 0])"
      ]
     },
     "metadata": {},
     "execution_count": 50
    }
   ],
   "source": [
    "mask = prune_conformers_v2(stack, mol.atomnos)\n",
    "print(f'{len([i for i in mask if i==1])} structures kept')\n",
    "mask"
   ]
  },
  {
   "cell_type": "code",
   "execution_count": 49,
   "metadata": {},
   "outputs": [
    {
     "output_type": "stream",
     "name": "stdout",
     "text": [
      "4 structures kept\n"
     ]
    },
    {
     "output_type": "execute_result",
     "data": {
      "text/plain": [
       "array([ True,  True,  True,  True, False, False, False, False, False,\n",
       "       False, False, False, False, False, False, False, False, False,\n",
       "       False, False, False, False, False, False, False, False, False,\n",
       "       False, False, False, False, False, False, False, False, False,\n",
       "       False, False, False, False, False, False, False, False, False,\n",
       "       False, False, False, False, False, False, False, False, False,\n",
       "       False, False, False, False, False, False, False, False, False,\n",
       "       False, False, False, False, False, False, False, False, False,\n",
       "       False, False, False, False, False, False, False, False, False,\n",
       "       False, False, False, False, False, False, False, False, False,\n",
       "       False, False, False, False, False, False, False, False, False,\n",
       "       False, False, False, False, False, False, False, False, False,\n",
       "       False, False, False, False, False, False, False, False, False,\n",
       "       False, False, False, False, False, False, False, False, False,\n",
       "       False, False, False, False, False, False, False, False, False,\n",
       "       False, False, False, False, False, False, False, False, False,\n",
       "       False, False, False, False, False, False, False, False, False,\n",
       "       False, False, False, False, False, False, False, False, False,\n",
       "       False, False, False, False, False, False, False, False, False,\n",
       "       False, False, False, False, False, False, False, False, False,\n",
       "       False, False, False, False, False, False, False, False, False,\n",
       "       False, False, False, False, False, False, False, False, False,\n",
       "       False, False])"
      ]
     },
     "metadata": {},
     "execution_count": 49
    }
   ],
   "source": [
    "_, mask = prune_conformers(stack, mol.atomnos)\n",
    "print(f'{len([i for i in mask if i==1])} structures kept')\n",
    "mask"
   ]
  },
  {
   "cell_type": "code",
   "execution_count": 47,
   "metadata": {},
   "outputs": [
    {
     "output_type": "stream",
     "name": "stdout",
     "text": [
      "138 ms ± 5.41 ms per loop (mean ± std. dev. of 7 runs, 10 loops each)\n",
      "CYTHON\n",
      "\n",
      "338 ms ± 10.4 ms per loop (mean ± std. dev. of 7 runs, 1 loop each)\n",
      "PYTHON\n"
     ]
    }
   ],
   "source": [
    "%timeit prune_conformers_v2(stack, mol.atomnos, k=1)\n",
    "print('CYTHON\\n')\n",
    "%timeit prune_conformers(stack, mol.atomnos, k=1)\n",
    "print('PYTHON')\n"
   ]
  },
  {
   "cell_type": "code",
   "execution_count": 48,
   "metadata": {},
   "outputs": [
    {
     "output_type": "execute_result",
     "data": {
      "text/plain": [
       "2.449275362318841"
      ]
     },
     "metadata": {},
     "execution_count": 48
    }
   ],
   "source": [
    "(138/338)**-1"
   ]
  },
  {
   "cell_type": "code",
   "execution_count": 25,
   "metadata": {},
   "outputs": [],
   "source": [
    "%%cython \n",
    "import numpy as np\n",
    "cimport numpy as np\n",
    "@cython.boundscheck(False) # turn off bounds-checking for entire function\n",
    "@cython.wraparound(False)  # turn off negative index wrapping for entire function\n",
    "cpdef test(np.ndarray[double, ndim=3, mode='c'] structures_subset):\n",
    "    cdef unsigned int l = structures_subset.shape[0]\n",
    "    cdef double[:,:,:] str_ptr = structures_subset\n",
    "    cdef np.ndarray rmsd_mat = np.zeros((l,l), dtype=float)\n",
    "    rmsd_mat[:] = 5\n",
    "    cdef double[:,:] rmsd_mat_view = rmsd_mat\n",
    "    cdef int i, j\n",
    "    for i in range(l):\n",
    "        for j in range(len(structures_subset[i+1:])):\n",
    "            rmsd_mat_view[i, i+j+1] = np.sum(np.stack((structures_subset[i], structures_subset[j])))\n",
    "    return rmsd_mat"
   ]
  },
  {
   "cell_type": "code",
   "execution_count": 17,
   "metadata": {},
   "outputs": [
    {
     "output_type": "stream",
     "name": "stdout",
     "text": [
      "1.19 s ± 22 ms per loop (mean ± std. dev. of 7 runs, 1 loop each)\n"
     ]
    }
   ],
   "source": [
    "# %timeit -r 10 prune_conformers_v2(stack, mol.atomnos, k=1)\n",
    "# %timeit -r 1 get_rmsd_mat(stack)\n",
    "%timeit test(stack)\n",
    "# test(stack)[0,2]"
   ]
  },
  {
   "cell_type": "code",
   "execution_count": 6,
   "metadata": {},
   "outputs": [],
   "source": [
    "import numpy as np\n",
    "def ptest(structures_subset):\n",
    "    rmsd_mat = np.zeros((len(structures_subset), len(structures_subset)))\n",
    "    rmsd_mat[:] = 5\n",
    "    for i in range(len(structures_subset)):\n",
    "        for j in range(len(structures_subset[i+1:])):\n",
    "            rmsd_mat[i, i+j+1] = np.sum(np.stack((structures_subset[i], structures_subset[j])))\n",
    "    return rmsd_mat"
   ]
  },
  {
   "cell_type": "code",
   "execution_count": 7,
   "metadata": {},
   "outputs": [
    {
     "output_type": "stream",
     "name": "stdout",
     "text": [
      "1.31 s ± 47.1 ms per loop (mean ± std. dev. of 7 runs, 1 loop each)\n"
     ]
    }
   ],
   "source": [
    "%timeit ptest(stack)"
   ]
  },
  {
   "source": [
    "# COMPENETRATION"
   ],
   "cell_type": "markdown",
   "metadata": {}
  },
  {
   "cell_type": "code",
   "execution_count": 7,
   "metadata": {},
   "outputs": [
    {
     "output_type": "execute_result",
     "data": {
      "text/plain": [
       "74"
      ]
     },
     "metadata": {},
     "execution_count": 7
    }
   ],
   "source": [
    "from compenetration import compenetration_check\n",
    "from cclib.io import ccread\n",
    "mol = ccread('Resources/SN2/2+2_out.xyz')\n",
    "ids = [int(len(mol.atomcoords[0])/2), int(len(mol.atomcoords[0])/2)]\n",
    "\n",
    "len(mol.atomcoords)"
   ]
  },
  {
   "cell_type": "code",
   "execution_count": 14,
   "metadata": {},
   "outputs": [
    {
     "output_type": "stream",
     "name": "stdout",
     "text": [
      "Wall time: 62.5 ms\n"
     ]
    },
    {
     "output_type": "execute_result",
     "data": {
      "text/plain": [
       "'17/74'"
      ]
     },
     "metadata": {},
     "execution_count": 14
    }
   ],
   "source": [
    "%%time\n",
    "out = []\n",
    "for s in mol.atomcoords:\n",
    "    out.append(compenetration_check(s, ids, max_clashes=3, thresh=1.5))\n",
    "f'{len([i for i in out if i == True])}/{len(out)}'"
   ]
  }
 ],
 "metadata": {
  "kernelspec": {
   "name": "python3612jvsc74a57bd013b132f2c1b4759c35299cc27b3a010876219416598289e22ec2dbcead05f2f6",
   "display_name": "Python 3.6.12 64-bit"
  },
  "language_info": {
   "codemirror_mode": {
    "name": "ipython",
    "version": 3
   },
   "file_extension": ".py",
   "mimetype": "text/x-python",
   "name": "python",
   "nbconvert_exporter": "python",
   "pygments_lexer": "ipython3",
   "version": "3.6.12-final"
  }
 },
 "nbformat": 4,
 "nbformat_minor": 2
}