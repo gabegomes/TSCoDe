{
 "metadata": {
  "language_info": {
   "codemirror_mode": {
    "name": "ipython",
    "version": 3
   },
   "file_extension": ".py",
   "mimetype": "text/x-python",
   "name": "python",
   "nbconvert_exporter": "python",
   "pygments_lexer": "ipython3",
   "version": "3.6.12-final"
  },
  "orig_nbformat": 2,
  "kernelspec": {
   "name": "python3",
   "display_name": "Python 3",
   "language": "python"
  }
 },
 "nbformat": 4,
 "nbformat_minor": 2,
 "cells": [
  {
   "cell_type": "code",
   "execution_count": 10,
   "metadata": {},
   "outputs": [
    {
     "output_type": "stream",
     "name": "stdout",
     "text": [
      "[3.16227766e+00 1.11022302e-16 0.00000000e+00]\n"
     ]
    }
   ],
   "source": [
    "import numpy as np\n",
    "from scipy import ndimage\n",
    "from scipy.spatial.transform import Rotation as R\n",
    "\n",
    "target =    [3, 1, 0] # anchor vector connecting centroid and anchor point\n",
    "reference = [1, 0, 0]    # unit vector along x axis\n",
    "\n",
    "for _ in range(1):\n",
    "\n",
    "    rotation_matrix = R.align_vectors(np.array([reference]), np.array([target]))[0].as_matrix()\n",
    "    rotation_matrix @ np.array(target)\n",
    "    # R.align_vectors(np.array([reference]), np.array([target]))[0].as_rotvec() * 180 / np.pi\n",
    "\n",
    "    print(rotation_matrix @ np.array(target))"
   ]
  },
  {
   "cell_type": "code",
   "execution_count": 11,
   "metadata": {},
   "outputs": [
    {
     "output_type": "stream",
     "name": "stdout",
     "text": [
      "[[1. 0. 0.]\n [0. 1. 0.]\n [0. 0. 1.]]\n"
     ]
    },
    {
     "output_type": "execute_result",
     "data": {
      "text/plain": [
       "array([[3., 0., 0.],\n",
       "       [1., 0., 0.],\n",
       "       [0., 0., 4.]])"
      ]
     },
     "metadata": {},
     "execution_count": 11
    }
   ],
   "source": [
    "target =    np.array([[0, 3, 0],\n",
    "                      [0, 1, 0],\n",
    "                      [0, 0, 4]])\n",
    "\n",
    "\n",
    "reference = [1, 0, 0]    # unit vector along x axis\n",
    "\n",
    "old_mat = np.diag(np.ones(3))\n",
    "\n",
    "print(old_mat)\n",
    "\n",
    "\n",
    "rotation_matrix = R.align_vectors(np.array([reference]), np.array([target[1]]))[0].as_matrix()\n",
    "mat = old_mat @ rotation_matrix\n",
    "r = np.array([mat @ v for v in target])\n",
    "r"
   ]
  },
  {
   "cell_type": "code",
   "execution_count": 12,
   "metadata": {},
   "outputs": [
    {
     "output_type": "stream",
     "name": "stdout",
     "text": [
      "[0 1 0]\n[0 1 3]\n"
     ]
    }
   ],
   "source": [
    "a = np.array([0,1,0])\n",
    "b = np.array([0,0,3])\n",
    "\n",
    "print(a)\n",
    "np.add(a, b, out=a, casting='unsafe')\n",
    "print(a)"
   ]
  },
  {
   "cell_type": "code",
   "execution_count": 13,
   "metadata": {},
   "outputs": [
    {
     "output_type": "error",
     "ename": "ValueError",
     "evalue": "Expected input `b` to have shape (N, 3), got (1, 3, 3).",
     "traceback": [
      "\u001b[1;31m---------------------------------------------------------------------------\u001b[0m",
      "\u001b[1;31mValueError\u001b[0m                                Traceback (most recent call last)",
      "\u001b[1;32m<ipython-input-13-4e74114cd353>\u001b[0m in \u001b[0;36m<module>\u001b[1;34m\u001b[0m\n\u001b[1;32m----> 1\u001b[1;33m \u001b[0mrotations\u001b[0m \u001b[1;33m=\u001b[0m \u001b[0mR\u001b[0m\u001b[1;33m.\u001b[0m\u001b[0malign_vectors\u001b[0m\u001b[1;33m(\u001b[0m\u001b[0mnp\u001b[0m\u001b[1;33m.\u001b[0m\u001b[0marray\u001b[0m\u001b[1;33m(\u001b[0m\u001b[1;33m[\u001b[0m\u001b[0mreference\u001b[0m\u001b[1;33m]\u001b[0m\u001b[1;33m)\u001b[0m\u001b[1;33m,\u001b[0m \u001b[0mnp\u001b[0m\u001b[1;33m.\u001b[0m\u001b[0marray\u001b[0m\u001b[1;33m(\u001b[0m\u001b[1;33m[\u001b[0m\u001b[0mtarget\u001b[0m\u001b[1;33m]\u001b[0m\u001b[1;33m)\u001b[0m\u001b[1;33m)\u001b[0m\u001b[1;33m[\u001b[0m\u001b[1;36m0\u001b[0m\u001b[1;33m]\u001b[0m\u001b[1;33m.\u001b[0m\u001b[0mas_euler\u001b[0m\u001b[1;33m(\u001b[0m\u001b[1;34m'xyz'\u001b[0m\u001b[1;33m)\u001b[0m\u001b[1;33m*\u001b[0m\u001b[1;33m(\u001b[0m\u001b[1;36m360\u001b[0m\u001b[1;33m/\u001b[0m\u001b[1;33m(\u001b[0m\u001b[1;36m2\u001b[0m\u001b[1;33m*\u001b[0m\u001b[0mnp\u001b[0m\u001b[1;33m.\u001b[0m\u001b[0mpi\u001b[0m\u001b[1;33m)\u001b[0m\u001b[1;33m)\u001b[0m\u001b[1;33m\u001b[0m\u001b[1;33m\u001b[0m\u001b[0m\n\u001b[0m\u001b[0;32m      2\u001b[0m \u001b[0mrotations\u001b[0m\u001b[1;33m\u001b[0m\u001b[1;33m\u001b[0m\u001b[0m\n\u001b[0;32m      3\u001b[0m \u001b[1;31m# positive rotations are always anti-clockwise\u001b[0m\u001b[1;33m\u001b[0m\u001b[1;33m\u001b[0m\u001b[1;33m\u001b[0m\u001b[0m\n",
      "\u001b[1;32m~\\anaconda3\\envs\\my-rdkit-env\\lib\\site-packages\\scipy\\spatial\\transform\\rotation.py\u001b[0m in \u001b[0;36malign_vectors\u001b[1;34m(cls, a, b, weights, return_sensitivity)\u001b[0m\n\u001b[0;32m   1934\u001b[0m         \u001b[1;32mif\u001b[0m \u001b[0mb\u001b[0m\u001b[1;33m.\u001b[0m\u001b[0mndim\u001b[0m \u001b[1;33m!=\u001b[0m \u001b[1;36m2\u001b[0m \u001b[1;32mor\u001b[0m \u001b[0mb\u001b[0m\u001b[1;33m.\u001b[0m\u001b[0mshape\u001b[0m\u001b[1;33m[\u001b[0m\u001b[1;33m-\u001b[0m\u001b[1;36m1\u001b[0m\u001b[1;33m]\u001b[0m \u001b[1;33m!=\u001b[0m \u001b[1;36m3\u001b[0m\u001b[1;33m:\u001b[0m\u001b[1;33m\u001b[0m\u001b[1;33m\u001b[0m\u001b[0m\n\u001b[0;32m   1935\u001b[0m             raise ValueError(\"Expected input `b` to have shape (N, 3), \"\n\u001b[1;32m-> 1936\u001b[1;33m                              \"got {}.\".format(b.shape))\n\u001b[0m\u001b[0;32m   1937\u001b[0m \u001b[1;33m\u001b[0m\u001b[0m\n\u001b[0;32m   1938\u001b[0m         \u001b[1;32mif\u001b[0m \u001b[0ma\u001b[0m\u001b[1;33m.\u001b[0m\u001b[0mshape\u001b[0m \u001b[1;33m!=\u001b[0m \u001b[0mb\u001b[0m\u001b[1;33m.\u001b[0m\u001b[0mshape\u001b[0m\u001b[1;33m:\u001b[0m\u001b[1;33m\u001b[0m\u001b[1;33m\u001b[0m\u001b[0m\n",
      "\u001b[1;31mValueError\u001b[0m: Expected input `b` to have shape (N, 3), got (1, 3, 3)."
     ]
    }
   ],
   "source": [
    "rotations = R.align_vectors(np.array([reference]), np.array([target]))[0].as_euler('xyz')*(360/(2*np.pi))\n",
    "rotations\n",
    "# positive rotations are always anti-clockwise"
   ]
  },
  {
   "cell_type": "code",
   "execution_count": null,
   "metadata": {},
   "outputs": [],
   "source": [
    "n = 3\n",
    "scalar_field = np.arange(n**3).reshape((n,n,n))\n",
    "\n",
    "for axis, angle in enumerate(rotations):\n",
    "    axes = [0,1,2]\n",
    "    axes.remove(axis)\n",
    "    scalar_field = ndimage.rotate(scalar_field, angle, axes=tuple(axes), reshape=False)\n",
    "\n",
    "\n",
    "\n",
    "\n",
    "print(scalar_field)"
   ]
  },
  {
   "cell_type": "code",
   "execution_count": null,
   "metadata": {},
   "outputs": [],
   "source": [
    "def _rotate_scalar_field(array, rotations):\n",
    "    '''\n",
    "    :params array:      an input scalar field with shape (a,b,c)\n",
    "    :params rotations:  tuple of shape (1,3) with rotation \n",
    "                        angles along x, y, z axes, in degrees\n",
    "    :params pivot:      pivot of the rotation\n",
    "    :return:            rotated array\n",
    "    '''\n",
    "    for axis, angle in enumerate(rotations):\n",
    "        axes = [0,1,2]\n",
    "        axes.remove(axis)\n",
    "        array = ndimage.rotate(array, angle, axes=tuple(axes), reshape=False)\n",
    "    return array\n"
   ]
  },
  {
   "cell_type": "code",
   "execution_count": null,
   "metadata": {},
   "outputs": [],
   "source": [
    "def _orient_along_x(array, vector):\n",
    "    '''\n",
    "    :params array:    array of atomic coordinates arrays: len(array) structures with len(array[i]) atoms\n",
    "    :params vector:   list of shape (1,3) with anchor vector to align to the x axis\n",
    "    :return:          array, aligned so that vector is on x\n",
    "    '''\n",
    "    assert vector.shape[1] == 3\n",
    "    if vector.shape[0] > 1:\n",
    "        vector = np.mean(vector, axis=0)\n",
    "    rotation_matrix = R.align_vectors(np.array([[1,0,0]]), np.array([vector]))[0].as_matrix()\n",
    "    return np.array([rotation_matrix @ v for v in array])"
   ]
  },
  {
   "cell_type": "code",
   "execution_count": null,
   "metadata": {},
   "outputs": [],
   "source": [
    "vectors = np.array([[0,1,0],\n",
    "                    [0,4,0],\n",
    "                    [1,0,0],\n",
    "                    [0,0,9],\n",
    "                    [1,1,1]])\n",
    "_orient_along_x(vectors, vectors[0])"
   ]
  },
  {
   "cell_type": "code",
   "execution_count": null,
   "metadata": {},
   "outputs": [],
   "source": [
    "import matplotlib.pyplot as plt\n",
    "from mpl_toolkits.mplot3d import Axes3D\n",
    "%matplotlib inline\n",
    "\n",
    "def _orient_along_x(array, vector):\n",
    "    '''\n",
    "    :params array:    array of atomic coordinates arrays: len(array) structures with len(array[i]) atoms\n",
    "    :params vector:   list of shape (1,3) with anchor vector to align to the x axis\n",
    "    :return:          array, aligned so that vector is on x\n",
    "    '''\n",
    "    rotation_matrix = R.align_vectors(np.array([[1,0,0]]), np.array([vector]))[0].as_matrix()\n",
    "    return np.array([rotation_matrix @ v for v in array])\n",
    "\n",
    "fig = plt.figure()\n",
    "ax = fig.add_subplot(111, projection='3d')\n",
    "\n",
    "vectors = np.array([[0,1,0],\n",
    "                    [1,0,0],\n",
    "                    [0,0,1]])\n",
    "\n",
    "x = [v[0] for v in vectors]\n",
    "y = [v[1] for v in vectors]\n",
    "z = [v[2] for v in vectors]\n",
    "\n",
    "for i in range(len(x)):\n",
    "    ax.plot([0, x[i]], [0, y[i]], [0, z[i]], label='original', color='r')\n",
    "\n",
    "vectors = _orient_along_x(vectors, vectors[0])\n",
    "\n",
    "x = [v[0] for v in vectors]\n",
    "y = [v[1] for v in vectors]\n",
    "z = [v[2] for v in vectors]\n",
    "\n",
    "for i in range(len(x)):\n",
    "    ax.plot([0, x[i]], [0, y[i]], [0, z[i]], label='rotated', color='b')\n",
    "\n",
    "ax.legend()\n",
    "plt.show()"
   ]
  },
  {
   "cell_type": "code",
   "execution_count": null,
   "metadata": {},
   "outputs": [],
   "source": [
    "a = np.arange(3**3).reshape((3,3,3))\n",
    "_rotate_scalar_field(a, np.array([45,0,0]))"
   ]
  },
  {
   "cell_type": "code",
   "execution_count": null,
   "metadata": {},
   "outputs": [],
   "source": [
    "R.from_rotvec(np.array([90,0,0]) / 180 * np.pi).as_matrix()"
   ]
  },
  {
   "cell_type": "code",
   "execution_count": 14,
   "metadata": {},
   "outputs": [
    {
     "output_type": "execute_result",
     "data": {
      "text/plain": [
       "array([[1, 3],\n",
       "       [1, 4],\n",
       "       [2, 3],\n",
       "       [2, 4]])"
      ]
     },
     "metadata": {},
     "execution_count": 14
    }
   ],
   "source": [
    "def cartesian_product(*arrays):\n",
    "    la = len(arrays)\n",
    "    dtype = np.result_type(*arrays)\n",
    "    arr = np.empty([len(a) for a in arrays] + [la], dtype=dtype)\n",
    "    for i, a in enumerate(np.ix_(*arrays)):\n",
    "        arr[...,i] = a\n",
    "    return arr.reshape(-1, la)\n",
    "\n",
    "\n",
    "a = np.array([1,2])\n",
    "b = np.array([3,4])\n",
    "\n",
    "cartesian_product(a,b)"
   ]
  },
  {
   "cell_type": "code",
   "execution_count": null,
   "metadata": {},
   "outputs": [],
   "source": [
    "a = np.identity(3) * 2\n",
    "b = np.random.rand(9).reshape((3,3))\n",
    "print(b)\n",
    "\n",
    "print(a @ b)\n",
    "\n",
    "print(b @ a)"
   ]
  },
  {
   "cell_type": "code",
   "execution_count": null,
   "metadata": {},
   "outputs": [],
   "source": [
    "def rotation_matrix_from_vectors(vec1, vec2):\n",
    "    \"\"\" Find the rotation matrix that aligns vec1 to vec2\n",
    "    :param vec1: A 3d \"source\" vector\n",
    "    :param vec2: A 3d \"destination\" vector\n",
    "    :return mat: A transform matrix (3x3) which when applied to vec1, aligns it with vec2.\n",
    "    \"\"\"\n",
    "    a, b = (vec1 / np.linalg.norm(vec1)).reshape(3), (vec2 / np.linalg.norm(vec2)).reshape(3)\n",
    "    v = np.cross(a, b)\n",
    "    c = np.dot(a, b)\n",
    "    s = np.linalg.norm(v)\n",
    "    kmat = np.array([[0, -v[2], v[1]], [v[2], 0, -v[0]], [-v[1], v[0], 0]])\n",
    "    rotation_matrix = np.eye(3) + kmat + kmat.dot(kmat) * ((1 - c) / (s ** 2))\n",
    "    return rotation_matrix"
   ]
  },
  {
   "cell_type": "code",
   "execution_count": null,
   "metadata": {},
   "outputs": [],
   "source": [
    "from rmsd import kabsch\n",
    "import numpy as np\n",
    "\n",
    "a = np.array([[0,-1,0],\n",
    "              [1,0,0],\n",
    "              [2,-1,0]])\n",
    "\n",
    "b = np.array([[2,1,0],\n",
    "              [2,2,0],\n",
    "              [3,2,0]])\n",
    "\n",
    "indexes = [1,2]\n",
    "\n",
    "aa = a - centroid(a[indexes])\n",
    "bb = b - centroid(b[indexes])\n",
    "\n",
    "r = kabsch(aa[indexes], bb[indexes])\n",
    "\n",
    "# aa = np.array([r @ v for v in aa])\n",
    "bb = np.array([r @ v for v in bb])\n",
    "\n",
    "import matplotlib.pyplot as plt\n",
    "\n",
    "xa = [v[0] for v in a]\n",
    "ya = [v[1] for v in a]\n",
    "\n",
    "xaa = [v[0] for v in aa]\n",
    "yaa = [v[1] for v in aa]\n",
    "\n",
    "xb = [v[0] for v in b]\n",
    "yb = [v[1] for v in b]\n",
    "\n",
    "xbb = [v[0] for v in bb]\n",
    "ybb = [v[1] for v in bb]\n",
    "\n",
    "fig = plt.figure()\n",
    "plot = plt.scatter(xa, ya, color='b', marker='s', linewidths=10)\n",
    "plot = plt.scatter(xb, yb, color='b', marker='s', linewidths=10)\n",
    "plot = plt.plot(xa, ya, color='b')\n",
    "plot = plt.plot(xb, yb, color='b')\n",
    "\n",
    "plot = plt.scatter(xaa, yaa, color='r', marker='s', linewidths=10)\n",
    "plot = plt.scatter(xbb, ybb, color='r', marker='s', linewidths=10)\n",
    "plot = plt.plot(xaa, yaa, color='r')\n",
    "plot = plt.plot(xbb, ybb, color='r')\n",
    "\n",
    "\n",
    "plt.show()"
   ]
  },
  {
   "cell_type": "code",
   "execution_count": 25,
   "metadata": {},
   "outputs": [
    {
     "output_type": "stream",
     "name": "stdout",
     "text": [
      "(1, 2, 3, 4, 5, 6, 7)\n"
     ]
    },
    {
     "output_type": "execute_result",
     "data": {
      "text/plain": [
       "5040"
      ]
     },
     "metadata": {},
     "execution_count": 25
    }
   ],
   "source": [
    "def ciao(*args):\n",
    "    print(args)\n",
    "    return np.prod([args])\n",
    "\n",
    "ciao(*[i for i in range(1,8)])"
   ]
  },
  {
   "cell_type": "code",
   "execution_count": null,
   "metadata": {},
   "outputs": [],
   "source": [
    "def rot_mat_from_pointer(pointer, angle):\n",
    "    '''\n",
    "    Returns the rotation matrix that rotates a system around the given pointer\n",
    "    of angle degrees. The algorithm is based on scipy quaternions.\n",
    "    :params pointer: a 3D vector\n",
    "    :params angle: a int/float, in degrees\n",
    "    :return rotation_matrix: matrix that applied to a point, rotates it along the pointer\n",
    "    '''\n",
    "    assert pointer.shape[0] == 3\n",
    "\n",
    "    pointer = norm(pointer)\n",
    "\n",
    "    quat = np.array([np.sin(angle/2)*pointer[0],\n",
    "                    np.sin(angle/2)*pointer[1],\n",
    "                    np.sin(angle/2)*pointer[2],\n",
    "                    np.cos(angle/2)])            # normalized quaternion, scalar last (i j k w)\n",
    "\n",
    "    return R.from_quat(quat).as_matrix()"
   ]
  }
 ]
}