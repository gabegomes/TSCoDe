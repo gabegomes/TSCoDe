{
 "metadata": {
  "language_info": {
   "codemirror_mode": {
    "name": "ipython",
    "version": 3
   },
   "file_extension": ".py",
   "mimetype": "text/x-python",
   "name": "python",
   "nbconvert_exporter": "python",
   "pygments_lexer": "ipython3",
   "version": "3.6.12-final"
  },
  "orig_nbformat": 2,
  "kernelspec": {
   "name": "python3",
   "display_name": "Python 3",
   "language": "python"
  }
 },
 "nbformat": 4,
 "nbformat_minor": 2,
 "cells": [
  {
   "cell_type": "code",
   "execution_count": 27,
   "metadata": {},
   "outputs": [
    {
     "output_type": "execute_result",
     "data": {
      "text/plain": [
       "array([[[0., 0., 0., 0., 0.],\n",
       "        [0., 0., 0., 0., 0.],\n",
       "        [0., 0., 0., 0., 0.],\n",
       "        [0., 0., 0., 0., 0.],\n",
       "        [0., 0., 0., 0., 0.]],\n",
       "\n",
       "       [[0., 0., 0., 0., 0.],\n",
       "        [0., 0., 0., 0., 0.],\n",
       "        [0., 0., 0., 0., 0.],\n",
       "        [0., 0., 0., 0., 0.],\n",
       "        [0., 0., 0., 0., 0.]],\n",
       "\n",
       "       [[0., 0., 0., 0., 0.],\n",
       "        [0., 0., 0., 0., 0.],\n",
       "        [0., 0., 0., 0., 0.],\n",
       "        [0., 0., 0., 0., 0.],\n",
       "        [0., 0., 0., 0., 0.]],\n",
       "\n",
       "       [[0., 0., 0., 0., 0.],\n",
       "        [0., 0., 0., 0., 0.],\n",
       "        [0., 0., 0., 0., 0.],\n",
       "        [0., 0., 0., 0., 0.],\n",
       "        [0., 0., 0., 0., 0.]],\n",
       "\n",
       "       [[0., 0., 0., 0., 0.],\n",
       "        [0., 0., 0., 0., 0.],\n",
       "        [0., 0., 0., 0., 0.],\n",
       "        [0., 0., 0., 0., 0.],\n",
       "        [0., 0., 0., 0., 0.]],\n",
       "\n",
       "       [[1., 1., 1., 1., 1.],\n",
       "        [1., 1., 1., 1., 1.],\n",
       "        [1., 1., 1., 1., 1.],\n",
       "        [1., 1., 1., 1., 1.],\n",
       "        [1., 1., 1., 1., 1.]]])"
      ]
     },
     "metadata": {},
     "execution_count": 27
    }
   ],
   "source": [
    "import numpy as np\n",
    "box = np.zeros((5,5,5))\n",
    "cheese = np.zeros((1,5,5)) + 1\n",
    "r = np.concatenate((box, cheese), axis=0)\n",
    "r"
   ]
  },
  {
   "cell_type": "code",
   "execution_count": 28,
   "metadata": {},
   "outputs": [
    {
     "output_type": "stream",
     "name": "stdout",
     "text": [
      "first has 2 but second has 1\n"
     ]
    }
   ],
   "source": [
    "from copy import deepcopy\n",
    "\n",
    "class A:\n",
    "    def __init__(self):\n",
    "        self.aaa = 1\n",
    "\n",
    "first = A()\n",
    "second = deepcopy(first)\n",
    "\n",
    "first.aaa = 2\n",
    "\n",
    "print('first has %s but second has %s' % (first.aaa, second.aaa))"
   ]
  },
  {
   "cell_type": "code",
   "execution_count": 29,
   "metadata": {},
   "outputs": [
    {
     "output_type": "execute_result",
     "data": {
      "text/plain": [
       "array([[  0,   1,   4,   9],\n",
       "       [ 16,  25,  36,  49],\n",
       "       [ 64,  81, 100, 121],\n",
       "       [144, 169, 196, 225]])"
      ]
     },
     "metadata": {},
     "execution_count": 29
    }
   ],
   "source": [
    "a = np.arange(16).reshape((4,4))\n",
    "a * a"
   ]
  },
  {
   "cell_type": "code",
   "execution_count": 30,
   "metadata": {},
   "outputs": [
    {
     "output_type": "execute_result",
     "data": {
      "text/plain": [
       "array([2, 3, 4, 5, 6, 7])"
      ]
     },
     "metadata": {},
     "execution_count": 30
    }
   ],
   "source": [
    "a = np.array([1,2,3,4,5,6])\n",
    "a += 1\n",
    "a"
   ]
  },
  {
   "cell_type": "code",
   "execution_count": 31,
   "metadata": {},
   "outputs": [
    {
     "output_type": "execute_result",
     "data": {
      "text/plain": [
       "3"
      ]
     },
     "metadata": {},
     "execution_count": 31
    }
   ],
   "source": [
    "np.abs(-3)"
   ]
  },
  {
   "cell_type": "code",
   "execution_count": 36,
   "metadata": {
    "tags": []
   },
   "outputs": [
    {
     "output_type": "execute_result",
     "data": {
      "text/plain": [
       "0.4472135954999579"
      ]
     },
     "metadata": {},
     "execution_count": 36
    }
   ],
   "source": [
    "a = np.array([0,0,1])\n",
    "b = np.array([0,1,0])\n",
    "c = np.array([0,2,1]) / np.linalg.norm(np.array([0,2,1]))\n",
    "a @ c"
   ]
  },
  {
   "cell_type": "code",
   "execution_count": 62,
   "metadata": {},
   "outputs": [
    {
     "output_type": "execute_result",
     "data": {
      "text/plain": [
       "array([[0, 0],\n",
       "       [0, 1],\n",
       "       [0, 2],\n",
       "       [1, 0],\n",
       "       [1, 1],\n",
       "       [1, 2]])"
      ]
     },
     "metadata": {},
     "execution_count": 62
    }
   ],
   "source": [
    "def cartesian_product(*arrays):\n",
    "    la = len(arrays)\n",
    "    dtype = np.result_type(*arrays)\n",
    "    arr = np.empty([len(a) for a in arrays] + [la], dtype=dtype)\n",
    "    for i, a in enumerate(np.ix_(*arrays)):\n",
    "        arr[...,i] = a\n",
    "    return arr.reshape(-1, la)\n",
    "\n",
    "a = np.array([1])\n",
    "b = np.array([3,4,5,6])\n",
    "c = np.array([7.3,'r'])\n",
    "\n",
    "cartesian_product(a,c)\n",
    "\n",
    "\n",
    "one = np.array(range(2))\n",
    "two = np.array(range(3))\n",
    "\n",
    "cartesian_product(one,two)"
   ]
  },
  {
   "cell_type": "code",
   "execution_count": 34,
   "metadata": {},
   "outputs": [
    {
     "output_type": "execute_result",
     "data": {
      "text/plain": [
       "array([[1, 3, 7, 1],\n",
       "       [1, 3, 7, 2],\n",
       "       [2, 3, 7, 1],\n",
       "       [2, 3, 7, 2],\n",
       "       [1, 4, 7, 1],\n",
       "       [1, 4, 7, 2],\n",
       "       [2, 4, 7, 1],\n",
       "       [2, 4, 7, 2],\n",
       "       [1, 5, 7, 1],\n",
       "       [1, 5, 7, 2],\n",
       "       [2, 5, 7, 1],\n",
       "       [2, 5, 7, 2],\n",
       "       [1, 6, 7, 1],\n",
       "       [1, 6, 7, 2],\n",
       "       [2, 6, 7, 1],\n",
       "       [2, 6, 7, 2]])"
      ]
     },
     "metadata": {},
     "execution_count": 34
    }
   ],
   "source": [
    "arr = a,b,c,a\n",
    "np.stack(np.meshgrid(*arr), -1).reshape(-1, len(arr))"
   ]
  },
  {
   "cell_type": "code",
   "execution_count": 44,
   "metadata": {},
   "outputs": [
    {
     "output_type": "execute_result",
     "data": {
      "text/plain": [
       "array([[0, 0, 1],\n",
       "       [0, 0, 1],\n",
       "       [0, 1, 0]])"
      ]
     },
     "metadata": {},
     "execution_count": 44
    }
   ],
   "source": [
    "aa = np.concatenate((a,a)).reshape(2,3)\n",
    "\n",
    "np.concatenate((aa, [b]), axis=0)"
   ]
  },
  {
   "cell_type": "code",
   "execution_count": 86,
   "metadata": {},
   "outputs": [
    {
     "output_type": "execute_result",
     "data": {
      "text/plain": [
       "array([[3., 1., 1.],\n",
       "       [2., 1., 1.],\n",
       "       [0., 0., 0.],\n",
       "       [0., 0., 0.]])"
      ]
     },
     "metadata": {},
     "execution_count": 86
    }
   ],
   "source": [
    "x = np.zeros((4,3))\n",
    "x[0:2] = np.array([[3,1,1],[2,1,1]])\n",
    "x"
   ]
  },
  {
   "cell_type": "code",
   "execution_count": 88,
   "metadata": {},
   "outputs": [
    {
     "output_type": "execute_result",
     "data": {
      "text/plain": [
       "array([1, 1])"
      ]
     },
     "metadata": {},
     "execution_count": 88
    }
   ],
   "source": [
    "np.concatenate((a,a))"
   ]
  }
 ]
}