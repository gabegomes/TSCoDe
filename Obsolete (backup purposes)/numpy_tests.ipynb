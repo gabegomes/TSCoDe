{
 "metadata": {
  "language_info": {
   "codemirror_mode": {
    "name": "ipython",
    "version": 3
   },
   "file_extension": ".py",
   "mimetype": "text/x-python",
   "name": "python",
   "nbconvert_exporter": "python",
   "pygments_lexer": "ipython3",
   "version": "3.6.12-final"
  },
  "orig_nbformat": 2,
  "kernelspec": {
   "name": "python3",
   "display_name": "Python 3",
   "language": "python"
  }
 },
 "nbformat": 4,
 "nbformat_minor": 2,
 "cells": [
  {
   "cell_type": "code",
   "execution_count": 18,
   "metadata": {},
   "outputs": [
    {
     "output_type": "execute_result",
     "data": {
      "text/plain": [
       "array([[[0., 0., 0., 0., 0.],\n",
       "        [0., 0., 0., 0., 0.],\n",
       "        [0., 0., 0., 0., 0.],\n",
       "        [0., 0., 0., 0., 0.],\n",
       "        [0., 0., 0., 0., 0.]],\n",
       "\n",
       "       [[0., 0., 0., 0., 0.],\n",
       "        [0., 0., 0., 0., 0.],\n",
       "        [0., 0., 0., 0., 0.],\n",
       "        [0., 0., 0., 0., 0.],\n",
       "        [0., 0., 0., 0., 0.]],\n",
       "\n",
       "       [[0., 0., 0., 0., 0.],\n",
       "        [0., 0., 0., 0., 0.],\n",
       "        [0., 0., 0., 0., 0.],\n",
       "        [0., 0., 0., 0., 0.],\n",
       "        [0., 0., 0., 0., 0.]],\n",
       "\n",
       "       [[0., 0., 0., 0., 0.],\n",
       "        [0., 0., 0., 0., 0.],\n",
       "        [0., 0., 0., 0., 0.],\n",
       "        [0., 0., 0., 0., 0.],\n",
       "        [0., 0., 0., 0., 0.]],\n",
       "\n",
       "       [[0., 0., 0., 0., 0.],\n",
       "        [0., 0., 0., 0., 0.],\n",
       "        [0., 0., 0., 0., 0.],\n",
       "        [0., 0., 0., 0., 0.],\n",
       "        [0., 0., 0., 0., 0.]],\n",
       "\n",
       "       [[1., 1., 1., 1., 1.],\n",
       "        [1., 1., 1., 1., 1.],\n",
       "        [1., 1., 1., 1., 1.],\n",
       "        [1., 1., 1., 1., 1.],\n",
       "        [1., 1., 1., 1., 1.]]])"
      ]
     },
     "metadata": {},
     "execution_count": 18
    }
   ],
   "source": [
    "import numpy as np\n",
    "box = np.zeros((5,5,5))\n",
    "cheese = np.zeros((1,5,5)) + 1\n",
    "r = np.concatenate((box, cheese), axis=0)\n",
    "r"
   ]
  },
  {
   "cell_type": "code",
   "execution_count": 19,
   "metadata": {},
   "outputs": [
    {
     "output_type": "stream",
     "name": "stdout",
     "text": [
      "first has 2 but second has 1\n"
     ]
    }
   ],
   "source": [
    "from copy import deepcopy\n",
    "\n",
    "class A:\n",
    "    def __init__(self):\n",
    "        self.aaa = 1\n",
    "\n",
    "first = A()\n",
    "second = deepcopy(first)\n",
    "\n",
    "first.aaa = 2\n",
    "\n",
    "print('first has %s but second has %s' % (first.aaa, second.aaa))"
   ]
  },
  {
   "cell_type": "code",
   "execution_count": 20,
   "metadata": {},
   "outputs": [
    {
     "output_type": "execute_result",
     "data": {
      "text/plain": [
       "array([[  0,   1,   4,   9],\n",
       "       [ 16,  25,  36,  49],\n",
       "       [ 64,  81, 100, 121],\n",
       "       [144, 169, 196, 225]])"
      ]
     },
     "metadata": {},
     "execution_count": 20
    }
   ],
   "source": [
    "a = np.arange(16).reshape((4,4))\n",
    "a * a"
   ]
  },
  {
   "cell_type": "code",
   "execution_count": 21,
   "metadata": {},
   "outputs": [
    {
     "output_type": "execute_result",
     "data": {
      "text/plain": [
       "array([2, 3, 4, 5, 6, 7])"
      ]
     },
     "metadata": {},
     "execution_count": 21
    }
   ],
   "source": [
    "a = np.array([1,2,3,4,5,6])\n",
    "a += 1\n",
    "a"
   ]
  },
  {
   "cell_type": "code",
   "execution_count": 22,
   "metadata": {},
   "outputs": [
    {
     "output_type": "execute_result",
     "data": {
      "text/plain": [
       "3"
      ]
     },
     "metadata": {},
     "execution_count": 22
    }
   ],
   "source": [
    "np.abs(-3)"
   ]
  },
  {
   "cell_type": "code",
   "execution_count": 23,
   "metadata": {
    "tags": []
   },
   "outputs": [
    {
     "output_type": "execute_result",
     "data": {
      "text/plain": [
       "0.4472135954999579"
      ]
     },
     "metadata": {},
     "execution_count": 23
    }
   ],
   "source": [
    "a = np.array([0,0,1])\n",
    "b = np.array([0,1,0])\n",
    "c = np.array([0,2,1]) / np.linalg.norm(np.array([0,2,1]))\n",
    "a @ c"
   ]
  },
  {
   "cell_type": "code",
   "execution_count": 24,
   "metadata": {},
   "outputs": [
    {
     "output_type": "execute_result",
     "data": {
      "text/plain": [
       "array([[1, 1, 1],\n",
       "       [1, 1, 2],\n",
       "       [1, 1, 3],\n",
       "       [1, 2, 1],\n",
       "       [1, 2, 2],\n",
       "       [1, 2, 3],\n",
       "       [1, 3, 1],\n",
       "       [1, 3, 2],\n",
       "       [1, 3, 3],\n",
       "       [2, 1, 1],\n",
       "       [2, 1, 2],\n",
       "       [2, 1, 3],\n",
       "       [2, 2, 1],\n",
       "       [2, 2, 2],\n",
       "       [2, 2, 3],\n",
       "       [2, 3, 1],\n",
       "       [2, 3, 2],\n",
       "       [2, 3, 3],\n",
       "       [3, 1, 1],\n",
       "       [3, 1, 2],\n",
       "       [3, 1, 3],\n",
       "       [3, 2, 1],\n",
       "       [3, 2, 2],\n",
       "       [3, 2, 3],\n",
       "       [3, 3, 1],\n",
       "       [3, 3, 2],\n",
       "       [3, 3, 3]])"
      ]
     },
     "metadata": {},
     "execution_count": 24
    }
   ],
   "source": [
    "def cartesian_product(*arrays):\n",
    "    la = len(arrays)\n",
    "    dtype = np.result_type(*arrays)\n",
    "    arr = np.empty([len(a) for a in arrays] + [la], dtype=dtype)\n",
    "    for i, a in enumerate(np.ix_(*arrays)):\n",
    "        arr[...,i] = a\n",
    "    return arr.reshape(-1, la)\n",
    "\n",
    "a = np.array([1,2,3])\n",
    "b = np.array([3,4,5,6])\n",
    "c = np.array([7.3,'r'])\n",
    "\n",
    "cartesian_product(a,a,a)\n",
    "\n",
    "\n",
    "# one = np.array(range(2))\n",
    "# two = np.array(range(3))\n",
    "\n",
    "# cartesian_product(one,two)"
   ]
  },
  {
   "cell_type": "code",
   "execution_count": 25,
   "metadata": {},
   "outputs": [
    {
     "output_type": "execute_result",
     "data": {
      "text/plain": [
       "array([['1', '3', '7.3', '1'],\n",
       "       ['1', '3', '7.3', '2'],\n",
       "       ['1', '3', '7.3', '3'],\n",
       "       ['1', '3', 'r', '1'],\n",
       "       ['1', '3', 'r', '2'],\n",
       "       ['1', '3', 'r', '3'],\n",
       "       ['2', '3', '7.3', '1'],\n",
       "       ['2', '3', '7.3', '2'],\n",
       "       ['2', '3', '7.3', '3'],\n",
       "       ['2', '3', 'r', '1'],\n",
       "       ['2', '3', 'r', '2'],\n",
       "       ['2', '3', 'r', '3'],\n",
       "       ['3', '3', '7.3', '1'],\n",
       "       ['3', '3', '7.3', '2'],\n",
       "       ['3', '3', '7.3', '3'],\n",
       "       ['3', '3', 'r', '1'],\n",
       "       ['3', '3', 'r', '2'],\n",
       "       ['3', '3', 'r', '3'],\n",
       "       ['1', '4', '7.3', '1'],\n",
       "       ['1', '4', '7.3', '2'],\n",
       "       ['1', '4', '7.3', '3'],\n",
       "       ['1', '4', 'r', '1'],\n",
       "       ['1', '4', 'r', '2'],\n",
       "       ['1', '4', 'r', '3'],\n",
       "       ['2', '4', '7.3', '1'],\n",
       "       ['2', '4', '7.3', '2'],\n",
       "       ['2', '4', '7.3', '3'],\n",
       "       ['2', '4', 'r', '1'],\n",
       "       ['2', '4', 'r', '2'],\n",
       "       ['2', '4', 'r', '3'],\n",
       "       ['3', '4', '7.3', '1'],\n",
       "       ['3', '4', '7.3', '2'],\n",
       "       ['3', '4', '7.3', '3'],\n",
       "       ['3', '4', 'r', '1'],\n",
       "       ['3', '4', 'r', '2'],\n",
       "       ['3', '4', 'r', '3'],\n",
       "       ['1', '5', '7.3', '1'],\n",
       "       ['1', '5', '7.3', '2'],\n",
       "       ['1', '5', '7.3', '3'],\n",
       "       ['1', '5', 'r', '1'],\n",
       "       ['1', '5', 'r', '2'],\n",
       "       ['1', '5', 'r', '3'],\n",
       "       ['2', '5', '7.3', '1'],\n",
       "       ['2', '5', '7.3', '2'],\n",
       "       ['2', '5', '7.3', '3'],\n",
       "       ['2', '5', 'r', '1'],\n",
       "       ['2', '5', 'r', '2'],\n",
       "       ['2', '5', 'r', '3'],\n",
       "       ['3', '5', '7.3', '1'],\n",
       "       ['3', '5', '7.3', '2'],\n",
       "       ['3', '5', '7.3', '3'],\n",
       "       ['3', '5', 'r', '1'],\n",
       "       ['3', '5', 'r', '2'],\n",
       "       ['3', '5', 'r', '3'],\n",
       "       ['1', '6', '7.3', '1'],\n",
       "       ['1', '6', '7.3', '2'],\n",
       "       ['1', '6', '7.3', '3'],\n",
       "       ['1', '6', 'r', '1'],\n",
       "       ['1', '6', 'r', '2'],\n",
       "       ['1', '6', 'r', '3'],\n",
       "       ['2', '6', '7.3', '1'],\n",
       "       ['2', '6', '7.3', '2'],\n",
       "       ['2', '6', '7.3', '3'],\n",
       "       ['2', '6', 'r', '1'],\n",
       "       ['2', '6', 'r', '2'],\n",
       "       ['2', '6', 'r', '3'],\n",
       "       ['3', '6', '7.3', '1'],\n",
       "       ['3', '6', '7.3', '2'],\n",
       "       ['3', '6', '7.3', '3'],\n",
       "       ['3', '6', 'r', '1'],\n",
       "       ['3', '6', 'r', '2'],\n",
       "       ['3', '6', 'r', '3']], dtype='<U32')"
      ]
     },
     "metadata": {},
     "execution_count": 25
    }
   ],
   "source": [
    "arr = a,b,c,a\n",
    "np.stack(np.meshgrid(*arr), -1).reshape(-1, len(arr))"
   ]
  },
  {
   "cell_type": "code",
   "execution_count": 26,
   "metadata": {},
   "outputs": [
    {
     "output_type": "error",
     "ename": "ValueError",
     "evalue": "all the input array dimensions for the concatenation axis must match exactly, but along dimension 1, the array at index 0 has size 3 and the array at index 1 has size 4",
     "traceback": [
      "\u001b[1;31m---------------------------------------------------------------------------\u001b[0m",
      "\u001b[1;31mValueError\u001b[0m                                Traceback (most recent call last)",
      "\u001b[1;32m<ipython-input-26-674c7a0c5bb2>\u001b[0m in \u001b[0;36m<module>\u001b[1;34m\u001b[0m\n\u001b[0;32m      1\u001b[0m \u001b[0maa\u001b[0m \u001b[1;33m=\u001b[0m \u001b[0mnp\u001b[0m\u001b[1;33m.\u001b[0m\u001b[0mconcatenate\u001b[0m\u001b[1;33m(\u001b[0m\u001b[1;33m(\u001b[0m\u001b[0ma\u001b[0m\u001b[1;33m,\u001b[0m\u001b[0ma\u001b[0m\u001b[1;33m)\u001b[0m\u001b[1;33m)\u001b[0m\u001b[1;33m.\u001b[0m\u001b[0mreshape\u001b[0m\u001b[1;33m(\u001b[0m\u001b[1;36m2\u001b[0m\u001b[1;33m,\u001b[0m\u001b[1;36m3\u001b[0m\u001b[1;33m)\u001b[0m\u001b[1;33m\u001b[0m\u001b[1;33m\u001b[0m\u001b[0m\n\u001b[0;32m      2\u001b[0m \u001b[1;33m\u001b[0m\u001b[0m\n\u001b[1;32m----> 3\u001b[1;33m \u001b[0mnp\u001b[0m\u001b[1;33m.\u001b[0m\u001b[0mconcatenate\u001b[0m\u001b[1;33m(\u001b[0m\u001b[1;33m(\u001b[0m\u001b[0maa\u001b[0m\u001b[1;33m,\u001b[0m \u001b[1;33m[\u001b[0m\u001b[0mb\u001b[0m\u001b[1;33m]\u001b[0m\u001b[1;33m)\u001b[0m\u001b[1;33m,\u001b[0m \u001b[0maxis\u001b[0m\u001b[1;33m=\u001b[0m\u001b[1;36m0\u001b[0m\u001b[1;33m)\u001b[0m\u001b[1;33m\u001b[0m\u001b[1;33m\u001b[0m\u001b[0m\n\u001b[0m",
      "\u001b[1;32m<__array_function__ internals>\u001b[0m in \u001b[0;36mconcatenate\u001b[1;34m(*args, **kwargs)\u001b[0m\n",
      "\u001b[1;31mValueError\u001b[0m: all the input array dimensions for the concatenation axis must match exactly, but along dimension 1, the array at index 0 has size 3 and the array at index 1 has size 4"
     ]
    }
   ],
   "source": [
    "aa = np.concatenate((a,a)).reshape(2,3)\n",
    "\n",
    "np.concatenate((aa, [b]), axis=0)"
   ]
  },
  {
   "cell_type": "code",
   "execution_count": 94,
   "metadata": {},
   "outputs": [
    {
     "output_type": "execute_result",
     "data": {
      "text/plain": [
       "array([[0, 0, 1],\n",
       "       [0, 1, 0],\n",
       "       [0, 0, 1]])"
      ]
     },
     "metadata": {},
     "execution_count": 94
    }
   ],
   "source": [
    "a = np.array([[0,0,1]])\n",
    "b = np.array([[0,1,0],\n",
    "              [0,0,1]])\n",
    "\n",
    "c = [a,b]\n",
    "\n",
    "np.concatenate([a,b])"
   ]
  },
  {
   "cell_type": "code",
   "execution_count": 21,
   "metadata": {},
   "outputs": [
    {
     "output_type": "execute_result",
     "data": {
      "text/plain": [
       "[(0, 1)]"
      ]
     },
     "metadata": {},
     "execution_count": 21
    }
   ],
   "source": [
    "import itertools as it\n",
    "import more_itertools as mit\n",
    "import numpy as np\n",
    "\n",
    "def get_pivot_indexes(n:int):\n",
    "    '''\n",
    "    params n: number of sides of the polygon to be constructed\n",
    "    return: list of n-shaped tuples with indexes of pivots for each unique polygon.\n",
    "            These polygons are unique under rotations and reflections.\n",
    "    '''\n",
    "    perms = list(it.permutations(range(n)))\n",
    "    ordered_perms = set([sorted(mit.circular_shifts(p))[0] for p in perms])\n",
    "    unique_perms = []\n",
    "    for p in ordered_perms:\n",
    "        if sorted(mit.circular_shifts(reversed(p)))[0] not in unique_perms:\n",
    "            unique_perms.append(p)\n",
    "    return sorted(unique_perms)\n",
    "\n",
    "get_pivot_indexes(2)"
   ]
  },
  {
   "cell_type": "code",
   "execution_count": 102,
   "metadata": {},
   "outputs": [
    {
     "output_type": "execute_result",
     "data": {
      "text/plain": [
       "[(4, 3, 2, 1, 0),\n",
       " (3, 2, 1, 0, 4),\n",
       " (2, 1, 0, 4, 3),\n",
       " (1, 0, 4, 3, 2),\n",
       " (0, 4, 3, 2, 1)]"
      ]
     },
     "metadata": {},
     "execution_count": 102
    }
   ],
   "source": [
    "sorted(mit.circular_shifts([3,0,1,2]))[0]\n",
    "sorted(mit.circular_shifts([3,2,0,1]))[0]\n",
    "sorted(mit.circular_shifts(reversed(list(range(5)))), reverse=True)"
   ]
  },
  {
   "cell_type": "code",
   "execution_count": 29,
   "metadata": {},
   "outputs": [
    {
     "output_type": "execute_result",
     "data": {
      "text/plain": [
       "array([[0, 0, 0],\n",
       "       [0, 0, 1],\n",
       "       [1, 0, 0],\n",
       "       [1, 0, 1],\n",
       "       [0, 1, 0],\n",
       "       [0, 1, 1],\n",
       "       [1, 1, 0],\n",
       "       [1, 1, 1]])"
      ]
     },
     "metadata": {},
     "execution_count": 29
    }
   ],
   "source": [
    "def cartesian_product(*arrays):\n",
    "    return np.stack(np.meshgrid(*arrays), -1).reshape(-1, len(arrays))\n",
    "cartesian_product(*[list(range(2)) for _ in range(3)])\n",
    "# cartesian_product([0,1,2], [0,1,2])"
   ]
  },
  {
   "cell_type": "code",
   "execution_count": 33,
   "metadata": {},
   "outputs": [
    {
     "output_type": "execute_result",
     "data": {
      "text/plain": [
       "[array([ True, False, False, False]),\n",
       " array([False,  True, False, False]),\n",
       " array([False, False,  True, False]),\n",
       " array([False, False, False,  True])]"
      ]
     },
     "metadata": {},
     "execution_count": 33
    }
   ],
   "source": [
    "[np.arange(n) == i for i in range(n)]"
   ]
  },
  {
   "cell_type": "code",
   "execution_count": 40,
   "metadata": {},
   "outputs": [],
   "source": [
    "from scipy.spatial.transform import Rotation as R\n",
    "\n",
    "def rotation_matrix_from_vectors(vec1, vec2):\n",
    "    \"\"\"\n",
    "    Find the rotation matrix that aligns vec1 to vec2\n",
    "    :param vec1: A 3d \"source\" vector\n",
    "    :param vec2: A 3d \"destination\" vector\n",
    "    :return mat: A transform matrix (3x3) which when applied to vec1, aligns it with vec2.\n",
    "\n",
    "    \"\"\"\n",
    "    a, b = (vec1 / np.linalg.norm(vec1)).reshape(3), (vec2 / np.linalg.norm(vec2)).reshape(3)\n",
    "    v = np.cross(a, b)\n",
    "    c = np.dot(a, b)\n",
    "    s = np.linalg.norm(v)\n",
    "    kmat = np.array([[0, -v[2], v[1]], [v[2], 0, -v[0]], [-v[1], v[0], 0]])\n",
    "    rotation_matrix = np.eye(3) + kmat + kmat.dot(kmat) * ((1 - c) / (s ** 2))\n",
    "    return rotation_matrix\n",
    "\n",
    "def polygonize(vectors, opt=True):\n",
    "    '''\n",
    "    params vetors: (N,3) vector array describing 3D vectors\n",
    "    return vertexes: (X,N,3) array of X arrangements of the N vectors in space,\n",
    "                     as a polygon. Coordinates indicate polygon vertexes.\n",
    "                     First side of polygon is first vector.\n",
    "    '''\n",
    "    mean_angle = 180*(vectors.shape[0] - 2)/vectors.shape[0]\n",
    "\n",
    "    vectors = [rotation_matrix_from_vectors(v, np.array([1,0,0])) @ v for v in vectors]\n",
    "    # aligning all vectors on the x axis\n",
    "\n",
    "    def chain(i):\n",
    "        # i is the position in list for vector v\n",
    "        v = np.array([0,0,0], dtype=np.float64)\n",
    "        if i == 0:\n",
    "            return v\n",
    "        else:\n",
    "            while i != 0:\n",
    "                rot = R.from_rotvec([0, 0, np.pi/180*((180-mean_angle)*i)]).as_matrix()\n",
    "                v += rot @ vectors[i-1]\n",
    "                i += -1\n",
    "            return v\n",
    "\n",
    "    vertexes = np.array([chain(i) for i in range(len(vectors))])\n",
    "    vertexes = np.vstack((vertexes, np.array([vertexes[0]])))\n",
    "    # vertex of a first rough estimate of 2D flat polygon, to be optimized. Last vertex should end up where the first is\n",
    "\n",
    "    # return vertexes\n",
    "\n",
    "    it = 0\n",
    "    target_distances = np.linalg.norm(vectors, axis=1)\n",
    "    if opt:\n",
    "        while True:\n",
    "\n",
    "            distances_next = np.array([vertexes[i+1]-vertexes[i] for i in range(len(vertexes)-1)])\n",
    "            deltas_next = np.array([np.linalg.norm(distances_next[i]) - target_distances[i] for i in range(len(distances_next))])\n",
    "\n",
    "            distances_prev = np.array([vertexes[i-1]-vertexes[i] for i in range(len(vertexes)-1)])\n",
    "            deltas_prev = np.array([np.linalg.norm(distances_prev[i]) - target_distances[i] for i in range(len(distances_prev))])\n",
    "\n",
    "            deltas = deltas_next + deltas_prev\n",
    "\n",
    "            def clean(array):\n",
    "                msk = np.where(array < 1e-2)\n",
    "                array[msk] = 0.\n",
    "                return array\n",
    "            print(clean(deltas))\n",
    "\n",
    "            if np.sum(np.abs(deltas)) < 1e-5:\n",
    "                print(f'Converged in {it} iterations, delta = {round(np.sum(np.abs(deltas)), 3)}')\n",
    "                # print(deltas)\n",
    "                return vertexes\n",
    "\n",
    "            if it > 100 or np.inf in deltas:\n",
    "                raise Exception('ConvergenceError')\n",
    "\n",
    "            else:\n",
    "                moves_next = np.array([deltas_next[i]*distances_next[i] for i in range(len(deltas_next))])\n",
    "                moves_prev = np.array([deltas_prev[i]*distances_prev[i] for i in range(len(deltas_prev))])\n",
    "                moves = moves_next + moves_prev\n",
    "                # for each point, calculate how far from equilibrium we are with his next neighbor and use this to weigh motion\n",
    "                # assert vertexes[:-1].shape == moves.shape\n",
    "                vertexes[:-1] += moves*0.5\n",
    "                vertexes[-1] = vertexes[0]\n",
    "                it += 1\n",
    "    else:\n",
    "        return vertexes"
   ]
  },
  {
   "cell_type": "code",
   "execution_count": 41,
   "metadata": {
    "tags": []
   },
   "outputs": [
    {
     "output_type": "stream",
     "name": "stdout",
     "text": [
      "[0.         0.         1.         0.         1.54336192]\n[0.         0.         1.01382628 0.         0.8130423 ]\n[0.         0.33882979 1.99643004 0.         1.24628451]\n[0.         0.         1.96499774 1.4463859  1.9066193 ]\n[0.         2.88248962 7.85044933 1.59998159 0.33437729]\n[ 6.39067825 26.94643606 40.99490664 21.76212334  4.43639759]\n[ 279.02629769  954.72297554 1293.99519197  817.25987031  219.67671134]\n[ 307227.14960516  994845.34316641 1318050.24573522  861468.88560917\n  250043.41034009]\n[3.30799043e+11 1.04953519e+12 1.37927870e+12 9.12462486e+11\n 2.72606353e+11]\n[3.67718829e+23 1.15717267e+24 1.51579287e+24 1.00774691e+24\n 3.04604251e+23]\n[4.46835815e+47 1.40146592e+48 1.83341235e+48 1.22148779e+48\n 3.70988018e+47]\n[6.55321565e+95 2.05260044e+96 2.68391997e+96 1.78981735e+96\n 5.44683806e+95]\n[inf inf inf inf inf]\n"
     ]
    },
    {
     "output_type": "error",
     "ename": "Exception",
     "evalue": "ConvergenceError",
     "traceback": [
      "\u001b[1;31m---------------------------------------------------------------------------\u001b[0m",
      "\u001b[1;31mException\u001b[0m                                 Traceback (most recent call last)",
      "\u001b[1;32m<ipython-input-41-5731705d811f>\u001b[0m in \u001b[0;36m<module>\u001b[1;34m\u001b[0m\n\u001b[0;32m      5\u001b[0m \u001b[0mvecs\u001b[0m \u001b[1;33m=\u001b[0m \u001b[0mnp\u001b[0m\u001b[1;33m.\u001b[0m\u001b[0mvstack\u001b[0m\u001b[1;33m(\u001b[0m\u001b[1;33m(\u001b[0m\u001b[0mw\u001b[0m\u001b[1;33m,\u001b[0m\u001b[1;36m2\u001b[0m\u001b[1;33m*\u001b[0m\u001b[0mw\u001b[0m\u001b[1;33m,\u001b[0m\u001b[0mw\u001b[0m\u001b[1;33m,\u001b[0m\u001b[1;36m2\u001b[0m\u001b[1;33m*\u001b[0m\u001b[0mw\u001b[0m\u001b[1;33m,\u001b[0m\u001b[0mw\u001b[0m\u001b[1;33m)\u001b[0m\u001b[1;33m)\u001b[0m\u001b[1;33m\u001b[0m\u001b[1;33m\u001b[0m\u001b[0m\n\u001b[0;32m      6\u001b[0m \u001b[1;33m\u001b[0m\u001b[0m\n\u001b[1;32m----> 7\u001b[1;33m \u001b[0mpoly\u001b[0m \u001b[1;33m=\u001b[0m \u001b[0mpolygonize\u001b[0m\u001b[1;33m(\u001b[0m\u001b[0mvecs\u001b[0m\u001b[1;33m)\u001b[0m\u001b[1;33m\u001b[0m\u001b[1;33m\u001b[0m\u001b[0m\n\u001b[0m\u001b[0;32m      8\u001b[0m \u001b[0mx\u001b[0m \u001b[1;33m=\u001b[0m \u001b[1;33m[\u001b[0m\u001b[0mp\u001b[0m\u001b[1;33m[\u001b[0m\u001b[1;36m0\u001b[0m\u001b[1;33m]\u001b[0m \u001b[1;32mfor\u001b[0m \u001b[0mp\u001b[0m \u001b[1;32min\u001b[0m \u001b[0mpoly\u001b[0m\u001b[1;33m]\u001b[0m\u001b[1;33m\u001b[0m\u001b[1;33m\u001b[0m\u001b[0m\n\u001b[0;32m      9\u001b[0m \u001b[0my\u001b[0m \u001b[1;33m=\u001b[0m \u001b[1;33m[\u001b[0m\u001b[0mp\u001b[0m\u001b[1;33m[\u001b[0m\u001b[1;36m1\u001b[0m\u001b[1;33m]\u001b[0m \u001b[1;32mfor\u001b[0m \u001b[0mp\u001b[0m \u001b[1;32min\u001b[0m \u001b[0mpoly\u001b[0m\u001b[1;33m]\u001b[0m\u001b[1;33m\u001b[0m\u001b[1;33m\u001b[0m\u001b[0m\n",
      "\u001b[1;32m<ipython-input-40-9745d1f77199>\u001b[0m in \u001b[0;36mpolygonize\u001b[1;34m(vectors, opt)\u001b[0m\n\u001b[0;32m     72\u001b[0m \u001b[1;33m\u001b[0m\u001b[0m\n\u001b[0;32m     73\u001b[0m             \u001b[1;32mif\u001b[0m \u001b[0mit\u001b[0m \u001b[1;33m>\u001b[0m \u001b[1;36m100\u001b[0m \u001b[1;32mor\u001b[0m \u001b[0mnp\u001b[0m\u001b[1;33m.\u001b[0m\u001b[0minf\u001b[0m \u001b[1;32min\u001b[0m \u001b[0mdeltas\u001b[0m\u001b[1;33m:\u001b[0m\u001b[1;33m\u001b[0m\u001b[1;33m\u001b[0m\u001b[0m\n\u001b[1;32m---> 74\u001b[1;33m                 \u001b[1;32mraise\u001b[0m \u001b[0mException\u001b[0m\u001b[1;33m(\u001b[0m\u001b[1;34m'ConvergenceError'\u001b[0m\u001b[1;33m)\u001b[0m\u001b[1;33m\u001b[0m\u001b[1;33m\u001b[0m\u001b[0m\n\u001b[0m\u001b[0;32m     75\u001b[0m \u001b[1;33m\u001b[0m\u001b[0m\n\u001b[0;32m     76\u001b[0m             \u001b[1;32melse\u001b[0m\u001b[1;33m:\u001b[0m\u001b[1;33m\u001b[0m\u001b[1;33m\u001b[0m\u001b[0m\n",
      "\u001b[1;31mException\u001b[0m: ConvergenceError"
     ]
    }
   ],
   "source": [
    "n = 4\n",
    "vecs = np.array(np.stack([[1,0,0] for _ in range(n)], 0), dtype=np.float64) + np.random.rand(n*3).reshape((n,3)) * 1\n",
    "# vecs = np.array([v/np.linalg.norm(v) for v in vecs])\n",
    "w = np.array([0.,1.,0.])\n",
    "vecs = np.vstack((w,2*w,w,2*w,w))\n",
    "\n",
    "poly = polygonize(vecs)\n",
    "x = [p[0] for p in poly]\n",
    "y = [p[1] for p in poly]\n",
    "z = [p[2] for p in poly]\n",
    "\n",
    "poly_raw = polygonize(vecs, opt=False)\n",
    "xr = [p[0] for p in poly_raw]\n",
    "yr = [p[1] for p in poly_raw]\n",
    "zr = [p[2] for p in poly_raw]\n"
   ]
  },
  {
   "cell_type": "code",
   "execution_count": 33,
   "metadata": {},
   "outputs": [
    {
     "output_type": "display_data",
     "data": {
      "text/plain": "<Figure size 432x288 with 1 Axes>",
      "image/svg+xml": "<?xml version=\"1.0\" encoding=\"utf-8\" standalone=\"no\"?>\r\n<!DOCTYPE svg PUBLIC \"-//W3C//DTD SVG 1.1//EN\"\r\n  \"http://www.w3.org/Graphics/SVG/1.1/DTD/svg11.dtd\">\r\n<!-- Created with matplotlib (https://matplotlib.org/) -->\r\n<svg height=\"296.175013pt\" version=\"1.1\" viewBox=\"0 0 285.827391 296.175013\" width=\"285.827391pt\" xmlns=\"http://www.w3.org/2000/svg\" xmlns:xlink=\"http://www.w3.org/1999/xlink\">\r\n <metadata>\r\n  <rdf:RDF xmlns:cc=\"http://creativecommons.org/ns#\" xmlns:dc=\"http://purl.org/dc/elements/1.1/\" xmlns:rdf=\"http://www.w3.org/1999/02/22-rdf-syntax-ns#\">\r\n   <cc:Work>\r\n    <dc:type rdf:resource=\"http://purl.org/dc/dcmitype/StillImage\"/>\r\n    <dc:date>2021-03-20T19:29:20.459965</dc:date>\r\n    <dc:format>image/svg+xml</dc:format>\r\n    <dc:creator>\r\n     <cc:Agent>\r\n      <dc:title>Matplotlib v3.3.2, https://matplotlib.org/</dc:title>\r\n     </cc:Agent>\r\n    </dc:creator>\r\n   </cc:Work>\r\n  </rdf:RDF>\r\n </metadata>\r\n <defs>\r\n  <style type=\"text/css\">*{stroke-linecap:butt;stroke-linejoin:round;}</style>\r\n </defs>\r\n <g id=\"figure_1\">\r\n  <g id=\"patch_1\">\r\n   <path d=\"M 0 296.175013 \r\nL 285.827391 296.175013 \r\nL 285.827391 0 \r\nL 0 0 \r\nz\r\n\" style=\"fill:none;\"/>\r\n  </g>\r\n  <g id=\"patch_2\">\r\n   <path d=\"M 7.2 273.6 \r\nL 273.6 273.6 \r\nL 273.6 7.2 \r\nL 7.2 7.2 \r\nz\r\n\" style=\"fill:#ffffff;\"/>\r\n  </g>\r\n  <g id=\"pane3d_1\">\r\n   <g id=\"patch_3\">\r\n    <path d=\"M 36.864677 219.074485 \r\nL 117.461292 150.069354 \r\nL 116.0542 18.531955 \r\nL 30.693526 80.146763 \r\n\" style=\"fill:#f2f2f2;opacity:0.5;stroke:#f2f2f2;stroke-linejoin:miter;\"/>\r\n   </g>\r\n  </g>\r\n  <g id=\"pane3d_2\">\r\n   <g id=\"patch_4\">\r\n    <path d=\"M 117.461292 150.069354 \r\nL 247.559522 188.579761 \r\nL 253.314541 52.851987 \r\nL 116.0542 18.531955 \r\n\" style=\"fill:#e6e6e6;opacity:0.5;stroke:#e6e6e6;stroke-linejoin:miter;\"/>\r\n   </g>\r\n  </g>\r\n  <g id=\"pane3d_3\">\r\n   <g id=\"patch_5\">\r\n    <path d=\"M 36.864677 219.074485 \r\nL 174.127877 264.302708 \r\nL 247.559522 188.579761 \r\nL 117.461292 150.069354 \r\n\" style=\"fill:#ececec;opacity:0.5;stroke:#ececec;stroke-linejoin:miter;\"/>\r\n   </g>\r\n  </g>\r\n  <g id=\"axis3d_1\">\r\n   <g id=\"line2d_1\">\r\n    <path d=\"M 36.864677 219.074485 \r\nL 174.127877 264.302708 \r\n\" style=\"fill:none;stroke:#000000;stroke-linecap:square;stroke-width:0.8;\"/>\r\n   </g>\r\n   <g id=\"Line3DCollection_1\">\r\n    <path d=\"M 45.212661 221.825145 \r\nL 125.401298 152.419677 \r\nL 124.412298 20.62178 \r\n\" style=\"fill:none;stroke:#b0b0b0;stroke-width:0.8;\"/>\r\n    <path d=\"M 68.370149 229.455537 \r\nL 147.408161 158.933933 \r\nL 147.590861 26.417256 \r\n\" style=\"fill:none;stroke:#b0b0b0;stroke-width:0.8;\"/>\r\n    <path d=\"M 91.916512 237.214064 \r\nL 169.756154 165.549168 \r\nL 171.148134 32.307424 \r\n\" style=\"fill:none;stroke:#b0b0b0;stroke-width:0.8;\"/>\r\n    <path d=\"M 115.861628 245.103979 \r\nL 192.453271 172.267747 \r\nL 195.093477 38.294622 \r\n\" style=\"fill:none;stroke:#b0b0b0;stroke-width:0.8;\"/>\r\n    <path d=\"M 140.215713 253.12865 \r\nL 215.507758 179.092111 \r\nL 219.436558 44.38127 \r\n\" style=\"fill:none;stroke:#b0b0b0;stroke-width:0.8;\"/>\r\n    <path d=\"M 164.989335 261.291558 \r\nL 238.928123 186.024779 \r\nL 244.187369 50.569865 \r\n\" style=\"fill:none;stroke:#b0b0b0;stroke-width:0.8;\"/>\r\n   </g>\r\n   <g id=\"xtick_1\">\r\n    <g id=\"line2d_2\">\r\n     <path d=\"M 45.906282 221.224797 \r\nL 43.822687 223.028206 \r\n\" style=\"fill:none;stroke:#000000;stroke-linecap:square;stroke-width:0.8;\"/>\r\n    </g>\r\n    <g id=\"text_1\">\r\n     <!-- −1.0 -->\r\n     <g transform=\"translate(26.312361 246.594269)scale(0.1 -0.1)\">\r\n      <defs>\r\n       <path d=\"M 10.59375 35.5 \r\nL 73.1875 35.5 \r\nL 73.1875 27.203125 \r\nL 10.59375 27.203125 \r\nz\r\n\" id=\"DejaVuSans-8722\"/>\r\n       <path d=\"M 12.40625 8.296875 \r\nL 28.515625 8.296875 \r\nL 28.515625 63.921875 \r\nL 10.984375 60.40625 \r\nL 10.984375 69.390625 \r\nL 28.421875 72.90625 \r\nL 38.28125 72.90625 \r\nL 38.28125 8.296875 \r\nL 54.390625 8.296875 \r\nL 54.390625 0 \r\nL 12.40625 0 \r\nz\r\n\" id=\"DejaVuSans-49\"/>\r\n       <path d=\"M 10.6875 12.40625 \r\nL 21 12.40625 \r\nL 21 0 \r\nL 10.6875 0 \r\nz\r\n\" id=\"DejaVuSans-46\"/>\r\n       <path d=\"M 31.78125 66.40625 \r\nQ 24.171875 66.40625 20.328125 58.90625 \r\nQ 16.5 51.421875 16.5 36.375 \r\nQ 16.5 21.390625 20.328125 13.890625 \r\nQ 24.171875 6.390625 31.78125 6.390625 \r\nQ 39.453125 6.390625 43.28125 13.890625 \r\nQ 47.125 21.390625 47.125 36.375 \r\nQ 47.125 51.421875 43.28125 58.90625 \r\nQ 39.453125 66.40625 31.78125 66.40625 \r\nz\r\nM 31.78125 74.21875 \r\nQ 44.046875 74.21875 50.515625 64.515625 \r\nQ 56.984375 54.828125 56.984375 36.375 \r\nQ 56.984375 17.96875 50.515625 8.265625 \r\nQ 44.046875 -1.421875 31.78125 -1.421875 \r\nQ 19.53125 -1.421875 13.0625 8.265625 \r\nQ 6.59375 17.96875 6.59375 36.375 \r\nQ 6.59375 54.828125 13.0625 64.515625 \r\nQ 19.53125 74.21875 31.78125 74.21875 \r\nz\r\n\" id=\"DejaVuSans-48\"/>\r\n      </defs>\r\n      <use xlink:href=\"#DejaVuSans-8722\"/>\r\n      <use x=\"83.789062\" xlink:href=\"#DejaVuSans-49\"/>\r\n      <use x=\"147.412109\" xlink:href=\"#DejaVuSans-46\"/>\r\n      <use x=\"179.199219\" xlink:href=\"#DejaVuSans-48\"/>\r\n     </g>\r\n    </g>\r\n   </g>\r\n   <g id=\"xtick_2\">\r\n    <g id=\"line2d_3\">\r\n     <path d=\"M 69.054245 228.845154 \r\nL 66.99924 230.678729 \r\n\" style=\"fill:none;stroke:#000000;stroke-linecap:square;stroke-width:0.8;\"/>\r\n    </g>\r\n    <g id=\"text_2\">\r\n     <!-- −0.8 -->\r\n     <g transform=\"translate(49.466426 254.385416)scale(0.1 -0.1)\">\r\n      <defs>\r\n       <path d=\"M 31.78125 34.625 \r\nQ 24.75 34.625 20.71875 30.859375 \r\nQ 16.703125 27.09375 16.703125 20.515625 \r\nQ 16.703125 13.921875 20.71875 10.15625 \r\nQ 24.75 6.390625 31.78125 6.390625 \r\nQ 38.8125 6.390625 42.859375 10.171875 \r\nQ 46.921875 13.96875 46.921875 20.515625 \r\nQ 46.921875 27.09375 42.890625 30.859375 \r\nQ 38.875 34.625 31.78125 34.625 \r\nz\r\nM 21.921875 38.8125 \r\nQ 15.578125 40.375 12.03125 44.71875 \r\nQ 8.5 49.078125 8.5 55.328125 \r\nQ 8.5 64.0625 14.71875 69.140625 \r\nQ 20.953125 74.21875 31.78125 74.21875 \r\nQ 42.671875 74.21875 48.875 69.140625 \r\nQ 55.078125 64.0625 55.078125 55.328125 \r\nQ 55.078125 49.078125 51.53125 44.71875 \r\nQ 48 40.375 41.703125 38.8125 \r\nQ 48.828125 37.15625 52.796875 32.3125 \r\nQ 56.78125 27.484375 56.78125 20.515625 \r\nQ 56.78125 9.90625 50.3125 4.234375 \r\nQ 43.84375 -1.421875 31.78125 -1.421875 \r\nQ 19.734375 -1.421875 13.25 4.234375 \r\nQ 6.78125 9.90625 6.78125 20.515625 \r\nQ 6.78125 27.484375 10.78125 32.3125 \r\nQ 14.796875 37.15625 21.921875 38.8125 \r\nz\r\nM 18.3125 54.390625 \r\nQ 18.3125 48.734375 21.84375 45.5625 \r\nQ 25.390625 42.390625 31.78125 42.390625 \r\nQ 38.140625 42.390625 41.71875 45.5625 \r\nQ 45.3125 48.734375 45.3125 54.390625 \r\nQ 45.3125 60.0625 41.71875 63.234375 \r\nQ 38.140625 66.40625 31.78125 66.40625 \r\nQ 25.390625 66.40625 21.84375 63.234375 \r\nQ 18.3125 60.0625 18.3125 54.390625 \r\nz\r\n\" id=\"DejaVuSans-56\"/>\r\n      </defs>\r\n      <use xlink:href=\"#DejaVuSans-8722\"/>\r\n      <use x=\"83.789062\" xlink:href=\"#DejaVuSans-48\"/>\r\n      <use x=\"147.412109\" xlink:href=\"#DejaVuSans-46\"/>\r\n      <use x=\"179.199219\" xlink:href=\"#DejaVuSans-56\"/>\r\n     </g>\r\n    </g>\r\n   </g>\r\n   <g id=\"xtick_3\">\r\n    <g id=\"line2d_4\">\r\n     <path d=\"M 92.590663 236.59339 \r\nL 90.565509 238.457896 \r\n\" style=\"fill:none;stroke:#000000;stroke-linecap:square;stroke-width:0.8;\"/>\r\n    </g>\r\n    <g id=\"text_3\">\r\n     <!-- −0.6 -->\r\n     <g transform=\"translate(73.010206 262.307698)scale(0.1 -0.1)\">\r\n      <defs>\r\n       <path d=\"M 33.015625 40.375 \r\nQ 26.375 40.375 22.484375 35.828125 \r\nQ 18.609375 31.296875 18.609375 23.390625 \r\nQ 18.609375 15.53125 22.484375 10.953125 \r\nQ 26.375 6.390625 33.015625 6.390625 \r\nQ 39.65625 6.390625 43.53125 10.953125 \r\nQ 47.40625 15.53125 47.40625 23.390625 \r\nQ 47.40625 31.296875 43.53125 35.828125 \r\nQ 39.65625 40.375 33.015625 40.375 \r\nz\r\nM 52.59375 71.296875 \r\nL 52.59375 62.3125 \r\nQ 48.875 64.0625 45.09375 64.984375 \r\nQ 41.3125 65.921875 37.59375 65.921875 \r\nQ 27.828125 65.921875 22.671875 59.328125 \r\nQ 17.53125 52.734375 16.796875 39.40625 \r\nQ 19.671875 43.65625 24.015625 45.921875 \r\nQ 28.375 48.1875 33.59375 48.1875 \r\nQ 44.578125 48.1875 50.953125 41.515625 \r\nQ 57.328125 34.859375 57.328125 23.390625 \r\nQ 57.328125 12.15625 50.6875 5.359375 \r\nQ 44.046875 -1.421875 33.015625 -1.421875 \r\nQ 20.359375 -1.421875 13.671875 8.265625 \r\nQ 6.984375 17.96875 6.984375 36.375 \r\nQ 6.984375 53.65625 15.1875 63.9375 \r\nQ 23.390625 74.21875 37.203125 74.21875 \r\nQ 40.921875 74.21875 44.703125 73.484375 \r\nQ 48.484375 72.75 52.59375 71.296875 \r\nz\r\n\" id=\"DejaVuSans-54\"/>\r\n      </defs>\r\n      <use xlink:href=\"#DejaVuSans-8722\"/>\r\n      <use x=\"83.789062\" xlink:href=\"#DejaVuSans-48\"/>\r\n      <use x=\"147.412109\" xlink:href=\"#DejaVuSans-46\"/>\r\n      <use x=\"179.199219\" xlink:href=\"#DejaVuSans-54\"/>\r\n     </g>\r\n    </g>\r\n   </g>\r\n   <g id=\"xtick_4\">\r\n    <g id=\"line2d_5\">\r\n     <path d=\"M 116.525399 244.472754 \r\nL 114.531405 246.368979 \r\n\" style=\"fill:none;stroke:#000000;stroke-linecap:square;stroke-width:0.8;\"/>\r\n    </g>\r\n    <g id=\"text_4\">\r\n     <!-- −0.4 -->\r\n     <g transform=\"translate(96.953623 270.364456)scale(0.1 -0.1)\">\r\n      <defs>\r\n       <path d=\"M 37.796875 64.3125 \r\nL 12.890625 25.390625 \r\nL 37.796875 25.390625 \r\nz\r\nM 35.203125 72.90625 \r\nL 47.609375 72.90625 \r\nL 47.609375 25.390625 \r\nL 58.015625 25.390625 \r\nL 58.015625 17.1875 \r\nL 47.609375 17.1875 \r\nL 47.609375 0 \r\nL 37.796875 0 \r\nL 37.796875 17.1875 \r\nL 4.890625 17.1875 \r\nL 4.890625 26.703125 \r\nz\r\n\" id=\"DejaVuSans-52\"/>\r\n      </defs>\r\n      <use xlink:href=\"#DejaVuSans-8722\"/>\r\n      <use x=\"83.789062\" xlink:href=\"#DejaVuSans-48\"/>\r\n      <use x=\"147.412109\" xlink:href=\"#DejaVuSans-46\"/>\r\n      <use x=\"179.199219\" xlink:href=\"#DejaVuSans-52\"/>\r\n     </g>\r\n    </g>\r\n   </g>\r\n   <g id=\"xtick_5\">\r\n    <g id=\"line2d_6\">\r\n     <path d=\"M 140.86865 252.486601 \r\nL 138.907181 254.415362 \r\n\" style=\"fill:none;stroke:#000000;stroke-linecap:square;stroke-width:0.8;\"/>\r\n    </g>\r\n    <g id=\"text_5\">\r\n     <!-- −0.2 -->\r\n     <g transform=\"translate(121.306939 278.559141)scale(0.1 -0.1)\">\r\n      <defs>\r\n       <path d=\"M 19.1875 8.296875 \r\nL 53.609375 8.296875 \r\nL 53.609375 0 \r\nL 7.328125 0 \r\nL 7.328125 8.296875 \r\nQ 12.9375 14.109375 22.625 23.890625 \r\nQ 32.328125 33.6875 34.8125 36.53125 \r\nQ 39.546875 41.84375 41.421875 45.53125 \r\nQ 43.3125 49.21875 43.3125 52.78125 \r\nQ 43.3125 58.59375 39.234375 62.25 \r\nQ 35.15625 65.921875 28.609375 65.921875 \r\nQ 23.96875 65.921875 18.8125 64.3125 \r\nQ 13.671875 62.703125 7.8125 59.421875 \r\nL 7.8125 69.390625 \r\nQ 13.765625 71.78125 18.9375 73 \r\nQ 24.125 74.21875 28.421875 74.21875 \r\nQ 39.75 74.21875 46.484375 68.546875 \r\nQ 53.21875 62.890625 53.21875 53.421875 \r\nQ 53.21875 48.921875 51.53125 44.890625 \r\nQ 49.859375 40.875 45.40625 35.40625 \r\nQ 44.1875 33.984375 37.640625 27.21875 \r\nQ 31.109375 20.453125 19.1875 8.296875 \r\nz\r\n\" id=\"DejaVuSans-50\"/>\r\n      </defs>\r\n      <use xlink:href=\"#DejaVuSans-8722\"/>\r\n      <use x=\"83.789062\" xlink:href=\"#DejaVuSans-48\"/>\r\n      <use x=\"147.412109\" xlink:href=\"#DejaVuSans-46\"/>\r\n      <use x=\"179.199219\" xlink:href=\"#DejaVuSans-50\"/>\r\n     </g>\r\n    </g>\r\n   </g>\r\n   <g id=\"xtick_6\">\r\n    <g id=\"line2d_7\">\r\n     <path d=\"M 165.630964 260.638405 \r\nL 163.703442 262.600547 \r\n\" style=\"fill:none;stroke:#000000;stroke-linecap:square;stroke-width:0.8;\"/>\r\n    </g>\r\n    <g id=\"text_6\">\r\n     <!-- 0.0 -->\r\n     <g transform=\"translate(150.270616 286.895326)scale(0.1 -0.1)\">\r\n      <use xlink:href=\"#DejaVuSans-48\"/>\r\n      <use x=\"63.623047\" xlink:href=\"#DejaVuSans-46\"/>\r\n      <use x=\"95.410156\" xlink:href=\"#DejaVuSans-48\"/>\r\n     </g>\r\n    </g>\r\n   </g>\r\n  </g>\r\n  <g id=\"axis3d_2\">\r\n   <g id=\"line2d_8\">\r\n    <path d=\"M 247.559522 188.579761 \r\nL 174.127877 264.302708 \r\n\" style=\"fill:none;stroke:#000000;stroke-linecap:square;stroke-width:0.8;\"/>\r\n   </g>\r\n   <g id=\"Line3DCollection_2\">\r\n    <path d=\"M 36.562639 75.910336 \r\nL 42.383869 214.349068 \r\nL 179.173927 259.099205 \r\n\" style=\"fill:none;stroke:#b0b0b0;stroke-width:0.8;\"/>\r\n    <path d=\"M 52.336167 64.524731 \r\nL 57.233277 201.635317 \r\nL 192.737526 245.112379 \r\n\" style=\"fill:none;stroke:#b0b0b0;stroke-width:0.8;\"/>\r\n    <path d=\"M 67.650313 53.470716 \r\nL 71.673002 189.272327 \r\nL 205.909025 231.529887 \r\n\" style=\"fill:none;stroke:#b0b0b0;stroke-width:0.8;\"/>\r\n    <path d=\"M 82.524856 42.734014 \r\nL 85.719767 177.245782 \r\nL 218.705184 218.334447 \r\n\" style=\"fill:none;stroke:#b0b0b0;stroke-width:0.8;\"/>\r\n    <path d=\"M 96.978457 32.301155 \r\nL 99.389398 165.54213 \r\nL 231.141822 205.509746 \r\n\" style=\"fill:none;stroke:#b0b0b0;stroke-width:0.8;\"/>\r\n    <path d=\"M 111.028737 22.159421 \r\nL 112.696882 154.148542 \r\nL 243.233881 193.040377 \r\n\" style=\"fill:none;stroke:#b0b0b0;stroke-width:0.8;\"/>\r\n   </g>\r\n   <g id=\"xtick_7\">\r\n    <g id=\"line2d_9\">\r\n     <path d=\"M 178.026181 258.723727 \r\nL 181.472133 259.851051 \r\n\" style=\"fill:none;stroke:#000000;stroke-linecap:square;stroke-width:0.8;\"/>\r\n    </g>\r\n    <g id=\"text_7\">\r\n     <!-- 0.0 -->\r\n     <g transform=\"translate(182.944972 281.755716)scale(0.1 -0.1)\">\r\n      <use xlink:href=\"#DejaVuSans-48\"/>\r\n      <use x=\"63.623047\" xlink:href=\"#DejaVuSans-46\"/>\r\n      <use x=\"95.410156\" xlink:href=\"#DejaVuSans-48\"/>\r\n     </g>\r\n    </g>\r\n   </g>\r\n   <g id=\"xtick_8\">\r\n    <g id=\"line2d_10\">\r\n     <path d=\"M 191.601344 244.747831 \r\nL 195.012536 245.842325 \r\n\" style=\"fill:none;stroke:#000000;stroke-linecap:square;stroke-width:0.8;\"/>\r\n    </g>\r\n    <g id=\"text_8\">\r\n     <!-- 0.2 -->\r\n     <g transform=\"translate(196.328321 267.556878)scale(0.1 -0.1)\">\r\n      <use xlink:href=\"#DejaVuSans-48\"/>\r\n      <use x=\"63.623047\" xlink:href=\"#DejaVuSans-46\"/>\r\n      <use x=\"95.410156\" xlink:href=\"#DejaVuSans-50\"/>\r\n     </g>\r\n    </g>\r\n   </g>\r\n   <g id=\"xtick_9\">\r\n    <g id=\"line2d_11\">\r\n     <path d=\"M 204.784224 231.175799 \r\nL 208.16121 232.238876 \r\n\" style=\"fill:none;stroke:#000000;stroke-linecap:square;stroke-width:0.8;\"/>\r\n    </g>\r\n    <g id=\"text_9\">\r\n     <!-- 0.4 -->\r\n     <g transform=\"translate(209.325018 253.768252)scale(0.1 -0.1)\">\r\n      <use xlink:href=\"#DejaVuSans-48\"/>\r\n      <use x=\"63.623047\" xlink:href=\"#DejaVuSans-46\"/>\r\n      <use x=\"95.410156\" xlink:href=\"#DejaVuSans-52\"/>\r\n     </g>\r\n    </g>\r\n   </g>\r\n   <g id=\"xtick_10\">\r\n    <g id=\"line2d_12\">\r\n     <path d=\"M 217.591581 217.990375 \r\nL 220.934912 219.023369 \r\n\" style=\"fill:none;stroke:#000000;stroke-linecap:square;stroke-width:0.8;\"/>\r\n    </g>\r\n    <g id=\"text_10\">\r\n     <!-- 0.6 -->\r\n     <g transform=\"translate(221.95158 240.372315)scale(0.1 -0.1)\">\r\n      <use xlink:href=\"#DejaVuSans-48\"/>\r\n      <use x=\"63.623047\" xlink:href=\"#DejaVuSans-46\"/>\r\n      <use x=\"95.410156\" xlink:href=\"#DejaVuSans-54\"/>\r\n     </g>\r\n    </g>\r\n   </g>\r\n   <g id=\"xtick_11\">\r\n    <g id=\"line2d_13\">\r\n     <path d=\"M 230.039235 205.175272 \r\nL 233.349457 206.179441 \r\n\" style=\"fill:none;stroke:#000000;stroke-linecap:square;stroke-width:0.8;\"/>\r\n    </g>\r\n    <g id=\"text_11\">\r\n     <!-- 0.8 -->\r\n     <g transform=\"translate(234.223598 227.352526)scale(0.1 -0.1)\">\r\n      <use xlink:href=\"#DejaVuSans-48\"/>\r\n      <use x=\"63.623047\" xlink:href=\"#DejaVuSans-46\"/>\r\n      <use x=\"95.410156\" xlink:href=\"#DejaVuSans-56\"/>\r\n     </g>\r\n    </g>\r\n   </g>\r\n   <g id=\"xtick_12\">\r\n    <g id=\"line2d_14\">\r\n     <path d=\"M 242.142132 192.715104 \r\nL 245.419782 193.691638 \r\n\" style=\"fill:none;stroke:#000000;stroke-linecap:square;stroke-width:0.8;\"/>\r\n    </g>\r\n    <g id=\"text_12\">\r\n     <!-- 1.0 -->\r\n     <g transform=\"translate(246.155796 214.693262)scale(0.1 -0.1)\">\r\n      <use xlink:href=\"#DejaVuSans-49\"/>\r\n      <use x=\"63.623047\" xlink:href=\"#DejaVuSans-46\"/>\r\n      <use x=\"95.410156\" xlink:href=\"#DejaVuSans-48\"/>\r\n     </g>\r\n    </g>\r\n   </g>\r\n  </g>\r\n  <g id=\"axis3d_3\">\r\n   <g id=\"line2d_15\">\r\n    <path d=\"M 247.559522 188.579761 \r\nL 253.314541 52.851987 \r\n\" style=\"fill:none;stroke:#000000;stroke-linecap:square;stroke-width:0.8;\"/>\r\n   </g>\r\n   <g id=\"Line3DCollection_3\">\r\n    <path d=\"M 248.388873 169.020141 \r\nL 117.258097 131.074305 \r\nL 35.976818 199.086613 \r\n\" style=\"fill:none;stroke:#b0b0b0;stroke-width:0.8;\"/>\r\n    <path d=\"M 249.364845 146.002584 \r\nL 117.01916 108.738107 \r\nL 34.931366 175.550926 \r\n\" style=\"fill:none;stroke:#b0b0b0;stroke-width:0.8;\"/>\r\n    <path d=\"M 250.359239 122.550564 \r\nL 116.775916 85.999167 \r\nL 33.865481 151.555228 \r\n\" style=\"fill:none;stroke:#b0b0b0;stroke-width:0.8;\"/>\r\n    <path d=\"M 251.37258 98.651664 \r\nL 116.528245 62.846493 \r\nL 32.778556 127.0859 \r\n\" style=\"fill:none;stroke:#b0b0b0;stroke-width:0.8;\"/>\r\n    <path d=\"M 252.405417 74.292989 \r\nL 116.276027 39.268688 \r\nL 31.669964 102.12878 \r\n\" style=\"fill:none;stroke:#b0b0b0;stroke-width:0.8;\"/>\r\n   </g>\r\n   <g id=\"xtick_13\">\r\n    <g id=\"line2d_16\">\r\n     <path d=\"M 247.292018 168.70274 \r\nL 250.585005 169.655645 \r\n\" style=\"fill:none;stroke:#000000;stroke-linecap:square;stroke-width:0.8;\"/>\r\n    </g>\r\n    <g id=\"text_13\">\r\n     <!-- −0.4 -->\r\n     <g transform=\"translate(253.213172 174.21712)scale(0.1 -0.1)\">\r\n      <use xlink:href=\"#DejaVuSans-8722\"/>\r\n      <use x=\"83.789062\" xlink:href=\"#DejaVuSans-48\"/>\r\n      <use x=\"147.412109\" xlink:href=\"#DejaVuSans-46\"/>\r\n      <use x=\"179.199219\" xlink:href=\"#DejaVuSans-52\"/>\r\n     </g>\r\n    </g>\r\n   </g>\r\n   <g id=\"xtick_14\">\r\n    <g id=\"line2d_17\">\r\n     <path d=\"M 248.257377 145.690755 \r\nL 251.58225 146.626937 \r\n\" style=\"fill:none;stroke:#000000;stroke-linecap:square;stroke-width:0.8;\"/>\r\n    </g>\r\n    <g id=\"text_14\">\r\n     <!-- −0.2 -->\r\n     <g transform=\"translate(254.344578 151.241775)scale(0.1 -0.1)\">\r\n      <use xlink:href=\"#DejaVuSans-8722\"/>\r\n      <use x=\"83.789062\" xlink:href=\"#DejaVuSans-48\"/>\r\n      <use x=\"147.412109\" xlink:href=\"#DejaVuSans-46\"/>\r\n      <use x=\"179.199219\" xlink:href=\"#DejaVuSans-50\"/>\r\n     </g>\r\n    </g>\r\n   </g>\r\n   <g id=\"xtick_15\">\r\n    <g id=\"line2d_18\">\r\n     <path d=\"M 249.24095 122.244575 \r\nL 252.598331 123.16323 \r\n\" style=\"fill:none;stroke:#000000;stroke-linecap:square;stroke-width:0.8;\"/>\r\n    </g>\r\n    <g id=\"text_15\">\r\n     <!-- 0.0 -->\r\n     <g transform=\"translate(259.687123 127.833994)scale(0.1 -0.1)\">\r\n      <use xlink:href=\"#DejaVuSans-48\"/>\r\n      <use x=\"63.623047\" xlink:href=\"#DejaVuSans-46\"/>\r\n      <use x=\"95.410156\" xlink:href=\"#DejaVuSans-48\"/>\r\n     </g>\r\n    </g>\r\n   </g>\r\n   <g id=\"xtick_16\">\r\n    <g id=\"line2d_19\">\r\n     <path d=\"M 250.243258 98.351796 \r\nL 253.633789 99.252082 \r\n\" style=\"fill:none;stroke:#000000;stroke-linecap:square;stroke-width:0.8;\"/>\r\n    </g>\r\n    <g id=\"text_16\">\r\n     <!-- 0.2 -->\r\n     <g transform=\"translate(260.861727 103.981452)scale(0.1 -0.1)\">\r\n      <use xlink:href=\"#DejaVuSans-48\"/>\r\n      <use x=\"63.623047\" xlink:href=\"#DejaVuSans-46\"/>\r\n      <use x=\"95.410156\" xlink:href=\"#DejaVuSans-50\"/>\r\n     </g>\r\n    </g>\r\n   </g>\r\n   <g id=\"xtick_17\">\r\n    <g id=\"line2d_20\">\r\n     <path d=\"M 251.264841 73.999534 \r\nL 254.689183 74.880572 \r\n\" style=\"fill:none;stroke:#000000;stroke-linecap:square;stroke-width:0.8;\"/>\r\n    </g>\r\n    <g id=\"text_17\">\r\n     <!-- 0.4 -->\r\n     <g transform=\"translate(262.058862 79.671351)scale(0.1 -0.1)\">\r\n      <use xlink:href=\"#DejaVuSans-48\"/>\r\n      <use x=\"63.623047\" xlink:href=\"#DejaVuSans-46\"/>\r\n      <use x=\"95.410156\" xlink:href=\"#DejaVuSans-52\"/>\r\n     </g>\r\n    </g>\r\n   </g>\r\n  </g>\r\n  <g id=\"axes_1\">\r\n   <g id=\"line2d_21\">\r\n    <path clip-path=\"url(#pa19ede2ce2)\" d=\"M 170.829304 186.864162 \r\nL 237.025532 124.336942 \r\nL 120.054579 92.117236 \r\nL 48.099223 149.648268 \r\nL 170.829304 186.864162 \r\n\" style=\"fill:none;stroke:#0000ff;stroke-linecap:square;stroke-opacity:0.5;stroke-width:5;\"/>\r\n    <defs>\r\n     <path d=\"M 0 3 \r\nC 0.795609 3 1.55874 2.683901 2.12132 2.12132 \r\nC 2.683901 1.55874 3 0.795609 3 0 \r\nC 3 -0.795609 2.683901 -1.55874 2.12132 -2.12132 \r\nC 1.55874 -2.683901 0.795609 -3 0 -3 \r\nC -0.795609 -3 -1.55874 -2.683901 -2.12132 -2.12132 \r\nC -2.683901 -1.55874 -3 -0.795609 -3 0 \r\nC -3 0.795609 -2.683901 1.55874 -2.12132 2.12132 \r\nC -1.55874 2.683901 -0.795609 3 0 3 \r\nz\r\n\" id=\"m3de880f1ea\" style=\"stroke:#0000ff;stroke-opacity:0.5;\"/>\r\n    </defs>\r\n    <g clip-path=\"url(#pa19ede2ce2)\">\r\n     <use style=\"fill:#0000ff;fill-opacity:0.5;stroke:#0000ff;stroke-opacity:0.5;\" x=\"170.829304\" xlink:href=\"#m3de880f1ea\" y=\"186.864162\"/>\r\n     <use style=\"fill:#0000ff;fill-opacity:0.5;stroke:#0000ff;stroke-opacity:0.5;\" x=\"237.025532\" xlink:href=\"#m3de880f1ea\" y=\"124.336942\"/>\r\n     <use style=\"fill:#0000ff;fill-opacity:0.5;stroke:#0000ff;stroke-opacity:0.5;\" x=\"120.054579\" xlink:href=\"#m3de880f1ea\" y=\"92.117236\"/>\r\n     <use style=\"fill:#0000ff;fill-opacity:0.5;stroke:#0000ff;stroke-opacity:0.5;\" x=\"48.099223\" xlink:href=\"#m3de880f1ea\" y=\"149.648268\"/>\r\n     <use style=\"fill:#0000ff;fill-opacity:0.5;stroke:#0000ff;stroke-opacity:0.5;\" x=\"170.829304\" xlink:href=\"#m3de880f1ea\" y=\"186.864162\"/>\r\n    </g>\r\n   </g>\r\n   <g id=\"legend_1\">\r\n    <g id=\"patch_6\">\r\n     <path d=\"M 218.2125 29.878125 \r\nL 266.6 29.878125 \r\nQ 268.6 29.878125 268.6 27.878125 \r\nL 268.6 14.2 \r\nQ 268.6 12.2 266.6 12.2 \r\nL 218.2125 12.2 \r\nQ 216.2125 12.2 216.2125 14.2 \r\nL 216.2125 27.878125 \r\nQ 216.2125 29.878125 218.2125 29.878125 \r\nz\r\n\" style=\"fill:#ffffff;opacity:0.8;stroke:#cccccc;stroke-linejoin:miter;\"/>\r\n    </g>\r\n    <g id=\"line2d_22\">\r\n     <path d=\"M 220.2125 20.298438 \r\nL 240.2125 20.298438 \r\n\" style=\"fill:none;stroke:#0000ff;stroke-linecap:square;stroke-opacity:0.5;stroke-width:5;\"/>\r\n    </g>\r\n    <g id=\"line2d_23\">\r\n     <g>\r\n      <use style=\"fill:#0000ff;fill-opacity:0.5;stroke:#0000ff;stroke-opacity:0.5;\" x=\"230.2125\" xlink:href=\"#m3de880f1ea\" y=\"20.298438\"/>\r\n     </g>\r\n    </g>\r\n    <g id=\"text_18\">\r\n     <!-- opt -->\r\n     <g transform=\"translate(248.2125 23.798438)scale(0.1 -0.1)\">\r\n      <defs>\r\n       <path d=\"M 30.609375 48.390625 \r\nQ 23.390625 48.390625 19.1875 42.75 \r\nQ 14.984375 37.109375 14.984375 27.296875 \r\nQ 14.984375 17.484375 19.15625 11.84375 \r\nQ 23.34375 6.203125 30.609375 6.203125 \r\nQ 37.796875 6.203125 41.984375 11.859375 \r\nQ 46.1875 17.53125 46.1875 27.296875 \r\nQ 46.1875 37.015625 41.984375 42.703125 \r\nQ 37.796875 48.390625 30.609375 48.390625 \r\nz\r\nM 30.609375 56 \r\nQ 42.328125 56 49.015625 48.375 \r\nQ 55.71875 40.765625 55.71875 27.296875 \r\nQ 55.71875 13.875 49.015625 6.21875 \r\nQ 42.328125 -1.421875 30.609375 -1.421875 \r\nQ 18.84375 -1.421875 12.171875 6.21875 \r\nQ 5.515625 13.875 5.515625 27.296875 \r\nQ 5.515625 40.765625 12.171875 48.375 \r\nQ 18.84375 56 30.609375 56 \r\nz\r\n\" id=\"DejaVuSans-111\"/>\r\n       <path d=\"M 18.109375 8.203125 \r\nL 18.109375 -20.796875 \r\nL 9.078125 -20.796875 \r\nL 9.078125 54.6875 \r\nL 18.109375 54.6875 \r\nL 18.109375 46.390625 \r\nQ 20.953125 51.265625 25.265625 53.625 \r\nQ 29.59375 56 35.59375 56 \r\nQ 45.5625 56 51.78125 48.09375 \r\nQ 58.015625 40.1875 58.015625 27.296875 \r\nQ 58.015625 14.40625 51.78125 6.484375 \r\nQ 45.5625 -1.421875 35.59375 -1.421875 \r\nQ 29.59375 -1.421875 25.265625 0.953125 \r\nQ 20.953125 3.328125 18.109375 8.203125 \r\nz\r\nM 48.6875 27.296875 \r\nQ 48.6875 37.203125 44.609375 42.84375 \r\nQ 40.53125 48.484375 33.40625 48.484375 \r\nQ 26.265625 48.484375 22.1875 42.84375 \r\nQ 18.109375 37.203125 18.109375 27.296875 \r\nQ 18.109375 17.390625 22.1875 11.75 \r\nQ 26.265625 6.109375 33.40625 6.109375 \r\nQ 40.53125 6.109375 44.609375 11.75 \r\nQ 48.6875 17.390625 48.6875 27.296875 \r\nz\r\n\" id=\"DejaVuSans-112\"/>\r\n       <path d=\"M 18.3125 70.21875 \r\nL 18.3125 54.6875 \r\nL 36.8125 54.6875 \r\nL 36.8125 47.703125 \r\nL 18.3125 47.703125 \r\nL 18.3125 18.015625 \r\nQ 18.3125 11.328125 20.140625 9.421875 \r\nQ 21.96875 7.515625 27.59375 7.515625 \r\nL 36.8125 7.515625 \r\nL 36.8125 0 \r\nL 27.59375 0 \r\nQ 17.1875 0 13.234375 3.875 \r\nQ 9.28125 7.765625 9.28125 18.015625 \r\nL 9.28125 47.703125 \r\nL 2.6875 47.703125 \r\nL 2.6875 54.6875 \r\nL 9.28125 54.6875 \r\nL 9.28125 70.21875 \r\nz\r\n\" id=\"DejaVuSans-116\"/>\r\n      </defs>\r\n      <use xlink:href=\"#DejaVuSans-111\"/>\r\n      <use x=\"61.181641\" xlink:href=\"#DejaVuSans-112\"/>\r\n      <use x=\"124.658203\" xlink:href=\"#DejaVuSans-116\"/>\r\n     </g>\r\n    </g>\r\n   </g>\r\n  </g>\r\n </g>\r\n <defs>\r\n  <clipPath id=\"pa19ede2ce2\">\r\n   <rect height=\"266.4\" width=\"266.4\" x=\"7.2\" y=\"7.2\"/>\r\n  </clipPath>\r\n </defs>\r\n</svg>\r\n",
      "image/png": "[encoded data removed]"
     },
     "metadata": {
      "needs_background": "light"
     }
    }
   ],
   "source": [
    "import matplotlib.pyplot as plt\n",
    "from mpl_toolkits.mplot3d import Axes3D\n",
    "\n",
    "def set_axes_equal(ax: plt.Axes):\n",
    "    \"\"\"Set 3D plot axes to equal scale.\n",
    "\n",
    "    Make axes of 3D plot have equal scale so that spheres appear as\n",
    "    spheres and cubes as cubes.  Required since `ax.axis('equal')`\n",
    "    and `ax.set_aspect('equal')` don't work on 3D.\n",
    "    \"\"\"\n",
    "    limits = np.array([\n",
    "        ax.get_xlim3d(),\n",
    "        ax.get_ylim3d(),\n",
    "        ax.get_zlim3d(),\n",
    "    ])\n",
    "    origin = np.mean(limits, axis=1)\n",
    "    radius = 0.5 * np.max(np.abs(limits[:, 1] - limits[:, 0]))\n",
    "    _set_axes_radius(ax, origin, radius)\n",
    "\n",
    "def _set_axes_radius(ax, origin, radius):\n",
    "    x, y, z = origin\n",
    "    ax.set_xlim3d([x - radius, x + radius])\n",
    "    ax.set_ylim3d([y - radius, y + radius])\n",
    "    ax.set_zlim3d([z - radius, z + radius])\n",
    "\n",
    "fig = plt.figure()\n",
    "ax = fig.add_subplot(111, projection='3d')\n",
    "ax.plot(x,y,z,marker='o',linewidth=5,color='b',alpha=0.5,label='opt')\n",
    "# ax.plot(xr,yr,zr,marker='o',linewidth=5,color='r',alpha=0.5,label='raw')\n",
    "ax.set_box_aspect([1,1,1])\n",
    "set_axes_equal(ax)\n",
    "ax.legend()\n",
    "plt.tight_layout()\n",
    "plt.show()"
   ]
  },
  {
   "cell_type": "code",
   "execution_count": 89,
   "metadata": {},
   "outputs": [],
   "source": [
    "from rmsd import rmsd\n",
    "def prune_conformers(structures, energies):\n",
    "    '''\n",
    "    Remove conformations that are too similar (have a small RMSD value).\n",
    "    When removing structures, only the lowest energy one is kept.\n",
    "\n",
    "    :params structures: numpy array of conformations\n",
    "    :params energies: list of energies for each conformation\n",
    "    '''\n",
    "    rmsd_mat = np.zeros((len(structures), len(structures)))\n",
    "    rmsd_mat[:] = np.nan\n",
    "    for i, tgt in enumerate(structures):\n",
    "        for j, ref in enumerate(structures[i+1:]):\n",
    "            rmsd_mat[i][i+j+1] = rmsd(tgt, ref)\n",
    "\n",
    "    matches = np.where(rmsd_mat < 1)\n",
    "    matches = [(i,j) for i,j in zip(matches[0], matches[1])]\n",
    "\n",
    "    mask = np.array([True for _ in range(len(structures))])\n",
    "    for i,j in matches:\n",
    "        if energies[i] > energies[j]:\n",
    "            mask[i] = False\n",
    "        else:\n",
    "            mask[j] = False\n",
    "\n",
    "    print(np.where(mask == False)[0])\n",
    "    # print(rmsd_mat)\n",
    "\n",
    "    return structures[mask]\n",
    "\n"
   ]
  },
  {
   "cell_type": "code",
   "execution_count": 90,
   "metadata": {},
   "outputs": [
    {
     "output_type": "stream",
     "name": "stdout",
     "text": [
      "[5 6]\npruned 2/7 structures\n"
     ]
    }
   ],
   "source": [
    "import os\n",
    "import numpy as np\n",
    "from cclib.io import ccread\n",
    "os.chdir(r'C:\\Users\\Nik\\Desktop\\Coding\\TSCoDe\\Resources\\SN2')\n",
    "data = ccread('TS_out.xyz')\n",
    "pruned = prune_conformers(data.atomcoords, [0 for _ in range(len(data.atomcoords))])\n",
    "print(f'pruned {len(data.atomcoords) - len(pruned)}/{len(data.atomcoords)} structures')"
   ]
  },
  {
   "cell_type": "code",
   "execution_count": 85,
   "metadata": {},
   "outputs": [],
   "source": [
    "import networkx as nx\n",
    "import matplotlib.pyplot as plt\n",
    "import numpy as np\n",
    "def prune_conformers(structures, energies, max_rmsd=1, debug=False):\n",
    "    '''\n",
    "    Remove conformations that are too similar (have a small RMSD value).\n",
    "    When removing structures, only the lowest energy one is kept.\n",
    "\n",
    "    :params structures: numpy array of conformations\n",
    "    :params energies: list of energies for each conformation\n",
    "    :params max_rmsd: maximum rmsd value to consider two structures identical, in Angstroms\n",
    "    '''\n",
    "    rmsd_mat = np.zeros((len(structures), len(structures)))\n",
    "    rmsd_mat[:] = np.nan\n",
    "    for i, tgt in enumerate(structures):\n",
    "        for j, ref in enumerate(structures[i+1:]):\n",
    "            rmsd_mat[i][i+j+1] = rmsd(tgt, ref)\n",
    "\n",
    "    matches = np.where(rmsd_mat < max_rmsd)\n",
    "    matches = [(i,j) for i,j in zip(matches[0], matches[1])]\n",
    "\n",
    "    g = nx.Graph(matches)\n",
    "\n",
    "    if debug:\n",
    "        nx.draw(g, labels={i:i for i in range(len(g))})\n",
    "        plt.show()\n",
    "\n",
    "    subgraphs = [g.subgraph(c) for c in nx.connected_components(g)]\n",
    "    groups = [tuple(graph.nodes) for graph in subgraphs]\n",
    "\n",
    "    def en(tup):\n",
    "        ens = [energies[t] for t in tup]\n",
    "        return tup[ens.index(min(ens))]\n",
    "\n",
    "    best_of_cluster = [en(group) for group in groups]\n",
    "    rejects_sets = [set(a) - {b} for a, b in zip(groups, best_of_cluster)]\n",
    "\n",
    "    rejects = []\n",
    "    def flatten(seq):\n",
    "        for s in seq:\n",
    "            if type(s) in (tuple, list, set):\n",
    "                flatten(s)\n",
    "            else:\n",
    "                rejects.append(s)\n",
    "\n",
    "    flatten(rejects_sets)\n",
    "\n",
    "    mask = np.array([True for _ in range(len(structures))])\n",
    "    for i in rejects:\n",
    "        mask[i] = False\n",
    "\n",
    "    return structures[mask], mask"
   ]
  },
  {
   "cell_type": "code",
   "execution_count": 16,
   "metadata": {},
   "outputs": [
    {
     "output_type": "display_data",
     "data": {
      "text/plain": "<Figure size 432x288 with 1 Axes>",
      "image/svg+xml": "<?xml version=\"1.0\" encoding=\"utf-8\" standalone=\"no\"?>\r\n<!DOCTYPE svg PUBLIC \"-//W3C//DTD SVG 1.1//EN\"\r\n  \"http://www.w3.org/Graphics/SVG/1.1/DTD/svg11.dtd\">\r\n<!-- Created with matplotlib (https://matplotlib.org/) -->\r\n<svg height=\"302.4pt\" version=\"1.1\" viewBox=\"0 0 446.4 302.4\" width=\"446.4pt\" xmlns=\"http://www.w3.org/2000/svg\" xmlns:xlink=\"http://www.w3.org/1999/xlink\">\r\n <metadata>\r\n  <rdf:RDF xmlns:cc=\"http://creativecommons.org/ns#\" xmlns:dc=\"http://purl.org/dc/elements/1.1/\" xmlns:rdf=\"http://www.w3.org/1999/02/22-rdf-syntax-ns#\">\r\n   <cc:Work>\r\n    <dc:type rdf:resource=\"http://purl.org/dc/dcmitype/StillImage\"/>\r\n    <dc:date>2021-03-23T09:58:49.862887</dc:date>\r\n    <dc:format>image/svg+xml</dc:format>\r\n    <dc:creator>\r\n     <cc:Agent>\r\n      <dc:title>Matplotlib v3.3.2, https://matplotlib.org/</dc:title>\r\n     </cc:Agent>\r\n    </dc:creator>\r\n   </cc:Work>\r\n  </rdf:RDF>\r\n </metadata>\r\n <defs>\r\n  <style type=\"text/css\">*{stroke-linecap:butt;stroke-linejoin:round;}</style>\r\n </defs>\r\n <g id=\"figure_1\">\r\n  <g id=\"patch_1\">\r\n   <path d=\"M 0 302.4 \r\nL 446.4 302.4 \r\nL 446.4 0 \r\nL 0 0 \r\nz\r\n\" style=\"fill:#ffffff;\"/>\r\n  </g>\r\n  <g id=\"axes_1\">\r\n   <g id=\"LineCollection_1\">\r\n    <path clip-path=\"url(#p145cfc3db9)\" d=\"M 330.113948 282.109091 \r\nL 371.919317 251.728047 \r\n\" style=\"fill:none;stroke:#000000;\"/>\r\n    <path clip-path=\"url(#p145cfc3db9)\" d=\"M 371.919317 251.728047 \r\nL 419.563636 279.405363 \r\n\" style=\"fill:none;stroke:#000000;\"/>\r\n    <path clip-path=\"url(#p145cfc3db9)\" d=\"M 371.919317 251.728047 \r\nL 378.273067 205.025265 \r\n\" style=\"fill:none;stroke:#000000;\"/>\r\n    <path clip-path=\"url(#p145cfc3db9)\" d=\"M 378.273067 205.025265 \r\nL 401.428697 168.724282 \r\n\" style=\"fill:none;stroke:#000000;\"/>\r\n    <path clip-path=\"url(#p145cfc3db9)\" d=\"M 53.355933 20.290909 \r\nL 42.510564 55.250275 \r\n\" style=\"fill:none;stroke:#000000;\"/>\r\n    <path clip-path=\"url(#p145cfc3db9)\" d=\"M 42.510564 55.250275 \r\nL 26.836364 89.28831 \r\n\" style=\"fill:none;stroke:#000000;\"/>\r\n   </g>\r\n   <g id=\"PathCollection_1\">\r\n    <defs>\r\n     <path d=\"M 0 8.660254 \r\nC 2.296726 8.660254 4.499694 7.747755 6.123724 6.123724 \r\nC 7.747755 4.499694 8.660254 2.296726 8.660254 0 \r\nC 8.660254 -2.296726 7.747755 -4.499694 6.123724 -6.123724 \r\nC 4.499694 -7.747755 2.296726 -8.660254 0 -8.660254 \r\nC -2.296726 -8.660254 -4.499694 -7.747755 -6.123724 -6.123724 \r\nC -7.747755 -4.499694 -8.660254 -2.296726 -8.660254 0 \r\nC -8.660254 2.296726 -7.747755 4.499694 -6.123724 6.123724 \r\nC -4.499694 7.747755 -2.296726 8.660254 0 8.660254 \r\nz\r\n\" id=\"m79095d5b21\" style=\"stroke:#1f78b4;\"/>\r\n    </defs>\r\n    <g clip-path=\"url(#p145cfc3db9)\">\r\n     <use style=\"fill:#1f78b4;stroke:#1f78b4;\" x=\"330.113948\" xlink:href=\"#m79095d5b21\" y=\"282.109091\"/>\r\n     <use style=\"fill:#1f78b4;stroke:#1f78b4;\" x=\"371.919317\" xlink:href=\"#m79095d5b21\" y=\"251.728047\"/>\r\n     <use style=\"fill:#1f78b4;stroke:#1f78b4;\" x=\"419.563636\" xlink:href=\"#m79095d5b21\" y=\"279.405363\"/>\r\n     <use style=\"fill:#1f78b4;stroke:#1f78b4;\" x=\"378.273067\" xlink:href=\"#m79095d5b21\" y=\"205.025265\"/>\r\n     <use style=\"fill:#1f78b4;stroke:#1f78b4;\" x=\"401.428697\" xlink:href=\"#m79095d5b21\" y=\"168.724282\"/>\r\n     <use style=\"fill:#1f78b4;stroke:#1f78b4;\" x=\"53.355933\" xlink:href=\"#m79095d5b21\" y=\"20.290909\"/>\r\n     <use style=\"fill:#1f78b4;stroke:#1f78b4;\" x=\"42.510564\" xlink:href=\"#m79095d5b21\" y=\"55.250275\"/>\r\n     <use style=\"fill:#1f78b4;stroke:#1f78b4;\" x=\"26.836364\" xlink:href=\"#m79095d5b21\" y=\"89.28831\"/>\r\n    </g>\r\n   </g>\r\n   <g id=\"text_1\">\r\n    <g clip-path=\"url(#p145cfc3db9)\">\r\n     <!-- 0 -->\r\n     <g transform=\"translate(368.101817 255.039297)scale(0.12 -0.12)\">\r\n      <defs>\r\n       <path d=\"M 31.78125 66.40625 \r\nQ 24.171875 66.40625 20.328125 58.90625 \r\nQ 16.5 51.421875 16.5 36.375 \r\nQ 16.5 21.390625 20.328125 13.890625 \r\nQ 24.171875 6.390625 31.78125 6.390625 \r\nQ 39.453125 6.390625 43.28125 13.890625 \r\nQ 47.125 21.390625 47.125 36.375 \r\nQ 47.125 51.421875 43.28125 58.90625 \r\nQ 39.453125 66.40625 31.78125 66.40625 \r\nz\r\nM 31.78125 74.21875 \r\nQ 44.046875 74.21875 50.515625 64.515625 \r\nQ 56.984375 54.828125 56.984375 36.375 \r\nQ 56.984375 17.96875 50.515625 8.265625 \r\nQ 44.046875 -1.421875 31.78125 -1.421875 \r\nQ 19.53125 -1.421875 13.0625 8.265625 \r\nQ 6.59375 17.96875 6.59375 36.375 \r\nQ 6.59375 54.828125 13.0625 64.515625 \r\nQ 19.53125 74.21875 31.78125 74.21875 \r\nz\r\n\" id=\"DejaVuSans-48\"/>\r\n      </defs>\r\n      <use xlink:href=\"#DejaVuSans-48\"/>\r\n     </g>\r\n    </g>\r\n   </g>\r\n   <g id=\"text_2\">\r\n    <g clip-path=\"url(#p145cfc3db9)\">\r\n     <!-- 1 -->\r\n     <g transform=\"translate(326.296448 285.420341)scale(0.12 -0.12)\">\r\n      <defs>\r\n       <path d=\"M 12.40625 8.296875 \r\nL 28.515625 8.296875 \r\nL 28.515625 63.921875 \r\nL 10.984375 60.40625 \r\nL 10.984375 69.390625 \r\nL 28.421875 72.90625 \r\nL 38.28125 72.90625 \r\nL 38.28125 8.296875 \r\nL 54.390625 8.296875 \r\nL 54.390625 0 \r\nL 12.40625 0 \r\nz\r\n\" id=\"DejaVuSans-49\"/>\r\n      </defs>\r\n      <use xlink:href=\"#DejaVuSans-49\"/>\r\n     </g>\r\n    </g>\r\n   </g>\r\n   <g id=\"text_3\">\r\n    <g clip-path=\"url(#p145cfc3db9)\">\r\n     <!-- 2 -->\r\n     <g transform=\"translate(415.746136 282.716613)scale(0.12 -0.12)\">\r\n      <defs>\r\n       <path d=\"M 19.1875 8.296875 \r\nL 53.609375 8.296875 \r\nL 53.609375 0 \r\nL 7.328125 0 \r\nL 7.328125 8.296875 \r\nQ 12.9375 14.109375 22.625 23.890625 \r\nQ 32.328125 33.6875 34.8125 36.53125 \r\nQ 39.546875 41.84375 41.421875 45.53125 \r\nQ 43.3125 49.21875 43.3125 52.78125 \r\nQ 43.3125 58.59375 39.234375 62.25 \r\nQ 35.15625 65.921875 28.609375 65.921875 \r\nQ 23.96875 65.921875 18.8125 64.3125 \r\nQ 13.671875 62.703125 7.8125 59.421875 \r\nL 7.8125 69.390625 \r\nQ 13.765625 71.78125 18.9375 73 \r\nQ 24.125 74.21875 28.421875 74.21875 \r\nQ 39.75 74.21875 46.484375 68.546875 \r\nQ 53.21875 62.890625 53.21875 53.421875 \r\nQ 53.21875 48.921875 51.53125 44.890625 \r\nQ 49.859375 40.875 45.40625 35.40625 \r\nQ 44.1875 33.984375 37.640625 27.21875 \r\nQ 31.109375 20.453125 19.1875 8.296875 \r\nz\r\n\" id=\"DejaVuSans-50\"/>\r\n      </defs>\r\n      <use xlink:href=\"#DejaVuSans-50\"/>\r\n     </g>\r\n    </g>\r\n   </g>\r\n   <g id=\"text_4\">\r\n    <g clip-path=\"url(#p145cfc3db9)\">\r\n     <!-- 3 -->\r\n     <g transform=\"translate(374.455567 208.336515)scale(0.12 -0.12)\">\r\n      <defs>\r\n       <path d=\"M 40.578125 39.3125 \r\nQ 47.65625 37.796875 51.625 33 \r\nQ 55.609375 28.21875 55.609375 21.1875 \r\nQ 55.609375 10.40625 48.1875 4.484375 \r\nQ 40.765625 -1.421875 27.09375 -1.421875 \r\nQ 22.515625 -1.421875 17.65625 -0.515625 \r\nQ 12.796875 0.390625 7.625 2.203125 \r\nL 7.625 11.71875 \r\nQ 11.71875 9.328125 16.59375 8.109375 \r\nQ 21.484375 6.890625 26.8125 6.890625 \r\nQ 36.078125 6.890625 40.9375 10.546875 \r\nQ 45.796875 14.203125 45.796875 21.1875 \r\nQ 45.796875 27.640625 41.28125 31.265625 \r\nQ 36.765625 34.90625 28.71875 34.90625 \r\nL 20.21875 34.90625 \r\nL 20.21875 43.015625 \r\nL 29.109375 43.015625 \r\nQ 36.375 43.015625 40.234375 45.921875 \r\nQ 44.09375 48.828125 44.09375 54.296875 \r\nQ 44.09375 59.90625 40.109375 62.90625 \r\nQ 36.140625 65.921875 28.71875 65.921875 \r\nQ 24.65625 65.921875 20.015625 65.03125 \r\nQ 15.375 64.15625 9.8125 62.3125 \r\nL 9.8125 71.09375 \r\nQ 15.4375 72.65625 20.34375 73.4375 \r\nQ 25.25 74.21875 29.59375 74.21875 \r\nQ 40.828125 74.21875 47.359375 69.109375 \r\nQ 53.90625 64.015625 53.90625 55.328125 \r\nQ 53.90625 49.265625 50.4375 45.09375 \r\nQ 46.96875 40.921875 40.578125 39.3125 \r\nz\r\n\" id=\"DejaVuSans-51\"/>\r\n      </defs>\r\n      <use xlink:href=\"#DejaVuSans-51\"/>\r\n     </g>\r\n    </g>\r\n   </g>\r\n   <g id=\"text_5\">\r\n    <g clip-path=\"url(#p145cfc3db9)\">\r\n     <!-- 4 -->\r\n     <g transform=\"translate(397.611197 172.035532)scale(0.12 -0.12)\">\r\n      <defs>\r\n       <path d=\"M 37.796875 64.3125 \r\nL 12.890625 25.390625 \r\nL 37.796875 25.390625 \r\nz\r\nM 35.203125 72.90625 \r\nL 47.609375 72.90625 \r\nL 47.609375 25.390625 \r\nL 58.015625 25.390625 \r\nL 58.015625 17.1875 \r\nL 47.609375 17.1875 \r\nL 47.609375 0 \r\nL 37.796875 0 \r\nL 37.796875 17.1875 \r\nL 4.890625 17.1875 \r\nL 4.890625 26.703125 \r\nz\r\n\" id=\"DejaVuSans-52\"/>\r\n      </defs>\r\n      <use xlink:href=\"#DejaVuSans-52\"/>\r\n     </g>\r\n    </g>\r\n   </g>\r\n   <g id=\"text_6\">\r\n    <g clip-path=\"url(#p145cfc3db9)\">\r\n     <!-- 5 -->\r\n     <g transform=\"translate(49.538433 23.602159)scale(0.12 -0.12)\">\r\n      <defs>\r\n       <path d=\"M 10.796875 72.90625 \r\nL 49.515625 72.90625 \r\nL 49.515625 64.59375 \r\nL 19.828125 64.59375 \r\nL 19.828125 46.734375 \r\nQ 21.96875 47.46875 24.109375 47.828125 \r\nQ 26.265625 48.1875 28.421875 48.1875 \r\nQ 40.625 48.1875 47.75 41.5 \r\nQ 54.890625 34.8125 54.890625 23.390625 \r\nQ 54.890625 11.625 47.5625 5.09375 \r\nQ 40.234375 -1.421875 26.90625 -1.421875 \r\nQ 22.3125 -1.421875 17.546875 -0.640625 \r\nQ 12.796875 0.140625 7.71875 1.703125 \r\nL 7.71875 11.625 \r\nQ 12.109375 9.234375 16.796875 8.0625 \r\nQ 21.484375 6.890625 26.703125 6.890625 \r\nQ 35.15625 6.890625 40.078125 11.328125 \r\nQ 45.015625 15.765625 45.015625 23.390625 \r\nQ 45.015625 31 40.078125 35.4375 \r\nQ 35.15625 39.890625 26.703125 39.890625 \r\nQ 22.75 39.890625 18.8125 39.015625 \r\nQ 14.890625 38.140625 10.796875 36.28125 \r\nz\r\n\" id=\"DejaVuSans-53\"/>\r\n      </defs>\r\n      <use xlink:href=\"#DejaVuSans-53\"/>\r\n     </g>\r\n    </g>\r\n   </g>\r\n   <g id=\"text_7\">\r\n    <g clip-path=\"url(#p145cfc3db9)\">\r\n     <!-- 6 -->\r\n     <g transform=\"translate(38.693064 58.561525)scale(0.12 -0.12)\">\r\n      <defs>\r\n       <path d=\"M 33.015625 40.375 \r\nQ 26.375 40.375 22.484375 35.828125 \r\nQ 18.609375 31.296875 18.609375 23.390625 \r\nQ 18.609375 15.53125 22.484375 10.953125 \r\nQ 26.375 6.390625 33.015625 6.390625 \r\nQ 39.65625 6.390625 43.53125 10.953125 \r\nQ 47.40625 15.53125 47.40625 23.390625 \r\nQ 47.40625 31.296875 43.53125 35.828125 \r\nQ 39.65625 40.375 33.015625 40.375 \r\nz\r\nM 52.59375 71.296875 \r\nL 52.59375 62.3125 \r\nQ 48.875 64.0625 45.09375 64.984375 \r\nQ 41.3125 65.921875 37.59375 65.921875 \r\nQ 27.828125 65.921875 22.671875 59.328125 \r\nQ 17.53125 52.734375 16.796875 39.40625 \r\nQ 19.671875 43.65625 24.015625 45.921875 \r\nQ 28.375 48.1875 33.59375 48.1875 \r\nQ 44.578125 48.1875 50.953125 41.515625 \r\nQ 57.328125 34.859375 57.328125 23.390625 \r\nQ 57.328125 12.15625 50.6875 5.359375 \r\nQ 44.046875 -1.421875 33.015625 -1.421875 \r\nQ 20.359375 -1.421875 13.671875 8.265625 \r\nQ 6.984375 17.96875 6.984375 36.375 \r\nQ 6.984375 53.65625 15.1875 63.9375 \r\nQ 23.390625 74.21875 37.203125 74.21875 \r\nQ 40.921875 74.21875 44.703125 73.484375 \r\nQ 48.484375 72.75 52.59375 71.296875 \r\nz\r\n\" id=\"DejaVuSans-54\"/>\r\n      </defs>\r\n      <use xlink:href=\"#DejaVuSans-54\"/>\r\n     </g>\r\n    </g>\r\n   </g>\r\n   <g id=\"text_8\">\r\n    <g clip-path=\"url(#p145cfc3db9)\">\r\n     <!-- 7 -->\r\n     <g transform=\"translate(23.018864 92.59956)scale(0.12 -0.12)\">\r\n      <defs>\r\n       <path d=\"M 8.203125 72.90625 \r\nL 55.078125 72.90625 \r\nL 55.078125 68.703125 \r\nL 28.609375 0 \r\nL 18.3125 0 \r\nL 43.21875 64.59375 \r\nL 8.203125 64.59375 \r\nz\r\n\" id=\"DejaVuSans-55\"/>\r\n      </defs>\r\n      <use xlink:href=\"#DejaVuSans-55\"/>\r\n     </g>\r\n    </g>\r\n   </g>\r\n  </g>\r\n </g>\r\n <defs>\r\n  <clipPath id=\"p145cfc3db9\">\r\n   <rect height=\"288\" width=\"432\" x=\"7.2\" y=\"7.2\"/>\r\n  </clipPath>\r\n </defs>\r\n</svg>\r\n",
      "image/png": "[encoded data removed]"
     },
     "metadata": {}
    }
   ],
   "source": [
    "edges = [(1,0),(2,0),(0,3),(3,4),(5,6),(6,7)]\n",
    "g = nx.Graph(edges)\n",
    "nx.draw(g, labels={i:i for i in range(len(g))})\n",
    "plt.show()"
   ]
  },
  {
   "cell_type": "code",
   "execution_count": 26,
   "metadata": {},
   "outputs": [
    {
     "output_type": "display_data",
     "data": {
      "text/plain": "<Figure size 432x288 with 1 Axes>",
      "image/svg+xml": "<?xml version=\"1.0\" encoding=\"utf-8\" standalone=\"no\"?>\r\n<!DOCTYPE svg PUBLIC \"-//W3C//DTD SVG 1.1//EN\"\r\n  \"http://www.w3.org/Graphics/SVG/1.1/DTD/svg11.dtd\">\r\n<!-- Created with matplotlib (https://matplotlib.org/) -->\r\n<svg height=\"302.4pt\" version=\"1.1\" viewBox=\"0 0 446.4 302.4\" width=\"446.4pt\" xmlns=\"http://www.w3.org/2000/svg\" xmlns:xlink=\"http://www.w3.org/1999/xlink\">\r\n <metadata>\r\n  <rdf:RDF xmlns:cc=\"http://creativecommons.org/ns#\" xmlns:dc=\"http://purl.org/dc/elements/1.1/\" xmlns:rdf=\"http://www.w3.org/1999/02/22-rdf-syntax-ns#\">\r\n   <cc:Work>\r\n    <dc:type rdf:resource=\"http://purl.org/dc/dcmitype/StillImage\"/>\r\n    <dc:date>2021-03-23T10:04:15.871559</dc:date>\r\n    <dc:format>image/svg+xml</dc:format>\r\n    <dc:creator>\r\n     <cc:Agent>\r\n      <dc:title>Matplotlib v3.3.2, https://matplotlib.org/</dc:title>\r\n     </cc:Agent>\r\n    </dc:creator>\r\n   </cc:Work>\r\n  </rdf:RDF>\r\n </metadata>\r\n <defs>\r\n  <style type=\"text/css\">*{stroke-linecap:butt;stroke-linejoin:round;}</style>\r\n </defs>\r\n <g id=\"figure_1\">\r\n  <g id=\"patch_1\">\r\n   <path d=\"M 0 302.4 \r\nL 446.4 302.4 \r\nL 446.4 0 \r\nL 0 0 \r\nz\r\n\" style=\"fill:#ffffff;\"/>\r\n  </g>\r\n  <g id=\"axes_1\">\r\n   <g id=\"LineCollection_1\">\r\n    <path clip-path=\"url(#p947553c65d)\" d=\"M 73.590983 282.109091 \r\nL 136.776707 125.178346 \r\n\" style=\"fill:none;stroke:#000000;\"/>\r\n    <path clip-path=\"url(#p947553c65d)\" d=\"M 136.776707 125.178346 \r\nL 26.836364 20.290909 \r\n\" style=\"fill:none;stroke:#000000;\"/>\r\n    <path clip-path=\"url(#p947553c65d)\" d=\"M 136.776707 125.178346 \r\nL 289.264553 78.335033 \r\n\" style=\"fill:none;stroke:#000000;\"/>\r\n    <path clip-path=\"url(#p947553c65d)\" d=\"M 289.264553 78.335033 \r\nL 419.563636 38.145591 \r\n\" style=\"fill:none;stroke:#000000;\"/>\r\n   </g>\r\n   <g id=\"PathCollection_1\">\r\n    <defs>\r\n     <path d=\"M 0 8.660254 \r\nC 2.296726 8.660254 4.499694 7.747755 6.123724 6.123724 \r\nC 7.747755 4.499694 8.660254 2.296726 8.660254 0 \r\nC 8.660254 -2.296726 7.747755 -4.499694 6.123724 -6.123724 \r\nC 4.499694 -7.747755 2.296726 -8.660254 0 -8.660254 \r\nC -2.296726 -8.660254 -4.499694 -7.747755 -6.123724 -6.123724 \r\nC -7.747755 -4.499694 -8.660254 -2.296726 -8.660254 0 \r\nC -8.660254 2.296726 -7.747755 4.499694 -6.123724 6.123724 \r\nC -4.499694 7.747755 -2.296726 8.660254 0 8.660254 \r\nz\r\n\" id=\"m3a2c6b13d0\" style=\"stroke:#1f78b4;\"/>\r\n    </defs>\r\n    <g clip-path=\"url(#p947553c65d)\">\r\n     <use style=\"fill:#1f78b4;stroke:#1f78b4;\" x=\"73.590983\" xlink:href=\"#m3a2c6b13d0\" y=\"282.109091\"/>\r\n     <use style=\"fill:#1f78b4;stroke:#1f78b4;\" x=\"136.776707\" xlink:href=\"#m3a2c6b13d0\" y=\"125.178346\"/>\r\n     <use style=\"fill:#1f78b4;stroke:#1f78b4;\" x=\"26.836364\" xlink:href=\"#m3a2c6b13d0\" y=\"20.290909\"/>\r\n     <use style=\"fill:#1f78b4;stroke:#1f78b4;\" x=\"289.264553\" xlink:href=\"#m3a2c6b13d0\" y=\"78.335033\"/>\r\n     <use style=\"fill:#1f78b4;stroke:#1f78b4;\" x=\"419.563636\" xlink:href=\"#m3a2c6b13d0\" y=\"38.145591\"/>\r\n    </g>\r\n   </g>\r\n   <g id=\"text_1\">\r\n    <g clip-path=\"url(#p947553c65d)\">\r\n     <!-- 0 -->\r\n     <g transform=\"translate(132.959207 128.489596)scale(0.12 -0.12)\">\r\n      <defs>\r\n       <path d=\"M 31.78125 66.40625 \r\nQ 24.171875 66.40625 20.328125 58.90625 \r\nQ 16.5 51.421875 16.5 36.375 \r\nQ 16.5 21.390625 20.328125 13.890625 \r\nQ 24.171875 6.390625 31.78125 6.390625 \r\nQ 39.453125 6.390625 43.28125 13.890625 \r\nQ 47.125 21.390625 47.125 36.375 \r\nQ 47.125 51.421875 43.28125 58.90625 \r\nQ 39.453125 66.40625 31.78125 66.40625 \r\nz\r\nM 31.78125 74.21875 \r\nQ 44.046875 74.21875 50.515625 64.515625 \r\nQ 56.984375 54.828125 56.984375 36.375 \r\nQ 56.984375 17.96875 50.515625 8.265625 \r\nQ 44.046875 -1.421875 31.78125 -1.421875 \r\nQ 19.53125 -1.421875 13.0625 8.265625 \r\nQ 6.59375 17.96875 6.59375 36.375 \r\nQ 6.59375 54.828125 13.0625 64.515625 \r\nQ 19.53125 74.21875 31.78125 74.21875 \r\nz\r\n\" id=\"DejaVuSans-48\"/>\r\n      </defs>\r\n      <use xlink:href=\"#DejaVuSans-48\"/>\r\n     </g>\r\n    </g>\r\n   </g>\r\n   <g id=\"text_2\">\r\n    <g clip-path=\"url(#p947553c65d)\">\r\n     <!-- 1 -->\r\n     <g transform=\"translate(69.773483 285.420341)scale(0.12 -0.12)\">\r\n      <defs>\r\n       <path d=\"M 12.40625 8.296875 \r\nL 28.515625 8.296875 \r\nL 28.515625 63.921875 \r\nL 10.984375 60.40625 \r\nL 10.984375 69.390625 \r\nL 28.421875 72.90625 \r\nL 38.28125 72.90625 \r\nL 38.28125 8.296875 \r\nL 54.390625 8.296875 \r\nL 54.390625 0 \r\nL 12.40625 0 \r\nz\r\n\" id=\"DejaVuSans-49\"/>\r\n      </defs>\r\n      <use xlink:href=\"#DejaVuSans-49\"/>\r\n     </g>\r\n    </g>\r\n   </g>\r\n   <g id=\"text_3\">\r\n    <g clip-path=\"url(#p947553c65d)\">\r\n     <!-- 2 -->\r\n     <g transform=\"translate(23.018864 23.602159)scale(0.12 -0.12)\">\r\n      <defs>\r\n       <path d=\"M 19.1875 8.296875 \r\nL 53.609375 8.296875 \r\nL 53.609375 0 \r\nL 7.328125 0 \r\nL 7.328125 8.296875 \r\nQ 12.9375 14.109375 22.625 23.890625 \r\nQ 32.328125 33.6875 34.8125 36.53125 \r\nQ 39.546875 41.84375 41.421875 45.53125 \r\nQ 43.3125 49.21875 43.3125 52.78125 \r\nQ 43.3125 58.59375 39.234375 62.25 \r\nQ 35.15625 65.921875 28.609375 65.921875 \r\nQ 23.96875 65.921875 18.8125 64.3125 \r\nQ 13.671875 62.703125 7.8125 59.421875 \r\nL 7.8125 69.390625 \r\nQ 13.765625 71.78125 18.9375 73 \r\nQ 24.125 74.21875 28.421875 74.21875 \r\nQ 39.75 74.21875 46.484375 68.546875 \r\nQ 53.21875 62.890625 53.21875 53.421875 \r\nQ 53.21875 48.921875 51.53125 44.890625 \r\nQ 49.859375 40.875 45.40625 35.40625 \r\nQ 44.1875 33.984375 37.640625 27.21875 \r\nQ 31.109375 20.453125 19.1875 8.296875 \r\nz\r\n\" id=\"DejaVuSans-50\"/>\r\n      </defs>\r\n      <use xlink:href=\"#DejaVuSans-50\"/>\r\n     </g>\r\n    </g>\r\n   </g>\r\n   <g id=\"text_4\">\r\n    <g clip-path=\"url(#p947553c65d)\">\r\n     <!-- 3 -->\r\n     <g transform=\"translate(285.447053 81.646283)scale(0.12 -0.12)\">\r\n      <defs>\r\n       <path d=\"M 40.578125 39.3125 \r\nQ 47.65625 37.796875 51.625 33 \r\nQ 55.609375 28.21875 55.609375 21.1875 \r\nQ 55.609375 10.40625 48.1875 4.484375 \r\nQ 40.765625 -1.421875 27.09375 -1.421875 \r\nQ 22.515625 -1.421875 17.65625 -0.515625 \r\nQ 12.796875 0.390625 7.625 2.203125 \r\nL 7.625 11.71875 \r\nQ 11.71875 9.328125 16.59375 8.109375 \r\nQ 21.484375 6.890625 26.8125 6.890625 \r\nQ 36.078125 6.890625 40.9375 10.546875 \r\nQ 45.796875 14.203125 45.796875 21.1875 \r\nQ 45.796875 27.640625 41.28125 31.265625 \r\nQ 36.765625 34.90625 28.71875 34.90625 \r\nL 20.21875 34.90625 \r\nL 20.21875 43.015625 \r\nL 29.109375 43.015625 \r\nQ 36.375 43.015625 40.234375 45.921875 \r\nQ 44.09375 48.828125 44.09375 54.296875 \r\nQ 44.09375 59.90625 40.109375 62.90625 \r\nQ 36.140625 65.921875 28.71875 65.921875 \r\nQ 24.65625 65.921875 20.015625 65.03125 \r\nQ 15.375 64.15625 9.8125 62.3125 \r\nL 9.8125 71.09375 \r\nQ 15.4375 72.65625 20.34375 73.4375 \r\nQ 25.25 74.21875 29.59375 74.21875 \r\nQ 40.828125 74.21875 47.359375 69.109375 \r\nQ 53.90625 64.015625 53.90625 55.328125 \r\nQ 53.90625 49.265625 50.4375 45.09375 \r\nQ 46.96875 40.921875 40.578125 39.3125 \r\nz\r\n\" id=\"DejaVuSans-51\"/>\r\n      </defs>\r\n      <use xlink:href=\"#DejaVuSans-51\"/>\r\n     </g>\r\n    </g>\r\n   </g>\r\n   <g id=\"text_5\">\r\n    <g clip-path=\"url(#p947553c65d)\">\r\n     <!-- 4 -->\r\n     <g transform=\"translate(415.746136 41.456841)scale(0.12 -0.12)\">\r\n      <defs>\r\n       <path d=\"M 37.796875 64.3125 \r\nL 12.890625 25.390625 \r\nL 37.796875 25.390625 \r\nz\r\nM 35.203125 72.90625 \r\nL 47.609375 72.90625 \r\nL 47.609375 25.390625 \r\nL 58.015625 25.390625 \r\nL 58.015625 17.1875 \r\nL 47.609375 17.1875 \r\nL 47.609375 0 \r\nL 37.796875 0 \r\nL 37.796875 17.1875 \r\nL 4.890625 17.1875 \r\nL 4.890625 26.703125 \r\nz\r\n\" id=\"DejaVuSans-52\"/>\r\n      </defs>\r\n      <use xlink:href=\"#DejaVuSans-52\"/>\r\n     </g>\r\n    </g>\r\n   </g>\r\n  </g>\r\n </g>\r\n <defs>\r\n  <clipPath id=\"p947553c65d\">\r\n   <rect height=\"288\" width=\"432\" x=\"7.2\" y=\"7.2\"/>\r\n  </clipPath>\r\n </defs>\r\n</svg>\r\n",
      "image/png": "[encoded data removed]"
     },
     "metadata": {}
    },
    {
     "output_type": "error",
     "ename": "KeyError",
     "evalue": "0",
     "traceback": [
      "\u001b[1;31m---------------------------------------------------------------------------\u001b[0m",
      "\u001b[1;31mKeyError\u001b[0m                                  Traceback (most recent call last)",
      "\u001b[1;32m<ipython-input-26-c6a5cc52ccf7>\u001b[0m in \u001b[0;36m<module>\u001b[1;34m\u001b[0m\n\u001b[0;32m      1\u001b[0m \u001b[0msubgraphs\u001b[0m \u001b[1;33m=\u001b[0m \u001b[1;33m[\u001b[0m\u001b[0mg\u001b[0m\u001b[1;33m.\u001b[0m\u001b[0msubgraph\u001b[0m\u001b[1;33m(\u001b[0m\u001b[0mc\u001b[0m\u001b[1;33m)\u001b[0m \u001b[1;32mfor\u001b[0m \u001b[0mc\u001b[0m \u001b[1;32min\u001b[0m \u001b[0mnx\u001b[0m\u001b[1;33m.\u001b[0m\u001b[0mconnected_components\u001b[0m\u001b[1;33m(\u001b[0m\u001b[0mg\u001b[0m\u001b[1;33m)\u001b[0m\u001b[1;33m]\u001b[0m\u001b[1;33m\u001b[0m\u001b[1;33m\u001b[0m\u001b[0m\n\u001b[0;32m      2\u001b[0m \u001b[1;32mfor\u001b[0m \u001b[0mgraph\u001b[0m \u001b[1;32min\u001b[0m \u001b[0msubgraphs\u001b[0m\u001b[1;33m:\u001b[0m\u001b[1;33m\u001b[0m\u001b[1;33m\u001b[0m\u001b[0m\n\u001b[1;32m----> 3\u001b[1;33m     \u001b[0mnx\u001b[0m\u001b[1;33m.\u001b[0m\u001b[0mdraw\u001b[0m\u001b[1;33m(\u001b[0m\u001b[0mgraph\u001b[0m\u001b[1;33m,\u001b[0m \u001b[0mlabels\u001b[0m\u001b[1;33m=\u001b[0m\u001b[1;33m{\u001b[0m\u001b[0mi\u001b[0m\u001b[1;33m:\u001b[0m\u001b[0mi\u001b[0m \u001b[1;32mfor\u001b[0m \u001b[0mi\u001b[0m \u001b[1;32min\u001b[0m \u001b[0mrange\u001b[0m\u001b[1;33m(\u001b[0m\u001b[0mlen\u001b[0m\u001b[1;33m(\u001b[0m\u001b[0mgraph\u001b[0m\u001b[1;33m.\u001b[0m\u001b[0mnodes\u001b[0m\u001b[1;33m)\u001b[0m\u001b[1;33m)\u001b[0m\u001b[1;33m}\u001b[0m\u001b[1;33m)\u001b[0m\u001b[1;33m\u001b[0m\u001b[1;33m\u001b[0m\u001b[0m\n\u001b[0m\u001b[0;32m      4\u001b[0m     \u001b[0mplt\u001b[0m\u001b[1;33m.\u001b[0m\u001b[0mshow\u001b[0m\u001b[1;33m(\u001b[0m\u001b[1;33m)\u001b[0m\u001b[1;33m\u001b[0m\u001b[1;33m\u001b[0m\u001b[0m\n",
      "\u001b[1;32m~\\anaconda3\\envs\\my-rdkit-env\\lib\\site-packages\\networkx\\drawing\\nx_pylab.py\u001b[0m in \u001b[0;36mdraw\u001b[1;34m(G, pos, ax, **kwds)\u001b[0m\n\u001b[0;32m    121\u001b[0m         \u001b[0mkwds\u001b[0m\u001b[1;33m[\u001b[0m\u001b[1;34m\"with_labels\"\u001b[0m\u001b[1;33m]\u001b[0m \u001b[1;33m=\u001b[0m \u001b[1;34m\"labels\"\u001b[0m \u001b[1;32min\u001b[0m \u001b[0mkwds\u001b[0m\u001b[1;33m\u001b[0m\u001b[1;33m\u001b[0m\u001b[0m\n\u001b[0;32m    122\u001b[0m \u001b[1;33m\u001b[0m\u001b[0m\n\u001b[1;32m--> 123\u001b[1;33m     \u001b[0mdraw_networkx\u001b[0m\u001b[1;33m(\u001b[0m\u001b[0mG\u001b[0m\u001b[1;33m,\u001b[0m \u001b[0mpos\u001b[0m\u001b[1;33m=\u001b[0m\u001b[0mpos\u001b[0m\u001b[1;33m,\u001b[0m \u001b[0max\u001b[0m\u001b[1;33m=\u001b[0m\u001b[0max\u001b[0m\u001b[1;33m,\u001b[0m \u001b[1;33m**\u001b[0m\u001b[0mkwds\u001b[0m\u001b[1;33m)\u001b[0m\u001b[1;33m\u001b[0m\u001b[1;33m\u001b[0m\u001b[0m\n\u001b[0m\u001b[0;32m    124\u001b[0m     \u001b[0max\u001b[0m\u001b[1;33m.\u001b[0m\u001b[0mset_axis_off\u001b[0m\u001b[1;33m(\u001b[0m\u001b[1;33m)\u001b[0m\u001b[1;33m\u001b[0m\u001b[1;33m\u001b[0m\u001b[0m\n\u001b[0;32m    125\u001b[0m     \u001b[0mplt\u001b[0m\u001b[1;33m.\u001b[0m\u001b[0mdraw_if_interactive\u001b[0m\u001b[1;33m(\u001b[0m\u001b[1;33m)\u001b[0m\u001b[1;33m\u001b[0m\u001b[1;33m\u001b[0m\u001b[0m\n",
      "\u001b[1;32m~\\anaconda3\\envs\\my-rdkit-env\\lib\\site-packages\\networkx\\drawing\\nx_pylab.py\u001b[0m in \u001b[0;36mdraw_networkx\u001b[1;34m(G, pos, arrows, with_labels, **kwds)\u001b[0m\n\u001b[0;32m    336\u001b[0m     \u001b[0mdraw_networkx_edges\u001b[0m\u001b[1;33m(\u001b[0m\u001b[0mG\u001b[0m\u001b[1;33m,\u001b[0m \u001b[0mpos\u001b[0m\u001b[1;33m,\u001b[0m \u001b[0marrows\u001b[0m\u001b[1;33m=\u001b[0m\u001b[0marrows\u001b[0m\u001b[1;33m,\u001b[0m \u001b[1;33m**\u001b[0m\u001b[0medge_kwds\u001b[0m\u001b[1;33m)\u001b[0m\u001b[1;33m\u001b[0m\u001b[1;33m\u001b[0m\u001b[0m\n\u001b[0;32m    337\u001b[0m     \u001b[1;32mif\u001b[0m \u001b[0mwith_labels\u001b[0m\u001b[1;33m:\u001b[0m\u001b[1;33m\u001b[0m\u001b[1;33m\u001b[0m\u001b[0m\n\u001b[1;32m--> 338\u001b[1;33m         \u001b[0mdraw_networkx_labels\u001b[0m\u001b[1;33m(\u001b[0m\u001b[0mG\u001b[0m\u001b[1;33m,\u001b[0m \u001b[0mpos\u001b[0m\u001b[1;33m,\u001b[0m \u001b[1;33m**\u001b[0m\u001b[0mlabel_kwds\u001b[0m\u001b[1;33m)\u001b[0m\u001b[1;33m\u001b[0m\u001b[1;33m\u001b[0m\u001b[0m\n\u001b[0m\u001b[0;32m    339\u001b[0m     \u001b[0mplt\u001b[0m\u001b[1;33m.\u001b[0m\u001b[0mdraw_if_interactive\u001b[0m\u001b[1;33m(\u001b[0m\u001b[1;33m)\u001b[0m\u001b[1;33m\u001b[0m\u001b[1;33m\u001b[0m\u001b[0m\n\u001b[0;32m    340\u001b[0m \u001b[1;33m\u001b[0m\u001b[0m\n",
      "\u001b[1;32m~\\anaconda3\\envs\\my-rdkit-env\\lib\\site-packages\\networkx\\drawing\\nx_pylab.py\u001b[0m in \u001b[0;36mdraw_networkx_labels\u001b[1;34m(G, pos, labels, font_size, font_color, font_family, font_weight, alpha, bbox, horizontalalignment, verticalalignment, ax)\u001b[0m\n\u001b[0;32m    885\u001b[0m     \u001b[0mtext_items\u001b[0m \u001b[1;33m=\u001b[0m \u001b[1;33m{\u001b[0m\u001b[1;33m}\u001b[0m  \u001b[1;31m# there is no text collection so we'll fake one\u001b[0m\u001b[1;33m\u001b[0m\u001b[1;33m\u001b[0m\u001b[0m\n\u001b[0;32m    886\u001b[0m     \u001b[1;32mfor\u001b[0m \u001b[0mn\u001b[0m\u001b[1;33m,\u001b[0m \u001b[0mlabel\u001b[0m \u001b[1;32min\u001b[0m \u001b[0mlabels\u001b[0m\u001b[1;33m.\u001b[0m\u001b[0mitems\u001b[0m\u001b[1;33m(\u001b[0m\u001b[1;33m)\u001b[0m\u001b[1;33m:\u001b[0m\u001b[1;33m\u001b[0m\u001b[1;33m\u001b[0m\u001b[0m\n\u001b[1;32m--> 887\u001b[1;33m         \u001b[1;33m(\u001b[0m\u001b[0mx\u001b[0m\u001b[1;33m,\u001b[0m \u001b[0my\u001b[0m\u001b[1;33m)\u001b[0m \u001b[1;33m=\u001b[0m \u001b[0mpos\u001b[0m\u001b[1;33m[\u001b[0m\u001b[0mn\u001b[0m\u001b[1;33m]\u001b[0m\u001b[1;33m\u001b[0m\u001b[1;33m\u001b[0m\u001b[0m\n\u001b[0m\u001b[0;32m    888\u001b[0m         \u001b[1;32mif\u001b[0m \u001b[1;32mnot\u001b[0m \u001b[0misinstance\u001b[0m\u001b[1;33m(\u001b[0m\u001b[0mlabel\u001b[0m\u001b[1;33m,\u001b[0m \u001b[0mstr\u001b[0m\u001b[1;33m)\u001b[0m\u001b[1;33m:\u001b[0m\u001b[1;33m\u001b[0m\u001b[1;33m\u001b[0m\u001b[0m\n\u001b[0;32m    889\u001b[0m             \u001b[0mlabel\u001b[0m \u001b[1;33m=\u001b[0m \u001b[0mstr\u001b[0m\u001b[1;33m(\u001b[0m\u001b[0mlabel\u001b[0m\u001b[1;33m)\u001b[0m  \u001b[1;31m# this makes \"1\" and 1 labeled the same\u001b[0m\u001b[1;33m\u001b[0m\u001b[1;33m\u001b[0m\u001b[0m\n",
      "\u001b[1;31mKeyError\u001b[0m: 0"
     ]
    }
   ],
   "source": [
    "subgraphs = [g.subgraph(c) for c in nx.connected_components(g)]\n",
    "for graph in subgraphs:\n",
    "    nx.draw(graph, labels={i:i for i in range(len(graph.nodes))})\n",
    "    plt.show()"
   ]
  },
  {
   "cell_type": "code",
   "execution_count": 84,
   "metadata": {},
   "outputs": [
    {
     "output_type": "stream",
     "name": "stdout",
     "text": [
      "[(1, 0, 2, 3, 4), (5, 6, 7)]\n[0, 5]\n[1, 2, 3, 4, 6, 7]\n"
     ]
    }
   ],
   "source": [
    "edges = [(1,0),(2,0),(0,3),(3,4),(5,6),(6,7)]\n",
    "energies = [np.random.rand() for _ in set(np.array(edges).ravel())]\n",
    "energies = [_ for _ in set(np.array(edges).ravel())]\n",
    "g = nx.Graph(edges)\n",
    "subgraphs = [g.subgraph(c) for c in nx.connected_components(g)]\n",
    "groups = [tuple(graph.nodes) for graph in subgraphs]\n",
    "\n",
    "def en(tup):\n",
    "    ens = [energies[t] for t in tup]\n",
    "    return tup[ens.index(min(ens))]\n",
    "\n",
    "best_of_cluster = [en(group) for group in groups]\n",
    "print(best_of_cluster)\n",
    "\n",
    "rejects_sets = [set(a) - {b} for a, b in zip(groups, best_of_cluster)]\n",
    "\n",
    "rejects = []\n",
    "def flatten(seq):\n",
    "    for s in seq:\n",
    "        if type(s) in (tuple, list, set):\n",
    "            flatten(s)\n",
    "        else:\n",
    "            rejects.append(s)\n",
    "\n",
    "flatten(rejects_sets)\n",
    "\n",
    "mask = [True for _ in range(len(structures))]\n",
    "for i in rejects:\n",
    "    mask[i] = False\n",
    "\n"
   ]
  },
  {
   "cell_type": "code",
   "execution_count": 64,
   "metadata": {},
   "outputs": [
    {
     "output_type": "execute_result",
     "data": {
      "text/plain": [
       "{0, 4, 6}"
      ]
     },
     "metadata": {},
     "execution_count": 64
    }
   ],
   "source": [
    "from cclib.io import ccread"
   ]
  },
  {
   "cell_type": "code",
   "execution_count": null,
   "metadata": {},
   "outputs": [],
   "source": []
  }
 ]
}