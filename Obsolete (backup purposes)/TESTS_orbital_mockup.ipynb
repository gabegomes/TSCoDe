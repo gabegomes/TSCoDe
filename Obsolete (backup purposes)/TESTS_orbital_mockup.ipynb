{
 "metadata": {
  "language_info": {
   "codemirror_mode": {
    "name": "ipython",
    "version": 3
   },
   "file_extension": ".py",
   "mimetype": "text/x-python",
   "name": "python",
   "nbconvert_exporter": "python",
   "pygments_lexer": "ipython3",
   "version": "3.6.12-final"
  },
  "orig_nbformat": 2,
  "kernelspec": {
   "name": "python3",
   "display_name": "Python 3",
   "language": "python"
  }
 },
 "nbformat": 4,
 "nbformat_minor": 2,
 "cells": [
  {
   "cell_type": "code",
   "execution_count": null,
   "metadata": {},
   "outputs": [],
   "source": [
    "import networkx as nx\n",
    "from rdkit import Chem\n",
    "from rdkit.Chem import Draw\n",
    "from rdkit.Chem.Draw import IPythonConsole\n",
    "from rdkit.Chem import Descriptors\n",
    "from rdkit.Chem import AllChem\n",
    "from rdkit import DataStructs\n",
    "import numpy as np\n",
    "from ensemble_to_object import Density_object"
   ]
  },
  {
   "cell_type": "code",
   "execution_count": null,
   "metadata": {},
   "outputs": [],
   "source": [
    "def _compute_orbital_mockup(self):\n",
    "    '''\n",
    "    '''\n",
    "    mol = Chem.AddHs(mol)\n",
    "    for index in reactive_atoms:\n",
    "        atom = mol.GetAtoms()[index]\n",
    "        symbol = atom.GetSymbol()\n",
    "        neighbors = len(atom.GetNeighbors())\n",
    "        atom_type = atom_type_dict[symbol + str(neighbors)]"
   ]
  },
  {
   "cell_type": "code",
   "execution_count": null,
   "metadata": {},
   "outputs": [],
   "source": [
    "mol = Chem.MolFromMolFile('Resources/funky_single.mol')\n",
    "# mol = Chem.AddHs(mol)\n",
    "matrix = Chem.GetAdjacencyMatrix(mol)\n",
    "graph = nx.from_numpy_matrix(matrix)\n",
    "nx.draw(graph, with_labels=True)"
   ]
  },
  {
   "cell_type": "code",
   "execution_count": null,
   "metadata": {},
   "outputs": [],
   "source": [
    "atom_type_dict = {\n",
    "             'H1':'single',\n",
    "             'C1':'single',\n",
    "             'C2':'sp', # toroidal geometry\n",
    "             'C3':'sp2', # double ball\n",
    "             'C4':'sp3', # one big ball\n",
    "             'N1':'single',\n",
    "             'N2':'imine', # one ball on free side\n",
    "             'N3':'amine', # one ball on free side\n",
    "             'N4':'sp3',\n",
    "             'O1':'ketone-like', # two balls 120° apart. Also for alkoxides, good enough\n",
    "             'O2':'ether', # or alcohol, two balls 109,5° apart\n",
    "             'S1':'ketone-like',\n",
    "             'S2':'ether',\n",
    "             'F1':'single',\n",
    "             'Cl1':'single',\n",
    "             'Br1':'single',\n",
    "             'I1':'single',\n",
    "             }\n",
    "reactive_atoms = [6, 7]\n",
    "mol = Chem.AddHs(mol)\n",
    "for index in reactive_atoms:\n",
    "    atom = mol.GetAtoms()[index]\n",
    "    symbol = atom.GetSymbol()\n",
    "    neighbors = len(atom.GetNeighbors())\n",
    "    atom_type = atom_type_dict[symbol + str(neighbors)]\n",
    "\n",
    "    print(index, symbol, atom_type)"
   ]
  },
  {
   "cell_type": "code",
   "execution_count": null,
   "metadata": {},
   "outputs": [],
   "source": [
    "from periodictable import core, covalent_radius\n",
    "pt = core.PeriodicTable(table=\"H=1\")\n",
    "covalent_radius.init(pt)"
   ]
  },
  {
   "cell_type": "code",
   "execution_count": 18,
   "metadata": {},
   "outputs": [
    {
     "output_type": "execute_result",
     "data": {
      "text/plain": [
       "1.455"
      ]
     },
     "metadata": {},
     "execution_count": 18
    }
   ],
   "source": [
    "# for element in pt:\n",
    "#     print(element.symbol, element.covalent_radius)\n",
    "\n",
    "def d_min(e1, e2):\n",
    "    return 1.5 * (pt[e1].covalent_radius + pt[e2].covalent_radius)\n",
    "\n",
    "d_min(8, 1)"
   ]
  }
 ]
}