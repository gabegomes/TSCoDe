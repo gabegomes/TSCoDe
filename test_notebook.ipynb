{
 "metadata": {
  "language_info": {
   "codemirror_mode": {
    "name": "ipython",
    "version": 3
   },
   "file_extension": ".py",
   "mimetype": "text/x-python",
   "name": "python",
   "nbconvert_exporter": "python",
   "pygments_lexer": "ipython3",
   "version": "3.6.12"
  },
  "orig_nbformat": 2,
  "kernelspec": {
   "name": "python3612jvsc74a57bd013b132f2c1b4759c35299cc27b3a010876219416598289e22ec2dbcead05f2f6",
   "display_name": "Python 3.6.12 64-bit ('my-rdkit-env': conda)"
  }
 },
 "nbformat": 4,
 "nbformat_minor": 2,
 "cells": [
  {
   "cell_type": "code",
   "execution_count": null,
   "metadata": {},
   "outputs": [],
   "source": [
    "from main import polygonize\n",
    "import numpy as np\n",
    "\n",
    "def get_directions(vecs):\n",
    "    '''\n",
    "    Returns two or three vectors specifying the direction in which each molecule should be aligned\n",
    "    in the cyclical TS, pointing towards the center of the polygon.\n",
    "    '''\n",
    "    assert len(vecs) in (2,3)\n",
    "    if len(vecs) == 2:\n",
    "        return np.array([[0,1,0],\n",
    "                            [0,-1,0]])\n",
    "    else:\n",
    "        a = vecs[0,1,0] # first vec, end, x\n",
    "        b = vecs[1,1,0] # second vec, end, x\n",
    "        c = vecs[1,1,1] # second vec, end, y\n",
    "\n",
    "        x = a/2\n",
    "        y = (b**2 + c**2 - a*b)/(2*c)\n",
    "        cc = np.array([x,y,0])\n",
    "        # coordinates of the triangle circocenter\n",
    "\n",
    "        v1 = cc - np.mean((vecs[0,1],vecs[2,1]), axis=0)\n",
    "        v2 = cc - np.mean((vecs[1,1],vecs[0,1]), axis=0)\n",
    "        v3 = cc - np.mean((vecs[2,1],vecs[1,1]), axis=0)\n",
    "        # versors connecting center of side with circocenter\n",
    "\n",
    "        return np.vstack((v1,v2,v3))\n",
    "\n",
    "# get_directions(polygonize([1,1,1])[0])\n",
    "# polygonize([1,1,1])[0]\n",
    "\n",
    "from linalg_tools import cartesian_product\n",
    "rotation_steps = 2\n",
    "a = cartesian_product(*[range(-rotation_steps, rotation_steps+1) for _ in range(3)])*45/rotation_steps\n",
    "a[0:10]"
   ]
  },
  {
   "cell_type": "code",
   "execution_count": null,
   "metadata": {},
   "outputs": [],
   "source": [
    "x = np.array([[[0.,         0. ,        0.        ],\n",
    "  [1.97332738, 0.   ,      0.        ]],\n",
    "\n",
    " [[2.83868969, 4.15092487, 0.        ],\n",
    "  [1.97332738, 0.        , 0.        ]],\n",
    "\n",
    " [[2.83868969, 4.15092487, 0.        ],\n",
    "  [0.        , 0.        , 0.        ]]])\n",
    "\n",
    "[np.linalg.norm(i[0]-i[1]) for i in x]"
   ]
  },
  {
   "source": [
    "## Dataclass"
   ],
   "cell_type": "markdown",
   "metadata": {}
  },
  {
   "cell_type": "code",
   "execution_count": 30,
   "metadata": {},
   "outputs": [
    {
     "output_type": "execute_result",
     "data": {
      "text/plain": [
       "{'bypass': False,\n",
       " 'checkpoint': False,\n",
       " 'optimization': True,\n",
       " 'pruning_thresh': 0.5,\n",
       " 'rotation_steps': 6}"
      ]
     },
     "metadata": {},
     "execution_count": 30
    }
   ],
   "source": [
    "from main import Options\n",
    "options = Options()\n",
    "dir(options)\n",
    "{var:options.__getattribute__(var) for var in dir(options) if var[0:2] != '__'}"
   ]
  },
  {
   "source": [
    "## Options with numbers"
   ],
   "cell_type": "markdown",
   "metadata": {}
  },
  {
   "cell_type": "code",
   "execution_count": 31,
   "metadata": {},
   "outputs": [
    {
     "output_type": "execute_result",
     "data": {
      "text/plain": [
       "['NOOPT', 'STEPS', 'BYPASS']"
      ]
     },
     "metadata": {},
     "execution_count": 31
    }
   ],
   "source": [
    "keywords_list = ['STEPS=5']\n",
    "line = 'NOOPT STEPS=7 BYPASS'\n",
    "keywords = [l.split('=')[0] for l in line.split()]\n",
    "keywords"
   ]
  },
  {
   "source": [
    "## options with commas/equals"
   ],
   "cell_type": "markdown",
   "metadata": {}
  },
  {
   "cell_type": "code",
   "execution_count": 21,
   "metadata": {},
   "outputs": [
    {
     "output_type": "execute_result",
     "data": {
      "text/plain": [
       "'a=3.5'"
      ]
     },
     "metadata": {},
     "execution_count": 21
    }
   ],
   "source": [
    "d = {0:[[1,'a']], 1:[[9,'a']]}\n",
    "def _set_custom_orbs(orb_string):\n",
    "    '''\n",
    "    orb_string looks like 'a=2.345,b=3.456,c=2.22'\n",
    "\n",
    "    '''\n",
    "    pairs = [(piece.split('=')[0], float(piece.split('=')[1])) for piece in orb_string.split(',')]\n",
    "\n",
    "    for letter, dist in pairs:\n",
    "        for index in range(len(self.objects)):\n",
    "            for pairing in self.pairing_dict[index]:\n",
    "\n",
    "    # for each pairing specified by the user, check each pairing recorded\n",
    "    # in the pairing_dict on that molecule.\n",
    "\n",
    "                if pairing[1] == letter:\n",
    "                    for reactive_atom, reactive_index in zip(self.objects[index].reactive_atoms_classes, self.objects[index].reactive_indexes):\n",
    "                        if reactive_index == pairing[0]:\n",
    "                            reactive_atom.init(self.objects[index], reactive_index, update=True, orb_dim=dist/2)\n",
    "\n",
    "                # If the letter matches, look for the correct reactive atom on that molecule. When we find the correct match,\n",
    "                # set the new orbital center with imposed distance from the reactive atom. The imposed distance is half the \n",
    "                # user-specified one, as the final atomic distances will be given by two halves of this length.\n",
    "\n",
    "\n",
    "# _set_custom_orbs('a=2.345,b=3.456')\n",
    "# d = {0:[[1,'a']], 1:[[9,'a']]}\n",
    "\n",
    "'CLASHES(a=3.5)'[8:-1]"
   ]
  },
  {
   "source": [
    "## SUPRAFAC Keyword"
   ],
   "cell_type": "markdown",
   "metadata": {}
  },
  {
   "cell_type": "code",
   "execution_count": 6,
   "metadata": {},
   "outputs": [
    {
     "output_type": "stream",
     "name": "stdout",
     "text": [
      "[0, 1]\n1\n[True, False, False, True]\n"
     ]
    }
   ],
   "source": [
    "l = [0,2,3,1]\n",
    "\n",
    "for n in l:\n",
    "    keep = [i for i in l if n >= i]\n",
    "    if len(keep) == 2:\n",
    "        b = [i in keep for i in l]\n",
    "        print(keep)\n",
    "        print(n)\n",
    "        print(b)"
   ]
  },
  {
   "source": [
    "## Rodrigues Formula"
   ],
   "cell_type": "markdown",
   "metadata": {}
  },
  {
   "cell_type": "code",
   "execution_count": 2,
   "metadata": {},
   "outputs": [],
   "source": [
    "import numpy as np\n",
    "from linalg_tools import norm, rot_mat_from_pointer\n",
    "def rodrigues(pivot, angle):\n",
    "    '''\n",
    "    Pivot is a shape (3,) array\n",
    "    Angle in degrees\n",
    "    '''\n",
    "\n",
    "    p = norm(pivot)\n",
    "    a = angle/180*np.pi\n",
    "    x = np.array([1,0,0])\n",
    "    y = np.array([0,1,0])\n",
    "    z = np.array([0,0,1])\n",
    "\n",
    "    v0 = x*np.cos(a) + np.cross(p, x) * np.sin(a) + p*(np.dot(p, x))*(1-np.cos(a))\n",
    "    v1 = y*np.cos(a) + np.cross(p, y) * np.sin(a) + p*(np.dot(p, y))*(1-np.cos(a))\n",
    "    v2 = z*np.cos(a) + np.cross(p, z) * np.sin(a) + p*(np.dot(p, z))*(1-np.cos(a))\n",
    "\n",
    "    v0 = v0[..., None]\n",
    "    v1 = v1[..., None]\n",
    "    v2 = v2[..., None]\n",
    "\n",
    "    return np.hstack((v0,v1,v2))\n",
    "pivot = np.array([1,0,0])"
   ]
  },
  {
   "cell_type": "code",
   "execution_count": 2,
   "metadata": {},
   "outputs": [
    {
     "output_type": "stream",
     "name": "stdout",
     "text": [
      "349 µs ± 75 µs per loop (mean ± std. dev. of 100 runs, 1000 loops each)\n"
     ]
    }
   ],
   "source": [
    "%timeit -r 100 rodrigues(pivot, 180)"
   ]
  },
  {
   "cell_type": "code",
   "execution_count": 3,
   "metadata": {},
   "outputs": [
    {
     "output_type": "stream",
     "name": "stdout",
     "text": [
      "96.3 µs ± 1.57 µs per loop (mean ± std. dev. of 100 runs, 10000 loops each)\n"
     ]
    }
   ],
   "source": [
    "%timeit -r 100 rot_mat_from_pointer(pivot, 180)"
   ]
  },
  {
   "cell_type": "code",
   "execution_count": 30,
   "metadata": {},
   "outputs": [
    {
     "output_type": "stream",
     "name": "stdout",
     "text": [
      "[[ 1.          0.          0.        ]\n [ 0.          0.57357644 -0.81915204]\n [ 0.          0.81915204  0.57357644]]\n[[ 1.          0.          0.        ]\n [ 0.          0.57357644 -0.81915204]\n [ 0.          0.81915204  0.57357644]]\n"
     ]
    }
   ],
   "source": [
    "print(rodrigues(pivot, 55))\n",
    "print(rot_mat_from_pointer(pivot, 55))"
   ]
  },
  {
   "source": [
    "## Align vectors"
   ],
   "cell_type": "markdown",
   "metadata": {}
  },
  {
   "cell_type": "code",
   "execution_count": 9,
   "metadata": {},
   "outputs": [
    {
     "output_type": "execute_result",
     "data": {
      "text/plain": [
       "array([[ 1.,  0.,  0.],\n",
       "       [ 0., -1.,  0.],\n",
       "       [ 0.,  0., -1.]])"
      ]
     },
     "metadata": {},
     "execution_count": 9
    }
   ],
   "source": [
    "from scipy.spatial.transform import Rotation as R\n",
    "v1 = np.array((1,0,0))\n",
    "v2 = np.array((0,1,0))\n",
    "R.align_vectors((v1,v2),(v1,-v2))[0].as_matrix()"
   ]
  }
 ]
}