{
 "metadata": {
  "language_info": {
   "codemirror_mode": {
    "name": "ipython",
    "version": 3
   },
   "file_extension": ".py",
   "mimetype": "text/x-python",
   "name": "python",
   "nbconvert_exporter": "python",
   "pygments_lexer": "ipython3",
   "version": "3.6.13"
  },
  "orig_nbformat": 2,
  "kernelspec": {
   "name": "python3613jvsc74a57bd0f42432a105b8acee4ebf0bed7c821d7ab9f1c868b5ed9ce15efef0e0d7067e2c",
   "display_name": "Python 3.6.13 64-bit ('tscode': conda)"
  }
 },
 "nbformat": 4,
 "nbformat_minor": 2,
 "cells": [
  {
   "cell_type": "code",
   "execution_count": null,
   "metadata": {},
   "outputs": [],
   "source": [
    "from main import polygonize\n",
    "import numpy as np\n",
    "\n",
    "def get_directions(vecs):\n",
    "    '''\n",
    "    Returns two or three vectors specifying the direction in which each molecule should be aligned\n",
    "    in the cyclical TS, pointing towards the center of the polygon.\n",
    "    '''\n",
    "    assert len(vecs) in (2,3)\n",
    "    if len(vecs) == 2:\n",
    "        return np.array([[0,1,0],\n",
    "                            [0,-1,0]])\n",
    "    else:\n",
    "        a = vecs[0,1,0] # first vec, end, x\n",
    "        b = vecs[1,1,0] # second vec, end, x\n",
    "        c = vecs[1,1,1] # second vec, end, y\n",
    "\n",
    "        x = a/2\n",
    "        y = (b**2 + c**2 - a*b)/(2*c)\n",
    "        cc = np.array([x,y,0])\n",
    "        # coordinates of the triangle circocenter\n",
    "\n",
    "        v1 = cc - np.mean((vecs[0,1],vecs[2,1]), axis=0)\n",
    "        v2 = cc - np.mean((vecs[1,1],vecs[0,1]), axis=0)\n",
    "        v3 = cc - np.mean((vecs[2,1],vecs[1,1]), axis=0)\n",
    "        # versors connecting center of side with circocenter\n",
    "\n",
    "        return np.vstack((v1,v2,v3))\n",
    "\n",
    "# get_directions(polygonize([1,1,1])[0])\n",
    "# polygonize([1,1,1])[0]\n",
    "\n",
    "from linalg_tools import cartesian_product\n",
    "rotation_steps = 2\n",
    "a = cartesian_product(*[range(-rotation_steps, rotation_steps+1) for _ in range(3)])*45/rotation_steps\n",
    "a[0:10]"
   ]
  },
  {
   "cell_type": "code",
   "execution_count": null,
   "metadata": {},
   "outputs": [],
   "source": [
    "x = np.array([[[0.,         0. ,        0.        ],\n",
    "  [1.97332738, 0.   ,      0.        ]],\n",
    "\n",
    " [[2.83868969, 4.15092487, 0.        ],\n",
    "  [1.97332738, 0.        , 0.        ]],\n",
    "\n",
    " [[2.83868969, 4.15092487, 0.        ],\n",
    "  [0.        , 0.        , 0.        ]]])\n",
    "\n",
    "[np.linalg.norm(i[0]-i[1]) for i in x]"
   ]
  },
  {
   "source": [
    "## Dataclass"
   ],
   "cell_type": "markdown",
   "metadata": {}
  },
  {
   "cell_type": "code",
   "execution_count": 30,
   "metadata": {},
   "outputs": [
    {
     "output_type": "execute_result",
     "data": {
      "text/plain": [
       "{'bypass': False,\n",
       " 'checkpoint': False,\n",
       " 'optimization': True,\n",
       " 'pruning_thresh': 0.5,\n",
       " 'rotation_steps': 6}"
      ]
     },
     "metadata": {},
     "execution_count": 30
    }
   ],
   "source": [
    "from main import Options\n",
    "options = Options()\n",
    "dir(options)\n",
    "{var:options.__getattribute__(var) for var in dir(options) if var[0:2] != '__'}"
   ]
  },
  {
   "source": [
    "## Options with numbers"
   ],
   "cell_type": "markdown",
   "metadata": {}
  },
  {
   "cell_type": "code",
   "execution_count": 31,
   "metadata": {},
   "outputs": [
    {
     "output_type": "execute_result",
     "data": {
      "text/plain": [
       "['NOOPT', 'STEPS', 'BYPASS']"
      ]
     },
     "metadata": {},
     "execution_count": 31
    }
   ],
   "source": [
    "keywords_list = ['STEPS=5']\n",
    "line = 'NOOPT STEPS=7 BYPASS'\n",
    "keywords = [l.split('=')[0] for l in line.split()]\n",
    "keywords"
   ]
  }
 ]
}