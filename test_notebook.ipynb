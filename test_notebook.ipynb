{
 "cells": [
  {
   "cell_type": "code",
   "execution_count": null,
   "metadata": {},
   "outputs": [],
   "source": [
    "from main import polygonize\n",
    "import numpy as np\n",
    "\n",
    "def get_directions(vecs):\n",
    "    '''\n",
    "    Returns two or three vectors specifying the direction in which each molecule should be aligned\n",
    "    in the cyclical TS, pointing towards the center of the polygon.\n",
    "    '''\n",
    "    assert len(vecs) in (2,3)\n",
    "    if len(vecs) == 2:\n",
    "        return np.array([[0,1,0],\n",
    "                            [0,-1,0]])\n",
    "    else:\n",
    "        a = vecs[0,1,0] # first vec, end, x\n",
    "        b = vecs[1,1,0] # second vec, end, x\n",
    "        c = vecs[1,1,1] # second vec, end, y\n",
    "\n",
    "        x = a/2\n",
    "        y = (b**2 + c**2 - a*b)/(2*c)\n",
    "        cc = np.array([x,y,0])\n",
    "        # coordinates of the triangle circocenter\n",
    "\n",
    "        v1 = cc - np.mean((vecs[0,1],vecs[2,1]), axis=0)\n",
    "        v2 = cc - np.mean((vecs[1,1],vecs[0,1]), axis=0)\n",
    "        v3 = cc - np.mean((vecs[2,1],vecs[1,1]), axis=0)\n",
    "        # versors connecting center of side with circocenter\n",
    "\n",
    "        return np.vstack((v1,v2,v3))\n",
    "\n",
    "# get_directions(polygonize([1,1,1])[0])\n",
    "# polygonize([1,1,1])[0]\n",
    "\n",
    "from utils import cartesian_product\n",
    "rotation_steps = 2\n",
    "a = cartesian_product(*[range(-rotation_steps, rotation_steps+1) for _ in range(3)])*45/rotation_steps\n",
    "a[0:10]"
   ]
  },
  {
   "cell_type": "code",
   "execution_count": null,
   "metadata": {},
   "outputs": [],
   "source": [
    "x = np.array([[[0.,         0. ,        0.        ],\n",
    "  [1.97332738, 0.   ,      0.        ]],\n",
    "\n",
    " [[2.83868969, 4.15092487, 0.        ],\n",
    "  [1.97332738, 0.        , 0.        ]],\n",
    "\n",
    " [[2.83868969, 4.15092487, 0.        ],\n",
    "  [0.        , 0.        , 0.        ]]])\n",
    "\n",
    "[np.linalg.norm(i[0]-i[1]) for i in x]"
   ]
  },
  {
   "cell_type": "markdown",
   "metadata": {},
   "source": [
    "## Dataclass"
   ]
  },
  {
   "cell_type": "code",
   "execution_count": null,
   "metadata": {},
   "outputs": [],
   "source": [
    "from main import Options\n",
    "options = Options()\n",
    "dir(options)\n",
    "{var:options.__getattribute__(var) for var in dir(options) if var[0:2] != '__'}"
   ]
  },
  {
   "cell_type": "markdown",
   "metadata": {},
   "source": [
    "## Options with numbers"
   ]
  },
  {
   "cell_type": "code",
   "execution_count": null,
   "metadata": {},
   "outputs": [],
   "source": [
    "keywords_list = ['STEPS=5']\n",
    "line = 'NOOPT STEPS=7 BYPASS'\n",
    "keywords = [l.split('=')[0] for l in line.split()]\n",
    "keywords"
   ]
  },
  {
   "cell_type": "markdown",
   "metadata": {},
   "source": [
    "## options with commas/equals"
   ]
  },
  {
   "cell_type": "code",
   "execution_count": null,
   "metadata": {},
   "outputs": [],
   "source": [
    "d = {0:[[1,'a']], 1:[[9,'a']]}\n",
    "def _set_custom_orbs(orb_string):\n",
    "    '''\n",
    "    orb_string looks like 'a=2.345,b=3.456,c=2.22'\n",
    "\n",
    "    '''\n",
    "    pairs = [(piece.split('=')[0], float(piece.split('=')[1])) for piece in orb_string.split(',')]\n",
    "\n",
    "    for letter, dist in pairs:\n",
    "        for index in range(len(self.objects)):\n",
    "            for pairing in self.pairing_dict[index]:\n",
    "\n",
    "    # for each pairing specified by the user, check each pairing recorded\n",
    "    # in the pairing_dict on that molecule.\n",
    "\n",
    "                if pairing[1] == letter:\n",
    "                    for reactive_atom, reactive_index in zip(self.objects[index].reactive_atoms_classes, self.objects[index].reactive_indexes):\n",
    "                        if reactive_index == pairing[0]:\n",
    "                            reactive_atom.init(self.objects[index], reactive_index, update=True, orb_dim=dist/2)\n",
    "\n",
    "                # If the letter matches, look for the correct reactive atom on that molecule. When we find the correct match,\n",
    "                # set the new orbital center with imposed distance from the reactive atom. The imposed distance is half the \n",
    "                # user-specified one, as the final atomic distances will be given by two halves of this length.\n",
    "\n",
    "\n",
    "# _set_custom_orbs('a=2.345,b=3.456')\n",
    "# d = {0:[[1,'a']], 1:[[9,'a']]}\n",
    "\n",
    "'CLASHES(a=3.5)'[8:-1]"
   ]
  },
  {
   "cell_type": "markdown",
   "metadata": {},
   "source": [
    "## SUPRAFAC Keyword"
   ]
  },
  {
   "cell_type": "code",
   "execution_count": null,
   "metadata": {},
   "outputs": [],
   "source": [
    "l = [0,2,3,1]\n",
    "\n",
    "for n in l:\n",
    "    keep = [i for i in l if n >= i]\n",
    "    if len(keep) == 2:\n",
    "        b = [i in keep for i in l]\n",
    "        print(keep)\n",
    "        print(n)\n",
    "        print(b)"
   ]
  },
  {
   "cell_type": "markdown",
   "metadata": {},
   "source": [
    "## Rodrigues Formula"
   ]
  },
  {
   "cell_type": "code",
   "execution_count": null,
   "metadata": {},
   "outputs": [],
   "source": [
    "import numpy as np\n",
    "from utils import norm, rot_mat_from_pointer\n",
    "def rodrigues(pivot, angle):\n",
    "    '''\n",
    "    Pivot is a shape (3,) array\n",
    "    Angle in degrees\n",
    "    '''\n",
    "\n",
    "    p = norm(pivot)\n",
    "    a = angle/180*np.pi\n",
    "    x = np.array([1,0,0])\n",
    "    y = np.array([0,1,0])\n",
    "    z = np.array([0,0,1])\n",
    "\n",
    "    v0 = x*np.cos(a) + np.cross(p, x) * np.sin(a) + p*(np.dot(p, x))*(1-np.cos(a))\n",
    "    v1 = y*np.cos(a) + np.cross(p, y) * np.sin(a) + p*(np.dot(p, y))*(1-np.cos(a))\n",
    "    v2 = z*np.cos(a) + np.cross(p, z) * np.sin(a) + p*(np.dot(p, z))*(1-np.cos(a))\n",
    "\n",
    "    v0 = v0[..., None]\n",
    "    v1 = v1[..., None]\n",
    "    v2 = v2[..., None]\n",
    "\n",
    "    return np.hstack((v0,v1,v2))\n",
    "pivot = np.array([1,0,0])"
   ]
  },
  {
   "cell_type": "code",
   "execution_count": null,
   "metadata": {},
   "outputs": [],
   "source": [
    "%timeit -r 100 rodrigues(pivot, 180)"
   ]
  },
  {
   "cell_type": "code",
   "execution_count": null,
   "metadata": {},
   "outputs": [],
   "source": [
    "%timeit -r 100 rot_mat_from_pointer(pivot, 180)"
   ]
  },
  {
   "cell_type": "code",
   "execution_count": null,
   "metadata": {},
   "outputs": [],
   "source": [
    "print(rodrigues(pivot, 55))\n",
    "print(rot_mat_from_pointer(pivot, 55))"
   ]
  },
  {
   "cell_type": "markdown",
   "metadata": {},
   "source": [
    "## Align vectors"
   ]
  },
  {
   "cell_type": "code",
   "execution_count": null,
   "metadata": {},
   "outputs": [],
   "source": [
    "from scipy.spatial.transform import Rotation as R\n",
    "v1 = np.array((1,0,0))\n",
    "v2 = np.array((0,1,0))\n",
    "R.align_vectors((v1,v2),(v1,-v2))[0].as_matrix()"
   ]
  },
  {
   "cell_type": "markdown",
   "metadata": {},
   "source": []
  },
  {
   "cell_type": "markdown",
   "metadata": {},
   "source": [
    "## RMSD threshold\n",
    "Looking for the best RMSD treshold for optimized structures obtainment"
   ]
  },
  {
   "cell_type": "code",
   "execution_count": null,
   "metadata": {},
   "outputs": [],
   "source": [
    "from prune import prune_conformers\n",
    "import numpy as np\n",
    "import matplotlib.pyplot as plt\n",
    "import os\n",
    "from cclib.io import ccread\n",
    "os.chdir('Resources/RMSD_test')\n",
    "\n",
    "fig = plt.figure(figsize=(8,5))\n",
    "plt.ylabel(r'% structures kept')\n",
    "plt.xlabel('RMSD')\n",
    "\n",
    "for filename in os.listdir():\n",
    "    if filename[-4:] == '.xyz':\n",
    "        data = ccread(filename)\n",
    "        x, y = [], []\n",
    "        for RMSD in np.arange(0.5,3,0.05):\n",
    "            mask = prune_conformers(data.atomcoords, data.atomnos, max_rmsd=RMSD)[1]\n",
    "            kept = len([m for m in mask if m == True])/len(mask)\n",
    "            # s = f'kept {len([m for m in mask if m == True])}/{len(mask)}'\n",
    "            y.append(kept)\n",
    "            x.append(RMSD)\n",
    "        plt.plot(x, y, label=filename)\n",
    "plt.legend()"
   ]
  },
  {
   "cell_type": "markdown",
   "metadata": {},
   "source": [
    "## MOPAC Berny\n",
    "### Full list of KEYWORDS\n",
    "        & - TURN NEXT LINE INTO KEYWORDS\n",
    "        + - ADD ANOTHER LINE OF KEYWORDS\n",
    "        0SCF - READ IN DATA, THEN STOP\n",
    "        1ELECTRON- PRINT FINAL ONE-ELECTRON MATRIX\n",
    "        1SCF - DO ONE SCF AND THEN STOP\n",
    "        AIDER - READ IN AB INITIO DERIVATIVES\n",
    "        AIGIN - GEOMETRY MUST BE IN GAUSSIAN FORMAT\n",
    "        AIGOUT - IN ARC FILE, INCLUDE AB-INITIO GEOMETRY\n",
    "        ANALYT - USE ANALYTICAL DERIVATIVES OF ENERGY WRT GEOMETRY\n",
    "        AM1 - USE THE AM1 HAMILTONIAN\n",
    "        BAR=n.n - REDUCE BAR LENGTH BY A MAXIMUM OF n.n\n",
    "        BIRADICAL- SYSTEM HAS TWO UNPAIRED ELECTRONS\n",
    "        BONDS - PRINT FINAL BOND-ORDER MATRIX\n",
    "        C.I. - A MULTI-ELECTRON CONFIGURATION INTERACTION SPECIFIED\n",
    "        Keywords\n",
    "        CHARGE=n - CHARGE ON SYSTEM = n (e.g. NH4 => CHARGE=1)\n",
    "        COMPFG - PRINT HEAT OF FORMATION CALCULATED IN COMPFG\n",
    "        CONNOLLY - USE CONNOLLY SURFACE\n",
    "        DEBUG - DEBUG OPTION TURNED ON\n",
    "        DENOUT - DENSITY MATRIX OUTPUT (CHANNEL 10)\n",
    "        DENSITY - PRINT FINAL DENSITY MATRIX\n",
    "        DEP - GENERATE FORTRAN CODE FOR PARAMETERS FOR NEW ELEMENTS\n",
    "        DEPVAR=n - TRANSLATION VECTOR IS A MULTIPLE OF BOND-LENGTH\n",
    "        DERIV - PRINT PART OF WORKING IN DERIV\n",
    "        DFORCE - FORCE CALCULATION SPECIFIED, ALSO PRINT FORCE MATRIX.\n",
    "        DFP - USE DAVIDON-FLETCHER-POWELL METHOD TO OPTIMIZE GEOMETRIES\n",
    "        DIPOLE - FIT THE ESP TO THE CALCULATED DIPOLE\n",
    "        DIPX - X COMPONENT OF DIPOLE TO BE FITTED\n",
    "        DIPY - Y COMPONENT OF DIPOLE TO BE FITTED\n",
    "        DIPZ - Z COMPONENT OF DIPOLE TO BE FITTED\n",
    "        DMAX - MAXIMUM STEPSIZE IN EIGENVECTOR FOLLOWING\n",
    "        DOUBLET - DOUBLET STATE REQUIRED\n",
    "        DRC - DYNAMIC REACTION COORDINATE CALCULATION\n",
    "        DUMP=n - WRITE RESTART FILES EVERY n SECONDS\n",
    "        ECHO - DATA ARE ECHOED BACK BEFORE CALCULATION STARTS\n",
    "        EF - USE EF ROUTINE FOR MINIMUM SEARCH\n",
    "        EIGINV -\n",
    "        EIGS - PRINT ALL EIGENVALUES IN ITER\n",
    "        ENPART - PARTITION ENERGY INTO COMPONENTS\n",
    "        ESP - ELECTROSTATIC POTENTIAL CALCULATION\n",
    "        ESPRST - RESTART OF ELECTROSTATIC POTENTIAL\n",
    "        ESR - CALCULATE RHF UNPAIRED SPIN DENSITY\n",
    "        EXCITED - OPTIMIZE FIRST EXCITED SINGLET STATE\n",
    "        EXTERNAL - READ PARAMETERS OFF DISK\n",
    "        FILL=n - IN RHF OPEN AND CLOSED SHELL, FORCE M.O. n\n",
    "        TO BE FILLED\n",
    "        FLEPO - PRINT DETAILS OF GEOMETRY OPTIMIZATION\n",
    "        FMAT - PRINT DETAILS OF WORKING IN FMAT\n",
    "        FOCK - PRINT LAST FOCK MATRIX\n",
    "        FORCE - FORCE CALCULATION SPECIFIED\n",
    "        GEO-OK - OVERRIDE INTERATOMIC DISTANCE CHECK\n",
    "        GNORM=n.n- EXIT WHEN GRADIENT NORM DROPS BELOW n.n\n",
    "        GRADIENTS- PRINT ALL GRADIENTS\n",
    "        GRAPH - GENERATE FILE FOR GRAPHICS\n",
    "        HCORE - PRINT DETAILS OF WORKING IN HCORE\n",
    "        HESS=N - OPTIONS FOR CALCULATING HESSIAN MATRICES IN EF\n",
    "        H-PRIO - HEAT OF FORMATION TAKES PRIORITY IN DRC\n",
    "        HYPERFINE- HYPERFINE COUPLING CONSTANTS TO BE CALCULATED\n",
    "        IRC - INTRINSIC REACTION COORDINATE CALCULATION\n",
    "        ISOTOPE - FORCE MATRIX WRITTEN TO DISK (CHANNEL 9 )\n",
    "        ITER - PRINT DETAILS OF WORKING IN ITER\n",
    "        ITRY=N - SET LIMIT OF NUMBER OF SCF ITERATIONS TO N.\n",
    "        IUPD - MODE OF HESSIAN UPDATE IN EIGENVECTOR FOLLOWING\n",
    "        K=(N,N) - BRILLOUIN ZONE STRUCTURE TO BE CALCULATED\n",
    "        KINETIC - EXCESS KINETIC ENERGY ADDED TO DRC CALCULATION\n",
    "        LINMIN - PRINT DETAILS OF LINE MINIMIZATION\n",
    "        LARGE - PRINT EXPANDED OUTPUT\n",
    "        LET - OVERRIDE CERTAIN SAFETY CHECKS\n",
    "        LOCALIZE - PRINT LOCALIZED ORBITALS\n",
    "        MAX - PRINTS MAXIMUM GRID SIZE (23*23)\n",
    "        MECI - PRINT DETAILS OF MECI CALCULATION\n",
    "        MICROS - USE SPECIFIC MICROSTATES IN THE C.I.\n",
    "        MINDO/3 - USE THE MINDO/3 HAMILTONIAN\n",
    "        MMOK - USE MOLECULAR MECHANICS CORRECTION TO CONH BONDS\n",
    "        MODE=N - IN EF, FOLLOW HESSIAN MODE NO. N\n",
    "        MOLDAT - PRINT DETAILS OF WORKING IN MOLDAT\n",
    "        MS=N - IN MECI, MAGNETIC COMPONENT OF SPIN\n",
    "        MULLIK - PRINT THE MULLIKEN POPULATION ANALYSIS\n",
    "        NLLSQ - MINIMIZE GRADIENTS USING NLLSQ\n",
    "        NOANCI - DO NOT USE ANALYTICAL C.I. DERIVATIVES\n",
    "        NODIIS - DO NOT USE DIIS GEOMETRY OPTIMIZER\n",
    "        NOINTER - DO NOT PRINT INTERATOMIC DISTANCES\n",
    "        NOLOG - SUPPRESS LOG FILE TRAIL, WHERE POSSIBLE\n",
    "        NOMM - DO NOT USE MOLECULAR MECHANICS CORRECTION TO CONH BONDS\n",
    "        NONR -\n",
    "        NOTHIEL - DO NOT USE THIEL’S FSTMIN TECHNIQUE\n",
    "        NSURF=N - NUMBER OF SURFACES IN AN ESP CALCULATION\n",
    "        NOXYZ - DO NOT PRINT CARTESIAN COORDINATES\n",
    "        NSURF - NUMBER OF LAYERS USED IN ELECTROSTATIC POTENTIAL\n",
    "        OLDENS - READ INITIAL DENSITY MATRIX OFF DISK\n",
    "        OLDGEO - PREVIOUS GEOMETRY TO BE USED\n",
    "        OPEN - OPEN-SHELL RHF CALCULATION REQUESTED\n",
    "        ORIDE -\n",
    "        PARASOK - IN AM1 CALCULATIONS SOME MNDO PARAMETERS ARE TO BE USED\n",
    "        PI - RESOLVE DENSITY MATRIX INTO SIGMA AND PI BONDS\n",
    "        PL - MONITOR CONVERGENCE OF DENSITY MATRIX IN ITER\n",
    "        PM3 - USE THE MNDO-PM3 HAMILTONIAN\n",
    "        POINT=N - NUMBER OF POINTS IN REACTION PATH\n",
    "        POINT1=N - NUMBER OF POINTS IN FIRST DIRECTION IN GRID CALCULATION\n",
    "        POINT2=N - NUMBER OF POINTS IN SECOND DIRECTION IN GRID CALCULATION\n",
    "        POLAR - CALCULATE FIRST, SECOND AND THIRD ORDER POLARIZABILITIES\n",
    "        POTWRT - IN ESP, WRITE OUT ELECTROSTATIC POTENTIAL TO UNIT 21\n",
    "        POWSQ - PRINT DETAILS OF WORKING IN POWSQ\n",
    "        PRECISE - CRITERIA TO BE INCREASED BY 100 TIMES\n",
    "        PULAY - USE PULAY’S CONVERGER TO OBTAIN A SCF\n",
    "        QUARTET - QUARTET STATE REQUIRED\n",
    "        QUINTET - QUINTET STATE REQUIRED\n",
    "        RECALC=N - IN EF, RECALCULATE HESSIAN EVERY N STEPS\n",
    "        RESTART - CALCULATION RESTARTED\n",
    "        ROOT=n - ROOT n TO BE OPTIMIZED IN A C.I. CALCULATION\n",
    "        ROT=n - THE SYMMETRY NUMBER OF THE SYSTEM IS n.\n",
    "        SADDLE - OPTIMIZE TRANSITION STATE\n",
    "        SCALE - SCALING FACTOR FOR VAN DER WAALS DISTANCE IN ESP\n",
    "        SCFCRT=n - DEFAULT SCF CRITERION REPLACED BY THE VALUE SUPPLIED\n",
    "        SCINCR - INCREMENT BETWEEN LAYERS IN ESP\n",
    "        SETUP - EXTRA KEYWORDS TO BE READ OF SETUP FILE\n",
    "        SEXTET - SEXTET STATE REQUIRED\n",
    "        SHIFT=n - A DAMPING FACTOR OF n DEFINED TO START SCF\n",
    "        SIGMA - MINIMIZE GRADIENTS USING SIGMA\n",
    "        SINGLET - SINGLET STATE REQUIRED\n",
    "        SLOPE - MULTIPLIER USED TO SCALE MNDO CHARGES\n",
    "        SPIN - PRINT FINAL UHF SPIN MATRIX\n",
    "        STEP - STEP SIZE IN PATH\n",
    "        Keywords\n",
    "        STEP1=n - STEP SIZE n FOR FIRST COORDINATE IN GRID CALCULATION\n",
    "        STEP2=n - STEP SIZE n FOR SECOND COORDINATE IN GRID CALCULATION\n",
    "        STO-3G - DEORTHOGONALIZE ORBITALS IN STO-3G BASIS\n",
    "        SYMAVG - AVERAGE SYMMETRY EQUIVALENT ESP CHARGES\n",
    "        SYMMETRY - IMPOSE SYMMETRY CONDITIONS\n",
    "        T=n - A TIME OF n SECONDS REQUESTED\n",
    "        THERMO - PERFORM A THERMODYNAMICS CALCULATION\n",
    "        TIMES - PRINT TIMES OF VARIOUS STAGES\n",
    "        T-PRIO - TIME TAKES PRIORITY IN DRC\n",
    "        TRANS - THE SYSTEM IS A TRANSITION STATE\n",
    "        (USED IN THERMODYNAMICS CALCULATION)\n",
    "        TRIPLET - TRIPLET STATE REQUIRED\n",
    "        TS - USING EF ROUTINE FOR TS SEARCH\n",
    "        UHF - UNRESTRICTED HARTREE-FOCK CALCULATION\n",
    "        VECTORS - PRINT FINAL EIGENVECTORS\n",
    "        VELOCITY - SUPPLY THE INITIAL VELOCITY VECTOR IN A DRC CALCULATION\n",
    "        WILLIAMS - USE WILLIAMS SURFACE\n",
    "        X-PRIO - GEOMETRY CHANGES TAKE PRIORITY IN DRC\n",
    "        XYZ - DO ALL GEOMETRIC OPERATIONS IN CARTESIAN COORDINATES."
   ]
  },
  {
   "cell_type": "code",
   "execution_count": null,
   "metadata": {},
   "outputs": [],
   "source": [
    "from optimization_methods import mopac_opt\n",
    "from tscode import write_xyz\n",
    "import numpy as np\n",
    "import os\n",
    "from cclib.io import ccread\n",
    "os.chdir('Resources/SN2')\n",
    "data = ccread('test_berny.xyz')\n",
    "constrained_indexes = np.array(((0,18),(6,16)))"
   ]
  },
  {
   "cell_type": "code",
   "execution_count": null,
   "metadata": {},
   "outputs": [],
   "source": [
    "newcoords = mopac_opt(data.atomcoords[0], data.atomnos, method='PM7 TS')[0]\n",
    "with open('test_berny_out.xyz', 'w') as f:\n",
    "    write_xyz(newcoords, data.atomnos, f, title='test_berny_out.xyz')\n",
    "os.system('obabel test_berny_out.xyz -O test_berny_out.sdf')\n",
    "os.system('gview test_berny_out.sdf')"
   ]
  },
  {
   "cell_type": "code",
   "execution_count": null,
   "metadata": {},
   "outputs": [],
   "source": [
    "from spyrmsd.rmsd import rmsd\n",
    "rmsd(data.atomcoords[0], newcoords, data.atomnos, data.atomnos, center=True, minimize=True)"
   ]
  },
  {
   "cell_type": "markdown",
   "metadata": {},
   "source": [
    "## ASE NEB"
   ]
  },
  {
   "cell_type": "code",
   "execution_count": 1,
   "metadata": {},
   "outputs": [],
   "source": [
    "import time\n",
    "\n",
    "class timer():\n",
    "    def __init__(self, title=''):\n",
    "        self.title = title\n",
    "    def __enter__(self):\n",
    "        self.t1 = time.time()\n",
    "    def __exit__(self, type, value, traceback):\n",
    "        self.t2 = time.time()\n",
    "        if self.title != '':\n",
    "            s = f'{self.title} - {round(self.t2-self.t1, 3)} s'\n",
    "        else:\n",
    "            s = f'{round(self.t2-self.t1, 3)} s' \n",
    "        print(s)"
   ]
  },
  {
   "cell_type": "code",
   "execution_count": 29,
   "metadata": {},
   "outputs": [],
   "source": [
    "import os\n",
    "from cclib.io import ccread\n",
    "os.chdir(r'C:\\Users\\Nik\\Desktop\\Coding\\TSCoDe\\Resources\\DA\\ase')\n",
    "data = ccread('structure_0_start.xyz')\n",
    "start = data.atomcoords[0]\n",
    "end = ccread('structure_0_end.xyz').atomcoords[0]"
   ]
  },
  {
   "cell_type": "code",
   "execution_count": 73,
   "metadata": {},
   "outputs": [],
   "source": [
    "from ase.dyneb import DyNEB\n",
    "from ase.neb import NEB\n",
    "from ase.optimize import *\n",
    "from ase import Atoms\n",
    "from ase.calculators.mopac import MOPAC\n",
    "from parameters import MOPAC_COMMAND\n",
    "from ase.visualize import view\n",
    "from optimization_methods import write_xyz\n",
    "\n",
    "def dump(filename, images, atomnos):\n",
    "    with open(filename, 'w') as f:\n",
    "                for image in images:\n",
    "                    coords = image.get_positions()\n",
    "                    write_xyz(coords, atomnos, f)\n",
    "\n",
    "def ase_neb(reagents, products, atomnos, n_images=6, fmax=0.05, label='temp'):\n",
    "\n",
    "    # Read initial and final states:\n",
    "    initial = Atoms(atomnos, positions=reagents)\n",
    "    final = Atoms(atomnos, positions=products)\n",
    "\n",
    "    # Make a band consisting of n images:\n",
    "    images = [initial]\n",
    "    images += [initial.copy() for i in range(n_images)]\n",
    "    images += [final]\n",
    "\n",
    "    climbing_neb = DyNEB(images, fmax=fmax, climb=True,  method='eb', scale_fmax=1, allow_shared_calculator=True)\n",
    "\n",
    "    # Interpolate linearly the positions of the middle images:\n",
    "    climbing_neb.interpolate()\n",
    "    # dump('interpolated.xyz', images, atomnos)\n",
    "    \n",
    "    # Set calculators for all images\n",
    "    for i, image in enumerate(images):\n",
    "        image.calc = MOPAC(label=label, command=f'{MOPAC_COMMAND} {label}.mop', method='PM7 GEO-OK')\n",
    "\n",
    "    # Optimize:\n",
    "    climbing_optimizer = LBFGS(climbing_neb, trajectory='ASE_NEB_test.traj')\n",
    "    try:\n",
    "        climbing_optimizer.run(fmax=fmax, steps=500)\n",
    "\n",
    "    except Exception as e:\n",
    "        print(e)\n",
    "\n",
    "    dump('debug.xyz', images, atomnos)\n",
    "    energies = [image.get_total_energy() for image in images]\n",
    "    ts_id = energies.index(max(energies))\n",
    "    # print(f'TS structure is number {ts_id}, energy is {max(energies)}')\n",
    "\n",
    "    return images[ts_id].get_positions()"
   ]
  },
  {
   "cell_type": "code",
   "execution_count": 31,
   "metadata": {
    "tags": []
   },
   "outputs": [
    {
     "name": "stdout",
     "output_type": "stream",
     "text": [
      "      Step     Time          Energy         fmax\n",
      "*Force-consistent energies used in optimization.\n",
      "FIRE:    0 10:14:04    -2271.401800*       6.1310\n",
      "FIRE:    1 10:14:04    -2272.394960*       3.5221\n",
      "FIRE:    2 10:14:05    -2272.847100*       4.5209\n",
      "FIRE:    3 10:14:06    -2273.085800*       4.2573\n",
      "FIRE:    4 10:14:06    -2273.339720*       2.3239\n",
      "FIRE:    5 10:14:07    -2273.473440*       2.8806\n",
      "FIRE:    6 10:14:08    -2273.542930*       2.0395\n",
      "FIRE:    7 10:14:08    -2273.636330*       1.1842\n",
      "FIRE:    8 10:14:09    -2273.709910*       1.9144\n",
      "FIRE:    9 10:14:10    -2273.761850*       2.5581\n",
      "FIRE:   10 10:14:10    -2273.808580*       1.7936\n",
      "FIRE:   11 10:14:11    -2273.850060*       1.0683\n",
      "FIRE:   12 10:14:12    -2273.887840*       1.4766\n",
      "FIRE:   13 10:14:12    -2273.944840*       2.0809\n",
      "FIRE:   14 10:14:13    -2274.030750*       1.4074\n",
      "FIRE:   15 10:14:14    -2274.109620*       1.1815\n",
      "FIRE:   16 10:14:14    -2274.156400*       1.7897\n",
      "FIRE:   17 10:14:15    -2274.213350*       0.7744\n",
      "FIRE:   18 10:14:16    -2274.261520*       1.5117\n",
      "FIRE:   19 10:14:16    -2274.309750*       0.8031\n",
      "FIRE:   20 10:14:17    -2274.319610*       1.6266\n",
      "FIRE:   21 10:14:17    -2274.337130*       0.9301\n",
      "FIRE:   22 10:14:18    -2274.352430*       0.4190\n",
      "FIRE:   23 10:14:19    -2274.356930*       0.9741\n",
      "FIRE:   24 10:14:19    -2274.358740*       0.8848\n",
      "FIRE:   25 10:14:20    -2274.361780*       0.7139\n",
      "FIRE:   26 10:14:20    -2274.365090*       0.4793\n",
      "FIRE:   27 10:14:21    -2274.367820*       0.3499\n",
      "FIRE:   28 10:14:22    -2274.369680*       0.3499\n",
      "FIRE:   29 10:14:22    -2274.371100*       0.4432\n",
      "FIRE:   30 10:14:22    -2274.372830*       0.5759\n",
      "FIRE:   31 10:14:23    -2274.375640*       0.5962\n",
      "FIRE:   32 10:14:24    -2274.379630*       0.4741\n",
      "FIRE:   33 10:14:24    -2274.384110*       0.3520\n",
      "FIRE:   34 10:14:24    -2274.388040*       0.3560\n",
      "FIRE:   35 10:14:25    -2274.391620*       0.4376\n",
      "FIRE:   36 10:14:25    -2274.396350*       0.4840\n",
      "FIRE:   37 10:14:26    -2274.402430*       0.3671\n",
      "FIRE:   38 10:14:26    -2274.408110*       0.3658\n",
      "FIRE:   39 10:14:26    -2274.413900*       0.4348\n",
      "FIRE:   40 10:14:27    -2274.421400*       0.3549\n",
      "FIRE:   41 10:14:27    -2274.428260*       0.4072\n",
      "FIRE:   42 10:14:27    -2274.436330*       0.3236\n",
      "FIRE:   43 10:14:28    -2274.444760*       0.4628\n",
      "FIRE:   44 10:14:28    -2274.455930*       0.2743\n",
      "FIRE:   45 10:14:29    -2274.467240*       0.4497\n",
      "FIRE:   46 10:14:29    -2274.480380*       0.6551\n",
      "FIRE:   47 10:14:29    -2274.490890*       0.7845\n",
      "FIRE:   48 10:14:30    -2274.471920*       2.0342\n",
      "FIRE:   49 10:14:30    -2274.512380*       0.1844\n",
      "       Step     Time          Energy         fmax\n",
      "*Force-consistent energies used in optimization.\n",
      "LBFGS:    0 10:14:30    -2274.512380*       0.2613\n",
      "LBFGS:    1 10:14:31    -2274.510440*       0.2704\n",
      "LBFGS:    2 10:14:31    -2274.495390*       0.6641\n",
      "LBFGS:    3 10:14:32    -2274.475880*       0.7877\n",
      "LBFGS:    4 10:14:33    -2274.426890*       0.6428\n",
      "LBFGS:    5 10:14:33    -2274.357000*       0.5237\n",
      "LBFGS:    6 10:14:34    -2274.201730*       1.0796\n",
      "LBFGS:    7 10:14:35    -2273.798820*       1.7917\n",
      "LBFGS:    8 10:14:35    -2273.698940*       1.4500\n",
      "LBFGS:    9 10:14:36    -2273.712450*       0.9683\n",
      "LBFGS:   10 10:14:37    -2273.566820*       1.0183\n",
      "LBFGS:   11 10:14:37    -2273.751310*       1.6855\n",
      "LBFGS:   12 10:14:38    -2273.775630*       0.4224\n",
      "LBFGS:   13 10:14:38    -2273.840040*       0.7517\n",
      "LBFGS:   14 10:14:39    -2273.848300*       0.3331\n",
      "LBFGS:   15 10:14:39    -2273.882070*       0.6349\n",
      "LBFGS:   16 10:14:40    -2273.896080*       1.3528\n",
      "LBFGS:   17 10:14:40    -2273.909210*       0.6209\n",
      "LBFGS:   18 10:14:41    -2273.789000*       1.7022\n",
      "LBFGS:   19 10:14:41    -2273.906740*       0.1717\n",
      "LBFGS:   20 10:14:41    -2273.911110*       0.1365\n",
      "LBFGS:   21 10:14:42    -2273.922240*       2.2356\n",
      "LBFGS:   22 10:14:42    -2273.661950*       4.5145\n",
      "LBFGS:   23 10:14:42    -2273.957790*       2.3750\n",
      "LBFGS:   24 10:14:43    -2273.863780*       3.8282\n",
      "LBFGS:   25 10:14:43    -2273.807960*       4.5300\n",
      "LBFGS:   26 10:14:43    -2273.807620*       3.7518\n",
      "LBFGS:   27 10:14:44    -2273.930030*       0.8629\n",
      "LBFGS:   28 10:14:44    -2273.972100*       3.3915\n",
      "LBFGS:   29 10:14:45    -2273.993930*       0.8334\n",
      "LBFGS:   30 10:14:45    -2273.965470*       0.9609\n",
      "LBFGS:   31 10:14:45    -2273.934160*       0.9546\n",
      "LBFGS:   32 10:14:46    -2273.961620*       0.8521\n",
      "LBFGS:   33 10:14:46    -2274.198380*       2.8726\n",
      "LBFGS:   34 10:14:46    -2273.990740*       5.5900\n",
      "LBFGS:   35 10:14:47    -2274.143680*       3.4311\n",
      "LBFGS:   36 10:14:47    -2274.040810*       3.7257\n",
      "LBFGS:   37 10:14:47    -2273.875550*       2.3939\n",
      "LBFGS:   38 10:14:48    -2274.040020*       1.1593\n",
      "LBFGS:   39 10:14:48    -2273.950180*       1.9274\n",
      "LBFGS:   40 10:14:49    -2273.876830*       1.6402\n",
      "LBFGS:   41 10:14:49    -2273.977910*       1.1585\n",
      "LBFGS:   42 10:14:49    -2273.928570*       1.4667\n",
      "LBFGS:   43 10:14:50    -2273.959490*       1.9852\n",
      "LBFGS:   44 10:14:50    -2274.002420*       0.8215\n",
      "LBFGS:   45 10:14:50    -2273.892450*       1.5314\n",
      "LBFGS:   46 10:14:51    -2273.944000*       0.4876\n",
      "LBFGS:   47 10:14:51    -2273.954160*       0.2806\n",
      "LBFGS:   48 10:14:51    -2273.952080*       0.0990\n",
      "LBFGS:   49 10:14:52    -2273.952850*       0.0751\n",
      "LBFGS:   50 10:14:52    -2273.955290*       0.1941\n",
      "LBFGS:   51 10:14:52    -2273.956200*       0.1707\n",
      "LBFGS:   52 10:14:52    -2273.952520*       0.3765\n",
      "LBFGS:   53 10:14:52    -2273.952990*       0.3639\n",
      "LBFGS:   54 10:14:52    -2273.957190*       0.3419\n",
      "LBFGS:   55 10:14:52    -2273.954720*       0.2989\n",
      "LBFGS:   56 10:14:53    -2273.956080*       0.5208\n",
      "LBFGS:   57 10:14:53    -2273.956490*       0.0531\n",
      "LBFGS:   58 10:14:53    -2273.956520*       0.0302\n",
      "TS structure is number 3, energy is -2273.95652\n"
     ]
    },
    {
     "data": {
      "text/plain": [
       "0"
      ]
     },
     "execution_count": 31,
     "metadata": {},
     "output_type": "execute_result"
    }
   ],
   "source": [
    "ts_coords = ase_neb(start, end, data.atomnos)"
   ]
  },
  {
   "cell_type": "code",
   "execution_count": 34,
   "metadata": {},
   "outputs": [
    {
     "data": {
      "text/plain": [
       "0"
      ]
     },
     "execution_count": 34,
     "metadata": {},
     "output_type": "execute_result"
    }
   ],
   "source": [
    "from optimization_methods import mopac_opt\n",
    "\n",
    "mopac_opt(ts_coords, data.atomnos, method='PM7 FORCE', title='ts', read_output=False)\n",
    "os.system('avogadro ts.out')\n",
    "# test the obtained TS (force MOPAC calc)"
   ]
  },
  {
   "cell_type": "code",
   "execution_count": 71,
   "metadata": {
    "tags": [
     "outputPrepend"
    ]
   },
   "outputs": [
    {
     "name": "stdout",
     "output_type": "stream",
     "text": [
      "   4.3897\n",
      "LBFGS:   62 11:51:30    -2274.011770*       0.7083\n",
      "LBFGS:   63 11:51:30    -2274.021370*       0.9730\n",
      "LBFGS:   64 11:51:30    -2273.926260*       1.7031\n",
      "LBFGS:   65 11:51:30    -2273.917260*       0.9526\n",
      "LBFGS:   66 11:51:31    -2273.979600*       0.8647\n",
      "LBFGS:   67 11:51:31    -2273.992520*       2.2989\n",
      "LBFGS:   68 11:51:31    -2273.407760*       4.0881\n",
      "LBFGS:   69 11:51:31    -2273.348580*       2.8675\n",
      "LBFGS:   70 11:51:32    -2274.108740*       1.2720\n",
      "LBFGS:   71 11:51:32    -2274.058480*       1.3400\n",
      "LBFGS:   72 11:51:32    -2273.920470*       2.0851\n",
      "LBFGS:   73 11:51:33    -2273.948000*       0.4209\n",
      "LBFGS:   74 11:51:33    -2273.972430*       0.5203\n",
      "LBFGS:   75 11:51:33    -2273.984450*       0.6455\n",
      "LBFGS:   76 11:51:33    -2273.806500*       1.0651\n",
      "LBFGS:   77 11:51:33    -2273.943680*       0.3256\n",
      "LBFGS:   78 11:51:34    -2273.959720*       0.1303\n",
      "LBFGS:   79 11:51:34    -2273.958780*       0.2245\n",
      "LBFGS:   80 11:51:34    -2273.964960*       0.1050\n",
      "LBFGS:   81 11:51:34    -2273.947390*       0.3248\n",
      "LBFGS:   82 11:51:34    -2273.965220*       0.0762\n",
      "LBFGS:   83 11:51:34    -2273.965240*       0.0684\n",
      "LBFGS:   84 11:51:35    -2273.966740*       0.1678\n",
      "LBFGS:   85 11:51:35    -2273.965850*       0.0798\n",
      "LBFGS:   86 11:51:35    -2273.966280*       0.0715\n",
      "LBFGS:   87 11:51:35    -2273.966160*       0.0327\n",
      "TS structure is number 3, energy is -2273.96616\n",
      "scale_fmax = 2 - 31.582 s\n",
      "       Step     Time          Energy         fmax\n",
      "*Force-consistent energies used in optimization.\n",
      "LBFGS:    0 11:51:36    -2271.401800*       6.1310\n",
      "LBFGS:    1 11:51:37    -2272.681780*       5.9648\n",
      "LBFGS:    2 11:51:37    -2273.172200*       2.3095\n",
      "LBFGS:    3 11:51:38    -2273.425490*       2.4171\n",
      "LBFGS:    4 11:51:39    -2273.643630*       1.7386\n",
      "LBFGS:    5 11:51:39    -2273.700420*       1.5177\n",
      "LBFGS:    6 11:51:40    -2273.756340*       1.5430\n",
      "LBFGS:    7 11:51:40    -2273.802920*       1.1909\n",
      "LBFGS:    8 11:51:41    -2273.799640*       1.8942\n",
      "LBFGS:    9 11:51:42    -2273.774100*       1.4559\n",
      "LBFGS:   10 11:51:42    -2273.748180*       1.0741\n",
      "LBFGS:   11 11:51:43    -2273.767510*       0.8199\n",
      "LBFGS:   12 11:51:44    -2273.805130*       0.6965\n",
      "LBFGS:   13 11:51:44    -2273.819120*       0.6425\n",
      "LBFGS:   14 11:51:45    -2273.807380*       0.7004\n",
      "LBFGS:   15 11:51:45    -2273.807860*       0.5937\n",
      "LBFGS:   16 11:51:46    -2273.816810*       0.4377\n",
      "LBFGS:   17 11:51:46    -2273.821160*       0.5711\n",
      "LBFGS:   18 11:51:47    -2273.853040*       0.8112\n",
      "LBFGS:   19 11:51:47    -2273.899260*       0.6646\n",
      "LBFGS:   20 11:51:48    -2273.934470*       0.6013\n",
      "LBFGS:   21 11:51:48    -2273.932600*       0.6489\n",
      "LBFGS:   22 11:51:49    -2273.903570*       0.6761\n",
      "LBFGS:   23 11:51:49    -2273.849330*       1.1564\n",
      "LBFGS:   24 11:51:49    -2273.821490*       1.2183\n",
      "LBFGS:   25 11:51:50    -2273.857170*       0.4953\n",
      "LBFGS:   26 11:51:50    -2273.907340*       0.5217\n",
      "LBFGS:   27 11:51:51    -2273.918010*       0.5224\n",
      "LBFGS:   28 11:51:51    -2273.928770*       0.2759\n",
      "LBFGS:   29 11:51:51    -2273.917420*       0.3820\n",
      "LBFGS:   30 11:51:52    -2273.932300*       0.4961\n",
      "LBFGS:   31 11:51:52    -2274.020750*       1.1014\n",
      "LBFGS:   32 11:51:52    -2274.081900*       2.7325\n",
      "LBFGS:   33 11:51:52    -2273.931770*       1.6189\n",
      "LBFGS:   34 11:51:53    -2273.044680*       1.5068\n",
      "LBFGS:   35 11:51:53    -2273.740440*       1.9870\n",
      "LBFGS:   36 11:51:53    -2273.802840*       2.6563\n",
      "LBFGS:   37 11:51:53    -2274.009340*       1.1293\n",
      "LBFGS:   38 11:51:54    -2273.944800*       1.2067\n",
      "LBFGS:   39 11:51:54    -2273.930110*       0.6002\n",
      "LBFGS:   40 11:51:54    -2273.944080*       0.2246\n",
      "LBFGS:   41 11:51:54    -2273.947620*       0.1586\n",
      "LBFGS:   42 11:51:55    -2273.948610*       0.1644\n",
      "LBFGS:   43 11:51:55    -2273.949420*       0.1056\n",
      "LBFGS:   44 11:51:55    -2273.951430*       0.1026\n",
      "LBFGS:   45 11:51:55    -2273.952280*       0.0924\n",
      "LBFGS:   46 11:51:55    -2273.953920*       0.1468\n",
      "LBFGS:   47 11:51:56    -2273.959480*       0.6065\n",
      "LBFGS:   48 11:51:56    -2273.959960*       0.3183\n",
      "LBFGS:   49 11:51:56    -2273.960670*       0.1917\n",
      "LBFGS:   50 11:51:56    -2273.953850*       0.1924\n",
      "LBFGS:   51 11:51:56    -2273.944710*       0.2420\n",
      "LBFGS:   52 11:51:57    -2273.946320*       0.2255\n",
      "LBFGS:   53 11:51:57    -2273.951750*       0.4378\n",
      "LBFGS:   54 11:51:57    -2273.952110*       0.4417\n",
      "LBFGS:   55 11:51:57    -2273.962320*       0.4446\n",
      "LBFGS:   56 11:51:58    -2273.960900*       0.0719\n",
      "LBFGS:   57 11:51:58    -2273.961660*       0.0753\n",
      "LBFGS:   58 11:51:58    -2273.964430*       0.1644\n",
      "LBFGS:   59 11:51:58    -2273.790940*       2.1138\n",
      "LBFGS:   60 11:51:58    -2273.971220*       0.2756\n",
      "LBFGS:   61 11:51:59    -2273.974780*       0.3626\n",
      "LBFGS:   62 11:51:59    -2273.851200*       1.6500\n",
      "LBFGS:   63 11:51:59    -2273.979720*       0.6650\n",
      "LBFGS:   64 11:51:59    -2273.974120*       0.7678\n",
      "LBFGS:   65 11:51:59    -2273.892850*       1.1125\n",
      "LBFGS:   66 11:51:59    -2273.878250*       0.9656\n",
      "LBFGS:   67 11:51:59    -2274.350730*       2.1665\n",
      "LBFGS:   68 11:52:00    -2274.717690*       3.3506\n",
      "LBFGS:   69 11:52:01    -2274.719250*       2.6620\n",
      "LBFGS:   70 11:52:01    -2274.718230*       2.4633\n",
      "LBFGS:   71 11:52:01    -2274.720120*       1.8280\n",
      "LBFGS:   72 11:52:02    -2274.572510*       1.8893\n",
      "LBFGS:   73 11:52:02    -2274.718470*       5.7236\n",
      "LBFGS:   74 11:52:03    -2273.893480*       4.0715\n",
      "LBFGS:   75 11:52:03    -2274.068180*       4.2388\n",
      "LBFGS:   76 11:52:04    -2273.905240*       3.9068\n",
      "LBFGS:   77 11:52:04    -2273.364500*       3.7762\n",
      "LBFGS:   78 11:52:05    -2272.652430*       4.3479\n",
      "LBFGS:   79 11:52:05    -2271.681630*       3.7865\n",
      "LBFGS:   80 11:52:06    -2273.030810*       2.5245\n",
      "LBFGS:   81 11:52:06    -2273.642290*       4.0243\n",
      "LBFGS:   82 11:52:06    -2273.768400*       3.0075\n",
      "LBFGS:   83 11:52:07    -2273.884700*       2.0345\n",
      "LBFGS:   84 11:52:07    -2273.896250*       1.8293\n",
      "LBFGS:   85 11:52:08    -2273.777030*       1.7332\n",
      "LBFGS:   86 11:52:08    -2273.588100*       1.6286\n",
      "LBFGS:   87 11:52:09    -2273.802930*       1.1449\n",
      "LBFGS:   88 11:52:09    -2273.904600*       0.9823\n",
      "LBFGS:   89 11:52:10    -2273.947490*       0.9355\n",
      "LBFGS:   90 11:52:10    -2273.944220*       0.7181\n",
      "LBFGS:   91 11:52:11    -2273.884580*       0.6720\n",
      "LBFGS:   92 11:52:11    -2273.937270*       0.5519\n",
      "LBFGS:   93 11:52:11    -2273.940830*       0.4727\n",
      "LBFGS:   94 11:52:12    -2273.948330*       0.2814\n",
      "LBFGS:   95 11:52:12    -2273.978070*       1.3126\n",
      "LBFGS:   96 11:52:12    -2273.778940*       2.6350\n",
      "LBFGS:   97 11:52:12    -2273.424520*       2.2982\n",
      "LBFGS:   98 11:52:13    -2274.348060*       2.7088\n",
      "LBFGS:   99 11:52:13    -2274.324420*       4.9066\n",
      "LBFGS:  100 11:52:13    -2274.728580*       1.8034\n",
      "LBFGS:  101 11:52:14    -2274.729580*       1.7428\n",
      "LBFGS:  102 11:52:14    -2274.728040*       0.9857\n",
      "LBFGS:  103 11:52:15    -2274.729660*       0.9356\n",
      "LBFGS:  104 11:52:15    -2274.722960*       2.0360\n",
      "LBFGS:  105 11:52:16    -2274.714420*       2.7735\n",
      "LBFGS:  106 11:52:16    -2274.709010*       2.5541\n",
      "LBFGS:  107 11:52:16    -2274.704090*       2.0519\n",
      "LBFGS:  108 11:52:17    -2274.058270*       1.9715\n",
      "LBFGS:  109 11:52:17    -2274.016570*       2.6374\n",
      "LBFGS:  110 11:52:17    -2273.935070*       3.3868\n",
      "LBFGS:  111 11:52:18    -2273.613680*       4.0479\n",
      "LBFGS:  112 11:52:18    -2273.483440*       4.6382\n",
      "LBFGS:  113 11:52:19    -2274.288010*       4.2646\n",
      "LBFGS:  114 11:52:19    -2274.725160*       1.4767\n",
      "LBFGS:  115 11:52:19    -2274.451050*       4.1906\n",
      "LBFGS:  116 11:52:20    -2274.700020*       3.4264\n",
      "LBFGS:  117 11:52:20    -2274.713010*       2.4261\n",
      "LBFGS:  118 11:52:21    -2274.702140*       2.1254\n",
      "LBFGS:  119 11:52:21    -2274.717330*       1.5714\n",
      "LBFGS:  120 11:52:22    -2274.719400*       1.4787\n",
      "LBFGS:  121 11:52:22    -2274.723540*       1.0398\n",
      "LBFGS:  122 11:52:23    -2274.724260*       0.9240\n",
      "LBFGS:  123 11:52:23    -2274.725180*       0.8913\n",
      "LBFGS:  124 11:52:24    -2274.724320*       0.9010\n",
      "LBFGS:  125 11:52:24    -2274.722150*       0.7539\n",
      "LBFGS:  126 11:52:25    -2274.722140*       1.2073\n",
      "LBFGS:  127 11:52:25    -2274.719510*       1.0872\n",
      "LBFGS:  128 11:52:25    -2274.712720*       0.8316\n",
      "LBFGS:  129 11:52:26    -2274.709960*       0.5921\n",
      "LBFGS:  130 11:52:26    -2274.706990*       0.6867\n",
      "LBFGS:  131 11:52:27    -2274.706920*       0.8866\n",
      "LBFGS:  132 11:52:27    -2274.702960*       0.9544\n",
      "LBFGS:  133 11:52:28    -2274.699850*       0.8810\n",
      "LBFGS:  134 11:52:28    -2274.697500*       0.8438\n",
      "LBFGS:  135 11:52:28    -2274.698670*       0.7750\n",
      "LBFGS:  136 11:52:29    -2274.699920*       0.6126\n",
      "LBFGS:  137 11:52:30    -2274.699730*       0.7095\n",
      "LBFGS:  138 11:52:30    -2274.696610*       1.0336\n",
      "LBFGS:  139 11:52:30    -2274.695190*       1.2956\n",
      "LBFGS:  140 11:52:31    -2274.696550*       1.3465\n",
      "LBFGS:  141 11:52:31    -2274.697490*       1.3589\n",
      "LBFGS:  142 11:52:32    -2274.694330*       2.5999\n",
      "LBFGS:  143 11:52:32    -2274.704070*       1.1685\n",
      "LBFGS:  144 11:52:33    -2274.708920*       1.0091\n",
      "LBFGS:  145 11:52:33    -2274.710890*       1.1328\n",
      "LBFGS:  146 11:52:33    -2274.713450*       1.3319\n",
      "LBFGS:  147 11:52:34    -2274.693840*       1.7899\n",
      "LBFGS:  148 11:52:34    -2273.980730*       7.4473\n",
      "LBFGS:  149 11:52:34    -2274.714530*       1.3927\n",
      "LBFGS:  150 11:52:35    -2274.715750*       0.7246\n",
      "LBFGS:  151 11:52:35    -2274.716090*       0.7954\n",
      "LBFGS:  152 11:52:35    -2274.711260*       0.9524\n",
      "LBFGS:  153 11:52:36    -2274.703950*       0.8591\n",
      "LBFGS:  154 11:52:36    -2274.698280*       0.6033\n",
      "LBFGS:  155 11:52:36    -2274.690820*       0.5023\n",
      "LBFGS:  156 11:52:36    -2274.683250*       0.4105\n",
      "LBFGS:  157 11:52:37    -2274.680930*       0.3652\n",
      "LBFGS:  158 11:52:37    -2274.676050*       0.5897\n",
      "LBFGS:  159 11:52:37    -2274.668040*       0.6403\n",
      "LBFGS:  160 11:52:37    -2274.656960*       0.6195\n",
      "LBFGS:  161 11:52:38    -2274.649160*       0.5325\n",
      "LBFGS:  162 11:52:38    -2274.641060*       0.4958\n",
      "LBFGS:  163 11:52:38    -2274.624170*       0.8997\n",
      "LBFGS:  164 11:52:38    -2274.602990*       0.5479\n",
      "LBFGS:  165 11:52:39    -2274.513900*       1.6784\n",
      "LBFGS:  166 11:52:39    -2274.501830*       0.8003\n",
      "LBFGS:  167 11:52:39    -2274.416280*       1.7712\n",
      "LBFGS:  168 11:52:40    -2274.179990*       2.3707\n",
      "LBFGS:  169 11:52:40    -2273.681450*       1.9453\n",
      "LBFGS:  170 11:52:40    -2272.868830*       2.2047\n",
      "LBFGS:  171 11:52:40    -2271.789120*       3.0853\n",
      "LBFGS:  172 11:52:41    -2271.538320*       3.7389\n",
      "LBFGS:  173 11:52:41    -2272.252450*       5.7533\n",
      "LBFGS:  174 11:52:41    -2272.892520*       4.5890\n",
      "LBFGS:  175 11:52:41    -2273.387170*       1.4243\n",
      "LBFGS:  176 11:52:42    -2273.335370*       0.7230\n",
      "LBFGS:  177 11:52:42    -2273.320260*       0.9380\n",
      "LBFGS:  178 11:52:42    -2273.471010*       0.8261\n",
      "LBFGS:  179 11:52:43    -2273.583840*       0.7046\n",
      "LBFGS:  180 11:52:43    -2273.609270*       0.5418\n",
      "LBFGS:  181 11:52:43    -2273.615620*       0.6539\n",
      "LBFGS:  182 11:52:44    -2273.630780*       0.4035\n",
      "LBFGS:  183 11:52:44    -2273.675510*       0.4857\n",
      "LBFGS:  184 11:52:44    -2273.713110*       0.6191\n",
      "LBFGS:  185 11:52:44    -2273.733700*       0.3615\n",
      "LBFGS:  186 11:52:45    -2273.754010*       0.7737\n",
      "LBFGS:  187 11:52:45    -2273.769120*       0.7153\n",
      "LBFGS:  188 11:52:46    -2273.795810*       0.4555\n",
      "LBFGS:  189 11:52:46    -2273.808370*       0.4266\n",
      "LBFGS:  190 11:52:46    -2273.828770*       0.4049\n",
      "LBFGS:  191 11:52:46    -2273.842450*       0.3357\n",
      "LBFGS:  192 11:52:46    -2273.854780*       0.6345\n",
      "LBFGS:  193 11:52:47    -2273.870390*       0.8590\n",
      "LBFGS:  194 11:52:47    -2273.881640*       0.7112\n",
      "LBFGS:  195 11:52:47    -2273.876630*       0.6626\n",
      "LBFGS:  196 11:52:48    -2273.867500*       1.1517\n",
      "LBFGS:  197 11:52:48    -2273.902760*       0.8907\n",
      "LBFGS:  198 11:52:48    -2273.923710*       0.7733\n",
      "LBFGS:  199 11:52:48    -2273.918950*       0.5037\n",
      "LBFGS:  200 11:52:48    -2273.907760*       0.4572\n",
      "LBFGS:  201 11:52:49    -2273.879920*       0.4416\n",
      "LBFGS:  202 11:52:49    -2273.899220*       0.4091\n",
      "LBFGS:  203 11:52:49    -2273.934170*       0.4278\n",
      "LBFGS:  204 11:52:49    -2273.935860*       0.3276\n",
      "LBFGS:  205 11:52:50    -2273.941930*       0.3798\n",
      "LBFGS:  206 11:52:50    -2273.945150*       0.2425\n",
      "LBFGS:  207 11:52:50    -2273.940310*       0.2337\n",
      "LBFGS:  208 11:52:51    -2273.945120*       0.2862\n",
      "LBFGS:  209 11:52:51    -2273.955630*       0.2294\n",
      "LBFGS:  210 11:52:51    -2273.954190*       0.1352\n",
      "LBFGS:  211 11:52:51    -2273.954900*       0.2354\n",
      "LBFGS:  212 11:52:51    -2273.962670*       0.2385\n",
      "LBFGS:  213 11:52:52    -2273.718290*       1.3129\n",
      "LBFGS:  214 11:52:52    -2273.952660*       0.3704\n",
      "LBFGS:  215 11:52:52    -2273.946900*       0.3257\n",
      "LBFGS:  216 11:52:52    -2273.952430*       0.6914\n",
      "LBFGS:  217 11:52:52    -2273.955570*       0.2199\n",
      "LBFGS:  218 11:52:53    -2273.962110*       0.1407\n",
      "LBFGS:  219 11:52:53    -2273.961340*       0.0733\n",
      "LBFGS:  220 11:52:53    -2273.962430*       0.0875\n",
      "LBFGS:  221 11:52:53    -2274.155080*       2.2077\n",
      "LBFGS:  222 11:52:53    -2273.999580*       1.1689\n",
      "LBFGS:  223 11:52:54    -2273.943350*       1.3456\n",
      "LBFGS:  224 11:52:54    -2273.986500*       0.9295\n",
      "LBFGS:  225 11:52:54    -2273.969490*       1.1374\n",
      "LBFGS:  226 11:52:54    -2273.963290*       0.6940\n",
      "LBFGS:  227 11:52:55    -2273.986170*       0.8344\n",
      "LBFGS:  228 11:52:55    -2273.978670*       0.5920\n",
      "LBFGS:  229 11:52:55    -2273.975470*       1.0667\n",
      "LBFGS:  230 11:52:56    -2273.990760*       0.7011\n",
      "LBFGS:  231 11:52:56    -2273.984750*       0.9792\n",
      "LBFGS:  232 11:52:56    -2274.290270*       2.0899\n",
      "LBFGS:  233 11:52:56    -2274.016870*       1.1534\n",
      "LBFGS:  234 11:52:57    -2273.953440*       0.9862\n",
      "LBFGS:  235 11:52:57    -2273.996650*       1.0189\n",
      "LBFGS:  236 11:52:57    -2273.997080*       1.0275\n",
      "LBFGS:  237 11:52:57    -2274.019460*       1.1602\n",
      "LBFGS:  238 11:52:58    -2274.015410*       1.0850\n",
      "LBFGS:  239 11:52:58    -2274.080430*       1.4336\n",
      "LBFGS:  240 11:52:58    -2274.353500*       6.0551\n",
      "LBFGS:  241 11:52:58    -2274.154730*       1.6983\n",
      "LBFGS:  242 11:52:59    -2274.051310*       1.1732\n",
      "LBFGS:  243 11:52:59    -2274.035440*       1.2859\n",
      "LBFGS:  244 11:52:59    -2274.034660*       1.0953\n",
      "LBFGS:  245 11:53:00    -2274.033270*       1.1176\n",
      "LBFGS:  246 11:53:00    -2274.046440*       1.1434\n",
      "LBFGS:  247 11:53:00    -2274.065380*       1.2659\n",
      "LBFGS:  248 11:53:00    -2274.189480*       1.8550\n",
      "LBFGS:  249 11:53:01    -2274.567210*       3.5411\n",
      "LBFGS:  250 11:53:01    -2274.379560*       2.3973\n",
      "LBFGS:  251 11:53:01    -2274.597370*       2.5127\n",
      "LBFGS:  252 11:53:01    -2274.392710*       3.6369\n",
      "LBFGS:  253 11:53:02    -2274.528240*       2.4845\n",
      "LBFGS:  254 11:53:02    -2274.462660*       2.3889\n",
      "LBFGS:  255 11:53:02    -2274.770020*       4.7994\n",
      "LBFGS:  256 11:53:02    -2274.770500*       2.8330\n",
      "LBFGS:  257 11:53:03    -2274.771120*       2.4857\n",
      "LBFGS:  258 11:53:03    -2274.773080*       2.8358\n",
      "LBFGS:  259 11:53:03    -2274.773660*       1.9111\n",
      "LBFGS:  260 11:53:04    -2274.774890*       1.2328\n",
      "LBFGS:  261 11:53:04    -2274.775850*       0.6769\n",
      "LBFGS:  262 11:53:04    -2274.776410*       0.8032\n",
      "LBFGS:  263 11:53:05    -2274.774910*       1.4188\n",
      "LBFGS:  264 11:53:05    -2274.776880*       1.1052\n",
      "LBFGS:  265 11:53:06    -2274.776620*       0.7268\n",
      "LBFGS:  266 11:53:06    -2274.778320*       0.4574\n",
      "LBFGS:  267 11:53:06    -2274.779160*       0.2220\n",
      "LBFGS:  268 11:53:06    -2274.779530*       0.0764\n",
      "LBFGS:  269 11:53:06    -2274.779620*       0.1041\n",
      "LBFGS:  270 11:53:07    -2274.779780*       0.0951\n",
      "LBFGS:  271 11:53:07    -2274.778140*       0.1349\n",
      "LBFGS:  272 11:53:07    -2274.775700*       0.1252\n",
      "LBFGS:  273 11:53:07    -2274.776350*       0.0747\n",
      "LBFGS:  274 11:53:07    -2274.776890*       0.1803\n",
      "LBFGS:  275 11:53:07    -2274.775420*       0.3454\n",
      "LBFGS:  276 11:53:07    -2274.770690*       0.3970\n",
      "LBFGS:  277 11:53:08    -2274.764970*       0.2999\n",
      "LBFGS:  278 11:53:08    -2274.757870*       0.2212\n",
      "LBFGS:  279 11:53:08    -2274.756970*       0.2815\n",
      "LBFGS:  280 11:53:08    -2274.745640*       0.5713\n",
      "LBFGS:  281 11:53:08    -2274.642340*       1.2920\n",
      "LBFGS:  282 11:53:09    -2274.295630*       2.2157\n",
      "LBFGS:  283 11:53:09    -2274.513170*       1.7218\n",
      "LBFGS:  284 11:53:09    -2274.693870*       0.6648\n",
      "LBFGS:  285 11:53:09    -2274.656470*       0.6309\n",
      "LBFGS:  286 11:53:10    -2274.443240*       1.3716\n",
      "LBFGS:  287 11:53:10    -2273.948720*       2.3213\n",
      "LBFGS:  288 11:53:10    -2274.022730*       2.3819\n",
      "LBFGS:  289 11:53:10    -2274.399720*       4.3571\n",
      "LBFGS:  290 11:53:11    -2274.534590*       0.7451\n",
      "LBFGS:  291 11:53:11    -2273.814740*       2.7497\n",
      "LBFGS:  292 11:53:11    -2273.366930*       4.2390\n",
      "LBFGS:  293 11:53:11    -2272.842620*       5.7783\n",
      "LBFGS:  294 11:53:11    -2272.459800*       6.6703\n",
      "LBFGS:  295 11:53:12    -2272.030230*       6.6678\n",
      "LBFGS:  296 11:53:12    -2271.797970*       5.8653\n",
      "LBFGS:  297 11:53:12    -2270.915080*       4.2808\n",
      "LBFGS:  298 11:53:12    -2270.373500*       3.1067\n",
      "LBFGS:  299 11:53:12    -2271.237400*       2.3406\n",
      "LBFGS:  300 11:53:12    -2272.046540*       1.8685\n",
      "LBFGS:  301 11:53:13    -2272.542200*       2.8564\n",
      "LBFGS:  302 11:53:13    -2272.910940*       2.4147\n",
      "LBFGS:  303 11:53:13    -2273.296780*       1.6318\n",
      "LBFGS:  304 11:53:13    -2273.463950*       1.2681\n",
      "LBFGS:  305 11:53:13    -2273.423600*       0.7613\n",
      "LBFGS:  306 11:53:13    -2273.303460*       1.2815\n",
      "LBFGS:  307 11:53:14    -2273.394240*       1.5978\n",
      "LBFGS:  308 11:53:14    -2273.582130*       1.2981\n",
      "LBFGS:  309 11:53:14    -2273.546310*       1.3786\n",
      "LBFGS:  310 11:53:14    -2273.443830*       1.7409\n",
      "LBFGS:  311 11:53:15    -2273.601340*       2.5652\n",
      "LBFGS:  312 11:53:15    -2273.792310*       1.7559\n",
      "LBFGS:  313 11:53:15    -2273.801070*       1.2369\n",
      "LBFGS:  314 11:53:16    -2273.527290*       2.0530\n",
      "LBFGS:  315 11:53:16    -2273.354740*       2.5456\n",
      "LBFGS:  316 11:53:16    -2273.643840*       1.3950\n",
      "LBFGS:  317 11:53:16    -2273.626130*       1.6443\n",
      "LBFGS:  318 11:53:17    -2273.508980*       2.0452\n",
      "LBFGS:  319 11:53:17    -2273.716640*       2.7242\n",
      "LBFGS:  320 11:53:17    -2273.869380*       1.5565\n",
      "LBFGS:  321 11:53:17    -2273.817490*       1.2598\n",
      "LBFGS:  322 11:53:18    -2273.479860*       2.4216\n",
      "LBFGS:  323 11:53:18    -2273.537300*       2.0855\n",
      "LBFGS:  324 11:53:18    -2273.727890*       1.4917\n",
      "LBFGS:  325 11:53:19    -2273.601720*       1.6147\n",
      "LBFGS:  326 11:53:19    -2273.521550*       2.8251\n",
      "LBFGS:  327 11:53:19    -2273.808200*       2.3790\n",
      "LBFGS:  328 11:53:20    -2273.901610*       1.2496\n",
      "LBFGS:  329 11:53:20    -2273.753670*       1.6318\n",
      "LBFGS:  330 11:53:20    -2273.452580*       2.7480\n",
      "LBFGS:  331 11:53:20    -2273.559530*       1.9679\n",
      "LBFGS:  332 11:53:21    -2273.742700*       1.4342\n",
      "LBFGS:  333 11:53:21    -2273.624540*       1.5197\n",
      "LBFGS:  334 11:53:21    -2273.505620*       2.6985\n",
      "LBFGS:  335 11:53:22    -2273.745550*       2.5157\n",
      "LBFGS:  336 11:53:22    -2273.883920*       1.3054\n",
      "LBFGS:  337 11:53:22    -2273.863190*       1.5001\n",
      "LBFGS:  338 11:53:22    -2273.590590*       2.0978\n",
      "LBFGS:  339 11:53:23    -2273.745110*       1.1509\n",
      "LBFGS:  340 11:53:23    -2273.844220*       0.4044\n",
      "LBFGS:  341 11:53:23    -2273.843750*       0.1799\n",
      "LBFGS:  342 11:53:23    -2273.844720*       0.1868\n",
      "LBFGS:  343 11:53:23    -2273.857150*       0.3158\n",
      "LBFGS:  344 11:53:24    -2273.840540*       1.3488\n",
      "LBFGS:  345 11:53:24    -2273.501970*       2.8931\n",
      "LBFGS:  346 11:53:24    -2273.851490*       1.3929\n",
      "LBFGS:  347 11:53:24    -2273.804120*       0.6797\n",
      "LBFGS:  348 11:53:24    -2273.873650*       1.5546\n",
      "LBFGS:  349 11:53:24    -2273.543710*       3.9476\n",
      "LBFGS:  350 11:53:25    -2273.897420*       1.7485\n",
      "LBFGS:  351 11:53:25    -2273.792410*       3.0050\n",
      "LBFGS:  352 11:53:25    -2273.726960*       3.2896\n",
      "LBFGS:  353 11:53:25    -2273.664770*       3.3044\n",
      "LBFGS:  354 11:53:25    -2273.495770*       3.0814\n",
      "LBFGS:  355 11:53:25    -2273.687190*       2.3844\n",
      "LBFGS:  356 11:53:26    -2273.975300*       1.3725\n",
      "LBFGS:  357 11:53:26    -2273.820030*       1.3657\n",
      "LBFGS:  358 11:53:26    -2273.908280*       1.1248\n",
      "LBFGS:  359 11:53:26    -2273.796710*       1.1106\n",
      "LBFGS:  360 11:53:26    -2273.842420*       0.6303\n",
      "LBFGS:  361 11:53:26    -2273.887540*       0.3680\n",
      "scale_fmax = 2.5 - 111.528 s\n"
     ]
    },
    {
     "ename": "KeyboardInterrupt",
     "evalue": "",
     "output_type": "error",
     "traceback": [
      "\u001b[1;31m---------------------------------------------------------------------------\u001b[0m",
      "\u001b[1;31mKeyboardInterrupt\u001b[0m                         Traceback (most recent call last)",
      "\u001b[1;32m<ipython-input-71-0bfe473e9fd5>\u001b[0m in \u001b[0;36m<module>\u001b[1;34m\u001b[0m\n\u001b[0;32m      4\u001b[0m     \u001b[1;32mwith\u001b[0m \u001b[0mtimer\u001b[0m\u001b[1;33m(\u001b[0m\u001b[1;34m'scale_fmax = '\u001b[0m \u001b[1;33m+\u001b[0m \u001b[0mstr\u001b[0m\u001b[1;33m(\u001b[0m\u001b[0mscale_fmax\u001b[0m\u001b[1;33m)\u001b[0m\u001b[1;33m)\u001b[0m\u001b[1;33m:\u001b[0m\u001b[1;33m\u001b[0m\u001b[1;33m\u001b[0m\u001b[0m\n\u001b[0;32m      5\u001b[0m         \u001b[1;32mwith\u001b[0m \u001b[0msuppress_stdout_stderr\u001b[0m\u001b[1;33m(\u001b[0m\u001b[1;33m)\u001b[0m\u001b[1;33m:\u001b[0m\u001b[1;33m\u001b[0m\u001b[1;33m\u001b[0m\u001b[0m\n\u001b[1;32m----> 6\u001b[1;33m             \u001b[0mase_neb\u001b[0m\u001b[1;33m(\u001b[0m\u001b[0mstart\u001b[0m\u001b[1;33m,\u001b[0m \u001b[0mend\u001b[0m\u001b[1;33m,\u001b[0m \u001b[0mdata\u001b[0m\u001b[1;33m.\u001b[0m\u001b[0matomnos\u001b[0m\u001b[1;33m,\u001b[0m \u001b[0mscale_fmax\u001b[0m\u001b[1;33m=\u001b[0m\u001b[0mscale_fmax\u001b[0m\u001b[1;33m)\u001b[0m\u001b[1;33m\u001b[0m\u001b[1;33m\u001b[0m\u001b[0m\n\u001b[0m",
      "\u001b[1;32m<ipython-input-70-379f44a9562c>\u001b[0m in \u001b[0;36mase_neb\u001b[1;34m(reagents, products, atomnos, n_images, fmax, label, scale_fmax)\u001b[0m\n\u001b[0;32m     38\u001b[0m     \u001b[0mclimbing_optimizer\u001b[0m \u001b[1;33m=\u001b[0m \u001b[0mLBFGS\u001b[0m\u001b[1;33m(\u001b[0m\u001b[0mclimbing_neb\u001b[0m\u001b[1;33m,\u001b[0m \u001b[0mtrajectory\u001b[0m\u001b[1;33m=\u001b[0m\u001b[1;34m'ASE_NEB_test.traj'\u001b[0m\u001b[1;33m)\u001b[0m\u001b[1;33m\u001b[0m\u001b[1;33m\u001b[0m\u001b[0m\n\u001b[0;32m     39\u001b[0m     \u001b[1;32mtry\u001b[0m\u001b[1;33m:\u001b[0m\u001b[1;33m\u001b[0m\u001b[1;33m\u001b[0m\u001b[0m\n\u001b[1;32m---> 40\u001b[1;33m         \u001b[0mclimbing_optimizer\u001b[0m\u001b[1;33m.\u001b[0m\u001b[0mrun\u001b[0m\u001b[1;33m(\u001b[0m\u001b[0mfmax\u001b[0m\u001b[1;33m=\u001b[0m\u001b[0mfmax\u001b[0m\u001b[1;33m,\u001b[0m \u001b[0msteps\u001b[0m\u001b[1;33m=\u001b[0m\u001b[1;36m500\u001b[0m\u001b[1;33m)\u001b[0m\u001b[1;33m\u001b[0m\u001b[1;33m\u001b[0m\u001b[0m\n\u001b[0m\u001b[0;32m     41\u001b[0m \u001b[1;33m\u001b[0m\u001b[0m\n\u001b[0;32m     42\u001b[0m     \u001b[1;32mexcept\u001b[0m \u001b[0mException\u001b[0m \u001b[1;32mas\u001b[0m \u001b[0me\u001b[0m\u001b[1;33m:\u001b[0m\u001b[1;33m\u001b[0m\u001b[1;33m\u001b[0m\u001b[0m\n",
      "\u001b[1;32m~\\AppData\\Roaming\\Python\\Python36\\site-packages\\ase\\optimize\\optimize.py\u001b[0m in \u001b[0;36mrun\u001b[1;34m(self, fmax, steps)\u001b[0m\n\u001b[0;32m    292\u001b[0m         \u001b[1;32mif\u001b[0m \u001b[0msteps\u001b[0m\u001b[1;33m:\u001b[0m\u001b[1;33m\u001b[0m\u001b[1;33m\u001b[0m\u001b[0m\n\u001b[0;32m    293\u001b[0m             \u001b[0mself\u001b[0m\u001b[1;33m.\u001b[0m\u001b[0mmax_steps\u001b[0m \u001b[1;33m=\u001b[0m \u001b[0msteps\u001b[0m\u001b[1;33m\u001b[0m\u001b[1;33m\u001b[0m\u001b[0m\n\u001b[1;32m--> 294\u001b[1;33m         \u001b[1;32mreturn\u001b[0m \u001b[0mDynamics\u001b[0m\u001b[1;33m.\u001b[0m\u001b[0mrun\u001b[0m\u001b[1;33m(\u001b[0m\u001b[0mself\u001b[0m\u001b[1;33m)\u001b[0m\u001b[1;33m\u001b[0m\u001b[1;33m\u001b[0m\u001b[0m\n\u001b[0m\u001b[0;32m    295\u001b[0m \u001b[1;33m\u001b[0m\u001b[0m\n\u001b[0;32m    296\u001b[0m     \u001b[1;32mdef\u001b[0m \u001b[0mconverged\u001b[0m\u001b[1;33m(\u001b[0m\u001b[0mself\u001b[0m\u001b[1;33m,\u001b[0m \u001b[0mforces\u001b[0m\u001b[1;33m=\u001b[0m\u001b[1;32mNone\u001b[0m\u001b[1;33m)\u001b[0m\u001b[1;33m:\u001b[0m\u001b[1;33m\u001b[0m\u001b[1;33m\u001b[0m\u001b[0m\n",
      "\u001b[1;32m~\\AppData\\Roaming\\Python\\Python36\\site-packages\\ase\\optimize\\optimize.py\u001b[0m in \u001b[0;36mrun\u001b[1;34m(self)\u001b[0m\n\u001b[0;32m    179\u001b[0m         *steps*.\"\"\"\n\u001b[0;32m    180\u001b[0m \u001b[1;33m\u001b[0m\u001b[0m\n\u001b[1;32m--> 181\u001b[1;33m         \u001b[1;32mfor\u001b[0m \u001b[0mconverged\u001b[0m \u001b[1;32min\u001b[0m \u001b[0mDynamics\u001b[0m\u001b[1;33m.\u001b[0m\u001b[0mirun\u001b[0m\u001b[1;33m(\u001b[0m\u001b[0mself\u001b[0m\u001b[1;33m)\u001b[0m\u001b[1;33m:\u001b[0m\u001b[1;33m\u001b[0m\u001b[1;33m\u001b[0m\u001b[0m\n\u001b[0m\u001b[0;32m    182\u001b[0m             \u001b[1;32mpass\u001b[0m\u001b[1;33m\u001b[0m\u001b[1;33m\u001b[0m\u001b[0m\n\u001b[0;32m    183\u001b[0m         \u001b[1;32mreturn\u001b[0m \u001b[0mconverged\u001b[0m\u001b[1;33m\u001b[0m\u001b[1;33m\u001b[0m\u001b[0m\n",
      "\u001b[1;32m~\\AppData\\Roaming\\Python\\Python36\\site-packages\\ase\\optimize\\optimize.py\u001b[0m in \u001b[0;36mirun\u001b[1;34m(self)\u001b[0m\n\u001b[0;32m    158\u001b[0m \u001b[1;33m\u001b[0m\u001b[0m\n\u001b[0;32m    159\u001b[0m             \u001b[1;31m# compute the next step\u001b[0m\u001b[1;33m\u001b[0m\u001b[1;33m\u001b[0m\u001b[1;33m\u001b[0m\u001b[0m\n\u001b[1;32m--> 160\u001b[1;33m             \u001b[0mself\u001b[0m\u001b[1;33m.\u001b[0m\u001b[0mstep\u001b[0m\u001b[1;33m(\u001b[0m\u001b[1;33m)\u001b[0m\u001b[1;33m\u001b[0m\u001b[1;33m\u001b[0m\u001b[0m\n\u001b[0m\u001b[0;32m    161\u001b[0m             \u001b[0mself\u001b[0m\u001b[1;33m.\u001b[0m\u001b[0mnsteps\u001b[0m \u001b[1;33m+=\u001b[0m \u001b[1;36m1\u001b[0m\u001b[1;33m\u001b[0m\u001b[1;33m\u001b[0m\u001b[0m\n\u001b[0;32m    162\u001b[0m \u001b[1;33m\u001b[0m\u001b[0m\n",
      "\u001b[1;32m~\\AppData\\Roaming\\Python\\Python36\\site-packages\\ase\\optimize\\lbfgs.py\u001b[0m in \u001b[0;36mstep\u001b[1;34m(self, f)\u001b[0m\n\u001b[0;32m    151\u001b[0m             \u001b[0mself\u001b[0m\u001b[1;33m.\u001b[0m\u001b[0mfunction_calls\u001b[0m \u001b[1;33m+=\u001b[0m \u001b[1;36m1\u001b[0m\u001b[1;33m\u001b[0m\u001b[1;33m\u001b[0m\u001b[0m\n\u001b[0;32m    152\u001b[0m             \u001b[0mdr\u001b[0m \u001b[1;33m=\u001b[0m \u001b[0mself\u001b[0m\u001b[1;33m.\u001b[0m\u001b[0mdetermine_step\u001b[0m\u001b[1;33m(\u001b[0m\u001b[0mself\u001b[0m\u001b[1;33m.\u001b[0m\u001b[0mp\u001b[0m\u001b[1;33m)\u001b[0m \u001b[1;33m*\u001b[0m \u001b[0mself\u001b[0m\u001b[1;33m.\u001b[0m\u001b[0mdamping\u001b[0m\u001b[1;33m\u001b[0m\u001b[1;33m\u001b[0m\u001b[0m\n\u001b[1;32m--> 153\u001b[1;33m         \u001b[0mself\u001b[0m\u001b[1;33m.\u001b[0m\u001b[0matoms\u001b[0m\u001b[1;33m.\u001b[0m\u001b[0mset_positions\u001b[0m\u001b[1;33m(\u001b[0m\u001b[0mr\u001b[0m \u001b[1;33m+\u001b[0m \u001b[0mdr\u001b[0m\u001b[1;33m)\u001b[0m\u001b[1;33m\u001b[0m\u001b[1;33m\u001b[0m\u001b[0m\n\u001b[0m\u001b[0;32m    154\u001b[0m \u001b[1;33m\u001b[0m\u001b[0m\n\u001b[0;32m    155\u001b[0m         \u001b[0mself\u001b[0m\u001b[1;33m.\u001b[0m\u001b[0miteration\u001b[0m \u001b[1;33m+=\u001b[0m \u001b[1;36m1\u001b[0m\u001b[1;33m\u001b[0m\u001b[1;33m\u001b[0m\u001b[0m\n",
      "\u001b[1;32m~\\AppData\\Roaming\\Python\\Python36\\site-packages\\ase\\neb.py\u001b[0m in \u001b[0;36mset_positions\u001b[1;34m(self, positions)\u001b[0m\n\u001b[0;32m    496\u001b[0m                 \u001b[1;32mraise\u001b[0m \u001b[0mValueError\u001b[0m\u001b[1;33m(\u001b[0m\u001b[0mmsg\u001b[0m\u001b[1;33m)\u001b[0m\u001b[1;33m\u001b[0m\u001b[1;33m\u001b[0m\u001b[0m\n\u001b[0;32m    497\u001b[0m             \u001b[1;32melse\u001b[0m\u001b[1;33m:\u001b[0m\u001b[1;33m\u001b[0m\u001b[1;33m\u001b[0m\u001b[0m\n\u001b[1;32m--> 498\u001b[1;33m                 \u001b[0mforces_dyn\u001b[0m \u001b[1;33m=\u001b[0m \u001b[0mself\u001b[0m\u001b[1;33m.\u001b[0m\u001b[0m_fmax_all\u001b[0m\u001b[1;33m(\u001b[0m\u001b[0mself\u001b[0m\u001b[1;33m.\u001b[0m\u001b[0mimages\u001b[0m\u001b[1;33m)\u001b[0m\u001b[1;33m\u001b[0m\u001b[1;33m\u001b[0m\u001b[0m\n\u001b[0m\u001b[0;32m    499\u001b[0m                 \u001b[1;32mif\u001b[0m \u001b[0mforces_dyn\u001b[0m\u001b[1;33m[\u001b[0m\u001b[0mi\u001b[0m\u001b[1;33m]\u001b[0m \u001b[1;33m<\u001b[0m \u001b[0mself\u001b[0m\u001b[1;33m.\u001b[0m\u001b[0mfmax\u001b[0m\u001b[1;33m:\u001b[0m\u001b[1;33m\u001b[0m\u001b[1;33m\u001b[0m\u001b[0m\n\u001b[0;32m    500\u001b[0m                     \u001b[0mn1\u001b[0m \u001b[1;33m+=\u001b[0m \u001b[0mself\u001b[0m\u001b[1;33m.\u001b[0m\u001b[0mnatoms\u001b[0m\u001b[1;33m\u001b[0m\u001b[1;33m\u001b[0m\u001b[0m\n",
      "\u001b[1;32m~\\AppData\\Roaming\\Python\\Python36\\site-packages\\ase\\neb.py\u001b[0m in \u001b[0;36m_fmax_all\u001b[1;34m(self, images)\u001b[0m\n\u001b[0;32m    508\u001b[0m            the dynamic optimization routine in the set_positions() function.\"\"\"\n\u001b[0;32m    509\u001b[0m         \u001b[0mn\u001b[0m \u001b[1;33m=\u001b[0m \u001b[0mself\u001b[0m\u001b[1;33m.\u001b[0m\u001b[0mnatoms\u001b[0m\u001b[1;33m\u001b[0m\u001b[1;33m\u001b[0m\u001b[0m\n\u001b[1;32m--> 510\u001b[1;33m         \u001b[0mforces\u001b[0m \u001b[1;33m=\u001b[0m \u001b[0mself\u001b[0m\u001b[1;33m.\u001b[0m\u001b[0mget_forces\u001b[0m\u001b[1;33m(\u001b[0m\u001b[1;33m)\u001b[0m\u001b[1;33m\u001b[0m\u001b[1;33m\u001b[0m\u001b[0m\n\u001b[0m\u001b[0;32m    511\u001b[0m         fmax_images = [\n\u001b[0;32m    512\u001b[0m             \u001b[0mnp\u001b[0m\u001b[1;33m.\u001b[0m\u001b[0msqrt\u001b[0m\u001b[1;33m(\u001b[0m\u001b[1;33m(\u001b[0m\u001b[0mforces\u001b[0m\u001b[1;33m[\u001b[0m\u001b[0mn\u001b[0m \u001b[1;33m*\u001b[0m \u001b[0mi\u001b[0m\u001b[1;33m:\u001b[0m\u001b[0mn\u001b[0m \u001b[1;33m+\u001b[0m \u001b[0mn\u001b[0m \u001b[1;33m*\u001b[0m \u001b[0mi\u001b[0m\u001b[1;33m]\u001b[0m \u001b[1;33m**\u001b[0m \u001b[1;36m2\u001b[0m\u001b[1;33m)\u001b[0m\u001b[1;33m.\u001b[0m\u001b[0msum\u001b[0m\u001b[1;33m(\u001b[0m\u001b[0maxis\u001b[0m\u001b[1;33m=\u001b[0m\u001b[1;36m1\u001b[0m\u001b[1;33m)\u001b[0m\u001b[1;33m)\u001b[0m\u001b[1;33m.\u001b[0m\u001b[0mmax\u001b[0m\u001b[1;33m(\u001b[0m\u001b[1;33m)\u001b[0m\u001b[1;33m\u001b[0m\u001b[1;33m\u001b[0m\u001b[0m\n",
      "\u001b[1;32m~\\AppData\\Roaming\\Python\\Python36\\site-packages\\ase\\neb.py\u001b[0m in \u001b[0;36mget_forces\u001b[1;34m(self)\u001b[0m\n\u001b[0;32m    515\u001b[0m \u001b[1;33m\u001b[0m\u001b[0m\n\u001b[0;32m    516\u001b[0m     \u001b[1;32mdef\u001b[0m \u001b[0mget_forces\u001b[0m\u001b[1;33m(\u001b[0m\u001b[0mself\u001b[0m\u001b[1;33m)\u001b[0m\u001b[1;33m:\u001b[0m\u001b[1;33m\u001b[0m\u001b[1;33m\u001b[0m\u001b[0m\n\u001b[1;32m--> 517\u001b[1;33m         \u001b[0mforces\u001b[0m \u001b[1;33m=\u001b[0m \u001b[0msuper\u001b[0m\u001b[1;33m(\u001b[0m\u001b[1;33m)\u001b[0m\u001b[1;33m.\u001b[0m\u001b[0mget_forces\u001b[0m\u001b[1;33m(\u001b[0m\u001b[1;33m)\u001b[0m\u001b[1;33m\u001b[0m\u001b[1;33m\u001b[0m\u001b[0m\n\u001b[0m\u001b[0;32m    518\u001b[0m         \u001b[1;32mif\u001b[0m \u001b[1;32mnot\u001b[0m \u001b[0mself\u001b[0m\u001b[1;33m.\u001b[0m\u001b[0mdynamic_relaxation\u001b[0m\u001b[1;33m:\u001b[0m\u001b[1;33m\u001b[0m\u001b[1;33m\u001b[0m\u001b[0m\n\u001b[0;32m    519\u001b[0m             \u001b[1;32mreturn\u001b[0m \u001b[0mforces\u001b[0m\u001b[1;33m\u001b[0m\u001b[1;33m\u001b[0m\u001b[0m\n",
      "\u001b[1;32m~\\AppData\\Roaming\\Python\\Python36\\site-packages\\ase\\neb.py\u001b[0m in \u001b[0;36mget_forces\u001b[1;34m(self)\u001b[0m\n\u001b[0;32m    307\u001b[0m             \u001b[1;31m# Do all images - one at a time:\u001b[0m\u001b[1;33m\u001b[0m\u001b[1;33m\u001b[0m\u001b[1;33m\u001b[0m\u001b[0m\n\u001b[0;32m    308\u001b[0m             \u001b[1;32mfor\u001b[0m \u001b[0mi\u001b[0m \u001b[1;32min\u001b[0m \u001b[0mrange\u001b[0m\u001b[1;33m(\u001b[0m\u001b[1;36m1\u001b[0m\u001b[1;33m,\u001b[0m \u001b[0mself\u001b[0m\u001b[1;33m.\u001b[0m\u001b[0mnimages\u001b[0m \u001b[1;33m-\u001b[0m \u001b[1;36m1\u001b[0m\u001b[1;33m)\u001b[0m\u001b[1;33m:\u001b[0m\u001b[1;33m\u001b[0m\u001b[1;33m\u001b[0m\u001b[0m\n\u001b[1;32m--> 309\u001b[1;33m                 \u001b[0menergies\u001b[0m\u001b[1;33m[\u001b[0m\u001b[0mi\u001b[0m\u001b[1;33m]\u001b[0m \u001b[1;33m=\u001b[0m \u001b[0mimages\u001b[0m\u001b[1;33m[\u001b[0m\u001b[0mi\u001b[0m\u001b[1;33m]\u001b[0m\u001b[1;33m.\u001b[0m\u001b[0mget_potential_energy\u001b[0m\u001b[1;33m(\u001b[0m\u001b[1;33m)\u001b[0m\u001b[1;33m\u001b[0m\u001b[1;33m\u001b[0m\u001b[0m\n\u001b[0m\u001b[0;32m    310\u001b[0m                 \u001b[0mforces\u001b[0m\u001b[1;33m[\u001b[0m\u001b[0mi\u001b[0m \u001b[1;33m-\u001b[0m \u001b[1;36m1\u001b[0m\u001b[1;33m]\u001b[0m \u001b[1;33m=\u001b[0m \u001b[0mimages\u001b[0m\u001b[1;33m[\u001b[0m\u001b[0mi\u001b[0m\u001b[1;33m]\u001b[0m\u001b[1;33m.\u001b[0m\u001b[0mget_forces\u001b[0m\u001b[1;33m(\u001b[0m\u001b[1;33m)\u001b[0m\u001b[1;33m\u001b[0m\u001b[1;33m\u001b[0m\u001b[0m\n\u001b[0;32m    311\u001b[0m         \u001b[1;32melif\u001b[0m \u001b[0mself\u001b[0m\u001b[1;33m.\u001b[0m\u001b[0mworld\u001b[0m\u001b[1;33m.\u001b[0m\u001b[0msize\u001b[0m \u001b[1;33m==\u001b[0m \u001b[1;36m1\u001b[0m\u001b[1;33m:\u001b[0m\u001b[1;33m\u001b[0m\u001b[1;33m\u001b[0m\u001b[0m\n",
      "\u001b[1;32m~\\AppData\\Roaming\\Python\\Python36\\site-packages\\ase\\atoms.py\u001b[0m in \u001b[0;36mget_potential_energy\u001b[1;34m(self, force_consistent, apply_constraint)\u001b[0m\n\u001b[0;32m    731\u001b[0m                 self, force_consistent=force_consistent)\n\u001b[0;32m    732\u001b[0m         \u001b[1;32melse\u001b[0m\u001b[1;33m:\u001b[0m\u001b[1;33m\u001b[0m\u001b[1;33m\u001b[0m\u001b[0m\n\u001b[1;32m--> 733\u001b[1;33m             \u001b[0menergy\u001b[0m \u001b[1;33m=\u001b[0m \u001b[0mself\u001b[0m\u001b[1;33m.\u001b[0m\u001b[0m_calc\u001b[0m\u001b[1;33m.\u001b[0m\u001b[0mget_potential_energy\u001b[0m\u001b[1;33m(\u001b[0m\u001b[0mself\u001b[0m\u001b[1;33m)\u001b[0m\u001b[1;33m\u001b[0m\u001b[1;33m\u001b[0m\u001b[0m\n\u001b[0m\u001b[0;32m    734\u001b[0m         \u001b[1;32mif\u001b[0m \u001b[0mapply_constraint\u001b[0m\u001b[1;33m:\u001b[0m\u001b[1;33m\u001b[0m\u001b[1;33m\u001b[0m\u001b[0m\n\u001b[0;32m    735\u001b[0m             \u001b[1;32mfor\u001b[0m \u001b[0mconstraint\u001b[0m \u001b[1;32min\u001b[0m \u001b[0mself\u001b[0m\u001b[1;33m.\u001b[0m\u001b[0mconstraints\u001b[0m\u001b[1;33m:\u001b[0m\u001b[1;33m\u001b[0m\u001b[1;33m\u001b[0m\u001b[0m\n",
      "\u001b[1;32m~\\AppData\\Roaming\\Python\\Python36\\site-packages\\ase\\calculators\\calculator.py\u001b[0m in \u001b[0;36mget_potential_energy\u001b[1;34m(self, atoms, force_consistent)\u001b[0m\n\u001b[0;32m    706\u001b[0m \u001b[1;33m\u001b[0m\u001b[0m\n\u001b[0;32m    707\u001b[0m     \u001b[1;32mdef\u001b[0m \u001b[0mget_potential_energy\u001b[0m\u001b[1;33m(\u001b[0m\u001b[0mself\u001b[0m\u001b[1;33m,\u001b[0m \u001b[0matoms\u001b[0m\u001b[1;33m=\u001b[0m\u001b[1;32mNone\u001b[0m\u001b[1;33m,\u001b[0m \u001b[0mforce_consistent\u001b[0m\u001b[1;33m=\u001b[0m\u001b[1;32mFalse\u001b[0m\u001b[1;33m)\u001b[0m\u001b[1;33m:\u001b[0m\u001b[1;33m\u001b[0m\u001b[1;33m\u001b[0m\u001b[0m\n\u001b[1;32m--> 708\u001b[1;33m         \u001b[0menergy\u001b[0m \u001b[1;33m=\u001b[0m \u001b[0mself\u001b[0m\u001b[1;33m.\u001b[0m\u001b[0mget_property\u001b[0m\u001b[1;33m(\u001b[0m\u001b[1;34m'energy'\u001b[0m\u001b[1;33m,\u001b[0m \u001b[0matoms\u001b[0m\u001b[1;33m)\u001b[0m\u001b[1;33m\u001b[0m\u001b[1;33m\u001b[0m\u001b[0m\n\u001b[0m\u001b[0;32m    709\u001b[0m         \u001b[1;32mif\u001b[0m \u001b[0mforce_consistent\u001b[0m\u001b[1;33m:\u001b[0m\u001b[1;33m\u001b[0m\u001b[1;33m\u001b[0m\u001b[0m\n\u001b[0;32m    710\u001b[0m             \u001b[1;32mif\u001b[0m \u001b[1;34m'free_energy'\u001b[0m \u001b[1;32mnot\u001b[0m \u001b[1;32min\u001b[0m \u001b[0mself\u001b[0m\u001b[1;33m.\u001b[0m\u001b[0mresults\u001b[0m\u001b[1;33m:\u001b[0m\u001b[1;33m\u001b[0m\u001b[1;33m\u001b[0m\u001b[0m\n",
      "\u001b[1;32m~\\AppData\\Roaming\\Python\\Python36\\site-packages\\ase\\calculators\\calculator.py\u001b[0m in \u001b[0;36mget_property\u001b[1;34m(self, name, atoms, allow_calculation)\u001b[0m\n\u001b[0;32m    734\u001b[0m             \u001b[1;32mif\u001b[0m \u001b[1;32mnot\u001b[0m \u001b[0mallow_calculation\u001b[0m\u001b[1;33m:\u001b[0m\u001b[1;33m\u001b[0m\u001b[1;33m\u001b[0m\u001b[0m\n\u001b[0;32m    735\u001b[0m                 \u001b[1;32mreturn\u001b[0m \u001b[1;32mNone\u001b[0m\u001b[1;33m\u001b[0m\u001b[1;33m\u001b[0m\u001b[0m\n\u001b[1;32m--> 736\u001b[1;33m             \u001b[0mself\u001b[0m\u001b[1;33m.\u001b[0m\u001b[0mcalculate\u001b[0m\u001b[1;33m(\u001b[0m\u001b[0matoms\u001b[0m\u001b[1;33m,\u001b[0m \u001b[1;33m[\u001b[0m\u001b[0mname\u001b[0m\u001b[1;33m]\u001b[0m\u001b[1;33m,\u001b[0m \u001b[0msystem_changes\u001b[0m\u001b[1;33m)\u001b[0m\u001b[1;33m\u001b[0m\u001b[1;33m\u001b[0m\u001b[0m\n\u001b[0m\u001b[0;32m    737\u001b[0m \u001b[1;33m\u001b[0m\u001b[0m\n\u001b[0;32m    738\u001b[0m         \u001b[1;32mif\u001b[0m \u001b[0mname\u001b[0m \u001b[1;32mnot\u001b[0m \u001b[1;32min\u001b[0m \u001b[0mself\u001b[0m\u001b[1;33m.\u001b[0m\u001b[0mresults\u001b[0m\u001b[1;33m:\u001b[0m\u001b[1;33m\u001b[0m\u001b[1;33m\u001b[0m\u001b[0m\n",
      "\u001b[1;32m~\\AppData\\Roaming\\Python\\Python36\\site-packages\\ase\\calculators\\calculator.py\u001b[0m in \u001b[0;36mcalculate\u001b[1;34m(self, atoms, properties, system_changes)\u001b[0m\n\u001b[0;32m    928\u001b[0m             \u001b[1;32mraise\u001b[0m \u001b[0mEnvironmentError\u001b[0m\u001b[1;33m(\u001b[0m\u001b[0mmsg\u001b[0m\u001b[1;33m)\u001b[0m \u001b[1;32mfrom\u001b[0m \u001b[0merr\u001b[0m\u001b[1;33m\u001b[0m\u001b[1;33m\u001b[0m\u001b[0m\n\u001b[0;32m    929\u001b[0m \u001b[1;33m\u001b[0m\u001b[0m\n\u001b[1;32m--> 930\u001b[1;33m         \u001b[0merrorcode\u001b[0m \u001b[1;33m=\u001b[0m \u001b[0mproc\u001b[0m\u001b[1;33m.\u001b[0m\u001b[0mwait\u001b[0m\u001b[1;33m(\u001b[0m\u001b[1;33m)\u001b[0m\u001b[1;33m\u001b[0m\u001b[1;33m\u001b[0m\u001b[0m\n\u001b[0m\u001b[0;32m    931\u001b[0m \u001b[1;33m\u001b[0m\u001b[0m\n\u001b[0;32m    932\u001b[0m         \u001b[1;32mif\u001b[0m \u001b[0merrorcode\u001b[0m\u001b[1;33m:\u001b[0m\u001b[1;33m\u001b[0m\u001b[1;33m\u001b[0m\u001b[0m\n",
      "\u001b[1;32m~\\anaconda3\\envs\\my-rdkit-env\\lib\\subprocess.py\u001b[0m in \u001b[0;36mwait\u001b[1;34m(self, timeout, endtime)\u001b[0m\n\u001b[0;32m   1073\u001b[0m             \u001b[1;32mif\u001b[0m \u001b[0mself\u001b[0m\u001b[1;33m.\u001b[0m\u001b[0mreturncode\u001b[0m \u001b[1;32mis\u001b[0m \u001b[1;32mNone\u001b[0m\u001b[1;33m:\u001b[0m\u001b[1;33m\u001b[0m\u001b[1;33m\u001b[0m\u001b[0m\n\u001b[0;32m   1074\u001b[0m                 result = _winapi.WaitForSingleObject(self._handle,\n\u001b[1;32m-> 1075\u001b[1;33m                                                     timeout_millis)\n\u001b[0m\u001b[0;32m   1076\u001b[0m                 \u001b[1;32mif\u001b[0m \u001b[0mresult\u001b[0m \u001b[1;33m==\u001b[0m \u001b[0m_winapi\u001b[0m\u001b[1;33m.\u001b[0m\u001b[0mWAIT_TIMEOUT\u001b[0m\u001b[1;33m:\u001b[0m\u001b[1;33m\u001b[0m\u001b[1;33m\u001b[0m\u001b[0m\n\u001b[0;32m   1077\u001b[0m                     \u001b[1;32mraise\u001b[0m \u001b[0mTimeoutExpired\u001b[0m\u001b[1;33m(\u001b[0m\u001b[0mself\u001b[0m\u001b[1;33m.\u001b[0m\u001b[0margs\u001b[0m\u001b[1;33m,\u001b[0m \u001b[0mtimeout\u001b[0m\u001b[1;33m)\u001b[0m\u001b[1;33m\u001b[0m\u001b[1;33m\u001b[0m\u001b[0m\n",
      "\u001b[1;31mKeyboardInterrupt\u001b[0m: "
     ]
    }
   ],
   "source": [
    "from tscode import suppress_stdout_stderr\n",
    "\n",
    "for scale_fmax in (1, 1.5, 2, 2.5, 3):\n",
    "    with timer('scale_fmax = ' + str(scale_fmax)):\n",
    "        with suppress_stdout_stderr():\n",
    "            ase_neb(start, end, data.atomnos, scale_fmax=scale_fmax)\n"
   ]
  },
  {
   "cell_type": "markdown",
   "metadata": {},
   "source": [
    "## Get reagents and products from pseudo-TS"
   ]
  },
  {
   "cell_type": "code",
   "execution_count": 1,
   "metadata": {},
   "outputs": [],
   "source": [
    "from optimization_methods import mopac_opt, write_xyz\n",
    "from optimization_methods import get_reagent, get_product\n",
    "from cclib.io import ccread\n",
    "import numpy as np\n",
    "import os\n",
    "os.chdir('Resources/tri')\n",
    "data = ccread('TSCoDe_TSs_guesses.xyz')\n",
    "ids = np.array([32, 5, 0])\n",
    "constrained_indexes = np.array([[0, 43], [5, 36], [33, 60]])"
   ]
  },
  {
   "cell_type": "code",
   "execution_count": 2,
   "metadata": {},
   "outputs": [
    {
     "name": "stdout",
     "output_type": "stream",
     "text": [
      "Wall time: 10.8 s\n"
     ]
    }
   ],
   "source": [
    "%%time\n",
    "reagent_coords = get_reagent(data.atomcoords[0], data.atomnos, ids, constrained_indexes)\n",
    "with open('reagents.xyz', 'w') as f:\n",
    "    write_xyz(reagent_coords, data.atomnos, f)"
   ]
  },
  {
   "cell_type": "code",
   "execution_count": 3,
   "metadata": {},
   "outputs": [
    {
     "data": {
      "text/plain": [
       "0"
      ]
     },
     "execution_count": 3,
     "metadata": {},
     "output_type": "execute_result"
    }
   ],
   "source": [
    "os.system('avogadro reagents.xyz')"
   ]
  },
  {
   "cell_type": "code",
   "execution_count": 3,
   "metadata": {},
   "outputs": [
    {
     "name": "stdout",
     "output_type": "stream",
     "text": [
      "Wall time: 34.2 s\n"
     ]
    }
   ],
   "source": [
    "%%time\n",
    "product_coords = get_product(data.atomcoords[0], data.atomnos, ids, constrained_indexes)\n",
    "with open('products.xyz', 'w') as f:\n",
    "    write_xyz(product_coords, data.atomnos, f)"
   ]
  },
  {
   "cell_type": "code",
   "execution_count": 4,
   "metadata": {},
   "outputs": [
    {
     "data": {
      "text/plain": [
       "0"
      ]
     },
     "execution_count": 4,
     "metadata": {},
     "output_type": "execute_result"
    }
   ],
   "source": [
    "os.system('avogadro products.xyz')"
   ]
  },
  {
   "cell_type": "code",
   "execution_count": 4,
   "metadata": {},
   "outputs": [],
   "source": [
    "import time\n",
    "from ase.optimize import LBFGS\n",
    "from ase.neb import idpp_interpolate\n",
    "from ase.dyneb import DyNEB\n",
    "from ase import Atoms\n",
    "from optimization_methods import ase_neb\n",
    "\n",
    "class timer():\n",
    "    def __init__(self, title=''):\n",
    "        self.title = title\n",
    "    def __enter__(self):\n",
    "        self.t1 = time.time()\n",
    "    def __exit__(self, type, value, traceback):\n",
    "        self.t2 = time.time()\n",
    "        if self.title != '':\n",
    "            s = f'{self.title} - {round(self.t2-self.t1, 3)} s'\n",
    "        else:\n",
    "            s = f'{round(self.t2-self.t1, 3)} s' \n",
    "        print(s)\n",
    "\n",
    "def ase_neb_test(reagents, products, atomnos, n_images=6, fmax=0.05, method='PM7 GEO-OK', title='temp', optimizer=LBFGS):\n",
    "\n",
    "    # Read initial and final states:\n",
    "    initial = Atoms(atomnos, positions=reagents)\n",
    "    final = Atoms(atomnos, positions=products)\n",
    "\n",
    "    # Make a band consisting of n images:\n",
    "    images = [initial]\n",
    "    images += [initial.copy() for i in range(n_images)]\n",
    "    images += [final]\n",
    "\n",
    "\n",
    "    neb = DyNEB(images, fmax=fmax, climb=False,  method='eb', scale_fmax=1, allow_shared_calculator=True)\n",
    "\n",
    "    # Interpolate linearly the positions of the middle images:\n",
    "    # idpp_interpolate(neb, fmax=0.01, steps=7000)\n",
    "    neb.interpolate()\n",
    "    dump(f'{title}_MEP_guess.xyz', images, atomnos)\n"
   ]
  },
  {
   "cell_type": "code",
   "execution_count": 3,
   "metadata": {
    "tags": []
   },
   "outputs": [],
   "source": [
    "reagents = ccread('reagents.xyz')\n",
    "products = ccread('products.xyz')\n",
    "from optimization_methods import ase_neb\n",
    "\n",
    "# with timer(title=f'NEB'):\n",
    "#     ts, _ = ase_neb(reagents.atomcoords[0], data.atomcoords[-1], products.atomcoords[0], reagents.atomnos, title='OOF')\n",
    "\n",
    "# with timer(title=f'FORCE'):\n",
    "#     mopac_opt(ts, data.atomnos, method='PM7 FORCE LET', title=f'TS_FREQ', read_output=False)"
   ]
  },
  {
   "cell_type": "code",
   "execution_count": 6,
   "metadata": {},
   "outputs": [
    {
     "data": {
      "text/plain": [
       "3.04"
      ]
     },
     "execution_count": 6,
     "metadata": {},
     "output_type": "execute_result"
    }
   ],
   "source": [
    "from hypermolecule_class import pt\n",
    "2*2*pt[6].covalent_radius"
   ]
  },
  {
   "cell_type": "code",
   "execution_count": 7,
   "metadata": {},
   "outputs": [
    {
     "name": "stdout",
     "output_type": "stream",
     "text": [
      "Wall time: 4min 5s\n"
     ]
    }
   ],
   "source": [
    "%%time\n",
    "ts, _ = ase_neb(reagents.atomcoords[0], products.atomcoords[0], reagents.atomnos, n_images=6, title='TEST')\n",
    "# 2 minutes with 6 images"
   ]
  },
  {
   "cell_type": "code",
   "execution_count": 8,
   "metadata": {},
   "outputs": [
    {
     "name": "stdout",
     "output_type": "stream",
     "text": [
      "Wall time: 39.6 s\n"
     ]
    }
   ],
   "source": [
    "%%time\n",
    "mopac_opt(ts, data.atomnos, method='PM7 FORCE LET', title=f'TEST_FREQ', read_output=False)"
   ]
  },
  {
   "cell_type": "code",
   "execution_count": 9,
   "metadata": {},
   "outputs": [
    {
     "data": {
      "text/plain": [
       "0"
      ]
     },
     "execution_count": 9,
     "metadata": {},
     "output_type": "execute_result"
    }
   ],
   "source": [
    "os.system('avogadro TEST_FREQ.out')"
   ]
  },
  {
   "cell_type": "markdown",
   "metadata": {},
   "source": [
    "## Trimolecular Reag/Prods"
   ]
  },
  {
   "cell_type": "code",
   "execution_count": 1,
   "metadata": {},
   "outputs": [],
   "source": [
    "from optimization_methods import mopac_opt, write_xyz\n",
    "from optimization_methods import get_reagent, get_product\n",
    "from cclib.io import ccread\n",
    "import numpy as np\n",
    "import os\n",
    "os.chdir('Resources/tri')\n",
    "data = ccread('TS_test.xyz')\n",
    "ids = (32,35,31)\n",
    "\n",
    "constrained_indexes = np.array([[15,82], [14,53],\n",
    "                                # [50,71]\n",
    "                                ])"
   ]
  },
  {
   "cell_type": "code",
   "execution_count": 2,
   "metadata": {},
   "outputs": [
    {
     "name": "stdout",
     "output_type": "stream",
     "text": [
      "Reactive dist - 2.157352731937918\n",
      "Reactive dist - 2.057352731148497\n",
      "Reactive dist - 1.9573527309571888\n",
      "Reactive dist - 1.8573527307974216\n",
      "Wall time: 2min 44s\n"
     ]
    }
   ],
   "source": [
    "%%time\n",
    "product_coords = get_product(data.atomcoords[-1], data.atomnos, ids, constrained_indexes)\n",
    "with open('products.xyz', 'w') as f:\n",
    "    write_xyz(product_coords, data.atomnos, f)"
   ]
  },
  {
   "cell_type": "code",
   "execution_count": 3,
   "metadata": {},
   "outputs": [
    {
     "name": "stdout",
     "output_type": "stream",
     "text": [
      "Wall time: 2min\n"
     ]
    }
   ],
   "source": [
    "%%time\n",
    "reagents_coords = get_reagent(data.atomcoords[-1], data.atomnos, ids, constrained_indexes)\n",
    "with open('reagents.xyz', 'w') as f:\n",
    "    write_xyz(reagents_coords, data.atomnos, f)"
   ]
  },
  {
   "cell_type": "code",
   "execution_count": 2,
   "metadata": {},
   "outputs": [],
   "source": [
    "reagents = ccread('reagents.xyz')\n",
    "products = ccread('products.xyz')\n",
    "from optimization_methods import ase_neb"
   ]
  },
  {
   "cell_type": "code",
   "execution_count": 3,
   "metadata": {},
   "outputs": [
    {
     "name": "stdout",
     "output_type": "stream",
     "text": [
      "Stopped NEB for OOF:\n",
      "Calculator \"mopac\" failed with command \"mopac2016 temp.mop\" failed in c:\\Users\\ehrma\\Desktop\\Coding\\TSCoDe\\Resources\\tri with error code 1\n"
     ]
    },
    {
     "ename": "CalculationFailed",
     "evalue": "Calculator \"mopac\" failed with command \"mopac2016 temp.mop\" failed in c:\\Users\\ehrma\\Desktop\\Coding\\TSCoDe\\Resources\\tri with error code 1",
     "output_type": "error",
     "traceback": [
      "\u001b[1;31m---------------------------------------------------------------------------\u001b[0m",
      "\u001b[1;31mCalculationFailed\u001b[0m                         Traceback (most recent call last)",
      "\u001b[1;32m<timed exec>\u001b[0m in \u001b[0;36m<module>\u001b[1;34m\u001b[0m\n",
      "\u001b[1;32mc:\\Users\\ehrma\\Desktop\\Coding\\TSCoDe\\optimization_methods.py\u001b[0m in \u001b[0;36mase_neb\u001b[1;34m(reagents, products, atomnos, n_images, fmax, method, title, optimizer)\u001b[0m\n\u001b[0;32m    305\u001b[0m         \u001b[0mprint\u001b[0m\u001b[1;33m(\u001b[0m\u001b[0me\u001b[0m\u001b[1;33m)\u001b[0m\u001b[1;33m\u001b[0m\u001b[1;33m\u001b[0m\u001b[0m\n\u001b[0;32m    306\u001b[0m \u001b[1;33m\u001b[0m\u001b[0m\n\u001b[1;32m--> 307\u001b[1;33m     \u001b[0menergies\u001b[0m \u001b[1;33m=\u001b[0m \u001b[1;33m[\u001b[0m\u001b[0mimage\u001b[0m\u001b[1;33m.\u001b[0m\u001b[0mget_total_energy\u001b[0m\u001b[1;33m(\u001b[0m\u001b[1;33m)\u001b[0m \u001b[1;32mfor\u001b[0m \u001b[0mimage\u001b[0m \u001b[1;32min\u001b[0m \u001b[0mimages\u001b[0m\u001b[1;33m]\u001b[0m\u001b[1;33m\u001b[0m\u001b[1;33m\u001b[0m\u001b[0m\n\u001b[0m\u001b[0;32m    308\u001b[0m     \u001b[0mts_id\u001b[0m \u001b[1;33m=\u001b[0m \u001b[0menergies\u001b[0m\u001b[1;33m.\u001b[0m\u001b[0mindex\u001b[0m\u001b[1;33m(\u001b[0m\u001b[0mmax\u001b[0m\u001b[1;33m(\u001b[0m\u001b[0menergies\u001b[0m\u001b[1;33m)\u001b[0m\u001b[1;33m)\u001b[0m\u001b[1;33m\u001b[0m\u001b[1;33m\u001b[0m\u001b[0m\n\u001b[0;32m    309\u001b[0m     \u001b[1;31m# print(f'TS structure is number {ts_id}, energy is {max(energies)}')\u001b[0m\u001b[1;33m\u001b[0m\u001b[1;33m\u001b[0m\u001b[1;33m\u001b[0m\u001b[0m\n",
      "\u001b[1;32mc:\\Users\\ehrma\\Desktop\\Coding\\TSCoDe\\optimization_methods.py\u001b[0m in \u001b[0;36m<listcomp>\u001b[1;34m(.0)\u001b[0m\n\u001b[0;32m    305\u001b[0m         \u001b[0mprint\u001b[0m\u001b[1;33m(\u001b[0m\u001b[0me\u001b[0m\u001b[1;33m)\u001b[0m\u001b[1;33m\u001b[0m\u001b[1;33m\u001b[0m\u001b[0m\n\u001b[0;32m    306\u001b[0m \u001b[1;33m\u001b[0m\u001b[0m\n\u001b[1;32m--> 307\u001b[1;33m     \u001b[0menergies\u001b[0m \u001b[1;33m=\u001b[0m \u001b[1;33m[\u001b[0m\u001b[0mimage\u001b[0m\u001b[1;33m.\u001b[0m\u001b[0mget_total_energy\u001b[0m\u001b[1;33m(\u001b[0m\u001b[1;33m)\u001b[0m \u001b[1;32mfor\u001b[0m \u001b[0mimage\u001b[0m \u001b[1;32min\u001b[0m \u001b[0mimages\u001b[0m\u001b[1;33m]\u001b[0m\u001b[1;33m\u001b[0m\u001b[1;33m\u001b[0m\u001b[0m\n\u001b[0m\u001b[0;32m    308\u001b[0m     \u001b[0mts_id\u001b[0m \u001b[1;33m=\u001b[0m \u001b[0menergies\u001b[0m\u001b[1;33m.\u001b[0m\u001b[0mindex\u001b[0m\u001b[1;33m(\u001b[0m\u001b[0mmax\u001b[0m\u001b[1;33m(\u001b[0m\u001b[0menergies\u001b[0m\u001b[1;33m)\u001b[0m\u001b[1;33m)\u001b[0m\u001b[1;33m\u001b[0m\u001b[1;33m\u001b[0m\u001b[0m\n\u001b[0;32m    309\u001b[0m     \u001b[1;31m# print(f'TS structure is number {ts_id}, energy is {max(energies)}')\u001b[0m\u001b[1;33m\u001b[0m\u001b[1;33m\u001b[0m\u001b[1;33m\u001b[0m\u001b[0m\n",
      "\u001b[1;32m~\\anaconda3\\envs\\tscode\\lib\\site-packages\\ase\\atoms.py\u001b[0m in \u001b[0;36mget_total_energy\u001b[1;34m(self)\u001b[0m\n\u001b[0;32m    770\u001b[0m     \u001b[1;32mdef\u001b[0m \u001b[0mget_total_energy\u001b[0m\u001b[1;33m(\u001b[0m\u001b[0mself\u001b[0m\u001b[1;33m)\u001b[0m\u001b[1;33m:\u001b[0m\u001b[1;33m\u001b[0m\u001b[1;33m\u001b[0m\u001b[0m\n\u001b[0;32m    771\u001b[0m         \u001b[1;34m\"\"\"Get the total energy - potential plus kinetic energy.\"\"\"\u001b[0m\u001b[1;33m\u001b[0m\u001b[1;33m\u001b[0m\u001b[0m\n\u001b[1;32m--> 772\u001b[1;33m         \u001b[1;32mreturn\u001b[0m \u001b[0mself\u001b[0m\u001b[1;33m.\u001b[0m\u001b[0mget_potential_energy\u001b[0m\u001b[1;33m(\u001b[0m\u001b[1;33m)\u001b[0m \u001b[1;33m+\u001b[0m \u001b[0mself\u001b[0m\u001b[1;33m.\u001b[0m\u001b[0mget_kinetic_energy\u001b[0m\u001b[1;33m(\u001b[0m\u001b[1;33m)\u001b[0m\u001b[1;33m\u001b[0m\u001b[1;33m\u001b[0m\u001b[0m\n\u001b[0m\u001b[0;32m    773\u001b[0m \u001b[1;33m\u001b[0m\u001b[0m\n\u001b[0;32m    774\u001b[0m     \u001b[1;32mdef\u001b[0m \u001b[0mget_forces\u001b[0m\u001b[1;33m(\u001b[0m\u001b[0mself\u001b[0m\u001b[1;33m,\u001b[0m \u001b[0mapply_constraint\u001b[0m\u001b[1;33m=\u001b[0m\u001b[1;32mTrue\u001b[0m\u001b[1;33m,\u001b[0m \u001b[0mmd\u001b[0m\u001b[1;33m=\u001b[0m\u001b[1;32mFalse\u001b[0m\u001b[1;33m)\u001b[0m\u001b[1;33m:\u001b[0m\u001b[1;33m\u001b[0m\u001b[1;33m\u001b[0m\u001b[0m\n",
      "\u001b[1;32m~\\anaconda3\\envs\\tscode\\lib\\site-packages\\ase\\atoms.py\u001b[0m in \u001b[0;36mget_potential_energy\u001b[1;34m(self, force_consistent, apply_constraint)\u001b[0m\n\u001b[0;32m    731\u001b[0m                 self, force_consistent=force_consistent)\n\u001b[0;32m    732\u001b[0m         \u001b[1;32melse\u001b[0m\u001b[1;33m:\u001b[0m\u001b[1;33m\u001b[0m\u001b[1;33m\u001b[0m\u001b[0m\n\u001b[1;32m--> 733\u001b[1;33m             \u001b[0menergy\u001b[0m \u001b[1;33m=\u001b[0m \u001b[0mself\u001b[0m\u001b[1;33m.\u001b[0m\u001b[0m_calc\u001b[0m\u001b[1;33m.\u001b[0m\u001b[0mget_potential_energy\u001b[0m\u001b[1;33m(\u001b[0m\u001b[0mself\u001b[0m\u001b[1;33m)\u001b[0m\u001b[1;33m\u001b[0m\u001b[1;33m\u001b[0m\u001b[0m\n\u001b[0m\u001b[0;32m    734\u001b[0m         \u001b[1;32mif\u001b[0m \u001b[0mapply_constraint\u001b[0m\u001b[1;33m:\u001b[0m\u001b[1;33m\u001b[0m\u001b[1;33m\u001b[0m\u001b[0m\n\u001b[0;32m    735\u001b[0m             \u001b[1;32mfor\u001b[0m \u001b[0mconstraint\u001b[0m \u001b[1;32min\u001b[0m \u001b[0mself\u001b[0m\u001b[1;33m.\u001b[0m\u001b[0mconstraints\u001b[0m\u001b[1;33m:\u001b[0m\u001b[1;33m\u001b[0m\u001b[1;33m\u001b[0m\u001b[0m\n",
      "\u001b[1;32m~\\anaconda3\\envs\\tscode\\lib\\site-packages\\ase\\calculators\\calculator.py\u001b[0m in \u001b[0;36mget_potential_energy\u001b[1;34m(self, atoms, force_consistent)\u001b[0m\n\u001b[0;32m    706\u001b[0m \u001b[1;33m\u001b[0m\u001b[0m\n\u001b[0;32m    707\u001b[0m     \u001b[1;32mdef\u001b[0m \u001b[0mget_potential_energy\u001b[0m\u001b[1;33m(\u001b[0m\u001b[0mself\u001b[0m\u001b[1;33m,\u001b[0m \u001b[0matoms\u001b[0m\u001b[1;33m=\u001b[0m\u001b[1;32mNone\u001b[0m\u001b[1;33m,\u001b[0m \u001b[0mforce_consistent\u001b[0m\u001b[1;33m=\u001b[0m\u001b[1;32mFalse\u001b[0m\u001b[1;33m)\u001b[0m\u001b[1;33m:\u001b[0m\u001b[1;33m\u001b[0m\u001b[1;33m\u001b[0m\u001b[0m\n\u001b[1;32m--> 708\u001b[1;33m         \u001b[0menergy\u001b[0m \u001b[1;33m=\u001b[0m \u001b[0mself\u001b[0m\u001b[1;33m.\u001b[0m\u001b[0mget_property\u001b[0m\u001b[1;33m(\u001b[0m\u001b[1;34m'energy'\u001b[0m\u001b[1;33m,\u001b[0m \u001b[0matoms\u001b[0m\u001b[1;33m)\u001b[0m\u001b[1;33m\u001b[0m\u001b[1;33m\u001b[0m\u001b[0m\n\u001b[0m\u001b[0;32m    709\u001b[0m         \u001b[1;32mif\u001b[0m \u001b[0mforce_consistent\u001b[0m\u001b[1;33m:\u001b[0m\u001b[1;33m\u001b[0m\u001b[1;33m\u001b[0m\u001b[0m\n\u001b[0;32m    710\u001b[0m             \u001b[1;32mif\u001b[0m \u001b[1;34m'free_energy'\u001b[0m \u001b[1;32mnot\u001b[0m \u001b[1;32min\u001b[0m \u001b[0mself\u001b[0m\u001b[1;33m.\u001b[0m\u001b[0mresults\u001b[0m\u001b[1;33m:\u001b[0m\u001b[1;33m\u001b[0m\u001b[1;33m\u001b[0m\u001b[0m\n",
      "\u001b[1;32m~\\anaconda3\\envs\\tscode\\lib\\site-packages\\ase\\calculators\\calculator.py\u001b[0m in \u001b[0;36mget_property\u001b[1;34m(self, name, atoms, allow_calculation)\u001b[0m\n\u001b[0;32m    734\u001b[0m             \u001b[1;32mif\u001b[0m \u001b[1;32mnot\u001b[0m \u001b[0mallow_calculation\u001b[0m\u001b[1;33m:\u001b[0m\u001b[1;33m\u001b[0m\u001b[1;33m\u001b[0m\u001b[0m\n\u001b[0;32m    735\u001b[0m                 \u001b[1;32mreturn\u001b[0m \u001b[1;32mNone\u001b[0m\u001b[1;33m\u001b[0m\u001b[1;33m\u001b[0m\u001b[0m\n\u001b[1;32m--> 736\u001b[1;33m             \u001b[0mself\u001b[0m\u001b[1;33m.\u001b[0m\u001b[0mcalculate\u001b[0m\u001b[1;33m(\u001b[0m\u001b[0matoms\u001b[0m\u001b[1;33m,\u001b[0m \u001b[1;33m[\u001b[0m\u001b[0mname\u001b[0m\u001b[1;33m]\u001b[0m\u001b[1;33m,\u001b[0m \u001b[0msystem_changes\u001b[0m\u001b[1;33m)\u001b[0m\u001b[1;33m\u001b[0m\u001b[1;33m\u001b[0m\u001b[0m\n\u001b[0m\u001b[0;32m    737\u001b[0m \u001b[1;33m\u001b[0m\u001b[0m\n\u001b[0;32m    738\u001b[0m         \u001b[1;32mif\u001b[0m \u001b[0mname\u001b[0m \u001b[1;32mnot\u001b[0m \u001b[1;32min\u001b[0m \u001b[0mself\u001b[0m\u001b[1;33m.\u001b[0m\u001b[0mresults\u001b[0m\u001b[1;33m:\u001b[0m\u001b[1;33m\u001b[0m\u001b[1;33m\u001b[0m\u001b[0m\n",
      "\u001b[1;32m~\\anaconda3\\envs\\tscode\\lib\\site-packages\\ase\\calculators\\calculator.py\u001b[0m in \u001b[0;36mcalculate\u001b[1;34m(self, atoms, properties, system_changes)\u001b[0m\n\u001b[0;32m    935\u001b[0m                    '{} with error code {}'.format(self.name, command,\n\u001b[0;32m    936\u001b[0m                                                   path, errorcode))\n\u001b[1;32m--> 937\u001b[1;33m             \u001b[1;32mraise\u001b[0m \u001b[0mCalculationFailed\u001b[0m\u001b[1;33m(\u001b[0m\u001b[0mmsg\u001b[0m\u001b[1;33m)\u001b[0m\u001b[1;33m\u001b[0m\u001b[1;33m\u001b[0m\u001b[0m\n\u001b[0m\u001b[0;32m    938\u001b[0m \u001b[1;33m\u001b[0m\u001b[0m\n\u001b[0;32m    939\u001b[0m         \u001b[0mself\u001b[0m\u001b[1;33m.\u001b[0m\u001b[0mread_results\u001b[0m\u001b[1;33m(\u001b[0m\u001b[1;33m)\u001b[0m\u001b[1;33m\u001b[0m\u001b[1;33m\u001b[0m\u001b[0m\n",
      "\u001b[1;31mCalculationFailed\u001b[0m: Calculator \"mopac\" failed with command \"mopac2016 temp.mop\" failed in c:\\Users\\ehrma\\Desktop\\Coding\\TSCoDe\\Resources\\tri with error code 1"
     ]
    }
   ],
   "source": [
    "%%time\n",
    "ts, _ = ase_neb(reagents.atomcoords[0], products.atomcoords[0], reagents.atomnos)"
   ]
  },
  {
   "cell_type": "code",
   "execution_count": null,
   "metadata": {},
   "outputs": [],
   "source": [
    "mopac_opt(ts, data.atomnos, method='PM7 FORCE LET', title=f'TS_FREQ', read_output=False)"
   ]
  },
  {
   "cell_type": "code",
   "execution_count": 4,
   "metadata": {},
   "outputs": [
    {
     "output_type": "execute_result",
     "data": {
      "text/plain": [
       "0"
      ]
     },
     "metadata": {},
     "execution_count": 4
    }
   ],
   "source": [
    "os.system('mopac2016')"
   ]
  },
  {
   "cell_type": "markdown",
   "metadata": {},
   "source": [
    "## Trimolecular TSs directions"
   ]
  },
  {
   "cell_type": "code",
   "execution_count": 20,
   "metadata": {},
   "outputs": [
    {
     "data": {
      "text/plain": [
       "array([[ 0.       ,  1.       ,  0.       ],\n",
       "       [-0.8660254, -0.5      ,  0.       ],\n",
       "       [ 0.8660254, -0.5      ,  0.       ]])"
      ]
     },
     "execution_count": 20,
     "metadata": {},
     "output_type": "execute_result"
    }
   ],
   "source": [
    "import numpy as np\n",
    "from utils import *\n",
    "def _get_directions(norms):\n",
    "    '''\n",
    "    Returns two or three vectors specifying the direction in which each molecule should be aligned\n",
    "    in the cyclical TS, pointing towards the center of the polygon.\n",
    "    '''\n",
    "    assert len(norms) in (2,3)\n",
    "    if len(norms) == 2:\n",
    "        return np.array([[0,1,0],\n",
    "                            [0,-1,0]])\n",
    "    else:\n",
    "\n",
    "        norms = sorted(norms)\n",
    "        vertexes = np.zeros((3,2))\n",
    "\n",
    "        vertexes[1] = np.array([norms[0],0])\n",
    "\n",
    "        a = np.power(norms[0], 2)\n",
    "        b = np.power(norms[1], 2)\n",
    "        c = np.power(norms[2], 2)\n",
    "        x = (a-b+c)/(2*a**0.5)\n",
    "        y = (c-x**2)**0.5\n",
    "\n",
    "        vertexes[2] = np.array([x,y])\n",
    "        # similar to the code from polygonize, to get the active triangle\n",
    "        # but without the orientation specified in the polygonize function\n",
    "        \n",
    "        a = vertexes[1,0] # first point, x\n",
    "        b = vertexes[2,0] # second point, x\n",
    "        c = vertexes[2,1] # second point, y\n",
    "\n",
    "        x = a/2\n",
    "        y = (b**2 + c**2 - a*b)/(2*c)\n",
    "        cc = np.array([x,y])\n",
    "        # 2D coordinates of the triangle circocenter\n",
    "\n",
    "        v0, v1, v2 = vertexes\n",
    "\n",
    "        meanpoint1 = np.mean((v0,v1), axis=0)\n",
    "        meanpoint2 = np.mean((v1,v2), axis=0)\n",
    "        meanpoint3 = np.mean((v2,v0), axis=0)\n",
    "\n",
    "        dir1 = cc - meanpoint1\n",
    "        dir2 = cc - meanpoint2\n",
    "        dir3 = cc - meanpoint3\n",
    "        # 2D direction versors connecting center of side with circumcenter.\n",
    "        # Now we need to understand if we want these or their negative\n",
    "\n",
    "        if np.any([np.all(d == 0) for d in (dir1, dir2, dir3)]):\n",
    "        # We have a right triangle. To aviod numerical\n",
    "        # errors, a small perturbation is made.\n",
    "        # This should not happen, but just in case...\n",
    "            norms[0] += 1e-10\n",
    "            dir1, dir2, dir3 = [t[:-1] for t in _get_directions(norms)]\n",
    "\n",
    "        angle0_obtuse = (angle(v1-v0, v2-v0) > 90)\n",
    "        angle1_obtuse = (angle(v0-v1, v2-v1) > 90)\n",
    "        angle2_obtuse = (angle(v0-v2, v1-v2) > 90)\n",
    "\n",
    "        dir1 = -dir1 if angle2_obtuse else dir1\n",
    "        dir2 = -dir2 if angle0_obtuse else dir2\n",
    "        dir3 = -dir3 if angle1_obtuse else dir3\n",
    "        # invert the versors sign if circumcenter is\n",
    "        # one angle is obtuse, because then\n",
    "        # circumcenter is outside the triangle\n",
    "        \n",
    "        dir1 = norm(np.concatenate((dir1, [0])))\n",
    "        dir2 = norm(np.concatenate((dir2, [0])))\n",
    "        dir3 = norm(np.concatenate((dir3, [0])))\n",
    "\n",
    "        return np.vstack((dir1, dir2, dir3))\n",
    "\n",
    "_get_directions((1.001,1.001,1.001))"
   ]
  },
  {
   "cell_type": "code",
   "execution_count": 21,
   "metadata": {},
   "outputs": [
    {
     "data": {
      "text/plain": [
       "array([[[0., 0., 0.],\n",
       "        [3., 0., 0.]],\n",
       "\n",
       "       [[3., 0., 0.],\n",
       "        [0., 4., 0.]],\n",
       "\n",
       "       [[0., 4., 0.],\n",
       "        [0., 0., 0.]]])"
      ]
     },
     "execution_count": 21,
     "metadata": {},
     "output_type": "execute_result"
    }
   ],
   "source": [
    "from utils import polygonize\n",
    "norms = (3,5,4)\n",
    "polygonize(norms)[0]"
   ]
  },
  {
   "cell_type": "code",
   "execution_count": 25,
   "metadata": {},
   "outputs": [
    {
     "data": {
      "text/plain": [
       "array([[ 0.00000000e+00,  1.00000000e+00,  0.00000000e+00],\n",
       "       [-1.00000000e+00, -2.50000021e-11,  0.00000000e+00],\n",
       "       [ 8.00000000e-01, -6.00000000e-01,  0.00000000e+00]])"
      ]
     },
     "execution_count": 25,
     "metadata": {},
     "output_type": "execute_result"
    }
   ],
   "source": [
    "_get_directions(norms)"
   ]
  },
  {
   "cell_type": "code",
   "execution_count": 13,
   "metadata": {},
   "outputs": [
    {
     "data": {
      "text/plain": [
       "array([[-30., -30., -30.],\n",
       "       [-30., -30., -20.],\n",
       "       [-30., -30., -10.],\n",
       "       ...,\n",
       "       [ 30.,  30.,  10.],\n",
       "       [ 30.,  30.,  20.],\n",
       "       [ 30.,  30.,  30.]])"
      ]
     },
     "execution_count": 13,
     "metadata": {},
     "output_type": "execute_result"
    }
   ],
   "source": [
    "from utils import cartesian_product\n",
    "steps = 6\n",
    "angle_range = 30\n",
    "angles = cartesian_product(*[range(steps+1) for _ in range(3)]) * 2*angle_range/steps - angle_range\n",
    "len(angles)\n",
    "angles"
   ]
  },
  {
   "cell_type": "code",
   "execution_count": 3,
   "metadata": {},
   "outputs": [
    {
     "data": {
      "text/plain": [
       "array([[[0.        , 0.        , 0.        ],\n",
       "        [5.        , 0.        , 0.        ]],\n",
       "\n",
       "       [[5.        , 0.        , 0.        ],\n",
       "        [6.084     , 3.85031739, 0.        ]],\n",
       "\n",
       "       [[6.084     , 3.85031739, 0.        ],\n",
       "        [0.        , 0.        , 0.        ]]])"
      ]
     },
     "execution_count": 3,
     "metadata": {},
     "output_type": "execute_result"
    }
   ],
   "source": [
    "from utils import polygonize\n",
    "a = 5\n",
    "b = 4\n",
    "c = (a+b)*0.8\n",
    "\n",
    "polygonize((a,b,c))[0]"
   ]
  },
  {
   "cell_type": "code",
   "execution_count": null,
   "metadata": {},
   "outputs": [],
   "source": [
    "def mopac_bend(mol, pivot, threshold, method='PM7', title='temp_scan'):\n",
    "    '''\n",
    "    This function writes a MOPAC .mop input, runs it with the subprocess\n",
    "    module and reads its output. Coordinates used are mixed\n",
    "    (cartesian and internal) to be able to constrain/sacn the reactive atoms\n",
    "    distances specified in constrained_indexes.\n",
    "\n",
    "    :params mol: Hypermolecule Object\n",
    "    :params method: string, specifiyng the first line of keywords for the MOPAC input file.\n",
    "    :params title: string, used as a file name and job title for the mopac input file.\n",
    "    '''\n",
    "    # TODO:conformations!\n",
    "    conf = 0\n",
    "\n",
    "    stepsize = 0.05\n",
    "    steps = (np.linalg.norm(pivot.pivot)-threshold)//stepsize\n",
    "\n",
    "    order = []\n",
    "    s = [method + f' STEP={stepsize} POINT={steps}\\n' + title + '\\n\\n']\n",
    "    for i, num in enumerate(atomnos):\n",
    "        s.append(' {} {} +1 {} +1 {} +1\\n'.format(pt[num].symbol, *mol.atomcoords[i]))\n",
    "\n",
    "    id_start, id_end = pivot.index\n",
    "\n",
    "    r_atom_start = list(mol.reactive_atoms_classes_dict.values())[0]\n",
    "    orb_start = r_atom_start.center[id_start]\n",
    "\n",
    "    r_atom_end = list(mol.reactive_atoms_classes_dict.values())[1]\n",
    "    orb_end = r_atom_end.center[id_end]\n",
    "\n",
    "    coords = mol.atomcoords[conf]\n",
    "\n",
    "    ###################################################################\n",
    "\n",
    "    b1, c1, d1 = np.random.choice(len(coords), 3)\n",
    "    while b1 == c1 or c1 == d1:\n",
    "        b1, c1, d1 = np.random.choice(len(coords), 3)\n",
    "    # indexes of reference atoms\n",
    "\n",
    "    dist1 = np.linalg.norm(orb_start - coords[b1]) # in Angstrom\n",
    "\n",
    "    angle1 = np.arccos(norm(orb_start - coords[b1]) @ norm(coords[c1] - coords[b1]))*180/np.pi # in degrees\n",
    "\n",
    "    d_angle1 = dihedral([orb_start,\n",
    "                         coords[b1],\n",
    "                         coords[c1],\n",
    "                         coords[d1]])\n",
    "    d_angle1 += 360 if d_angle < 0 else 0\n",
    "\n",
    "\n",
    "    s.append(' * {}  0 {} +1 {} +1 {} {} {}\\n'.format(dist1, angle1, d_angle1 ,b1, c1, d1))\n",
    "\n",
    "    ###################################################################\n",
    "\n",
    "    b2, c2, d2 = np.random.choice(len(coords), 3)\n",
    "    while b2 == c2 or c2 == d2:\n",
    "        b2, c2, d2 = np.random.choice(len(coords), 3)\n",
    "    # indexes of reference atoms\n",
    "\n",
    "    dist2 = np.linalg.norm(orb_start - coords[b2]) # in Angstrom\n",
    "\n",
    "    angle2 = np.arccos(norm(orb_start - coords[b2]) @ norm(coords[c2] - coords[b2]))*180/np.pi # in degrees\n",
    "\n",
    "    d_angle2 = dihedral([orb_start,\n",
    "                         coords[b2],\n",
    "                         coords[c2],\n",
    "                         coords[d2]])\n",
    "    d_angle2 += 360 if d_angle < 0 else 0\n",
    "\n",
    "\n",
    "    s.append(' * {}  0 {} +1 {} +1 {} {} {}\\n'.format(dist2, angle2, d_angle2 ,b2, c2, d2))\n",
    "    \n",
    "    ###################################################################\n",
    "    \n",
    "    c3, d3 = np.random.choice(len(coords), 2)\n",
    "    while c3 == d3:\n",
    "        c3, d3 = np.random.choice(len(coords), 2)\n",
    "    # indexes of reference atoms\n",
    "\n",
    "    dist3 = np.linalg.norm(orb_start - orb_end) # in Angstrom\n",
    "\n",
    "    angle3 = np.arccos(norm(orb_start - orb_end) @ norm(orb_end - coords[c3]))*180/np.pi # in degrees\n",
    "\n",
    "    d_angle2 = dihedral([orb_start,\n",
    "                         orb_end,\n",
    "                         coords[c3],\n",
    "                         coords[d3]])\n",
    "    d_angle2 += 360 if d_angle < 0 else 0\n",
    "\n",
    "    len_s = len(s)\n",
    "    s.append(' * {} -1 {} +1 {} +1 {} {} {}\\n'.format(dist3, angle3, d_angle3 , len_s, c3, d3))\n",
    "    \n",
    "    ###################################################################\n",
    "\n",
    "    s = ''.join(s)\n",
    "    with open(f'{title}.mop', 'w') as f:\n",
    "        f.write(s)\n",
    "    \n",
    "    # try:\n",
    "    #     check_call(f'{MOPAC_COMMAND} {title}.mop'.split(), stdout=DEVNULL, stderr=STDOUT)\n",
    "    # except KeyboardInterrupt:\n",
    "    #     print('KeyboardInterrupt requested by user. Quitting.')\n",
    "    #     quit()\n",
    "\n",
    "    # os.remove(f'{title}.mop')\n",
    "    # # delete input, we do not need it anymore\n",
    "\n",
    "    # if read_output:\n",
    "\n",
    "    #     inv_order = [order.index(i) for i in range(len(order))]\n",
    "    #     # undoing the atomic scramble that was needed by the mopac input requirements\n",
    "\n",
    "    #     opt_coords, energy, success = read_mop_out(f'{title}.out')\n",
    "    #     os.remove(f'{title}.out')\n",
    "\n",
    "    #     opt_coords = scramble(opt_coords, inv_order) if opt_coords is not None else coords\n",
    "    #     # If opt_coords is None, that is if TS seeking crashed,\n",
    "    #     # sets opt_coords to the old coords. If not, unscrambles\n",
    "    #     # coordinates read from mopac output.\n",
    "\n",
    "    #     return opt_coords, energy, success\n"
   ]
  },
  {
   "cell_type": "code",
   "execution_count": 3,
   "metadata": {},
   "outputs": [
    {
     "name": "stdout",
     "output_type": "stream",
     "text": [
      "       Step     Time          Energy         fmax\n",
      "LBFGS:    0 09:22:12      -20.133050       95.7932\n",
      "LBFGS:    1 09:22:12      -19.383150       76.6775\n",
      "LBFGS:    2 09:22:12      -18.792460       57.3885\n",
      "LBFGS:    3 09:22:12      -18.328450       37.9486\n",
      "LBFGS:    4 09:22:12      -17.963430       18.3826\n",
      "LBFGS:    5 09:22:12      -17.690280        0.0931\n",
      "LBFGS:    6 09:22:12      -17.691520        0.0002\n"
     ]
    },
    {
     "data": {
      "text/plain": [
       "<subprocess.Popen at 0x2fafc3c6b70>"
      ]
     },
     "execution_count": 3,
     "metadata": {},
     "output_type": "execute_result"
    }
   ],
   "source": [
    "import numpy as np\n",
    "from ase import Atoms\n",
    "from ase.visualize import view\n",
    "from optimization_methods import Spring\n",
    "from ase.optimize.lbfgs import LBFGS\n",
    "from ase.calculators.mopac import MOPAC\n",
    "\n",
    "pos = np.array([[0,0,1], [0,0,-1]])\n",
    "atoms = Atoms('HH', positions=pos)\n",
    "atoms.set_constraint(Spring(0,1,3,100))\n",
    "atoms.calc = MOPAC(label='temp_H2', command='MOPAC2016 temp_H2.mop')\n",
    "opt = LBFGS(atoms, maxstep=0.1)\n",
    "opt.run(fmax=0.05, steps=100)\n",
    "view(atoms)"
   ]
  },
  {
   "cell_type": "markdown",
   "metadata": {},
   "source": [
    "## NCI print"
   ]
  },
  {
   "cell_type": "code",
   "execution_count": 1,
   "metadata": {},
   "outputs": [],
   "source": [
    "from optimization_methods import get_nci\n",
    "from cclib.io import ccread\n",
    "import numpy as np\n",
    "import os\n",
    "os.chdir('Resources/tri')\n",
    "data = ccread('TSCoDe_TSs_guesses.xyz')\n",
    "ids = np.array([32, 5, 31])\n",
    "constrained_indexes = np.array([[0, 43], [5, 36], [33, 60]])"
   ]
  },
  {
   "cell_type": "code",
   "execution_count": 3,
   "metadata": {
    "tags": []
   },
   "outputs": [
    {
     "data": {
      "text/plain": [
       "[]"
      ]
     },
     "execution_count": 3,
     "metadata": {},
     "output_type": "execute_result"
    }
   ],
   "source": [
    "get_nci(data.atomcoords[0], data.atomnos, constrained_indexes, ids)[0]"
   ]
  },
  {
   "cell_type": "code",
   "execution_count": null,
   "metadata": {},
   "outputs": [],
   "source": [
    "os.chdir('../knoevenagel')\n",
    "data = ccread('Knoevenagel-major.xyz')\n",
    "ids = np.array([32, 5, 31])\n",
    "constrained_indexes = np.array([[0, 43], [5, 36], [33, 60]])"
   ]
  },
  {
   "cell_type": "markdown",
   "metadata": {},
   "source": [
    "## Scramble test"
   ]
  },
  {
   "cell_type": "code",
   "execution_count": 1,
   "metadata": {},
   "outputs": [],
   "source": [
    "from optimization_methods import scramble_check\n",
    "from hypermolecule_class import graphize\n",
    "from cclib.io import ccread\n",
    "import numpy as np\n",
    "import os\n",
    "os.chdir('Resources/epox')\n",
    "data = ccread('TSCoDe_TSs_guesses.xyz')\n",
    "alkene = ccread('C2H4.xyz')\n",
    "peracid = ccread('HCOOOH.xyz')\n",
    "graphs = [graphize(mol.atomcoords[0], mol.atomnos) for mol in (alkene, peracid)]"
   ]
  },
  {
   "cell_type": "code",
   "execution_count": 3,
   "metadata": {},
   "outputs": [
    {
     "output_type": "execute_result",
     "data": {
      "text/plain": [
       "[False, True]"
      ]
     },
     "metadata": {},
     "execution_count": 3
    }
   ],
   "source": [
    "results = []\n",
    "for s in data.atomcoords:\n",
    "    results. append(scramble_check(s, data.atomnos, graphs, max_newbonds=1))\n",
    "results"
   ]
  },
  {
   "source": [
    "## REAG/PROD CHELOTROPIC"
   ],
   "cell_type": "markdown",
   "metadata": {}
  },
  {
   "cell_type": "code",
   "execution_count": 1,
   "metadata": {},
   "outputs": [],
   "source": [
    "from optimization_methods import mopac_opt, write_xyz\n",
    "from optimization_methods import get_reagent, get_product\n",
    "from cclib.io import ccread\n",
    "import numpy as np\n",
    "import os\n",
    "os.chdir('Resources/epox')\n",
    "data = ccread('TSCoDe_TSs_guesses.xyz')\n",
    "ids = (6,6)\n",
    "\n",
    "constrained_indexes = np.array([[0, 10], [1, 10]])"
   ]
  },
  {
   "cell_type": "code",
   "execution_count": 2,
   "metadata": {},
   "outputs": [
    {
     "output_type": "stream",
     "name": "stdout",
     "text": [
      "Wall time: 13.4 s\n"
     ]
    }
   ],
   "source": [
    "%%time\n",
    "product_coords = get_product(data.atomcoords[0], data.atomnos, ids, constrained_indexes)\n",
    "with open('products.xyz', 'w') as f:\n",
    "    write_xyz(product_coords, data.atomnos, f)"
   ]
  },
  {
   "cell_type": "code",
   "execution_count": 3,
   "metadata": {},
   "outputs": [
    {
     "output_type": "execute_result",
     "data": {
      "text/plain": [
       "0"
      ]
     },
     "metadata": {},
     "execution_count": 3
    }
   ],
   "source": [
    "os.system('avogadro products.xyz')"
   ]
  },
  {
   "cell_type": "code",
   "execution_count": 4,
   "metadata": {},
   "outputs": [
    {
     "output_type": "stream",
     "name": "stdout",
     "text": [
      "Wall time: 980 ms\n"
     ]
    }
   ],
   "source": [
    "%%time\n",
    "reagents_coords = get_reagent(data.atomcoords[0], data.atomnos, ids, constrained_indexes)\n",
    "with open('reagents.xyz', 'w') as f:\n",
    "    write_xyz(reagents_coords, data.atomnos, f)"
   ]
  },
  {
   "cell_type": "code",
   "execution_count": 5,
   "metadata": {},
   "outputs": [
    {
     "output_type": "execute_result",
     "data": {
      "text/plain": [
       "0"
      ]
     },
     "metadata": {},
     "execution_count": 5
    }
   ],
   "source": [
    "os.system('avogadro reagents.xyz')"
   ]
  },
  {
   "cell_type": "code",
   "execution_count": null,
   "metadata": {},
   "outputs": [],
   "source": [
    "reagents = ccread('reagents.xyz')\n",
    "products = ccread('products.xyz')\n",
    "from optimization_methods import ase_neb"
   ]
  },
  {
   "cell_type": "code",
   "execution_count": null,
   "metadata": {},
   "outputs": [],
   "source": [
    "%%time\n",
    "ts, _ = ase_neb(reagents.atomcoords[0], products.atomcoords[0], reagents.atomnos)"
   ]
  },
  {
   "cell_type": "code",
   "execution_count": null,
   "metadata": {},
   "outputs": [],
   "source": [
    "mopac_opt(ts, data.atomnos, method='PM7 FORCE LET', title=f'TS_FREQ', read_output=False)"
   ]
  },
  {
   "source": [
    "## checks"
   ],
   "cell_type": "markdown",
   "metadata": {}
  },
  {
   "cell_type": "code",
   "execution_count": 1,
   "metadata": {},
   "outputs": [],
   "source": [
    "from prune import prune_conformers\n",
    "from cclib.io import ccread\n",
    "import os\n",
    "os.chdir('Resources/epox')\n",
    "data = ccread('TSCoDe_TSs_guesses_May_24_19-58.xyz')"
   ]
  },
  {
   "cell_type": "code",
   "execution_count": 14,
   "metadata": {},
   "outputs": [
    {
     "output_type": "execute_result",
     "data": {
      "text/plain": [
       "array([ True,  True, False, False])"
      ]
     },
     "metadata": {},
     "execution_count": 14
    }
   ],
   "source": [
    "prune_conformers(data.atomcoords, data.atomnos, max_rmsd=1, k=1)[1]"
   ]
  },
  {
   "cell_type": "code",
   "execution_count": 17,
   "metadata": {},
   "outputs": [
    {
     "output_type": "execute_result",
     "data": {
      "text/plain": [
       "1.442452180419543"
      ]
     },
     "metadata": {},
     "execution_count": 17
    }
   ],
   "source": [
    "from spyrmsd.rmsd import rmsd\n",
    "rmsd(data.atomcoords[0], data.atomcoords[1], data.atomnos, data.atomnos, center=True, minimize=True)"
   ]
  },
  {
   "source": [
    "## Alignment test"
   ],
   "cell_type": "markdown",
   "metadata": {}
  },
  {
   "cell_type": "code",
   "execution_count": 1,
   "metadata": {},
   "outputs": [
    {
     "output_type": "execute_result",
     "data": {
      "text/plain": [
       "0"
      ]
     },
     "metadata": {},
     "execution_count": 1
    }
   ],
   "source": [
    "from cclib.io import ccread\n",
    "from hypermolecule_class import align_structures\n",
    "from optimization_methods import write_xyz\n",
    "import numpy as np\n",
    "import os\n",
    "os.chdir('Resources/tri')\n",
    "\n",
    "data = ccread('TSCoDe_TSs_guesses_May_24_23-36.xyz')\n",
    "\n",
    "aligned = align_structures(np.array(data.atomcoords), indexes=np.array([[0, 43], [5, 36], [33, 60]]))\n",
    "\n",
    "with open('aligned_i_hope.xyz', 'w') as f:\n",
    "    for s in aligned:\n",
    "        write_xyz(s, data.atomnos, f)\n",
    "\n",
    "os.system('avogadro aligned_i_hope.xyz')"
   ]
  },
  {
   "cell_type": "code",
   "execution_count": 1,
   "metadata": {},
   "outputs": [
    {
     "output_type": "execute_result",
     "data": {
      "text/plain": [
       "(1, 68, 3)"
      ]
     },
     "metadata": {},
     "execution_count": 1
    }
   ],
   "source": [
    "from cclib.io import ccread\n",
    "from hypermolecule_class import align_structures\n",
    "from optimization_methods import write_xyz\n",
    "import numpy as np\n",
    "import os\n",
    "os.chdir('Resources/tri')\n",
    "\n",
    "ccread('temp_ob_out.xyz').atomcoords.shape"
   ]
  },
  {
   "cell_type": "code",
   "execution_count": null,
   "metadata": {},
   "outputs": [],
   "source": []
  }
 ],
 "metadata": {
  "kernelspec": {
   "name": "python3613jvsc74a57bd013b132f2c1b4759c35299cc27b3a010876219416598289e22ec2dbcead05f2f6",
   "display_name": "Python 3.6.13 64-bit ('my-rdkit-env': conda)"
  },
  "language_info": {
   "codemirror_mode": {
    "name": "ipython",
    "version": 3
   },
   "file_extension": ".py",
   "mimetype": "text/x-python",
   "name": "python",
   "nbconvert_exporter": "python",
   "pygments_lexer": "ipython3",
   "version": "3.6.13"
  }
 },
 "nbformat": 4,
 "nbformat_minor": 2
}