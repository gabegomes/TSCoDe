{
 "cells": [
  {
   "cell_type": "code",
   "execution_count": null,
   "metadata": {},
   "outputs": [],
   "source": [
    "from optimization_methods import ase_bend\n",
    "from tscode import Docker\n",
    "import numpy as np\n",
    "import os\n",
    "os.chdir(r'C:\\Users\\ehrma\\Desktop\\Monomolecular')\n",
    "docker = Docker('input.txt', 'BEND_TEST')"
   ]
  },
  {
   "cell_type": "code",
   "execution_count": null,
   "metadata": {},
   "outputs": [],
   "source": [
    "vars(docker)"
   ]
  },
  {
   "cell_type": "code",
   "execution_count": null,
   "metadata": {},
   "outputs": [],
   "source": [
    "docker.options.fix_angles_in_deformation = True"
   ]
  },
  {
   "cell_type": "code",
   "execution_count": null,
   "metadata": {},
   "outputs": [],
   "source": [
    "%%time\n",
    "traj = 'FIXED_ANGLES'\n",
    "mol = docker.objects[0]\n",
    "pivot = mol.pivots[0]\n",
    "\n",
    "bent_mol_1 = ase_bend(docker,\n",
    "                      mol,\n",
    "                      pivot,\n",
    "\n",
    "                      1,\n",
    "                    #   0.8*np.linalg.norm(pivot.pivot),\n",
    "\n",
    "                      method=f'{docker.options.theory_level}',\n",
    "                      title=f'{mol.rootname} - pivot 0',\n",
    "                      traj=traj,\n",
    "                      check=False,  # avoid returning the non-bent molecule,\n",
    "                                    # even if this means having it scrambled\n",
    "                      )"
   ]
  },
  {
   "cell_type": "code",
   "execution_count": null,
   "metadata": {},
   "outputs": [],
   "source": [
    "docker.options.fix_angles_in_deformation = False"
   ]
  },
  {
   "cell_type": "code",
   "execution_count": null,
   "metadata": {},
   "outputs": [],
   "source": [
    "%%time\n",
    "traj = 'FREE_ANGLES'\n",
    "mol = docker.objects[0]\n",
    "pivot = mol.pivots[0]\n",
    "\n",
    "bent_mol_2 = ase_bend(docker,\n",
    "                      mol,\n",
    "                      pivot,\n",
    "\n",
    "                      1,\n",
    "                    #   0.8*np.linalg.norm(pivot.pivot),\n",
    "\n",
    "                      method=f'{docker.options.theory_level}',\n",
    "                      title=f'{mol.rootname} - pivot 0',\n",
    "                      traj=traj,\n",
    "                      check=False,  # avoid returning the non-bent molecule,\n",
    "                                    # even if this means having it scrambled\n",
    "                      )"
   ]
  },
  {
   "cell_type": "code",
   "execution_count": null,
   "metadata": {},
   "outputs": [],
   "source": [
    "os.system('ase gui')"
   ]
  },
  {
   "cell_type": "markdown",
   "metadata": {},
   "source": [
    "## Atropisomer code testing"
   ]
  },
  {
   "cell_type": "code",
   "execution_count": 1,
   "metadata": {},
   "outputs": [],
   "source": [
    "from atropisomer_module import ase_torsion_TSs\r\n",
    "from cclib.io import ccread\r\n",
    "import os\r\n",
    "os.chdir(r'C:\\Users\\ehrma\\Desktop\\Monomolecular\\atropo')\r\n",
    "\r\n",
    "data = ccread('C2H6.xyz')\r\n",
    "dihedral = [1, 0, 4, 5]\r\n",
    "\r\n",
    "# data = ccread('axis.xyz')\r\n",
    "# dihedral = [1, 0, 11, 13]\r\n"
   ]
  },
  {
   "cell_type": "code",
   "execution_count": 2,
   "metadata": {},
   "outputs": [],
   "source": [
    "from atropisomer_module import ase_scan\r\n",
    "from utils import write_xyz\r\n",
    "\r\n",
    "# structures, energies = ase_scan(data.atomcoords[0], data.atomnos, 'MOPAC', 'PM7', dihedral, degrees=10, steps=36, relaxed=False)\r\n",
    "\r\n",
    "# with open('test_turn.xyz', 'w') as f:\r\n",
    "#     for structure in structures:\r\n",
    "#         write_xyz(structure, data.atomnos, f)\r\n",
    "# os.system('avogadro test_turn.xyz')"
   ]
  },
  {
   "cell_type": "code",
   "execution_count": 3,
   "metadata": {},
   "outputs": [
    {
     "data": {
      "image/png": "[encoded data removed]",
      "text/plain": [
       "<Figure size 432x288 with 1 Axes>"
      ]
     },
     "metadata": {
      "needs_background": "light"
     },
     "output_type": "display_data"
    }
   ],
   "source": [
    "\r\n",
    "structures, energies, freqs = ase_torsion_TSs(data.atomcoords[0], data.atomnos, dihedral, 'MOPAC', 'PM7', debug=True, bernytraj='temp_traj')"
   ]
  },
  {
   "cell_type": "code",
   "execution_count": 4,
   "metadata": {},
   "outputs": [],
   "source": [
    "for s in range(len(structures)):\r\n",
    "    print(f'Structure {s}: {len([i for i in freqs[s].imag if i != 0])} negative frequencies')"
   ]
  },
  {
   "cell_type": "code",
   "execution_count": 5,
   "metadata": {},
   "outputs": [
    {
     "data": {
      "text/plain": [
       "0"
      ]
     },
     "execution_count": 5,
     "metadata": {},
     "output_type": "execute_result"
    }
   ],
   "source": [
    "with open('test_atropo.xyz', 'w') as f:\r\n",
    "    for structure in structures:\r\n",
    "        write_xyz(structure, data.atomnos, f)\r\n",
    "os.system('avogadro test_atropo.xyz')"
   ]
  },
  {
   "cell_type": "code",
   "execution_count": 2,
   "metadata": {},
   "outputs": [
    {
     "ename": "FileNotFoundError",
     "evalue": "[Errno 2] No such file or directory: 'temp_plt.pickle'",
     "output_type": "error",
     "traceback": [
      "\u001b[1;31m---------------------------------------------------------------------------\u001b[0m",
      "\u001b[1;31mFileNotFoundError\u001b[0m                         Traceback (most recent call last)",
      "\u001b[1;32m<ipython-input-2-f1e6462e0ee3>\u001b[0m in \u001b[0;36m<module>\u001b[1;34m\u001b[0m\n\u001b[0;32m      1\u001b[0m \u001b[1;32mimport\u001b[0m \u001b[0mpickle\u001b[0m\u001b[1;33m\u001b[0m\u001b[1;33m\u001b[0m\u001b[0m\n\u001b[1;32m----> 2\u001b[1;33m \u001b[0mfigx\u001b[0m \u001b[1;33m=\u001b[0m \u001b[0mpickle\u001b[0m\u001b[1;33m.\u001b[0m\u001b[0mload\u001b[0m\u001b[1;33m(\u001b[0m\u001b[0mopen\u001b[0m\u001b[1;33m(\u001b[0m\u001b[1;34m'temp_plt.pickle'\u001b[0m\u001b[1;33m,\u001b[0m \u001b[1;34m'rb'\u001b[0m\u001b[1;33m)\u001b[0m\u001b[1;33m)\u001b[0m\u001b[1;33m\u001b[0m\u001b[1;33m\u001b[0m\u001b[0m\n\u001b[0m\u001b[0;32m      3\u001b[0m \u001b[0mfigx\u001b[0m\u001b[1;33m.\u001b[0m\u001b[0mset_size_inches\u001b[0m\u001b[1;33m(\u001b[0m\u001b[1;36m18.5\u001b[0m\u001b[1;33m,\u001b[0m \u001b[1;36m10.5\u001b[0m\u001b[1;33m)\u001b[0m\u001b[1;33m\u001b[0m\u001b[1;33m\u001b[0m\u001b[0m\n\u001b[0;32m      4\u001b[0m \u001b[0mfigx\u001b[0m\u001b[1;33m.\u001b[0m\u001b[0mshow\u001b[0m\u001b[1;33m(\u001b[0m\u001b[1;33m)\u001b[0m\u001b[1;33m\u001b[0m\u001b[1;33m\u001b[0m\u001b[0m\n",
      "\u001b[1;31mFileNotFoundError\u001b[0m: [Errno 2] No such file or directory: 'temp_plt.pickle'"
     ]
    }
   ],
   "source": [
    "import pickle\r\n",
    "figx = pickle.load(open('temp_plt.pickle', 'rb'))\r\n",
    "figx.set_size_inches(18.5, 10.5)\r\n",
    "figx.show()"
   ]
  },
  {
   "cell_type": "code",
   "execution_count": null,
   "metadata": {},
   "outputs": [],
   "source": []
  }
 ],
 "metadata": {
  "interpreter": {
   "hash": "f42432a105b8acee4ebf0bed7c821d7ab9f1c868b5ed9ce15efef0e0d7067e2c"
  },
  "kernelspec": {
   "display_name": "Python 3.8.10 64-bit ('tscode': conda)",
   "name": "python3"
  },
  "language_info": {
   "codemirror_mode": {
    "name": "ipython",
    "version": 3
   },
   "file_extension": ".py",
   "mimetype": "text/x-python",
   "name": "python",
   "nbconvert_exporter": "python",
   "pygments_lexer": "ipython3",
   "version": "3.8.10"
  },
  "orig_nbformat": 4
 },
 "nbformat": 4,
 "nbformat_minor": 2
}