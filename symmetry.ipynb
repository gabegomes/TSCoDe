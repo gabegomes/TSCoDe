{
 "metadata": {
  "language_info": {
   "codemirror_mode": {
    "name": "ipython",
    "version": 3
   },
   "file_extension": ".py",
   "mimetype": "text/x-python",
   "name": "python",
   "nbconvert_exporter": "python",
   "pygments_lexer": "ipython3",
   "version": "3.6.13"
  },
  "orig_nbformat": 2,
  "kernelspec": {
   "name": "python3613jvsc74a57bd013b132f2c1b4759c35299cc27b3a010876219416598289e22ec2dbcead05f2f6",
   "display_name": "Python 3.6.13 64-bit ('my-rdkit-env': conda)"
  }
 },
 "nbformat": 4,
 "nbformat_minor": 2,
 "cells": [
  {
   "cell_type": "code",
   "execution_count": 1,
   "metadata": {},
   "outputs": [],
   "source": [
    "from _fallback import prune_conformers_symmetry, prune_conformers\n",
    "from hypermolecule_class import graphize\n",
    "from cclib.io import ccread\n",
    "import numpy as np\n",
    "import os\n",
    "\n",
    "# os.chdir('Resources/tri')\n",
    "# data = ccread('TSCoDe_checkpoint_May_28_15-59.xyz')\n",
    "# ids = [31, 35, 32]\n",
    "# constraints = np.array([[6, 66], [56, 71], [23, 34]])\n",
    "# c_tuple = ((6, 66), (56, 71), (23, 34))\n",
    "\n",
    "os.chdir('Resources/antara')\n",
    "data = ccread('TSCoDe_TSs_guesses_May_31_16-56.xyz')\n",
    "ids = [8, 8]\n",
    "constraints = np.array([[0, 10], [2, 8]])\n",
    "c_tuple = ((0, 10), (2, 8))\n",
    "\n",
    "graph = graphize(data.atomcoords[0], data.atomnos)"
   ]
  },
  {
   "cell_type": "code",
   "execution_count": 2,
   "metadata": {},
   "outputs": [],
   "source": [
    "edges = list(graph.edges)\n",
    "for a, b in list(graph.edges):\n",
    "    if a == b:\n",
    "        edges.remove((a,b))\n",
    "    elif (a, b) in c_tuple:\n",
    "        edges.remove((a,b))\n",
    "# edges"
   ]
  },
  {
   "cell_type": "code",
   "execution_count": 3,
   "metadata": {},
   "outputs": [
    {
     "output_type": "execute_result",
     "data": {
      "text/plain": [
       "array([[0, 1, 1, 0, 0, 0, 0, 0, 0, 0, 0, 0, 0, 0, 0, 0],\n",
       "       [1, 0, 0, 0, 0, 0, 0, 0, 0, 0, 0, 0, 0, 0, 0, 0],\n",
       "       [1, 0, 0, 1, 1, 0, 0, 0, 0, 0, 0, 0, 0, 0, 0, 0],\n",
       "       [0, 0, 1, 0, 0, 0, 0, 0, 0, 0, 0, 0, 0, 0, 0, 0],\n",
       "       [0, 0, 1, 0, 0, 1, 1, 1, 0, 0, 0, 0, 0, 0, 0, 0],\n",
       "       [0, 0, 0, 0, 1, 0, 0, 0, 0, 0, 0, 0, 0, 0, 0, 0],\n",
       "       [0, 0, 0, 0, 1, 0, 0, 0, 0, 0, 0, 0, 0, 0, 0, 0],\n",
       "       [0, 0, 0, 0, 1, 0, 0, 0, 0, 0, 0, 0, 0, 0, 0, 0],\n",
       "       [0, 0, 0, 0, 0, 0, 0, 0, 0, 1, 1, 0, 0, 0, 0, 0],\n",
       "       [0, 0, 0, 0, 0, 0, 0, 0, 1, 0, 0, 0, 0, 0, 0, 0],\n",
       "       [0, 0, 0, 0, 0, 0, 0, 0, 1, 0, 0, 1, 1, 0, 0, 0],\n",
       "       [0, 0, 0, 0, 0, 0, 0, 0, 0, 0, 1, 0, 0, 0, 0, 0],\n",
       "       [0, 0, 0, 0, 0, 0, 0, 0, 0, 0, 1, 0, 0, 1, 1, 1],\n",
       "       [0, 0, 0, 0, 0, 0, 0, 0, 0, 0, 0, 0, 1, 0, 0, 0],\n",
       "       [0, 0, 0, 0, 0, 0, 0, 0, 0, 0, 0, 0, 1, 0, 0, 0],\n",
       "       [0, 0, 0, 0, 0, 0, 0, 0, 0, 0, 0, 0, 1, 0, 0, 0]])"
      ]
     },
     "metadata": {},
     "execution_count": 3
    }
   ],
   "source": [
    "adj_mat = np.zeros((len(data.atomnos), len(data.atomnos)), dtype=int)\n",
    "for x in range(len(adj_mat)):\n",
    "    for y in range(len(adj_mat)):\n",
    "        if tuple(sorted([x, y])) in edges:\n",
    "            adj_mat[x, y] = 1\n",
    "adj_mat"
   ]
  },
  {
   "cell_type": "code",
   "execution_count": 4,
   "metadata": {},
   "outputs": [
    {
     "output_type": "stream",
     "name": "stdout",
     "text": [
      "kept 12/24\nWall time: 8.2 s\n"
     ]
    }
   ],
   "source": [
    "%%time\n",
    "mask = prune_conformers_symmetry(data.atomcoords, data.atomnos, adj_mat, k=1, max_rmsd=0.5)[1]\n",
    "print(f'kept {len([i for i in mask if i == True])}/{len(mask)}')"
   ]
  },
  {
   "source": [
    "This thing is tremendously slow. Maybe partitioning the matrix?"
   ],
   "cell_type": "markdown",
   "metadata": {}
  },
  {
   "cell_type": "code",
   "execution_count": 5,
   "metadata": {},
   "outputs": [
    {
     "output_type": "stream",
     "name": "stdout",
     "text": [
      "kept 12/24\nWall time: 13.2 s\n"
     ]
    }
   ],
   "source": [
    "%%time\n",
    "structures = data.atomcoords[:]\n",
    "for k in (5000, 2000, 1000, 500, 200, 100, 50, 20, 10, 5, 2, 1):\n",
    "    if 5*k < len(structures):\n",
    "        structures, mask = prune_conformers_symmetry(structures, data.atomnos, adj_mat, max_rmsd=0.5, k=k)\n",
    "\n",
    "print(f'kept {len([i for i in mask if i == True])}/{len(data.atomcoords)}')"
   ]
  },
  {
   "cell_type": "code",
   "execution_count": 7,
   "metadata": {},
   "outputs": [
    {
     "output_type": "stream",
     "name": "stdout",
     "text": [
      "kept 24/24\nWall time: 55 ms\n"
     ]
    }
   ],
   "source": [
    "%%time\n",
    "structures = data.atomcoords[:]\n",
    "for k in (5000, 2000, 1000, 500, 200, 100, 50, 20, 10, 5, 2, 1):\n",
    "    if 5*k < len(structures):\n",
    "        structures, mask = prune_conformers(structures, max_rmsd=0.5, k=k)\n",
    "\n",
    "print(f'kept {len([i for i in mask if i == True])}/{len(data.atomcoords)}')"
   ]
  },
  {
   "cell_type": "code",
   "execution_count": 8,
   "metadata": {},
   "outputs": [
    {
     "output_type": "execute_result",
     "data": {
      "text/plain": [
       "240.0"
      ]
     },
     "metadata": {},
     "execution_count": 8
    }
   ],
   "source": [
    "13.2/(55/1000)"
   ]
  }
 ]
}