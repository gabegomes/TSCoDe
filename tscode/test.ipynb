{
 "cells": [
  {
   "cell_type": "markdown",
   "metadata": {},
   "source": []
  },
  {
   "cell_type": "code",
   "execution_count": null,
   "metadata": {},
   "outputs": [],
   "source": [
    "import numpy as np\n",
    "from numba import njit\n",
    "import numba as nb"
   ]
  },
  {
   "cell_type": "code",
   "execution_count": null,
   "metadata": {},
   "outputs": [],
   "source": [
    "@njit\n",
    "def internal_mean(arr):\n",
    "    '''\n",
    "    same as np.mean(arr, axis=1), but jitted\n",
    "    since numba does not support kwargs in np.mean\n",
    "    '''\n",
    "    assert len(arr.shape) == 3\n",
    "    assert arr.shape[1] == 2\n",
    "\n",
    "    out = np.zeros((arr.shape[0], arr.shape[2]), dtype=arr.dtype)\n",
    "    for i, (v1, v2) in enumerate(arr):\n",
    "        out[i] = (v1 + v2) / 2\n",
    "\n",
    "    return out\n"
   ]
  },
  {
   "cell_type": "code",
   "execution_count": null,
   "metadata": {},
   "outputs": [],
   "source": [
    "from rmsd import kabsch_rotate\n",
    "from python_functions import rmsd_and_max\n",
    "from algebra import internal_mean, vec_mean\n",
    "\n",
    "@njit\n",
    "def rmsd_and_max_jit(P, Q):\n",
    "    '''\n",
    "    ** ADAPTED FROM THE PYTHON RMSD LIBRARY **\n",
    "\n",
    "    Rotate matrix P unto Q using Kabsch algorithm and calculate the RMSD.\n",
    "    Returns RMSD and max deviation.\n",
    "\n",
    "    Parameters\n",
    "    ----------\n",
    "    P : array\n",
    "        (N,D) matrix, where N is points and D is dimension.\n",
    "    Q : array\n",
    "        (N,D) matrix, where N is points and D is dimension.\n",
    "\n",
    "    Returns\n",
    "    -------\n",
    "    rmsd : float\n",
    "        root-mean squared deviation\n",
    "    max_delta : float\n",
    "        maximum deviation value\n",
    "    '''\n",
    "\n",
    "    Q -= vec_mean(Q)\n",
    "    P -= vec_mean(P)\n",
    "    P = kabsch_rotate_jit(P, Q)\n",
    "\n",
    "    diff = Q - P\n",
    "    rmsd = np.sqrt((diff * diff).sum() / len(diff))\n",
    "    max_delta = np.max(internal_mean(diff))\n",
    "\n",
    "    return rmsd, max_delta\n",
    "\n",
    "@njit\n",
    "def kabsch_rotate_jit(P, Q):\n",
    "    # Computation of the covariance matrix\n",
    "    C = np.dot(np.transpose(P), Q)\n",
    "\n",
    "    V, S, W = np.linalg.svd(C)\n",
    "    d = (np.linalg.det(V) * np.linalg.det(W)) < 0.0\n",
    "\n",
    "    if d:\n",
    "        S[-1] = -S[-1]\n",
    "        V[:, -1] = -V[:, -1]\n",
    "\n",
    "    # Create Rotation matrix U\n",
    "    U = np.dot(V, W)\n",
    "\n",
    "    return np.dot(P, U)\n"
   ]
  },
  {
   "cell_type": "code",
   "execution_count": null,
   "metadata": {},
   "outputs": [],
   "source": [
    "from algebra import internal_mean\n",
    "\n",
    "x = np.random.rand(10, 100, 3)\n",
    "a = np.mean(x, axis=1)\n",
    "b = internal_mean(x)\n",
    "np.allclose(a,b)"
   ]
  },
  {
   "cell_type": "code",
   "execution_count": null,
   "metadata": {},
   "outputs": [],
   "source": [
    "from cclib.io import ccread\n",
    "data = ccread(r'C:\\Users\\ehrma\\Desktop\\cool_structs\\Ph2PAla\\Ph2PAla_confs_opt.xyz')\n",
    "data.atomcoords.shape"
   ]
  },
  {
   "cell_type": "code",
   "execution_count": null,
   "metadata": {},
   "outputs": [],
   "source": [
    "r = [(i,rmsd_and_max(data.atomcoords[0], data.atomcoords[i])) for i in range(len(data.atomcoords))]\n",
    "r"
   ]
  },
  {
   "cell_type": "code",
   "execution_count": null,
   "metadata": {},
   "outputs": [],
   "source": [
    "print(f'keep {len([i for i in r if i[1][0] < 2])}/{len(r)}')"
   ]
  },
  {
   "cell_type": "code",
   "execution_count": null,
   "metadata": {},
   "outputs": [],
   "source": [
    "from algebra import get_inertia_moments\n",
    "from pt import pt\n",
    "masses = np.array([pt[i].mass for i in data.atomnos])\n",
    "r = [(i,get_inertia_moments(data.atomcoords[i], masses)) for i in range(len(data.atomcoords))]\n",
    "r"
   ]
  },
  {
   "cell_type": "code",
   "execution_count": null,
   "metadata": {},
   "outputs": [],
   "source": [
    "[(i,np.max(np.abs(a[1]-r[0][1]))) for i,a in enumerate(r)]"
   ]
  },
  {
   "cell_type": "code",
   "execution_count": null,
   "metadata": {},
   "outputs": [],
   "source": [
    "from algebra import center_of_mass\n",
    "def MOI(coords, masses):\n",
    "    coords -= center_of_mass(coords, masses)\n",
    "    return np.sum([masses[i]*np.linalg.norm(coords[i])**2 for i in range(len(coords))])\n",
    "\n",
    "MOI(data.atomcoords[0], masses)"
   ]
  },
  {
   "cell_type": "code",
   "execution_count": null,
   "metadata": {},
   "outputs": [],
   "source": [
    "r = [(i,MOI(data.atomcoords[i], masses)) for i in range(len(data.atomcoords))]\n",
    "[(i,np.max(np.abs(a[1]-r[0][1]))) for i,a in enumerate(r)]"
   ]
  },
  {
   "cell_type": "code",
   "execution_count": null,
   "metadata": {},
   "outputs": [],
   "source": [
    "import networkx as nx\n",
    "edges = [(7, 7), (7, 9), (7, 13), (7, 6), (9, 9), (9, 10), (9, 31), (10, 10), (10, 11), (10, 32), (11, 11), (11, 12), (11, 33), (12, 12), (12, 13), (12, 34), (13, 13), (13, 35), (31, 31), (32, 32), (33, 33), (34, 34), (35, 35)]\n",
    "G = nx.Graph(edges)\n",
    "nx.draw(G, with_labels=True)"
   ]
  },
  {
   "cell_type": "code",
   "execution_count": null,
   "metadata": {},
   "outputs": [],
   "source": [
    "d = {}\n",
    "for i in (31,32,33,34,35):\n",
    "    d[i] = 1\n",
    "for i in (7,9,10,11,12,13):\n",
    "    d[i] = 6\n",
    "d[6] = 15\n",
    "d[345] = 45\n",
    "nx.set_node_attributes(G, d, 'atomnos')\n",
    "# G.nodes[6]['atomnos']\n",
    "nx.get_node_attributes(G, 'atomnos')"
   ]
  },
  {
   "cell_type": "code",
   "execution_count": null,
   "metadata": {},
   "outputs": [],
   "source": [
    "import os\n",
    "os.chdir(r'C:\\Users\\ehrma\\Desktop\\Coding\\TSCoDe')\n",
    "from graph_manipulations import get_sp_n\n",
    "for node in G.nodes:\n",
    "    print(f'{node}: sp{get_sp_n(node, G)}')"
   ]
  },
  {
   "cell_type": "markdown",
   "metadata": {},
   "source": [
    "## Vibrations"
   ]
  },
  {
   "cell_type": "code",
   "execution_count": 1,
   "metadata": {},
   "outputs": [
    {
     "data": {
      "text/plain": [
       "(4, 36, 3)"
      ]
     },
     "execution_count": 1,
     "metadata": {},
     "output_type": "execute_result"
    }
   ],
   "source": [
    "from tscode.ase_manipulations import ase_vib\n",
    "from cclib.io import ccread\n",
    "import numpy as np\n",
    "data = ccread(r'C:\\Users\\Nik\\Desktop\\maleimide\\TSCoDe_TS_guesses_mal.xyz')\n",
    "data.atomcoords.shape"
   ]
  },
  {
   "cell_type": "code",
   "execution_count": 5,
   "metadata": {},
   "outputs": [
    {
     "ename": "RuntimeError",
     "evalue": "asyncio.run() cannot be called from a running event loop",
     "output_type": "error",
     "traceback": [
      "\u001b[1;31m---------------------------------------------------------------------------\u001b[0m",
      "\u001b[1;31mRuntimeError\u001b[0m                              Traceback (most recent call last)",
      "\u001b[1;32m~\\AppData\\Local\\Temp/ipykernel_13532/1923958136.py\u001b[0m in \u001b[0;36m<module>\u001b[1;34m\u001b[0m\n\u001b[0;32m     16\u001b[0m \u001b[0mt\u001b[0m \u001b[1;33m=\u001b[0m \u001b[0mtime\u001b[0m\u001b[1;33m.\u001b[0m\u001b[0mperf_counter\u001b[0m\u001b[1;33m(\u001b[0m\u001b[1;33m)\u001b[0m\u001b[1;33m\u001b[0m\u001b[1;33m\u001b[0m\u001b[0m\n\u001b[0;32m     17\u001b[0m \u001b[1;31m# main()\u001b[0m\u001b[1;33m\u001b[0m\u001b[1;33m\u001b[0m\u001b[1;33m\u001b[0m\u001b[0m\n\u001b[1;32m---> 18\u001b[1;33m \u001b[0masyncio\u001b[0m\u001b[1;33m.\u001b[0m\u001b[0mrun\u001b[0m\u001b[1;33m(\u001b[0m\u001b[0mmain\u001b[0m\u001b[1;33m(\u001b[0m\u001b[1;33m)\u001b[0m\u001b[1;33m)\u001b[0m\u001b[1;33m\u001b[0m\u001b[1;33m\u001b[0m\u001b[0m\n\u001b[0m\u001b[0;32m     19\u001b[0m \u001b[0mprint\u001b[0m\u001b[1;33m(\u001b[0m\u001b[0mtime_to_string\u001b[0m\u001b[1;33m(\u001b[0m\u001b[0mtime\u001b[0m\u001b[1;33m.\u001b[0m\u001b[0mperf_counter\u001b[0m\u001b[1;33m(\u001b[0m\u001b[1;33m)\u001b[0m\u001b[1;33m-\u001b[0m\u001b[0mt\u001b[0m\u001b[1;33m)\u001b[0m\u001b[1;33m)\u001b[0m\u001b[1;33m\u001b[0m\u001b[1;33m\u001b[0m\u001b[0m\n",
      "\u001b[1;32m~\\anaconda3\\envs\\tscode\\lib\\asyncio\\runners.py\u001b[0m in \u001b[0;36mrun\u001b[1;34m(main, debug)\u001b[0m\n\u001b[0;32m     31\u001b[0m     \"\"\"\n\u001b[0;32m     32\u001b[0m     \u001b[1;32mif\u001b[0m \u001b[0mevents\u001b[0m\u001b[1;33m.\u001b[0m\u001b[0m_get_running_loop\u001b[0m\u001b[1;33m(\u001b[0m\u001b[1;33m)\u001b[0m \u001b[1;32mis\u001b[0m \u001b[1;32mnot\u001b[0m \u001b[1;32mNone\u001b[0m\u001b[1;33m:\u001b[0m\u001b[1;33m\u001b[0m\u001b[1;33m\u001b[0m\u001b[0m\n\u001b[1;32m---> 33\u001b[1;33m         raise RuntimeError(\n\u001b[0m\u001b[0;32m     34\u001b[0m             \"asyncio.run() cannot be called from a running event loop\")\n\u001b[0;32m     35\u001b[0m \u001b[1;33m\u001b[0m\u001b[0m\n",
      "\u001b[1;31mRuntimeError\u001b[0m: asyncio.run() cannot be called from a running event loop"
     ]
    }
   ],
   "source": [
    "import asyncio, time\n",
    "from tscode.utils import time_to_string\n",
    "\n",
    "embedder = ('MOPAC', 'PM6', None, 'thf') # calculator, method, procs, solvent\n",
    "# for i, coords in enumerate(data.atomcoords):\n",
    "#     freqs = ase_vib(embedder, coords, data.atomnos, title=f'temp{i}', logfunction=print)\n",
    "\n",
    "\n",
    "async def main():\n",
    "\n",
    "    # freqs = await asyncio.gather(*[asyncio.sleep(0.2) for i, coords in enumerate(data.atomcoords)])\n",
    "    negatives = await asyncio.gather(*[ase_vib(embedder, coords, data.atomnos, title=f'temp{i}', logfunction=print)[1]\n",
    "                                       for i, coords in enumerate(data.atomcoords)])\n",
    "    # print(i, np.count_nonzero(freqs.imag > 1e-3), 'negative freqs')\n",
    "\n",
    "    return negatives\n",
    "\n",
    "t = time.perf_counter()\n",
    "# main()\n",
    "asyncio.run(main())\n",
    "print(time_to_string(time.perf_counter()-t))"
   ]
  },
  {
   "cell_type": "markdown",
   "metadata": {},
   "source": [
    "Check enantiomer pruning"
   ]
  },
  {
   "cell_type": "code",
   "execution_count": 3,
   "metadata": {},
   "outputs": [
    {
     "data": {
      "text/plain": [
       "(34, 141, 3)"
      ]
     },
     "execution_count": 3,
     "metadata": {},
     "output_type": "execute_result"
    }
   ],
   "source": [
    "from python_functions import torsion_comp_check\n",
    "from utils import read_xyz\n",
    "import numpy as np"
   ]
  },
  {
   "cell_type": "code",
   "execution_count": 5,
   "metadata": {},
   "outputs": [
    {
     "data": {
      "text/plain": [
       "(2, 141, 3)"
      ]
     },
     "execution_count": 5,
     "metadata": {},
     "output_type": "execute_result"
    }
   ],
   "source": [
    "data = read_xyz(r'C:\\Users\\Nik\\Desktop\\P2\\binding_mode\\csearch_bind\\poses!.xyz')\n",
    "data.atomcoords.shape"
   ]
  },
  {
   "cell_type": "code",
   "execution_count": 9,
   "metadata": {},
   "outputs": [],
   "source": [
    "from algebra import get_inertia_moments\n",
    "from tscode.pt import pt\n",
    "\n",
    "heavy_structures = np.array([structure[data.atomnos != 1] for structure in data.atomcoords])\n",
    "heavy_masses = np.array([pt[a].mass for a in data.atomnos if a != 1])\n",
    "\n",
    "\n",
    "a = get_inertia_moments(heavy_structures[0], heavy_masses)\n",
    "b = get_inertia_moments(heavy_structures[1], heavy_masses)"
   ]
  },
  {
   "cell_type": "code",
   "execution_count": 12,
   "metadata": {},
   "outputs": [
    {
     "data": {
      "text/plain": [
       "array([4.04336112, 0.33132288, 2.0956229 ])"
      ]
     },
     "execution_count": 12,
     "metadata": {},
     "output_type": "execute_result"
    }
   ],
   "source": [
    "np.abs(a-b)/a*100"
   ]
  },
  {
   "cell_type": "code",
   "execution_count": 13,
   "metadata": {},
   "outputs": [
    {
     "data": {
      "text/plain": [
       "[]"
      ]
     },
     "execution_count": 13,
     "metadata": {},
     "output_type": "execute_result"
    }
   ],
   "source": [
    "from tscode.algebra import get_moi_similarity_matches\n",
    "\n",
    "get_moi_similarity_matches(heavy_structures, heavy_masses)"
   ]
  },
  {
   "cell_type": "code",
   "execution_count": 15,
   "metadata": {},
   "outputs": [
    {
     "data": {
      "text/plain": [
       "array([3.89640628, 0.17445072, 1.81526534])"
      ]
     },
     "execution_count": 15,
     "metadata": {},
     "output_type": "execute_result"
    }
   ],
   "source": [
    "masses = np.array([pt[a].mass for a in data.atomnos])\n",
    "\n",
    "\n",
    "a = get_inertia_moments(data.atomcoords[0], masses)\n",
    "b = get_inertia_moments(data.atomcoords[1], masses)\n",
    "np.abs(a-b)/a*100"
   ]
  },
  {
   "cell_type": "markdown",
   "metadata": {},
   "source": [
    "## Cyclical embed benchmark"
   ]
  },
  {
   "cell_type": "code",
   "execution_count": 3,
   "metadata": {},
   "outputs": [
    {
     "name": "stdout",
     "output_type": "stream",
     "text": [
      "\n",
      "*************************************************************\n",
      "*      TSCoDe: Transition State Conformational Docker       *\n",
      "*************************************************************\n",
      "*                Version 0.0.9 - Public Beta                *\n",
      "*       Nicolo' Tampellini - nicolo.tampellini@yale.edu     *\n",
      "*************************************************************\n",
      "\n",
      "--> Atom pairings imposed are 1: [[39, 140]] (Cumulative index numbering)\n",
      "\n",
      "--> Parsed keywords are:\n",
      "    LEVEL=GFN-FF RIGID KCAL=10 RMSD=0.3 DIST(A=1.8) CONFS=100\n",
      "\n",
      "--> Performing conformational search on R_hemiacetal.xyz\n",
      "Torsion list: (indexes : n-fold)\n",
      "  - (2, 3, 27, 9)         : 2-fold\n",
      "  - (3, 4, 19, 20)        : 4-fold\n",
      "  - (12, 10, 28, 30)      : 3-fold\n",
      "  - (12, 10, 29, 34)      : 3-fold\n",
      "\n",
      "--> Clustered CSearch - mode 1 (diversity) - 4 torsions in 1 group - [4]\n",
      "\n",
      "> Group 1/1 - 4 bonds, [2, 4, 3, 3] n-folds, 1 starting point = 72 conformers\n",
      "  Selected the most diverse 72 conformers, corresponding\n",
      "  to about 100.0 % of the total conformational space (CSearch time 0.128 s)\n",
      "                                       \n",
      "\n",
      "--> Performing conformational search on P2.xyz (preserving current hydrogen bonds)\n",
      "Preserving 1 hydrogen bonds - [(83, 6)]\n",
      "Torsion list: (indexes : n-fold)\n",
      "  - (1, 0, 47, 48)        : 3-fold\n",
      "  - (5, 35, 7, 15)        : 3-fold\n",
      "  - (5, 35, 38, 39)       : 3-fold\n",
      "  - (6, 5, 35, 7)         : 3-fold\n",
      "  - (13, 37, 22, 23)      : 3-fold\n",
      "  - (23, 22, 24, 25)      : 3-fold\n",
      "  - (24, 22, 23, 31)      : 3-fold\n",
      "  - (35, 38, 39, 40)      : 3-fold\n",
      "\n",
      "--> Clustered CSearch - mode 1 (diversity) - 8 torsions in 1 group - [8]\n",
      "\n",
      "> Group 1/1 - 8 bonds, [3, 3, 3, 3, 3, 3, 3, 3] n-folds, 1 starting point = 6561 conformers\n",
      "  Selected the most diverse 100 conformers, corresponding\n",
      "  to about 1.52 % of the total conformational space (CSearch time 42.353 s)\n",
      "                                       \n",
      "\n",
      "--> Performing conformational search on P2.xyz\n",
      "Torsion list: (indexes : n-fold)\n",
      "  - (1, 0, 47, 48)        : 3-fold\n",
      "  - (1, 2, 5, 6)          : 2-fold\n",
      "  - (2, 3, 8, 9)          : 3-fold\n",
      "  - (2, 5, 35, 7)         : 3-fold\n",
      "  - (5, 35, 7, 15)        : 3-fold\n",
      "  - (5, 35, 38, 39)       : 3-fold\n",
      "  - (8, 9, 11, 12)        : 3-fold\n",
      "  - (9, 11, 13, 36)       : 3-fold\n",
      "  - (13, 37, 22, 23)      : 3-fold\n",
      "  - (23, 22, 24, 25)      : 3-fold\n",
      "  - (24, 22, 23, 31)      : 3-fold\n",
      "  - (35, 38, 39, 40)      : 3-fold\n",
      "\n",
      "--> Clustered CSearch - mode 1 (diversity) - 12 torsions in 5 groups - [1, 1, 2, 3, 5]\n",
      "\n",
      "> Group 1/5 - 1 bonds, [3] n-folds, 1 starting point = 3 conformers\n",
      "  Kept the most diverse 3 starting points for next rotation cluster\n",
      "\n",
      "> Group 2/5 - 1 bonds, [3] n-folds, 3 starting points = 9 conformers\n",
      "  Kept the most diverse 9 starting points for next rotation cluster\n",
      "\n",
      "> Group 3/5 - 2 bonds, [3, 3] n-folds, 9 starting points = 81 conformers\n",
      "  Kept the most diverse 81 starting points for next rotation cluster\n",
      "\n",
      "> Group 4/5 - 3 bonds, [3, 3, 3] n-folds, 81 starting points = 2187 conformers\n",
      "  Kept the most diverse 100 starting points for next rotation cluster\n",
      "\n",
      "> Group 5/5 - 5 bonds, [2, 3, 3, 3, 3] n-folds, 100 starting points = 16200 conformers\n",
      "  Selected the most diverse 100 conformers, corresponding\n",
      "  to about 0.03 % of the total conformational space (CSearch time 1 m 42.118 s)\n",
      "                                       \n",
      "\n"
     ]
    },
    {
     "ename": "ValueError",
     "evalue": "'P2.xyz' is not in list",
     "output_type": "error",
     "traceback": [
      "\u001b[1;31m---------------------------------------------------------------------------\u001b[0m",
      "\u001b[1;31mValueError\u001b[0m                                Traceback (most recent call last)",
      "\u001b[1;32m~\\AppData\\Local\\Temp/ipykernel_10040/1498336193.py\u001b[0m in \u001b[0;36m<module>\u001b[1;34m\u001b[0m\n\u001b[0;32m      5\u001b[0m \u001b[0mfilename\u001b[0m \u001b[1;33m=\u001b[0m \u001b[1;34mr'C:\\Users\\Nik\\Desktop\\P2\\binding_mode\\csearch_bind\\monobound\\csearch.txt'\u001b[0m\u001b[1;33m\u001b[0m\u001b[1;33m\u001b[0m\u001b[0m\n\u001b[0;32m      6\u001b[0m \u001b[1;33m\u001b[0m\u001b[0m\n\u001b[1;32m----> 7\u001b[1;33m \u001b[0membedder\u001b[0m \u001b[1;33m=\u001b[0m \u001b[0mEmbedder\u001b[0m\u001b[1;33m(\u001b[0m\u001b[0mfilename\u001b[0m\u001b[1;33m,\u001b[0m \u001b[0mstamp\u001b[0m\u001b[1;33m=\u001b[0m\u001b[1;34m'benchmark'\u001b[0m\u001b[1;33m)\u001b[0m\u001b[1;33m\u001b[0m\u001b[1;33m\u001b[0m\u001b[0m\n\u001b[0m\u001b[0;32m      8\u001b[0m \u001b[1;31m# initialize embedder from input file\u001b[0m\u001b[1;33m\u001b[0m\u001b[1;33m\u001b[0m\u001b[1;33m\u001b[0m\u001b[0m\n",
      "\u001b[1;32mc:\\users\\nik\\desktop\\coding\\tscode\\tscode\\embedder.py\u001b[0m in \u001b[0;36m__init__\u001b[1;34m(self, filename, stamp)\u001b[0m\n\u001b[0;32m    106\u001b[0m         \u001b[1;31m# initialize default or specified calculator\u001b[0m\u001b[1;33m\u001b[0m\u001b[1;33m\u001b[0m\u001b[1;33m\u001b[0m\u001b[0m\n\u001b[0;32m    107\u001b[0m \u001b[1;33m\u001b[0m\u001b[0m\n\u001b[1;32m--> 108\u001b[1;33m         \u001b[0mself\u001b[0m\u001b[1;33m.\u001b[0m\u001b[0m_apply_operators\u001b[0m\u001b[1;33m(\u001b[0m\u001b[1;33m)\u001b[0m\u001b[1;33m\u001b[0m\u001b[1;33m\u001b[0m\u001b[0m\n\u001b[0m\u001b[0;32m    109\u001b[0m         \u001b[1;31m# execute the operators, replacing the self.objects molecule\u001b[0m\u001b[1;33m\u001b[0m\u001b[1;33m\u001b[0m\u001b[1;33m\u001b[0m\u001b[0m\n\u001b[0;32m    110\u001b[0m \u001b[1;33m\u001b[0m\u001b[0m\n",
      "\u001b[1;32mc:\\users\\nik\\desktop\\coding\\tscode\\tscode\\embedder.py\u001b[0m in \u001b[0;36m_apply_operators\u001b[1;34m(self)\u001b[0m\n\u001b[0;32m    671\u001b[0m                 \u001b[0mnames\u001b[0m \u001b[1;33m=\u001b[0m \u001b[1;33m[\u001b[0m\u001b[0mmol\u001b[0m\u001b[1;33m.\u001b[0m\u001b[0mname\u001b[0m \u001b[1;32mfor\u001b[0m \u001b[0mmol\u001b[0m \u001b[1;32min\u001b[0m \u001b[0mself\u001b[0m\u001b[1;33m.\u001b[0m\u001b[0mobjects\u001b[0m\u001b[1;33m]\u001b[0m\u001b[1;33m\u001b[0m\u001b[1;33m\u001b[0m\u001b[0m\n\u001b[0;32m    672\u001b[0m                 \u001b[0mfilename\u001b[0m \u001b[1;33m=\u001b[0m \u001b[0mself\u001b[0m\u001b[1;33m.\u001b[0m\u001b[0m_extract_filename\u001b[0m\u001b[1;33m(\u001b[0m\u001b[0minput_string\u001b[0m\u001b[1;33m)\u001b[0m\u001b[1;33m\u001b[0m\u001b[1;33m\u001b[0m\u001b[0m\n\u001b[1;32m--> 673\u001b[1;33m                 \u001b[0mindex\u001b[0m \u001b[1;33m=\u001b[0m \u001b[0mnames\u001b[0m\u001b[1;33m.\u001b[0m\u001b[0mindex\u001b[0m\u001b[1;33m(\u001b[0m\u001b[0mfilename\u001b[0m\u001b[1;33m)\u001b[0m\u001b[1;33m\u001b[0m\u001b[1;33m\u001b[0m\u001b[0m\n\u001b[0m\u001b[0;32m    674\u001b[0m                 \u001b[0mreactive_indexes\u001b[0m \u001b[1;33m=\u001b[0m \u001b[0mself\u001b[0m\u001b[1;33m.\u001b[0m\u001b[0mobjects\u001b[0m\u001b[1;33m[\u001b[0m\u001b[0mindex\u001b[0m\u001b[1;33m]\u001b[0m\u001b[1;33m.\u001b[0m\u001b[0mreactive_indexes\u001b[0m\u001b[1;33m\u001b[0m\u001b[1;33m\u001b[0m\u001b[0m\n\u001b[0;32m    675\u001b[0m \u001b[1;33m\u001b[0m\u001b[0m\n",
      "\u001b[1;31mValueError\u001b[0m: 'P2.xyz' is not in list"
     ]
    }
   ],
   "source": [
    "from tscode.embedder import Embedder\n",
    "from tscode.embeds import cyclical_embed, _fast_bimol_rigid_cyclical_embed\n",
    "import os\n",
    "\n",
    "filename = r'C:\\Users\\Nik\\Desktop\\P2\\binding_mode\\csearch_bind\\monobound\\csearch.txt'\n",
    "\n",
    "embedder = Embedder(filename, stamp='benchmark')\n",
    "# initialize embedder from input file"
   ]
  },
  {
   "cell_type": "code",
   "execution_count": null,
   "metadata": {},
   "outputs": [
    {
     "name": "stdout",
     "output_type": "stream",
     "text": [
      "\n",
      "--> Performing cyclical embed (14400000 candidates)\n",
      "Embedding structures  |--------------------------------------------------| 0.0% \r"
     ]
    },
    {
     "ename": "KeyboardInterrupt",
     "evalue": "",
     "output_type": "error",
     "traceback": [
      "\u001b[1;31m---------------------------------------------------------------------------\u001b[0m",
      "\u001b[1;31mKeyboardInterrupt\u001b[0m                         Traceback (most recent call last)",
      "\u001b[1;32m<timed eval>\u001b[0m in \u001b[0;36m<module>\u001b[1;34m\u001b[0m\n",
      "\u001b[1;32mc:\\users\\nik\\desktop\\coding\\tscode\\tscode\\embeds.py\u001b[0m in \u001b[0;36mcyclical_embed\u001b[1;34m(embedder)\u001b[0m\n\u001b[0;32m    109\u001b[0m \u001b[1;33m\u001b[0m\u001b[0m\n\u001b[0;32m    110\u001b[0m     \u001b[1;32mif\u001b[0m \u001b[0mlen\u001b[0m\u001b[1;33m(\u001b[0m\u001b[0membedder\u001b[0m\u001b[1;33m.\u001b[0m\u001b[0mobjects\u001b[0m\u001b[1;33m)\u001b[0m \u001b[1;33m==\u001b[0m \u001b[1;36m2\u001b[0m \u001b[1;32mand\u001b[0m \u001b[0membedder\u001b[0m\u001b[1;33m.\u001b[0m\u001b[0moptions\u001b[0m\u001b[1;33m.\u001b[0m\u001b[0mrigid\u001b[0m\u001b[1;33m:\u001b[0m\u001b[1;33m\u001b[0m\u001b[1;33m\u001b[0m\u001b[0m\n\u001b[1;32m--> 111\u001b[1;33m         \u001b[1;32mreturn\u001b[0m \u001b[0m_fast_bimol_rigid_cyclical_embed\u001b[0m\u001b[1;33m(\u001b[0m\u001b[0membedder\u001b[0m\u001b[1;33m)\u001b[0m\u001b[1;33m\u001b[0m\u001b[1;33m\u001b[0m\u001b[0m\n\u001b[0m\u001b[0;32m    112\u001b[0m         \u001b[1;31m# shortened, simplified version that is somewhat faster\u001b[0m\u001b[1;33m\u001b[0m\u001b[1;33m\u001b[0m\u001b[1;33m\u001b[0m\u001b[0m\n\u001b[0;32m    113\u001b[0m \u001b[1;33m\u001b[0m\u001b[0m\n",
      "\u001b[1;32mc:\\users\\nik\\desktop\\coding\\tscode\\tscode\\embeds.py\u001b[0m in \u001b[0;36m_fast_bimol_rigid_cyclical_embed\u001b[1;34m(embedder)\u001b[0m\n\u001b[0;32m    697\u001b[0m \u001b[1;33m\u001b[0m\u001b[0m\n\u001b[0;32m    698\u001b[0m                         \u001b[0membedded_structure\u001b[0m \u001b[1;33m=\u001b[0m \u001b[0mget_embed\u001b[0m\u001b[1;33m(\u001b[0m\u001b[0membedder\u001b[0m\u001b[1;33m.\u001b[0m\u001b[0mobjects\u001b[0m\u001b[1;33m,\u001b[0m \u001b[0mconf_ids\u001b[0m\u001b[1;33m)\u001b[0m\u001b[1;33m\u001b[0m\u001b[1;33m\u001b[0m\u001b[0m\n\u001b[1;32m--> 699\u001b[1;33m                         \u001b[1;32mif\u001b[0m \u001b[0mcompenetration_check\u001b[0m\u001b[1;33m(\u001b[0m\u001b[0membedded_structure\u001b[0m\u001b[1;33m,\u001b[0m \u001b[0mids\u001b[0m\u001b[1;33m=\u001b[0m\u001b[0membedder\u001b[0m\u001b[1;33m.\u001b[0m\u001b[0mids\u001b[0m\u001b[1;33m,\u001b[0m \u001b[0mthresh\u001b[0m\u001b[1;33m=\u001b[0m\u001b[0membedder\u001b[0m\u001b[1;33m.\u001b[0m\u001b[0moptions\u001b[0m\u001b[1;33m.\u001b[0m\u001b[0mclash_thresh\u001b[0m\u001b[1;33m)\u001b[0m\u001b[1;33m:\u001b[0m\u001b[1;33m\u001b[0m\u001b[1;33m\u001b[0m\u001b[0m\n\u001b[0m\u001b[0;32m    700\u001b[0m \u001b[1;33m\u001b[0m\u001b[0m\n\u001b[0;32m    701\u001b[0m                             \u001b[0mposes\u001b[0m\u001b[1;33m.\u001b[0m\u001b[0mappend\u001b[0m\u001b[1;33m(\u001b[0m\u001b[0membedded_structure\u001b[0m\u001b[1;33m)\u001b[0m\u001b[1;33m\u001b[0m\u001b[1;33m\u001b[0m\u001b[0m\n",
      "\u001b[1;32m~\\anaconda3\\envs\\tscode\\lib\\site-packages\\numba\\core\\dispatcher.py\u001b[0m in \u001b[0;36m_compile_for_args\u001b[1;34m(self, *args, **kws)\u001b[0m\n\u001b[0;32m    432\u001b[0m         \u001b[0mreturn_val\u001b[0m \u001b[1;33m=\u001b[0m \u001b[1;32mNone\u001b[0m\u001b[1;33m\u001b[0m\u001b[1;33m\u001b[0m\u001b[0m\n\u001b[0;32m    433\u001b[0m         \u001b[1;32mtry\u001b[0m\u001b[1;33m:\u001b[0m\u001b[1;33m\u001b[0m\u001b[1;33m\u001b[0m\u001b[0m\n\u001b[1;32m--> 434\u001b[1;33m             \u001b[0mreturn_val\u001b[0m \u001b[1;33m=\u001b[0m \u001b[0mself\u001b[0m\u001b[1;33m.\u001b[0m\u001b[0mcompile\u001b[0m\u001b[1;33m(\u001b[0m\u001b[0mtuple\u001b[0m\u001b[1;33m(\u001b[0m\u001b[0margtypes\u001b[0m\u001b[1;33m)\u001b[0m\u001b[1;33m)\u001b[0m\u001b[1;33m\u001b[0m\u001b[1;33m\u001b[0m\u001b[0m\n\u001b[0m\u001b[0;32m    435\u001b[0m         \u001b[1;32mexcept\u001b[0m \u001b[0merrors\u001b[0m\u001b[1;33m.\u001b[0m\u001b[0mForceLiteralArg\u001b[0m \u001b[1;32mas\u001b[0m \u001b[0me\u001b[0m\u001b[1;33m:\u001b[0m\u001b[1;33m\u001b[0m\u001b[1;33m\u001b[0m\u001b[0m\n\u001b[0;32m    436\u001b[0m             \u001b[1;31m# Received request for compiler re-entry with the list of arguments\u001b[0m\u001b[1;33m\u001b[0m\u001b[1;33m\u001b[0m\u001b[1;33m\u001b[0m\u001b[0m\n",
      "\u001b[1;32m~\\anaconda3\\envs\\tscode\\lib\\site-packages\\numba\\core\\dispatcher.py\u001b[0m in \u001b[0;36mcompile\u001b[1;34m(self, sig)\u001b[0m\n\u001b[0;32m    977\u001b[0m                 \u001b[1;32mwith\u001b[0m \u001b[0mev\u001b[0m\u001b[1;33m.\u001b[0m\u001b[0mtrigger_event\u001b[0m\u001b[1;33m(\u001b[0m\u001b[1;34m\"numba:compile\"\u001b[0m\u001b[1;33m,\u001b[0m \u001b[0mdata\u001b[0m\u001b[1;33m=\u001b[0m\u001b[0mev_details\u001b[0m\u001b[1;33m)\u001b[0m\u001b[1;33m:\u001b[0m\u001b[1;33m\u001b[0m\u001b[1;33m\u001b[0m\u001b[0m\n\u001b[0;32m    978\u001b[0m                     \u001b[1;32mtry\u001b[0m\u001b[1;33m:\u001b[0m\u001b[1;33m\u001b[0m\u001b[1;33m\u001b[0m\u001b[0m\n\u001b[1;32m--> 979\u001b[1;33m                         \u001b[0mcres\u001b[0m \u001b[1;33m=\u001b[0m \u001b[0mself\u001b[0m\u001b[1;33m.\u001b[0m\u001b[0m_compiler\u001b[0m\u001b[1;33m.\u001b[0m\u001b[0mcompile\u001b[0m\u001b[1;33m(\u001b[0m\u001b[0margs\u001b[0m\u001b[1;33m,\u001b[0m \u001b[0mreturn_type\u001b[0m\u001b[1;33m)\u001b[0m\u001b[1;33m\u001b[0m\u001b[1;33m\u001b[0m\u001b[0m\n\u001b[0m\u001b[0;32m    980\u001b[0m                     \u001b[1;32mexcept\u001b[0m \u001b[0merrors\u001b[0m\u001b[1;33m.\u001b[0m\u001b[0mForceLiteralArg\u001b[0m \u001b[1;32mas\u001b[0m \u001b[0me\u001b[0m\u001b[1;33m:\u001b[0m\u001b[1;33m\u001b[0m\u001b[1;33m\u001b[0m\u001b[0m\n\u001b[0;32m    981\u001b[0m                         \u001b[1;32mdef\u001b[0m \u001b[0mfolded\u001b[0m\u001b[1;33m(\u001b[0m\u001b[0margs\u001b[0m\u001b[1;33m,\u001b[0m \u001b[0mkws\u001b[0m\u001b[1;33m)\u001b[0m\u001b[1;33m:\u001b[0m\u001b[1;33m\u001b[0m\u001b[1;33m\u001b[0m\u001b[0m\n",
      "\u001b[1;32m~\\anaconda3\\envs\\tscode\\lib\\site-packages\\numba\\core\\dispatcher.py\u001b[0m in \u001b[0;36mcompile\u001b[1;34m(self, args, return_type)\u001b[0m\n\u001b[0;32m    139\u001b[0m \u001b[1;33m\u001b[0m\u001b[0m\n\u001b[0;32m    140\u001b[0m     \u001b[1;32mdef\u001b[0m \u001b[0mcompile\u001b[0m\u001b[1;33m(\u001b[0m\u001b[0mself\u001b[0m\u001b[1;33m,\u001b[0m \u001b[0margs\u001b[0m\u001b[1;33m,\u001b[0m \u001b[0mreturn_type\u001b[0m\u001b[1;33m)\u001b[0m\u001b[1;33m:\u001b[0m\u001b[1;33m\u001b[0m\u001b[1;33m\u001b[0m\u001b[0m\n\u001b[1;32m--> 141\u001b[1;33m         \u001b[0mstatus\u001b[0m\u001b[1;33m,\u001b[0m \u001b[0mretval\u001b[0m \u001b[1;33m=\u001b[0m \u001b[0mself\u001b[0m\u001b[1;33m.\u001b[0m\u001b[0m_compile_cached\u001b[0m\u001b[1;33m(\u001b[0m\u001b[0margs\u001b[0m\u001b[1;33m,\u001b[0m \u001b[0mreturn_type\u001b[0m\u001b[1;33m)\u001b[0m\u001b[1;33m\u001b[0m\u001b[1;33m\u001b[0m\u001b[0m\n\u001b[0m\u001b[0;32m    142\u001b[0m         \u001b[1;32mif\u001b[0m \u001b[0mstatus\u001b[0m\u001b[1;33m:\u001b[0m\u001b[1;33m\u001b[0m\u001b[1;33m\u001b[0m\u001b[0m\n\u001b[0;32m    143\u001b[0m             \u001b[1;32mreturn\u001b[0m \u001b[0mretval\u001b[0m\u001b[1;33m\u001b[0m\u001b[1;33m\u001b[0m\u001b[0m\n",
      "\u001b[1;32m~\\anaconda3\\envs\\tscode\\lib\\site-packages\\numba\\core\\dispatcher.py\u001b[0m in \u001b[0;36m_compile_cached\u001b[1;34m(self, args, return_type)\u001b[0m\n\u001b[0;32m    153\u001b[0m \u001b[1;33m\u001b[0m\u001b[0m\n\u001b[0;32m    154\u001b[0m         \u001b[1;32mtry\u001b[0m\u001b[1;33m:\u001b[0m\u001b[1;33m\u001b[0m\u001b[1;33m\u001b[0m\u001b[0m\n\u001b[1;32m--> 155\u001b[1;33m             \u001b[0mretval\u001b[0m \u001b[1;33m=\u001b[0m \u001b[0mself\u001b[0m\u001b[1;33m.\u001b[0m\u001b[0m_compile_core\u001b[0m\u001b[1;33m(\u001b[0m\u001b[0margs\u001b[0m\u001b[1;33m,\u001b[0m \u001b[0mreturn_type\u001b[0m\u001b[1;33m)\u001b[0m\u001b[1;33m\u001b[0m\u001b[1;33m\u001b[0m\u001b[0m\n\u001b[0m\u001b[0;32m    156\u001b[0m         \u001b[1;32mexcept\u001b[0m \u001b[0merrors\u001b[0m\u001b[1;33m.\u001b[0m\u001b[0mTypingError\u001b[0m \u001b[1;32mas\u001b[0m \u001b[0me\u001b[0m\u001b[1;33m:\u001b[0m\u001b[1;33m\u001b[0m\u001b[1;33m\u001b[0m\u001b[0m\n\u001b[0;32m    157\u001b[0m             \u001b[0mself\u001b[0m\u001b[1;33m.\u001b[0m\u001b[0m_failed_cache\u001b[0m\u001b[1;33m[\u001b[0m\u001b[0mkey\u001b[0m\u001b[1;33m]\u001b[0m \u001b[1;33m=\u001b[0m \u001b[0me\u001b[0m\u001b[1;33m\u001b[0m\u001b[1;33m\u001b[0m\u001b[0m\n",
      "\u001b[1;32m~\\anaconda3\\envs\\tscode\\lib\\site-packages\\numba\\core\\dispatcher.py\u001b[0m in \u001b[0;36m_compile_core\u001b[1;34m(self, args, return_type)\u001b[0m\n\u001b[0;32m    166\u001b[0m \u001b[1;33m\u001b[0m\u001b[0m\n\u001b[0;32m    167\u001b[0m         \u001b[0mimpl\u001b[0m \u001b[1;33m=\u001b[0m \u001b[0mself\u001b[0m\u001b[1;33m.\u001b[0m\u001b[0m_get_implementation\u001b[0m\u001b[1;33m(\u001b[0m\u001b[0margs\u001b[0m\u001b[1;33m,\u001b[0m \u001b[1;33m{\u001b[0m\u001b[1;33m}\u001b[0m\u001b[1;33m)\u001b[0m\u001b[1;33m\u001b[0m\u001b[1;33m\u001b[0m\u001b[0m\n\u001b[1;32m--> 168\u001b[1;33m         cres = compiler.compile_extra(self.targetdescr.typing_context,\n\u001b[0m\u001b[0;32m    169\u001b[0m                                       \u001b[0mself\u001b[0m\u001b[1;33m.\u001b[0m\u001b[0mtargetdescr\u001b[0m\u001b[1;33m.\u001b[0m\u001b[0mtarget_context\u001b[0m\u001b[1;33m,\u001b[0m\u001b[1;33m\u001b[0m\u001b[1;33m\u001b[0m\u001b[0m\n\u001b[0;32m    170\u001b[0m                                       \u001b[0mimpl\u001b[0m\u001b[1;33m,\u001b[0m\u001b[1;33m\u001b[0m\u001b[1;33m\u001b[0m\u001b[0m\n",
      "\u001b[1;32m~\\anaconda3\\envs\\tscode\\lib\\site-packages\\numba\\core\\compiler.py\u001b[0m in \u001b[0;36mcompile_extra\u001b[1;34m(typingctx, targetctx, func, args, return_type, flags, locals, library, pipeline_class)\u001b[0m\n\u001b[0;32m    684\u001b[0m     pipeline = pipeline_class(typingctx, targetctx, library,\n\u001b[0;32m    685\u001b[0m                               args, return_type, flags, locals)\n\u001b[1;32m--> 686\u001b[1;33m     \u001b[1;32mreturn\u001b[0m \u001b[0mpipeline\u001b[0m\u001b[1;33m.\u001b[0m\u001b[0mcompile_extra\u001b[0m\u001b[1;33m(\u001b[0m\u001b[0mfunc\u001b[0m\u001b[1;33m)\u001b[0m\u001b[1;33m\u001b[0m\u001b[1;33m\u001b[0m\u001b[0m\n\u001b[0m\u001b[0;32m    687\u001b[0m \u001b[1;33m\u001b[0m\u001b[0m\n\u001b[0;32m    688\u001b[0m \u001b[1;33m\u001b[0m\u001b[0m\n",
      "\u001b[1;32m~\\anaconda3\\envs\\tscode\\lib\\site-packages\\numba\\core\\compiler.py\u001b[0m in \u001b[0;36mcompile_extra\u001b[1;34m(self, func)\u001b[0m\n\u001b[0;32m    426\u001b[0m         \u001b[0mself\u001b[0m\u001b[1;33m.\u001b[0m\u001b[0mstate\u001b[0m\u001b[1;33m.\u001b[0m\u001b[0mlifted\u001b[0m \u001b[1;33m=\u001b[0m \u001b[1;33m(\u001b[0m\u001b[1;33m)\u001b[0m\u001b[1;33m\u001b[0m\u001b[1;33m\u001b[0m\u001b[0m\n\u001b[0;32m    427\u001b[0m         \u001b[0mself\u001b[0m\u001b[1;33m.\u001b[0m\u001b[0mstate\u001b[0m\u001b[1;33m.\u001b[0m\u001b[0mlifted_from\u001b[0m \u001b[1;33m=\u001b[0m \u001b[1;32mNone\u001b[0m\u001b[1;33m\u001b[0m\u001b[1;33m\u001b[0m\u001b[0m\n\u001b[1;32m--> 428\u001b[1;33m         \u001b[1;32mreturn\u001b[0m \u001b[0mself\u001b[0m\u001b[1;33m.\u001b[0m\u001b[0m_compile_bytecode\u001b[0m\u001b[1;33m(\u001b[0m\u001b[1;33m)\u001b[0m\u001b[1;33m\u001b[0m\u001b[1;33m\u001b[0m\u001b[0m\n\u001b[0m\u001b[0;32m    429\u001b[0m \u001b[1;33m\u001b[0m\u001b[0m\n\u001b[0;32m    430\u001b[0m     \u001b[1;32mdef\u001b[0m \u001b[0mcompile_ir\u001b[0m\u001b[1;33m(\u001b[0m\u001b[0mself\u001b[0m\u001b[1;33m,\u001b[0m \u001b[0mfunc_ir\u001b[0m\u001b[1;33m,\u001b[0m \u001b[0mlifted\u001b[0m\u001b[1;33m=\u001b[0m\u001b[1;33m(\u001b[0m\u001b[1;33m)\u001b[0m\u001b[1;33m,\u001b[0m \u001b[0mlifted_from\u001b[0m\u001b[1;33m=\u001b[0m\u001b[1;32mNone\u001b[0m\u001b[1;33m)\u001b[0m\u001b[1;33m:\u001b[0m\u001b[1;33m\u001b[0m\u001b[1;33m\u001b[0m\u001b[0m\n",
      "\u001b[1;32m~\\anaconda3\\envs\\tscode\\lib\\site-packages\\numba\\core\\compiler.py\u001b[0m in \u001b[0;36m_compile_bytecode\u001b[1;34m(self)\u001b[0m\n\u001b[0;32m    490\u001b[0m         \"\"\"\n\u001b[0;32m    491\u001b[0m         \u001b[1;32massert\u001b[0m \u001b[0mself\u001b[0m\u001b[1;33m.\u001b[0m\u001b[0mstate\u001b[0m\u001b[1;33m.\u001b[0m\u001b[0mfunc_ir\u001b[0m \u001b[1;32mis\u001b[0m \u001b[1;32mNone\u001b[0m\u001b[1;33m\u001b[0m\u001b[1;33m\u001b[0m\u001b[0m\n\u001b[1;32m--> 492\u001b[1;33m         \u001b[1;32mreturn\u001b[0m \u001b[0mself\u001b[0m\u001b[1;33m.\u001b[0m\u001b[0m_compile_core\u001b[0m\u001b[1;33m(\u001b[0m\u001b[1;33m)\u001b[0m\u001b[1;33m\u001b[0m\u001b[1;33m\u001b[0m\u001b[0m\n\u001b[0m\u001b[0;32m    493\u001b[0m \u001b[1;33m\u001b[0m\u001b[0m\n\u001b[0;32m    494\u001b[0m     \u001b[1;32mdef\u001b[0m \u001b[0m_compile_ir\u001b[0m\u001b[1;33m(\u001b[0m\u001b[0mself\u001b[0m\u001b[1;33m)\u001b[0m\u001b[1;33m:\u001b[0m\u001b[1;33m\u001b[0m\u001b[1;33m\u001b[0m\u001b[0m\n",
      "\u001b[1;32m~\\anaconda3\\envs\\tscode\\lib\\site-packages\\numba\\core\\compiler.py\u001b[0m in \u001b[0;36m_compile_core\u001b[1;34m(self)\u001b[0m\n\u001b[0;32m    460\u001b[0m                 \u001b[0mres\u001b[0m \u001b[1;33m=\u001b[0m \u001b[1;32mNone\u001b[0m\u001b[1;33m\u001b[0m\u001b[1;33m\u001b[0m\u001b[0m\n\u001b[0;32m    461\u001b[0m                 \u001b[1;32mtry\u001b[0m\u001b[1;33m:\u001b[0m\u001b[1;33m\u001b[0m\u001b[1;33m\u001b[0m\u001b[0m\n\u001b[1;32m--> 462\u001b[1;33m                     \u001b[0mpm\u001b[0m\u001b[1;33m.\u001b[0m\u001b[0mrun\u001b[0m\u001b[1;33m(\u001b[0m\u001b[0mself\u001b[0m\u001b[1;33m.\u001b[0m\u001b[0mstate\u001b[0m\u001b[1;33m)\u001b[0m\u001b[1;33m\u001b[0m\u001b[1;33m\u001b[0m\u001b[0m\n\u001b[0m\u001b[0;32m    463\u001b[0m                     \u001b[1;32mif\u001b[0m \u001b[0mself\u001b[0m\u001b[1;33m.\u001b[0m\u001b[0mstate\u001b[0m\u001b[1;33m.\u001b[0m\u001b[0mcr\u001b[0m \u001b[1;32mis\u001b[0m \u001b[1;32mnot\u001b[0m \u001b[1;32mNone\u001b[0m\u001b[1;33m:\u001b[0m\u001b[1;33m\u001b[0m\u001b[1;33m\u001b[0m\u001b[0m\n\u001b[0;32m    464\u001b[0m                         \u001b[1;32mbreak\u001b[0m\u001b[1;33m\u001b[0m\u001b[1;33m\u001b[0m\u001b[0m\n",
      "\u001b[1;32m~\\anaconda3\\envs\\tscode\\lib\\site-packages\\numba\\core\\compiler_machinery.py\u001b[0m in \u001b[0;36mrun\u001b[1;34m(self, state)\u001b[0m\n\u001b[0;32m    332\u001b[0m                 \u001b[0mpass_inst\u001b[0m \u001b[1;33m=\u001b[0m \u001b[0m_pass_registry\u001b[0m\u001b[1;33m.\u001b[0m\u001b[0mget\u001b[0m\u001b[1;33m(\u001b[0m\u001b[0mpss\u001b[0m\u001b[1;33m)\u001b[0m\u001b[1;33m.\u001b[0m\u001b[0mpass_inst\u001b[0m\u001b[1;33m\u001b[0m\u001b[1;33m\u001b[0m\u001b[0m\n\u001b[0;32m    333\u001b[0m                 \u001b[1;32mif\u001b[0m \u001b[0misinstance\u001b[0m\u001b[1;33m(\u001b[0m\u001b[0mpass_inst\u001b[0m\u001b[1;33m,\u001b[0m \u001b[0mCompilerPass\u001b[0m\u001b[1;33m)\u001b[0m\u001b[1;33m:\u001b[0m\u001b[1;33m\u001b[0m\u001b[1;33m\u001b[0m\u001b[0m\n\u001b[1;32m--> 334\u001b[1;33m                     \u001b[0mself\u001b[0m\u001b[1;33m.\u001b[0m\u001b[0m_runPass\u001b[0m\u001b[1;33m(\u001b[0m\u001b[0midx\u001b[0m\u001b[1;33m,\u001b[0m \u001b[0mpass_inst\u001b[0m\u001b[1;33m,\u001b[0m \u001b[0mstate\u001b[0m\u001b[1;33m)\u001b[0m\u001b[1;33m\u001b[0m\u001b[1;33m\u001b[0m\u001b[0m\n\u001b[0m\u001b[0;32m    335\u001b[0m                 \u001b[1;32melse\u001b[0m\u001b[1;33m:\u001b[0m\u001b[1;33m\u001b[0m\u001b[1;33m\u001b[0m\u001b[0m\n\u001b[0;32m    336\u001b[0m                     \u001b[1;32mraise\u001b[0m \u001b[0mBaseException\u001b[0m\u001b[1;33m(\u001b[0m\u001b[1;34m\"Legacy pass in use\"\u001b[0m\u001b[1;33m)\u001b[0m\u001b[1;33m\u001b[0m\u001b[1;33m\u001b[0m\u001b[0m\n",
      "\u001b[1;32m~\\anaconda3\\envs\\tscode\\lib\\site-packages\\numba\\core\\compiler_lock.py\u001b[0m in \u001b[0;36m_acquire_compile_lock\u001b[1;34m(*args, **kwargs)\u001b[0m\n\u001b[0;32m     33\u001b[0m         \u001b[1;32mdef\u001b[0m \u001b[0m_acquire_compile_lock\u001b[0m\u001b[1;33m(\u001b[0m\u001b[1;33m*\u001b[0m\u001b[0margs\u001b[0m\u001b[1;33m,\u001b[0m \u001b[1;33m**\u001b[0m\u001b[0mkwargs\u001b[0m\u001b[1;33m)\u001b[0m\u001b[1;33m:\u001b[0m\u001b[1;33m\u001b[0m\u001b[1;33m\u001b[0m\u001b[0m\n\u001b[0;32m     34\u001b[0m             \u001b[1;32mwith\u001b[0m \u001b[0mself\u001b[0m\u001b[1;33m:\u001b[0m\u001b[1;33m\u001b[0m\u001b[1;33m\u001b[0m\u001b[0m\n\u001b[1;32m---> 35\u001b[1;33m                 \u001b[1;32mreturn\u001b[0m \u001b[0mfunc\u001b[0m\u001b[1;33m(\u001b[0m\u001b[1;33m*\u001b[0m\u001b[0margs\u001b[0m\u001b[1;33m,\u001b[0m \u001b[1;33m**\u001b[0m\u001b[0mkwargs\u001b[0m\u001b[1;33m)\u001b[0m\u001b[1;33m\u001b[0m\u001b[1;33m\u001b[0m\u001b[0m\n\u001b[0m\u001b[0;32m     36\u001b[0m         \u001b[1;32mreturn\u001b[0m \u001b[0m_acquire_compile_lock\u001b[0m\u001b[1;33m\u001b[0m\u001b[1;33m\u001b[0m\u001b[0m\n\u001b[0;32m     37\u001b[0m \u001b[1;33m\u001b[0m\u001b[0m\n",
      "\u001b[1;32m~\\anaconda3\\envs\\tscode\\lib\\site-packages\\numba\\core\\compiler_machinery.py\u001b[0m in \u001b[0;36m_runPass\u001b[1;34m(self, index, pss, internal_state)\u001b[0m\n\u001b[0;32m    287\u001b[0m             \u001b[0mmutated\u001b[0m \u001b[1;33m|=\u001b[0m \u001b[0mcheck\u001b[0m\u001b[1;33m(\u001b[0m\u001b[0mpss\u001b[0m\u001b[1;33m.\u001b[0m\u001b[0mrun_initialization\u001b[0m\u001b[1;33m,\u001b[0m \u001b[0minternal_state\u001b[0m\u001b[1;33m)\u001b[0m\u001b[1;33m\u001b[0m\u001b[1;33m\u001b[0m\u001b[0m\n\u001b[0;32m    288\u001b[0m         \u001b[1;32mwith\u001b[0m \u001b[0mSimpleTimer\u001b[0m\u001b[1;33m(\u001b[0m\u001b[1;33m)\u001b[0m \u001b[1;32mas\u001b[0m \u001b[0mpass_time\u001b[0m\u001b[1;33m:\u001b[0m\u001b[1;33m\u001b[0m\u001b[1;33m\u001b[0m\u001b[0m\n\u001b[1;32m--> 289\u001b[1;33m             \u001b[0mmutated\u001b[0m \u001b[1;33m|=\u001b[0m \u001b[0mcheck\u001b[0m\u001b[1;33m(\u001b[0m\u001b[0mpss\u001b[0m\u001b[1;33m.\u001b[0m\u001b[0mrun_pass\u001b[0m\u001b[1;33m,\u001b[0m \u001b[0minternal_state\u001b[0m\u001b[1;33m)\u001b[0m\u001b[1;33m\u001b[0m\u001b[1;33m\u001b[0m\u001b[0m\n\u001b[0m\u001b[0;32m    290\u001b[0m         \u001b[1;32mwith\u001b[0m \u001b[0mSimpleTimer\u001b[0m\u001b[1;33m(\u001b[0m\u001b[1;33m)\u001b[0m \u001b[1;32mas\u001b[0m \u001b[0mfinalize_time\u001b[0m\u001b[1;33m:\u001b[0m\u001b[1;33m\u001b[0m\u001b[1;33m\u001b[0m\u001b[0m\n\u001b[0;32m    291\u001b[0m             \u001b[0mmutated\u001b[0m \u001b[1;33m|=\u001b[0m \u001b[0mcheck\u001b[0m\u001b[1;33m(\u001b[0m\u001b[0mpss\u001b[0m\u001b[1;33m.\u001b[0m\u001b[0mrun_finalizer\u001b[0m\u001b[1;33m,\u001b[0m \u001b[0minternal_state\u001b[0m\u001b[1;33m)\u001b[0m\u001b[1;33m\u001b[0m\u001b[1;33m\u001b[0m\u001b[0m\n",
      "\u001b[1;32m~\\anaconda3\\envs\\tscode\\lib\\site-packages\\numba\\core\\compiler_machinery.py\u001b[0m in \u001b[0;36mcheck\u001b[1;34m(func, compiler_state)\u001b[0m\n\u001b[0;32m    260\u001b[0m \u001b[1;33m\u001b[0m\u001b[0m\n\u001b[0;32m    261\u001b[0m         \u001b[1;32mdef\u001b[0m \u001b[0mcheck\u001b[0m\u001b[1;33m(\u001b[0m\u001b[0mfunc\u001b[0m\u001b[1;33m,\u001b[0m \u001b[0mcompiler_state\u001b[0m\u001b[1;33m)\u001b[0m\u001b[1;33m:\u001b[0m\u001b[1;33m\u001b[0m\u001b[1;33m\u001b[0m\u001b[0m\n\u001b[1;32m--> 262\u001b[1;33m             \u001b[0mmangled\u001b[0m \u001b[1;33m=\u001b[0m \u001b[0mfunc\u001b[0m\u001b[1;33m(\u001b[0m\u001b[0mcompiler_state\u001b[0m\u001b[1;33m)\u001b[0m\u001b[1;33m\u001b[0m\u001b[1;33m\u001b[0m\u001b[0m\n\u001b[0m\u001b[0;32m    263\u001b[0m             \u001b[1;32mif\u001b[0m \u001b[0mmangled\u001b[0m \u001b[1;32mnot\u001b[0m \u001b[1;32min\u001b[0m \u001b[1;33m(\u001b[0m\u001b[1;32mTrue\u001b[0m\u001b[1;33m,\u001b[0m \u001b[1;32mFalse\u001b[0m\u001b[1;33m)\u001b[0m\u001b[1;33m:\u001b[0m\u001b[1;33m\u001b[0m\u001b[1;33m\u001b[0m\u001b[0m\n\u001b[0;32m    264\u001b[0m                 msg = (\"CompilerPass implementations should return True/False. \"\n",
      "\u001b[1;32m~\\anaconda3\\envs\\tscode\\lib\\site-packages\\numba\\core\\typed_passes.py\u001b[0m in \u001b[0;36mrun_pass\u001b[1;34m(self, state)\u001b[0m\n\u001b[0;32m    103\u001b[0m                               % (state.func_id.func_name,)):\n\u001b[0;32m    104\u001b[0m             \u001b[1;31m# Type inference\u001b[0m\u001b[1;33m\u001b[0m\u001b[1;33m\u001b[0m\u001b[1;33m\u001b[0m\u001b[0m\n\u001b[1;32m--> 105\u001b[1;33m             typemap, return_type, calltypes, errs = type_inference_stage(\n\u001b[0m\u001b[0;32m    106\u001b[0m                 \u001b[0mstate\u001b[0m\u001b[1;33m.\u001b[0m\u001b[0mtypingctx\u001b[0m\u001b[1;33m,\u001b[0m\u001b[1;33m\u001b[0m\u001b[1;33m\u001b[0m\u001b[0m\n\u001b[0;32m    107\u001b[0m                 \u001b[0mstate\u001b[0m\u001b[1;33m.\u001b[0m\u001b[0mtargetctx\u001b[0m\u001b[1;33m,\u001b[0m\u001b[1;33m\u001b[0m\u001b[1;33m\u001b[0m\u001b[0m\n",
      "\u001b[1;32m~\\anaconda3\\envs\\tscode\\lib\\site-packages\\numba\\core\\typed_passes.py\u001b[0m in \u001b[0;36mtype_inference_stage\u001b[1;34m(typingctx, targetctx, interp, args, return_type, locals, raise_errors)\u001b[0m\n\u001b[0;32m     81\u001b[0m         \u001b[0minfer\u001b[0m\u001b[1;33m.\u001b[0m\u001b[0mbuild_constraint\u001b[0m\u001b[1;33m(\u001b[0m\u001b[1;33m)\u001b[0m\u001b[1;33m\u001b[0m\u001b[1;33m\u001b[0m\u001b[0m\n\u001b[0;32m     82\u001b[0m         \u001b[1;31m# return errors in case of partial typing\u001b[0m\u001b[1;33m\u001b[0m\u001b[1;33m\u001b[0m\u001b[1;33m\u001b[0m\u001b[0m\n\u001b[1;32m---> 83\u001b[1;33m         \u001b[0merrs\u001b[0m \u001b[1;33m=\u001b[0m \u001b[0minfer\u001b[0m\u001b[1;33m.\u001b[0m\u001b[0mpropagate\u001b[0m\u001b[1;33m(\u001b[0m\u001b[0mraise_errors\u001b[0m\u001b[1;33m=\u001b[0m\u001b[0mraise_errors\u001b[0m\u001b[1;33m)\u001b[0m\u001b[1;33m\u001b[0m\u001b[1;33m\u001b[0m\u001b[0m\n\u001b[0m\u001b[0;32m     84\u001b[0m         \u001b[0mtypemap\u001b[0m\u001b[1;33m,\u001b[0m \u001b[0mrestype\u001b[0m\u001b[1;33m,\u001b[0m \u001b[0mcalltypes\u001b[0m \u001b[1;33m=\u001b[0m \u001b[0minfer\u001b[0m\u001b[1;33m.\u001b[0m\u001b[0munify\u001b[0m\u001b[1;33m(\u001b[0m\u001b[0mraise_errors\u001b[0m\u001b[1;33m=\u001b[0m\u001b[0mraise_errors\u001b[0m\u001b[1;33m)\u001b[0m\u001b[1;33m\u001b[0m\u001b[1;33m\u001b[0m\u001b[0m\n\u001b[0;32m     85\u001b[0m \u001b[1;33m\u001b[0m\u001b[0m\n",
      "\u001b[1;32m~\\anaconda3\\envs\\tscode\\lib\\site-packages\\numba\\core\\typeinfer.py\u001b[0m in \u001b[0;36mpropagate\u001b[1;34m(self, raise_errors)\u001b[0m\n\u001b[0;32m   1064\u001b[0m             \u001b[1;31m# Errors can appear when the type set is incomplete; only\u001b[0m\u001b[1;33m\u001b[0m\u001b[1;33m\u001b[0m\u001b[1;33m\u001b[0m\u001b[0m\n\u001b[0;32m   1065\u001b[0m             \u001b[1;31m# raise them when there is no progress anymore.\u001b[0m\u001b[1;33m\u001b[0m\u001b[1;33m\u001b[0m\u001b[1;33m\u001b[0m\u001b[0m\n\u001b[1;32m-> 1066\u001b[1;33m             \u001b[0merrors\u001b[0m \u001b[1;33m=\u001b[0m \u001b[0mself\u001b[0m\u001b[1;33m.\u001b[0m\u001b[0mconstraints\u001b[0m\u001b[1;33m.\u001b[0m\u001b[0mpropagate\u001b[0m\u001b[1;33m(\u001b[0m\u001b[0mself\u001b[0m\u001b[1;33m)\u001b[0m\u001b[1;33m\u001b[0m\u001b[1;33m\u001b[0m\u001b[0m\n\u001b[0m\u001b[0;32m   1067\u001b[0m             \u001b[0mnewtoken\u001b[0m \u001b[1;33m=\u001b[0m \u001b[0mself\u001b[0m\u001b[1;33m.\u001b[0m\u001b[0mget_state_token\u001b[0m\u001b[1;33m(\u001b[0m\u001b[1;33m)\u001b[0m\u001b[1;33m\u001b[0m\u001b[1;33m\u001b[0m\u001b[0m\n\u001b[0;32m   1068\u001b[0m             \u001b[0mself\u001b[0m\u001b[1;33m.\u001b[0m\u001b[0mdebug\u001b[0m\u001b[1;33m.\u001b[0m\u001b[0mpropagate_finished\u001b[0m\u001b[1;33m(\u001b[0m\u001b[1;33m)\u001b[0m\u001b[1;33m\u001b[0m\u001b[1;33m\u001b[0m\u001b[0m\n",
      "\u001b[1;32m~\\anaconda3\\envs\\tscode\\lib\\site-packages\\numba\\core\\typeinfer.py\u001b[0m in \u001b[0;36mpropagate\u001b[1;34m(self, typeinfer)\u001b[0m\n\u001b[0;32m    152\u001b[0m                                                    lineno=loc.line):\n\u001b[0;32m    153\u001b[0m                 \u001b[1;32mtry\u001b[0m\u001b[1;33m:\u001b[0m\u001b[1;33m\u001b[0m\u001b[1;33m\u001b[0m\u001b[0m\n\u001b[1;32m--> 154\u001b[1;33m                     \u001b[0mconstraint\u001b[0m\u001b[1;33m(\u001b[0m\u001b[0mtypeinfer\u001b[0m\u001b[1;33m)\u001b[0m\u001b[1;33m\u001b[0m\u001b[1;33m\u001b[0m\u001b[0m\n\u001b[0m\u001b[0;32m    155\u001b[0m                 \u001b[1;32mexcept\u001b[0m \u001b[0mForceLiteralArg\u001b[0m \u001b[1;32mas\u001b[0m \u001b[0me\u001b[0m\u001b[1;33m:\u001b[0m\u001b[1;33m\u001b[0m\u001b[1;33m\u001b[0m\u001b[0m\n\u001b[0;32m    156\u001b[0m                     \u001b[0merrors\u001b[0m\u001b[1;33m.\u001b[0m\u001b[0mappend\u001b[0m\u001b[1;33m(\u001b[0m\u001b[0me\u001b[0m\u001b[1;33m)\u001b[0m\u001b[1;33m\u001b[0m\u001b[1;33m\u001b[0m\u001b[0m\n",
      "\u001b[1;32m~\\anaconda3\\envs\\tscode\\lib\\site-packages\\numba\\core\\typeinfer.py\u001b[0m in \u001b[0;36m__call__\u001b[1;34m(self, typeinfer)\u001b[0m\n\u001b[0;32m    564\u001b[0m                 \u001b[0mfnty\u001b[0m \u001b[1;33m=\u001b[0m \u001b[0mtypevars\u001b[0m\u001b[1;33m[\u001b[0m\u001b[0mself\u001b[0m\u001b[1;33m.\u001b[0m\u001b[0mfunc\u001b[0m\u001b[1;33m]\u001b[0m\u001b[1;33m.\u001b[0m\u001b[0mgetone\u001b[0m\u001b[1;33m(\u001b[0m\u001b[1;33m)\u001b[0m\u001b[1;33m\u001b[0m\u001b[1;33m\u001b[0m\u001b[0m\n\u001b[0;32m    565\u001b[0m             \u001b[1;32mwith\u001b[0m \u001b[0mnew_error_context\u001b[0m\u001b[1;33m(\u001b[0m\u001b[1;34m\"resolving callee type: {0}\"\u001b[0m\u001b[1;33m,\u001b[0m \u001b[0mfnty\u001b[0m\u001b[1;33m)\u001b[0m\u001b[1;33m:\u001b[0m\u001b[1;33m\u001b[0m\u001b[1;33m\u001b[0m\u001b[0m\n\u001b[1;32m--> 566\u001b[1;33m                 \u001b[0mself\u001b[0m\u001b[1;33m.\u001b[0m\u001b[0mresolve\u001b[0m\u001b[1;33m(\u001b[0m\u001b[0mtypeinfer\u001b[0m\u001b[1;33m,\u001b[0m \u001b[0mtypevars\u001b[0m\u001b[1;33m,\u001b[0m \u001b[0mfnty\u001b[0m\u001b[1;33m)\u001b[0m\u001b[1;33m\u001b[0m\u001b[1;33m\u001b[0m\u001b[0m\n\u001b[0m\u001b[0;32m    567\u001b[0m \u001b[1;33m\u001b[0m\u001b[0m\n\u001b[0;32m    568\u001b[0m     \u001b[1;32mdef\u001b[0m \u001b[0mresolve\u001b[0m\u001b[1;33m(\u001b[0m\u001b[0mself\u001b[0m\u001b[1;33m,\u001b[0m \u001b[0mtypeinfer\u001b[0m\u001b[1;33m,\u001b[0m \u001b[0mtypevars\u001b[0m\u001b[1;33m,\u001b[0m \u001b[0mfnty\u001b[0m\u001b[1;33m)\u001b[0m\u001b[1;33m:\u001b[0m\u001b[1;33m\u001b[0m\u001b[1;33m\u001b[0m\u001b[0m\n",
      "\u001b[1;32m~\\anaconda3\\envs\\tscode\\lib\\site-packages\\numba\\core\\typeinfer.py\u001b[0m in \u001b[0;36mresolve\u001b[1;34m(self, typeinfer, typevars, fnty)\u001b[0m\n\u001b[0;32m    587\u001b[0m             \u001b[0mfnty\u001b[0m \u001b[1;33m=\u001b[0m \u001b[0mfnty\u001b[0m\u001b[1;33m.\u001b[0m\u001b[0minstance_type\u001b[0m\u001b[1;33m\u001b[0m\u001b[1;33m\u001b[0m\u001b[0m\n\u001b[0;32m    588\u001b[0m         \u001b[1;32mtry\u001b[0m\u001b[1;33m:\u001b[0m\u001b[1;33m\u001b[0m\u001b[1;33m\u001b[0m\u001b[0m\n\u001b[1;32m--> 589\u001b[1;33m             \u001b[0msig\u001b[0m \u001b[1;33m=\u001b[0m \u001b[0mtypeinfer\u001b[0m\u001b[1;33m.\u001b[0m\u001b[0mresolve_call\u001b[0m\u001b[1;33m(\u001b[0m\u001b[0mfnty\u001b[0m\u001b[1;33m,\u001b[0m \u001b[0mpos_args\u001b[0m\u001b[1;33m,\u001b[0m \u001b[0mkw_args\u001b[0m\u001b[1;33m)\u001b[0m\u001b[1;33m\u001b[0m\u001b[1;33m\u001b[0m\u001b[0m\n\u001b[0m\u001b[0;32m    590\u001b[0m         \u001b[1;32mexcept\u001b[0m \u001b[0mForceLiteralArg\u001b[0m \u001b[1;32mas\u001b[0m \u001b[0me\u001b[0m\u001b[1;33m:\u001b[0m\u001b[1;33m\u001b[0m\u001b[1;33m\u001b[0m\u001b[0m\n\u001b[0;32m    591\u001b[0m             \u001b[1;31m# Adjust for bound methods\u001b[0m\u001b[1;33m\u001b[0m\u001b[1;33m\u001b[0m\u001b[1;33m\u001b[0m\u001b[0m\n",
      "\u001b[1;32m~\\anaconda3\\envs\\tscode\\lib\\site-packages\\numba\\core\\typeinfer.py\u001b[0m in \u001b[0;36mresolve_call\u001b[1;34m(self, fnty, pos_args, kw_args)\u001b[0m\n\u001b[0;32m   1539\u001b[0m         \u001b[1;32melse\u001b[0m\u001b[1;33m:\u001b[0m\u001b[1;33m\u001b[0m\u001b[1;33m\u001b[0m\u001b[0m\n\u001b[0;32m   1540\u001b[0m             \u001b[1;31m# Normal non-recursive call\u001b[0m\u001b[1;33m\u001b[0m\u001b[1;33m\u001b[0m\u001b[1;33m\u001b[0m\u001b[0m\n\u001b[1;32m-> 1541\u001b[1;33m             \u001b[1;32mreturn\u001b[0m \u001b[0mself\u001b[0m\u001b[1;33m.\u001b[0m\u001b[0mcontext\u001b[0m\u001b[1;33m.\u001b[0m\u001b[0mresolve_function_type\u001b[0m\u001b[1;33m(\u001b[0m\u001b[0mfnty\u001b[0m\u001b[1;33m,\u001b[0m \u001b[0mpos_args\u001b[0m\u001b[1;33m,\u001b[0m \u001b[0mkw_args\u001b[0m\u001b[1;33m)\u001b[0m\u001b[1;33m\u001b[0m\u001b[1;33m\u001b[0m\u001b[0m\n\u001b[0m\u001b[0;32m   1542\u001b[0m \u001b[1;33m\u001b[0m\u001b[0m\n\u001b[0;32m   1543\u001b[0m     \u001b[1;32mdef\u001b[0m \u001b[0mtypeof_global\u001b[0m\u001b[1;33m(\u001b[0m\u001b[0mself\u001b[0m\u001b[1;33m,\u001b[0m \u001b[0minst\u001b[0m\u001b[1;33m,\u001b[0m \u001b[0mtarget\u001b[0m\u001b[1;33m,\u001b[0m \u001b[0mgvar\u001b[0m\u001b[1;33m)\u001b[0m\u001b[1;33m:\u001b[0m\u001b[1;33m\u001b[0m\u001b[1;33m\u001b[0m\u001b[0m\n",
      "\u001b[1;32m~\\anaconda3\\envs\\tscode\\lib\\site-packages\\numba\\core\\typing\\context.py\u001b[0m in \u001b[0;36mresolve_function_type\u001b[1;34m(self, func, args, kws)\u001b[0m\n\u001b[0;32m    193\u001b[0m         \u001b[1;31m# Prefer user definition first\u001b[0m\u001b[1;33m\u001b[0m\u001b[1;33m\u001b[0m\u001b[1;33m\u001b[0m\u001b[0m\n\u001b[0;32m    194\u001b[0m         \u001b[1;32mtry\u001b[0m\u001b[1;33m:\u001b[0m\u001b[1;33m\u001b[0m\u001b[1;33m\u001b[0m\u001b[0m\n\u001b[1;32m--> 195\u001b[1;33m             \u001b[0mres\u001b[0m \u001b[1;33m=\u001b[0m \u001b[0mself\u001b[0m\u001b[1;33m.\u001b[0m\u001b[0m_resolve_user_function_type\u001b[0m\u001b[1;33m(\u001b[0m\u001b[0mfunc\u001b[0m\u001b[1;33m,\u001b[0m \u001b[0margs\u001b[0m\u001b[1;33m,\u001b[0m \u001b[0mkws\u001b[0m\u001b[1;33m)\u001b[0m\u001b[1;33m\u001b[0m\u001b[1;33m\u001b[0m\u001b[0m\n\u001b[0m\u001b[0;32m    196\u001b[0m         \u001b[1;32mexcept\u001b[0m \u001b[0merrors\u001b[0m\u001b[1;33m.\u001b[0m\u001b[0mTypingError\u001b[0m \u001b[1;32mas\u001b[0m \u001b[0me\u001b[0m\u001b[1;33m:\u001b[0m\u001b[1;33m\u001b[0m\u001b[1;33m\u001b[0m\u001b[0m\n\u001b[0;32m    197\u001b[0m             \u001b[1;31m# Capture any typing error\u001b[0m\u001b[1;33m\u001b[0m\u001b[1;33m\u001b[0m\u001b[1;33m\u001b[0m\u001b[0m\n",
      "\u001b[1;32m~\\anaconda3\\envs\\tscode\\lib\\site-packages\\numba\\core\\typing\\context.py\u001b[0m in \u001b[0;36m_resolve_user_function_type\u001b[1;34m(self, func, args, kws, literals)\u001b[0m\n\u001b[0;32m    245\u001b[0m         \u001b[1;32mif\u001b[0m \u001b[0misinstance\u001b[0m\u001b[1;33m(\u001b[0m\u001b[0mfunc\u001b[0m\u001b[1;33m,\u001b[0m \u001b[0mtypes\u001b[0m\u001b[1;33m.\u001b[0m\u001b[0mCallable\u001b[0m\u001b[1;33m)\u001b[0m\u001b[1;33m:\u001b[0m\u001b[1;33m\u001b[0m\u001b[1;33m\u001b[0m\u001b[0m\n\u001b[0;32m    246\u001b[0m             \u001b[1;31m# XXX fold this into the __call__ attribute logic?\u001b[0m\u001b[1;33m\u001b[0m\u001b[1;33m\u001b[0m\u001b[1;33m\u001b[0m\u001b[0m\n\u001b[1;32m--> 247\u001b[1;33m             \u001b[1;32mreturn\u001b[0m \u001b[0mfunc\u001b[0m\u001b[1;33m.\u001b[0m\u001b[0mget_call_type\u001b[0m\u001b[1;33m(\u001b[0m\u001b[0mself\u001b[0m\u001b[1;33m,\u001b[0m \u001b[0margs\u001b[0m\u001b[1;33m,\u001b[0m \u001b[0mkws\u001b[0m\u001b[1;33m)\u001b[0m\u001b[1;33m\u001b[0m\u001b[1;33m\u001b[0m\u001b[0m\n\u001b[0m\u001b[0;32m    248\u001b[0m \u001b[1;33m\u001b[0m\u001b[0m\n\u001b[0;32m    249\u001b[0m     \u001b[1;32mdef\u001b[0m \u001b[0m_get_attribute_templates\u001b[0m\u001b[1;33m(\u001b[0m\u001b[0mself\u001b[0m\u001b[1;33m,\u001b[0m \u001b[0mtyp\u001b[0m\u001b[1;33m)\u001b[0m\u001b[1;33m:\u001b[0m\u001b[1;33m\u001b[0m\u001b[1;33m\u001b[0m\u001b[0m\n",
      "\u001b[1;32m~\\anaconda3\\envs\\tscode\\lib\\site-packages\\numba\\core\\types\\functions.py\u001b[0m in \u001b[0;36mget_call_type\u001b[1;34m(self, context, args, kws)\u001b[0m\n\u001b[0;32m    553\u001b[0m         \"\"\"\n\u001b[0;32m    554\u001b[0m         \u001b[0mtemplate\u001b[0m\u001b[1;33m,\u001b[0m \u001b[0mpysig\u001b[0m\u001b[1;33m,\u001b[0m \u001b[0margs\u001b[0m\u001b[1;33m,\u001b[0m \u001b[0mkws\u001b[0m \u001b[1;33m=\u001b[0m\u001b[0;31m \u001b[0m\u001b[0;31m\\\u001b[0m\u001b[1;33m\u001b[0m\u001b[1;33m\u001b[0m\u001b[0m\n\u001b[1;32m--> 555\u001b[1;33m             \u001b[0mself\u001b[0m\u001b[1;33m.\u001b[0m\u001b[0mdispatcher\u001b[0m\u001b[1;33m.\u001b[0m\u001b[0mget_call_template\u001b[0m\u001b[1;33m(\u001b[0m\u001b[0margs\u001b[0m\u001b[1;33m,\u001b[0m \u001b[0mkws\u001b[0m\u001b[1;33m)\u001b[0m\u001b[1;33m\u001b[0m\u001b[1;33m\u001b[0m\u001b[0m\n\u001b[0m\u001b[0;32m    556\u001b[0m         \u001b[0msig\u001b[0m \u001b[1;33m=\u001b[0m \u001b[0mtemplate\u001b[0m\u001b[1;33m(\u001b[0m\u001b[0mcontext\u001b[0m\u001b[1;33m)\u001b[0m\u001b[1;33m.\u001b[0m\u001b[0mapply\u001b[0m\u001b[1;33m(\u001b[0m\u001b[0margs\u001b[0m\u001b[1;33m,\u001b[0m \u001b[0mkws\u001b[0m\u001b[1;33m)\u001b[0m\u001b[1;33m\u001b[0m\u001b[1;33m\u001b[0m\u001b[0m\n\u001b[0;32m    557\u001b[0m         \u001b[1;32mif\u001b[0m \u001b[0msig\u001b[0m\u001b[1;33m:\u001b[0m\u001b[1;33m\u001b[0m\u001b[1;33m\u001b[0m\u001b[0m\n",
      "\u001b[1;32m~\\anaconda3\\envs\\tscode\\lib\\site-packages\\numba\\core\\dispatcher.py\u001b[0m in \u001b[0;36mget_call_template\u001b[1;34m(self, args, kws)\u001b[0m\n\u001b[0;32m    375\u001b[0m         \u001b[1;31m# Ensure an overload is available\u001b[0m\u001b[1;33m\u001b[0m\u001b[1;33m\u001b[0m\u001b[1;33m\u001b[0m\u001b[0m\n\u001b[0;32m    376\u001b[0m         \u001b[1;32mif\u001b[0m \u001b[0mself\u001b[0m\u001b[1;33m.\u001b[0m\u001b[0m_can_compile\u001b[0m\u001b[1;33m:\u001b[0m\u001b[1;33m\u001b[0m\u001b[1;33m\u001b[0m\u001b[0m\n\u001b[1;32m--> 377\u001b[1;33m             \u001b[0mself\u001b[0m\u001b[1;33m.\u001b[0m\u001b[0mcompile\u001b[0m\u001b[1;33m(\u001b[0m\u001b[0mtuple\u001b[0m\u001b[1;33m(\u001b[0m\u001b[0margs\u001b[0m\u001b[1;33m)\u001b[0m\u001b[1;33m)\u001b[0m\u001b[1;33m\u001b[0m\u001b[1;33m\u001b[0m\u001b[0m\n\u001b[0m\u001b[0;32m    378\u001b[0m \u001b[1;33m\u001b[0m\u001b[0m\n\u001b[0;32m    379\u001b[0m         \u001b[1;31m# Create function type for typing\u001b[0m\u001b[1;33m\u001b[0m\u001b[1;33m\u001b[0m\u001b[1;33m\u001b[0m\u001b[0m\n",
      "\u001b[1;32m~\\anaconda3\\envs\\tscode\\lib\\site-packages\\numba\\core\\dispatcher.py\u001b[0m in \u001b[0;36mcompile\u001b[1;34m(self, sig)\u001b[0m\n\u001b[0;32m    977\u001b[0m                 \u001b[1;32mwith\u001b[0m \u001b[0mev\u001b[0m\u001b[1;33m.\u001b[0m\u001b[0mtrigger_event\u001b[0m\u001b[1;33m(\u001b[0m\u001b[1;34m\"numba:compile\"\u001b[0m\u001b[1;33m,\u001b[0m \u001b[0mdata\u001b[0m\u001b[1;33m=\u001b[0m\u001b[0mev_details\u001b[0m\u001b[1;33m)\u001b[0m\u001b[1;33m:\u001b[0m\u001b[1;33m\u001b[0m\u001b[1;33m\u001b[0m\u001b[0m\n\u001b[0;32m    978\u001b[0m                     \u001b[1;32mtry\u001b[0m\u001b[1;33m:\u001b[0m\u001b[1;33m\u001b[0m\u001b[1;33m\u001b[0m\u001b[0m\n\u001b[1;32m--> 979\u001b[1;33m                         \u001b[0mcres\u001b[0m \u001b[1;33m=\u001b[0m \u001b[0mself\u001b[0m\u001b[1;33m.\u001b[0m\u001b[0m_compiler\u001b[0m\u001b[1;33m.\u001b[0m\u001b[0mcompile\u001b[0m\u001b[1;33m(\u001b[0m\u001b[0margs\u001b[0m\u001b[1;33m,\u001b[0m \u001b[0mreturn_type\u001b[0m\u001b[1;33m)\u001b[0m\u001b[1;33m\u001b[0m\u001b[1;33m\u001b[0m\u001b[0m\n\u001b[0m\u001b[0;32m    980\u001b[0m                     \u001b[1;32mexcept\u001b[0m \u001b[0merrors\u001b[0m\u001b[1;33m.\u001b[0m\u001b[0mForceLiteralArg\u001b[0m \u001b[1;32mas\u001b[0m \u001b[0me\u001b[0m\u001b[1;33m:\u001b[0m\u001b[1;33m\u001b[0m\u001b[1;33m\u001b[0m\u001b[0m\n\u001b[0;32m    981\u001b[0m                         \u001b[1;32mdef\u001b[0m \u001b[0mfolded\u001b[0m\u001b[1;33m(\u001b[0m\u001b[0margs\u001b[0m\u001b[1;33m,\u001b[0m \u001b[0mkws\u001b[0m\u001b[1;33m)\u001b[0m\u001b[1;33m:\u001b[0m\u001b[1;33m\u001b[0m\u001b[1;33m\u001b[0m\u001b[0m\n",
      "\u001b[1;32m~\\anaconda3\\envs\\tscode\\lib\\site-packages\\numba\\core\\dispatcher.py\u001b[0m in \u001b[0;36mcompile\u001b[1;34m(self, args, return_type)\u001b[0m\n\u001b[0;32m    139\u001b[0m \u001b[1;33m\u001b[0m\u001b[0m\n\u001b[0;32m    140\u001b[0m     \u001b[1;32mdef\u001b[0m \u001b[0mcompile\u001b[0m\u001b[1;33m(\u001b[0m\u001b[0mself\u001b[0m\u001b[1;33m,\u001b[0m \u001b[0margs\u001b[0m\u001b[1;33m,\u001b[0m \u001b[0mreturn_type\u001b[0m\u001b[1;33m)\u001b[0m\u001b[1;33m:\u001b[0m\u001b[1;33m\u001b[0m\u001b[1;33m\u001b[0m\u001b[0m\n\u001b[1;32m--> 141\u001b[1;33m         \u001b[0mstatus\u001b[0m\u001b[1;33m,\u001b[0m \u001b[0mretval\u001b[0m \u001b[1;33m=\u001b[0m \u001b[0mself\u001b[0m\u001b[1;33m.\u001b[0m\u001b[0m_compile_cached\u001b[0m\u001b[1;33m(\u001b[0m\u001b[0margs\u001b[0m\u001b[1;33m,\u001b[0m \u001b[0mreturn_type\u001b[0m\u001b[1;33m)\u001b[0m\u001b[1;33m\u001b[0m\u001b[1;33m\u001b[0m\u001b[0m\n\u001b[0m\u001b[0;32m    142\u001b[0m         \u001b[1;32mif\u001b[0m \u001b[0mstatus\u001b[0m\u001b[1;33m:\u001b[0m\u001b[1;33m\u001b[0m\u001b[1;33m\u001b[0m\u001b[0m\n\u001b[0;32m    143\u001b[0m             \u001b[1;32mreturn\u001b[0m \u001b[0mretval\u001b[0m\u001b[1;33m\u001b[0m\u001b[1;33m\u001b[0m\u001b[0m\n",
      "\u001b[1;32m~\\anaconda3\\envs\\tscode\\lib\\site-packages\\numba\\core\\dispatcher.py\u001b[0m in \u001b[0;36m_compile_cached\u001b[1;34m(self, args, return_type)\u001b[0m\n\u001b[0;32m    153\u001b[0m \u001b[1;33m\u001b[0m\u001b[0m\n\u001b[0;32m    154\u001b[0m         \u001b[1;32mtry\u001b[0m\u001b[1;33m:\u001b[0m\u001b[1;33m\u001b[0m\u001b[1;33m\u001b[0m\u001b[0m\n\u001b[1;32m--> 155\u001b[1;33m             \u001b[0mretval\u001b[0m \u001b[1;33m=\u001b[0m \u001b[0mself\u001b[0m\u001b[1;33m.\u001b[0m\u001b[0m_compile_core\u001b[0m\u001b[1;33m(\u001b[0m\u001b[0margs\u001b[0m\u001b[1;33m,\u001b[0m \u001b[0mreturn_type\u001b[0m\u001b[1;33m)\u001b[0m\u001b[1;33m\u001b[0m\u001b[1;33m\u001b[0m\u001b[0m\n\u001b[0m\u001b[0;32m    156\u001b[0m         \u001b[1;32mexcept\u001b[0m \u001b[0merrors\u001b[0m\u001b[1;33m.\u001b[0m\u001b[0mTypingError\u001b[0m \u001b[1;32mas\u001b[0m \u001b[0me\u001b[0m\u001b[1;33m:\u001b[0m\u001b[1;33m\u001b[0m\u001b[1;33m\u001b[0m\u001b[0m\n\u001b[0;32m    157\u001b[0m             \u001b[0mself\u001b[0m\u001b[1;33m.\u001b[0m\u001b[0m_failed_cache\u001b[0m\u001b[1;33m[\u001b[0m\u001b[0mkey\u001b[0m\u001b[1;33m]\u001b[0m \u001b[1;33m=\u001b[0m \u001b[0me\u001b[0m\u001b[1;33m\u001b[0m\u001b[1;33m\u001b[0m\u001b[0m\n",
      "\u001b[1;32m~\\anaconda3\\envs\\tscode\\lib\\site-packages\\numba\\core\\dispatcher.py\u001b[0m in \u001b[0;36m_compile_core\u001b[1;34m(self, args, return_type)\u001b[0m\n\u001b[0;32m    166\u001b[0m \u001b[1;33m\u001b[0m\u001b[0m\n\u001b[0;32m    167\u001b[0m         \u001b[0mimpl\u001b[0m \u001b[1;33m=\u001b[0m \u001b[0mself\u001b[0m\u001b[1;33m.\u001b[0m\u001b[0m_get_implementation\u001b[0m\u001b[1;33m(\u001b[0m\u001b[0margs\u001b[0m\u001b[1;33m,\u001b[0m \u001b[1;33m{\u001b[0m\u001b[1;33m}\u001b[0m\u001b[1;33m)\u001b[0m\u001b[1;33m\u001b[0m\u001b[1;33m\u001b[0m\u001b[0m\n\u001b[1;32m--> 168\u001b[1;33m         cres = compiler.compile_extra(self.targetdescr.typing_context,\n\u001b[0m\u001b[0;32m    169\u001b[0m                                       \u001b[0mself\u001b[0m\u001b[1;33m.\u001b[0m\u001b[0mtargetdescr\u001b[0m\u001b[1;33m.\u001b[0m\u001b[0mtarget_context\u001b[0m\u001b[1;33m,\u001b[0m\u001b[1;33m\u001b[0m\u001b[1;33m\u001b[0m\u001b[0m\n\u001b[0;32m    170\u001b[0m                                       \u001b[0mimpl\u001b[0m\u001b[1;33m,\u001b[0m\u001b[1;33m\u001b[0m\u001b[1;33m\u001b[0m\u001b[0m\n",
      "\u001b[1;32m~\\anaconda3\\envs\\tscode\\lib\\site-packages\\numba\\core\\compiler.py\u001b[0m in \u001b[0;36mcompile_extra\u001b[1;34m(typingctx, targetctx, func, args, return_type, flags, locals, library, pipeline_class)\u001b[0m\n\u001b[0;32m    684\u001b[0m     pipeline = pipeline_class(typingctx, targetctx, library,\n\u001b[0;32m    685\u001b[0m                               args, return_type, flags, locals)\n\u001b[1;32m--> 686\u001b[1;33m     \u001b[1;32mreturn\u001b[0m \u001b[0mpipeline\u001b[0m\u001b[1;33m.\u001b[0m\u001b[0mcompile_extra\u001b[0m\u001b[1;33m(\u001b[0m\u001b[0mfunc\u001b[0m\u001b[1;33m)\u001b[0m\u001b[1;33m\u001b[0m\u001b[1;33m\u001b[0m\u001b[0m\n\u001b[0m\u001b[0;32m    687\u001b[0m \u001b[1;33m\u001b[0m\u001b[0m\n\u001b[0;32m    688\u001b[0m \u001b[1;33m\u001b[0m\u001b[0m\n",
      "\u001b[1;32m~\\anaconda3\\envs\\tscode\\lib\\site-packages\\numba\\core\\compiler.py\u001b[0m in \u001b[0;36mcompile_extra\u001b[1;34m(self, func)\u001b[0m\n\u001b[0;32m    426\u001b[0m         \u001b[0mself\u001b[0m\u001b[1;33m.\u001b[0m\u001b[0mstate\u001b[0m\u001b[1;33m.\u001b[0m\u001b[0mlifted\u001b[0m \u001b[1;33m=\u001b[0m \u001b[1;33m(\u001b[0m\u001b[1;33m)\u001b[0m\u001b[1;33m\u001b[0m\u001b[1;33m\u001b[0m\u001b[0m\n\u001b[0;32m    427\u001b[0m         \u001b[0mself\u001b[0m\u001b[1;33m.\u001b[0m\u001b[0mstate\u001b[0m\u001b[1;33m.\u001b[0m\u001b[0mlifted_from\u001b[0m \u001b[1;33m=\u001b[0m \u001b[1;32mNone\u001b[0m\u001b[1;33m\u001b[0m\u001b[1;33m\u001b[0m\u001b[0m\n\u001b[1;32m--> 428\u001b[1;33m         \u001b[1;32mreturn\u001b[0m \u001b[0mself\u001b[0m\u001b[1;33m.\u001b[0m\u001b[0m_compile_bytecode\u001b[0m\u001b[1;33m(\u001b[0m\u001b[1;33m)\u001b[0m\u001b[1;33m\u001b[0m\u001b[1;33m\u001b[0m\u001b[0m\n\u001b[0m\u001b[0;32m    429\u001b[0m \u001b[1;33m\u001b[0m\u001b[0m\n\u001b[0;32m    430\u001b[0m     \u001b[1;32mdef\u001b[0m \u001b[0mcompile_ir\u001b[0m\u001b[1;33m(\u001b[0m\u001b[0mself\u001b[0m\u001b[1;33m,\u001b[0m \u001b[0mfunc_ir\u001b[0m\u001b[1;33m,\u001b[0m \u001b[0mlifted\u001b[0m\u001b[1;33m=\u001b[0m\u001b[1;33m(\u001b[0m\u001b[1;33m)\u001b[0m\u001b[1;33m,\u001b[0m \u001b[0mlifted_from\u001b[0m\u001b[1;33m=\u001b[0m\u001b[1;32mNone\u001b[0m\u001b[1;33m)\u001b[0m\u001b[1;33m:\u001b[0m\u001b[1;33m\u001b[0m\u001b[1;33m\u001b[0m\u001b[0m\n",
      "\u001b[1;32m~\\anaconda3\\envs\\tscode\\lib\\site-packages\\numba\\core\\compiler.py\u001b[0m in \u001b[0;36m_compile_bytecode\u001b[1;34m(self)\u001b[0m\n\u001b[0;32m    490\u001b[0m         \"\"\"\n\u001b[0;32m    491\u001b[0m         \u001b[1;32massert\u001b[0m \u001b[0mself\u001b[0m\u001b[1;33m.\u001b[0m\u001b[0mstate\u001b[0m\u001b[1;33m.\u001b[0m\u001b[0mfunc_ir\u001b[0m \u001b[1;32mis\u001b[0m \u001b[1;32mNone\u001b[0m\u001b[1;33m\u001b[0m\u001b[1;33m\u001b[0m\u001b[0m\n\u001b[1;32m--> 492\u001b[1;33m         \u001b[1;32mreturn\u001b[0m \u001b[0mself\u001b[0m\u001b[1;33m.\u001b[0m\u001b[0m_compile_core\u001b[0m\u001b[1;33m(\u001b[0m\u001b[1;33m)\u001b[0m\u001b[1;33m\u001b[0m\u001b[1;33m\u001b[0m\u001b[0m\n\u001b[0m\u001b[0;32m    493\u001b[0m \u001b[1;33m\u001b[0m\u001b[0m\n\u001b[0;32m    494\u001b[0m     \u001b[1;32mdef\u001b[0m \u001b[0m_compile_ir\u001b[0m\u001b[1;33m(\u001b[0m\u001b[0mself\u001b[0m\u001b[1;33m)\u001b[0m\u001b[1;33m:\u001b[0m\u001b[1;33m\u001b[0m\u001b[1;33m\u001b[0m\u001b[0m\n",
      "\u001b[1;32m~\\anaconda3\\envs\\tscode\\lib\\site-packages\\numba\\core\\compiler.py\u001b[0m in \u001b[0;36m_compile_core\u001b[1;34m(self)\u001b[0m\n\u001b[0;32m    460\u001b[0m                 \u001b[0mres\u001b[0m \u001b[1;33m=\u001b[0m \u001b[1;32mNone\u001b[0m\u001b[1;33m\u001b[0m\u001b[1;33m\u001b[0m\u001b[0m\n\u001b[0;32m    461\u001b[0m                 \u001b[1;32mtry\u001b[0m\u001b[1;33m:\u001b[0m\u001b[1;33m\u001b[0m\u001b[1;33m\u001b[0m\u001b[0m\n\u001b[1;32m--> 462\u001b[1;33m                     \u001b[0mpm\u001b[0m\u001b[1;33m.\u001b[0m\u001b[0mrun\u001b[0m\u001b[1;33m(\u001b[0m\u001b[0mself\u001b[0m\u001b[1;33m.\u001b[0m\u001b[0mstate\u001b[0m\u001b[1;33m)\u001b[0m\u001b[1;33m\u001b[0m\u001b[1;33m\u001b[0m\u001b[0m\n\u001b[0m\u001b[0;32m    463\u001b[0m                     \u001b[1;32mif\u001b[0m \u001b[0mself\u001b[0m\u001b[1;33m.\u001b[0m\u001b[0mstate\u001b[0m\u001b[1;33m.\u001b[0m\u001b[0mcr\u001b[0m \u001b[1;32mis\u001b[0m \u001b[1;32mnot\u001b[0m \u001b[1;32mNone\u001b[0m\u001b[1;33m:\u001b[0m\u001b[1;33m\u001b[0m\u001b[1;33m\u001b[0m\u001b[0m\n\u001b[0;32m    464\u001b[0m                         \u001b[1;32mbreak\u001b[0m\u001b[1;33m\u001b[0m\u001b[1;33m\u001b[0m\u001b[0m\n",
      "\u001b[1;32m~\\anaconda3\\envs\\tscode\\lib\\site-packages\\numba\\core\\compiler_machinery.py\u001b[0m in \u001b[0;36mrun\u001b[1;34m(self, state)\u001b[0m\n\u001b[0;32m    332\u001b[0m                 \u001b[0mpass_inst\u001b[0m \u001b[1;33m=\u001b[0m \u001b[0m_pass_registry\u001b[0m\u001b[1;33m.\u001b[0m\u001b[0mget\u001b[0m\u001b[1;33m(\u001b[0m\u001b[0mpss\u001b[0m\u001b[1;33m)\u001b[0m\u001b[1;33m.\u001b[0m\u001b[0mpass_inst\u001b[0m\u001b[1;33m\u001b[0m\u001b[1;33m\u001b[0m\u001b[0m\n\u001b[0;32m    333\u001b[0m                 \u001b[1;32mif\u001b[0m \u001b[0misinstance\u001b[0m\u001b[1;33m(\u001b[0m\u001b[0mpass_inst\u001b[0m\u001b[1;33m,\u001b[0m \u001b[0mCompilerPass\u001b[0m\u001b[1;33m)\u001b[0m\u001b[1;33m:\u001b[0m\u001b[1;33m\u001b[0m\u001b[1;33m\u001b[0m\u001b[0m\n\u001b[1;32m--> 334\u001b[1;33m                     \u001b[0mself\u001b[0m\u001b[1;33m.\u001b[0m\u001b[0m_runPass\u001b[0m\u001b[1;33m(\u001b[0m\u001b[0midx\u001b[0m\u001b[1;33m,\u001b[0m \u001b[0mpass_inst\u001b[0m\u001b[1;33m,\u001b[0m \u001b[0mstate\u001b[0m\u001b[1;33m)\u001b[0m\u001b[1;33m\u001b[0m\u001b[1;33m\u001b[0m\u001b[0m\n\u001b[0m\u001b[0;32m    335\u001b[0m                 \u001b[1;32melse\u001b[0m\u001b[1;33m:\u001b[0m\u001b[1;33m\u001b[0m\u001b[1;33m\u001b[0m\u001b[0m\n\u001b[0;32m    336\u001b[0m                     \u001b[1;32mraise\u001b[0m \u001b[0mBaseException\u001b[0m\u001b[1;33m(\u001b[0m\u001b[1;34m\"Legacy pass in use\"\u001b[0m\u001b[1;33m)\u001b[0m\u001b[1;33m\u001b[0m\u001b[1;33m\u001b[0m\u001b[0m\n",
      "\u001b[1;32m~\\anaconda3\\envs\\tscode\\lib\\site-packages\\numba\\core\\compiler_lock.py\u001b[0m in \u001b[0;36m_acquire_compile_lock\u001b[1;34m(*args, **kwargs)\u001b[0m\n\u001b[0;32m     33\u001b[0m         \u001b[1;32mdef\u001b[0m \u001b[0m_acquire_compile_lock\u001b[0m\u001b[1;33m(\u001b[0m\u001b[1;33m*\u001b[0m\u001b[0margs\u001b[0m\u001b[1;33m,\u001b[0m \u001b[1;33m**\u001b[0m\u001b[0mkwargs\u001b[0m\u001b[1;33m)\u001b[0m\u001b[1;33m:\u001b[0m\u001b[1;33m\u001b[0m\u001b[1;33m\u001b[0m\u001b[0m\n\u001b[0;32m     34\u001b[0m             \u001b[1;32mwith\u001b[0m \u001b[0mself\u001b[0m\u001b[1;33m:\u001b[0m\u001b[1;33m\u001b[0m\u001b[1;33m\u001b[0m\u001b[0m\n\u001b[1;32m---> 35\u001b[1;33m                 \u001b[1;32mreturn\u001b[0m \u001b[0mfunc\u001b[0m\u001b[1;33m(\u001b[0m\u001b[1;33m*\u001b[0m\u001b[0margs\u001b[0m\u001b[1;33m,\u001b[0m \u001b[1;33m**\u001b[0m\u001b[0mkwargs\u001b[0m\u001b[1;33m)\u001b[0m\u001b[1;33m\u001b[0m\u001b[1;33m\u001b[0m\u001b[0m\n\u001b[0m\u001b[0;32m     36\u001b[0m         \u001b[1;32mreturn\u001b[0m \u001b[0m_acquire_compile_lock\u001b[0m\u001b[1;33m\u001b[0m\u001b[1;33m\u001b[0m\u001b[0m\n\u001b[0;32m     37\u001b[0m \u001b[1;33m\u001b[0m\u001b[0m\n",
      "\u001b[1;32m~\\anaconda3\\envs\\tscode\\lib\\site-packages\\numba\\core\\compiler_machinery.py\u001b[0m in \u001b[0;36m_runPass\u001b[1;34m(self, index, pss, internal_state)\u001b[0m\n\u001b[0;32m    287\u001b[0m             \u001b[0mmutated\u001b[0m \u001b[1;33m|=\u001b[0m \u001b[0mcheck\u001b[0m\u001b[1;33m(\u001b[0m\u001b[0mpss\u001b[0m\u001b[1;33m.\u001b[0m\u001b[0mrun_initialization\u001b[0m\u001b[1;33m,\u001b[0m \u001b[0minternal_state\u001b[0m\u001b[1;33m)\u001b[0m\u001b[1;33m\u001b[0m\u001b[1;33m\u001b[0m\u001b[0m\n\u001b[0;32m    288\u001b[0m         \u001b[1;32mwith\u001b[0m \u001b[0mSimpleTimer\u001b[0m\u001b[1;33m(\u001b[0m\u001b[1;33m)\u001b[0m \u001b[1;32mas\u001b[0m \u001b[0mpass_time\u001b[0m\u001b[1;33m:\u001b[0m\u001b[1;33m\u001b[0m\u001b[1;33m\u001b[0m\u001b[0m\n\u001b[1;32m--> 289\u001b[1;33m             \u001b[0mmutated\u001b[0m \u001b[1;33m|=\u001b[0m \u001b[0mcheck\u001b[0m\u001b[1;33m(\u001b[0m\u001b[0mpss\u001b[0m\u001b[1;33m.\u001b[0m\u001b[0mrun_pass\u001b[0m\u001b[1;33m,\u001b[0m \u001b[0minternal_state\u001b[0m\u001b[1;33m)\u001b[0m\u001b[1;33m\u001b[0m\u001b[1;33m\u001b[0m\u001b[0m\n\u001b[0m\u001b[0;32m    290\u001b[0m         \u001b[1;32mwith\u001b[0m \u001b[0mSimpleTimer\u001b[0m\u001b[1;33m(\u001b[0m\u001b[1;33m)\u001b[0m \u001b[1;32mas\u001b[0m \u001b[0mfinalize_time\u001b[0m\u001b[1;33m:\u001b[0m\u001b[1;33m\u001b[0m\u001b[1;33m\u001b[0m\u001b[0m\n\u001b[0;32m    291\u001b[0m             \u001b[0mmutated\u001b[0m \u001b[1;33m|=\u001b[0m \u001b[0mcheck\u001b[0m\u001b[1;33m(\u001b[0m\u001b[0mpss\u001b[0m\u001b[1;33m.\u001b[0m\u001b[0mrun_finalizer\u001b[0m\u001b[1;33m,\u001b[0m \u001b[0minternal_state\u001b[0m\u001b[1;33m)\u001b[0m\u001b[1;33m\u001b[0m\u001b[1;33m\u001b[0m\u001b[0m\n",
      "\u001b[1;32m~\\anaconda3\\envs\\tscode\\lib\\site-packages\\numba\\core\\compiler_machinery.py\u001b[0m in \u001b[0;36mcheck\u001b[1;34m(func, compiler_state)\u001b[0m\n\u001b[0;32m    260\u001b[0m \u001b[1;33m\u001b[0m\u001b[0m\n\u001b[0;32m    261\u001b[0m         \u001b[1;32mdef\u001b[0m \u001b[0mcheck\u001b[0m\u001b[1;33m(\u001b[0m\u001b[0mfunc\u001b[0m\u001b[1;33m,\u001b[0m \u001b[0mcompiler_state\u001b[0m\u001b[1;33m)\u001b[0m\u001b[1;33m:\u001b[0m\u001b[1;33m\u001b[0m\u001b[1;33m\u001b[0m\u001b[0m\n\u001b[1;32m--> 262\u001b[1;33m             \u001b[0mmangled\u001b[0m \u001b[1;33m=\u001b[0m \u001b[0mfunc\u001b[0m\u001b[1;33m(\u001b[0m\u001b[0mcompiler_state\u001b[0m\u001b[1;33m)\u001b[0m\u001b[1;33m\u001b[0m\u001b[1;33m\u001b[0m\u001b[0m\n\u001b[0m\u001b[0;32m    263\u001b[0m             \u001b[1;32mif\u001b[0m \u001b[0mmangled\u001b[0m \u001b[1;32mnot\u001b[0m \u001b[1;32min\u001b[0m \u001b[1;33m(\u001b[0m\u001b[1;32mTrue\u001b[0m\u001b[1;33m,\u001b[0m \u001b[1;32mFalse\u001b[0m\u001b[1;33m)\u001b[0m\u001b[1;33m:\u001b[0m\u001b[1;33m\u001b[0m\u001b[1;33m\u001b[0m\u001b[0m\n\u001b[0;32m    264\u001b[0m                 msg = (\"CompilerPass implementations should return True/False. \"\n",
      "\u001b[1;32m~\\anaconda3\\envs\\tscode\\lib\\site-packages\\numba\\core\\typed_passes.py\u001b[0m in \u001b[0;36mrun_pass\u001b[1;34m(self, state)\u001b[0m\n\u001b[0;32m    423\u001b[0m                 \u001b[1;31m# Insert native function for use by other jitted-functions.\u001b[0m\u001b[1;33m\u001b[0m\u001b[1;33m\u001b[0m\u001b[1;33m\u001b[0m\u001b[0m\n\u001b[0;32m    424\u001b[0m                 \u001b[1;31m# We also register its library to allow for inlining.\u001b[0m\u001b[1;33m\u001b[0m\u001b[1;33m\u001b[0m\u001b[1;33m\u001b[0m\u001b[0m\n\u001b[1;32m--> 425\u001b[1;33m                 \u001b[0mcfunc\u001b[0m \u001b[1;33m=\u001b[0m \u001b[0mtargetctx\u001b[0m\u001b[1;33m.\u001b[0m\u001b[0mget_executable\u001b[0m\u001b[1;33m(\u001b[0m\u001b[0mlibrary\u001b[0m\u001b[1;33m,\u001b[0m \u001b[0mfndesc\u001b[0m\u001b[1;33m,\u001b[0m \u001b[0menv\u001b[0m\u001b[1;33m)\u001b[0m\u001b[1;33m\u001b[0m\u001b[1;33m\u001b[0m\u001b[0m\n\u001b[0m\u001b[0;32m    426\u001b[0m                 \u001b[0mtargetctx\u001b[0m\u001b[1;33m.\u001b[0m\u001b[0minsert_user_function\u001b[0m\u001b[1;33m(\u001b[0m\u001b[0mcfunc\u001b[0m\u001b[1;33m,\u001b[0m \u001b[0mfndesc\u001b[0m\u001b[1;33m,\u001b[0m \u001b[1;33m[\u001b[0m\u001b[0mlibrary\u001b[0m\u001b[1;33m]\u001b[0m\u001b[1;33m)\u001b[0m\u001b[1;33m\u001b[0m\u001b[1;33m\u001b[0m\u001b[0m\n\u001b[0;32m    427\u001b[0m                 state['cr'] = _LowerResult(fndesc, call_helper,\n",
      "\u001b[1;32m~\\anaconda3\\envs\\tscode\\lib\\site-packages\\numba\\core\\cpu.py\u001b[0m in \u001b[0;36mget_executable\u001b[1;34m(self, library, fndesc, env)\u001b[0m\n\u001b[0;32m    228\u001b[0m         \"\"\"\n\u001b[0;32m    229\u001b[0m         \u001b[1;31m# Code generation\u001b[0m\u001b[1;33m\u001b[0m\u001b[1;33m\u001b[0m\u001b[1;33m\u001b[0m\u001b[0m\n\u001b[1;32m--> 230\u001b[1;33m         \u001b[0mbaseptr\u001b[0m \u001b[1;33m=\u001b[0m \u001b[0mlibrary\u001b[0m\u001b[1;33m.\u001b[0m\u001b[0mget_pointer_to_function\u001b[0m\u001b[1;33m(\u001b[0m\u001b[0mfndesc\u001b[0m\u001b[1;33m.\u001b[0m\u001b[0mllvm_func_name\u001b[0m\u001b[1;33m)\u001b[0m\u001b[1;33m\u001b[0m\u001b[1;33m\u001b[0m\u001b[0m\n\u001b[0m\u001b[0;32m    231\u001b[0m         \u001b[0mfnptr\u001b[0m \u001b[1;33m=\u001b[0m \u001b[0mlibrary\u001b[0m\u001b[1;33m.\u001b[0m\u001b[0mget_pointer_to_function\u001b[0m\u001b[1;33m(\u001b[0m\u001b[0mfndesc\u001b[0m\u001b[1;33m.\u001b[0m\u001b[0mllvm_cpython_wrapper_name\u001b[0m\u001b[1;33m)\u001b[0m\u001b[1;33m\u001b[0m\u001b[1;33m\u001b[0m\u001b[0m\n\u001b[0;32m    232\u001b[0m \u001b[1;33m\u001b[0m\u001b[0m\n",
      "\u001b[1;32m~\\anaconda3\\envs\\tscode\\lib\\site-packages\\numba\\core\\codegen.py\u001b[0m in \u001b[0;36mget_pointer_to_function\u001b[1;34m(self, name)\u001b[0m\n\u001b[0;32m    986\u001b[0m             \u001b[1;33m-\u001b[0m \u001b[0mnon\u001b[0m\u001b[1;33m-\u001b[0m\u001b[0mzero\u001b[0m \u001b[1;32mif\u001b[0m \u001b[0mthe\u001b[0m \u001b[0msymbol\u001b[0m \u001b[1;32mis\u001b[0m \u001b[0mdefined\u001b[0m\u001b[1;33m.\u001b[0m\u001b[1;33m\u001b[0m\u001b[1;33m\u001b[0m\u001b[0m\n\u001b[0;32m    987\u001b[0m         \"\"\"\n\u001b[1;32m--> 988\u001b[1;33m         \u001b[0mself\u001b[0m\u001b[1;33m.\u001b[0m\u001b[0m_ensure_finalized\u001b[0m\u001b[1;33m(\u001b[0m\u001b[1;33m)\u001b[0m\u001b[1;33m\u001b[0m\u001b[1;33m\u001b[0m\u001b[0m\n\u001b[0m\u001b[0;32m    989\u001b[0m         \u001b[0mee\u001b[0m \u001b[1;33m=\u001b[0m \u001b[0mself\u001b[0m\u001b[1;33m.\u001b[0m\u001b[0m_codegen\u001b[0m\u001b[1;33m.\u001b[0m\u001b[0m_engine\u001b[0m\u001b[1;33m\u001b[0m\u001b[1;33m\u001b[0m\u001b[0m\n\u001b[0;32m    990\u001b[0m         \u001b[1;32mif\u001b[0m \u001b[1;32mnot\u001b[0m \u001b[0mee\u001b[0m\u001b[1;33m.\u001b[0m\u001b[0mis_symbol_defined\u001b[0m\u001b[1;33m(\u001b[0m\u001b[0mname\u001b[0m\u001b[1;33m)\u001b[0m\u001b[1;33m:\u001b[0m\u001b[1;33m\u001b[0m\u001b[1;33m\u001b[0m\u001b[0m\n",
      "\u001b[1;32m~\\anaconda3\\envs\\tscode\\lib\\site-packages\\numba\\core\\codegen.py\u001b[0m in \u001b[0;36m_ensure_finalized\u001b[1;34m(self)\u001b[0m\n\u001b[0;32m    566\u001b[0m     \u001b[1;32mdef\u001b[0m \u001b[0m_ensure_finalized\u001b[0m\u001b[1;33m(\u001b[0m\u001b[0mself\u001b[0m\u001b[1;33m)\u001b[0m\u001b[1;33m:\u001b[0m\u001b[1;33m\u001b[0m\u001b[1;33m\u001b[0m\u001b[0m\n\u001b[0;32m    567\u001b[0m         \u001b[1;32mif\u001b[0m \u001b[1;32mnot\u001b[0m \u001b[0mself\u001b[0m\u001b[1;33m.\u001b[0m\u001b[0m_finalized\u001b[0m\u001b[1;33m:\u001b[0m\u001b[1;33m\u001b[0m\u001b[1;33m\u001b[0m\u001b[0m\n\u001b[1;32m--> 568\u001b[1;33m             \u001b[0mself\u001b[0m\u001b[1;33m.\u001b[0m\u001b[0mfinalize\u001b[0m\u001b[1;33m(\u001b[0m\u001b[1;33m)\u001b[0m\u001b[1;33m\u001b[0m\u001b[1;33m\u001b[0m\u001b[0m\n\u001b[0m\u001b[0;32m    569\u001b[0m \u001b[1;33m\u001b[0m\u001b[0m\n\u001b[0;32m    570\u001b[0m     \u001b[1;32mdef\u001b[0m \u001b[0mcreate_ir_module\u001b[0m\u001b[1;33m(\u001b[0m\u001b[0mself\u001b[0m\u001b[1;33m,\u001b[0m \u001b[0mname\u001b[0m\u001b[1;33m)\u001b[0m\u001b[1;33m:\u001b[0m\u001b[1;33m\u001b[0m\u001b[1;33m\u001b[0m\u001b[0m\n",
      "\u001b[1;32m~\\anaconda3\\envs\\tscode\\lib\\site-packages\\numba\\core\\codegen.py\u001b[0m in \u001b[0;36mfinalize\u001b[1;34m(self)\u001b[0m\n\u001b[0;32m    764\u001b[0m \u001b[1;33m\u001b[0m\u001b[0m\n\u001b[0;32m    765\u001b[0m         \u001b[0mself\u001b[0m\u001b[1;33m.\u001b[0m\u001b[0m_final_module\u001b[0m\u001b[1;33m.\u001b[0m\u001b[0mverify\u001b[0m\u001b[1;33m(\u001b[0m\u001b[1;33m)\u001b[0m\u001b[1;33m\u001b[0m\u001b[1;33m\u001b[0m\u001b[0m\n\u001b[1;32m--> 766\u001b[1;33m         \u001b[0mself\u001b[0m\u001b[1;33m.\u001b[0m\u001b[0m_finalize_final_module\u001b[0m\u001b[1;33m(\u001b[0m\u001b[1;33m)\u001b[0m\u001b[1;33m\u001b[0m\u001b[1;33m\u001b[0m\u001b[0m\n\u001b[0m\u001b[0;32m    767\u001b[0m \u001b[1;33m\u001b[0m\u001b[0m\n\u001b[0;32m    768\u001b[0m     \u001b[1;32mdef\u001b[0m \u001b[0m_finalize_dynamic_globals\u001b[0m\u001b[1;33m(\u001b[0m\u001b[0mself\u001b[0m\u001b[1;33m)\u001b[0m\u001b[1;33m:\u001b[0m\u001b[1;33m\u001b[0m\u001b[1;33m\u001b[0m\u001b[0m\n",
      "\u001b[1;32m~\\anaconda3\\envs\\tscode\\lib\\site-packages\\numba\\core\\codegen.py\u001b[0m in \u001b[0;36m_finalize_final_module\u001b[1;34m(self)\u001b[0m\n\u001b[0;32m    796\u001b[0m         \u001b[1;32mif\u001b[0m \u001b[0mcleanup\u001b[0m\u001b[1;33m:\u001b[0m\u001b[1;33m\u001b[0m\u001b[1;33m\u001b[0m\u001b[0m\n\u001b[0;32m    797\u001b[0m             \u001b[0mweakref\u001b[0m\u001b[1;33m.\u001b[0m\u001b[0mfinalize\u001b[0m\u001b[1;33m(\u001b[0m\u001b[0mself\u001b[0m\u001b[1;33m,\u001b[0m \u001b[0mcleanup\u001b[0m\u001b[1;33m)\u001b[0m\u001b[1;33m\u001b[0m\u001b[1;33m\u001b[0m\u001b[0m\n\u001b[1;32m--> 798\u001b[1;33m         \u001b[0mself\u001b[0m\u001b[1;33m.\u001b[0m\u001b[0m_finalize_specific\u001b[0m\u001b[1;33m(\u001b[0m\u001b[1;33m)\u001b[0m\u001b[1;33m\u001b[0m\u001b[1;33m\u001b[0m\u001b[0m\n\u001b[0m\u001b[0;32m    799\u001b[0m \u001b[1;33m\u001b[0m\u001b[0m\n\u001b[0;32m    800\u001b[0m         \u001b[0mself\u001b[0m\u001b[1;33m.\u001b[0m\u001b[0m_finalized\u001b[0m \u001b[1;33m=\u001b[0m \u001b[1;32mTrue\u001b[0m\u001b[1;33m\u001b[0m\u001b[1;33m\u001b[0m\u001b[0m\n",
      "\u001b[1;32m~\\anaconda3\\envs\\tscode\\lib\\site-packages\\numba\\core\\codegen.py\u001b[0m in \u001b[0;36m_finalize_specific\u001b[1;34m(self)\u001b[0m\n\u001b[0;32m    996\u001b[0m         \u001b[0mself\u001b[0m\u001b[1;33m.\u001b[0m\u001b[0m_codegen\u001b[0m\u001b[1;33m.\u001b[0m\u001b[0m_scan_and_fix_unresolved_refs\u001b[0m\u001b[1;33m(\u001b[0m\u001b[0mself\u001b[0m\u001b[1;33m.\u001b[0m\u001b[0m_final_module\u001b[0m\u001b[1;33m)\u001b[0m\u001b[1;33m\u001b[0m\u001b[1;33m\u001b[0m\u001b[0m\n\u001b[0;32m    997\u001b[0m         \u001b[1;32mwith\u001b[0m \u001b[0mself\u001b[0m\u001b[1;33m.\u001b[0m\u001b[0m_recorded_timings\u001b[0m\u001b[1;33m.\u001b[0m\u001b[0mrecord\u001b[0m\u001b[1;33m(\u001b[0m\u001b[1;34m\"Finalize object\"\u001b[0m\u001b[1;33m)\u001b[0m\u001b[1;33m:\u001b[0m\u001b[1;33m\u001b[0m\u001b[1;33m\u001b[0m\u001b[0m\n\u001b[1;32m--> 998\u001b[1;33m             \u001b[0mself\u001b[0m\u001b[1;33m.\u001b[0m\u001b[0m_codegen\u001b[0m\u001b[1;33m.\u001b[0m\u001b[0m_engine\u001b[0m\u001b[1;33m.\u001b[0m\u001b[0mfinalize_object\u001b[0m\u001b[1;33m(\u001b[0m\u001b[1;33m)\u001b[0m\u001b[1;33m\u001b[0m\u001b[1;33m\u001b[0m\u001b[0m\n\u001b[0m\u001b[0;32m    999\u001b[0m \u001b[1;33m\u001b[0m\u001b[0m\n\u001b[0;32m   1000\u001b[0m \u001b[1;33m\u001b[0m\u001b[0m\n",
      "\u001b[1;32m~\\anaconda3\\envs\\tscode\\lib\\site-packages\\numba\\core\\codegen.py\u001b[0m in \u001b[0;36mwrapper\u001b[1;34m(self, *args, **kwargs)\u001b[0m\n\u001b[0;32m   1058\u001b[0m     \u001b[1;33m@\u001b[0m\u001b[0mfunctools\u001b[0m\u001b[1;33m.\u001b[0m\u001b[0mwraps\u001b[0m\u001b[1;33m(\u001b[0m\u001b[0mold\u001b[0m\u001b[1;33m)\u001b[0m\u001b[1;33m\u001b[0m\u001b[1;33m\u001b[0m\u001b[0m\n\u001b[0;32m   1059\u001b[0m     \u001b[1;32mdef\u001b[0m \u001b[0mwrapper\u001b[0m\u001b[1;33m(\u001b[0m\u001b[0mself\u001b[0m\u001b[1;33m,\u001b[0m \u001b[1;33m*\u001b[0m\u001b[0margs\u001b[0m\u001b[1;33m,\u001b[0m \u001b[1;33m**\u001b[0m\u001b[0mkwargs\u001b[0m\u001b[1;33m)\u001b[0m\u001b[1;33m:\u001b[0m\u001b[1;33m\u001b[0m\u001b[1;33m\u001b[0m\u001b[0m\n\u001b[1;32m-> 1060\u001b[1;33m         \u001b[1;32mreturn\u001b[0m \u001b[0mold\u001b[0m\u001b[1;33m(\u001b[0m\u001b[0mself\u001b[0m\u001b[1;33m.\u001b[0m\u001b[0m_ee\u001b[0m\u001b[1;33m,\u001b[0m \u001b[1;33m*\u001b[0m\u001b[0margs\u001b[0m\u001b[1;33m,\u001b[0m \u001b[1;33m**\u001b[0m\u001b[0mkwargs\u001b[0m\u001b[1;33m)\u001b[0m\u001b[1;33m\u001b[0m\u001b[1;33m\u001b[0m\u001b[0m\n\u001b[0m\u001b[0;32m   1061\u001b[0m     \u001b[1;32mreturn\u001b[0m \u001b[0mwrapper\u001b[0m\u001b[1;33m\u001b[0m\u001b[1;33m\u001b[0m\u001b[0m\n\u001b[0;32m   1062\u001b[0m \u001b[1;33m\u001b[0m\u001b[0m\n",
      "\u001b[1;32m~\\anaconda3\\envs\\tscode\\lib\\site-packages\\llvmlite\\binding\\executionengine.py\u001b[0m in \u001b[0;36mfinalize_object\u001b[1;34m(self)\u001b[0m\n\u001b[0;32m     90\u001b[0m         \u001b[1;32mand\u001b[0m \u001b[1;34m\"usable\"\u001b[0m \u001b[1;32mfor\u001b[0m \u001b[0mexecution\u001b[0m\u001b[1;33m.\u001b[0m\u001b[1;33m\u001b[0m\u001b[1;33m\u001b[0m\u001b[0m\n\u001b[0;32m     91\u001b[0m         \"\"\"\n\u001b[1;32m---> 92\u001b[1;33m         \u001b[0mffi\u001b[0m\u001b[1;33m.\u001b[0m\u001b[0mlib\u001b[0m\u001b[1;33m.\u001b[0m\u001b[0mLLVMPY_FinalizeObject\u001b[0m\u001b[1;33m(\u001b[0m\u001b[0mself\u001b[0m\u001b[1;33m)\u001b[0m\u001b[1;33m\u001b[0m\u001b[1;33m\u001b[0m\u001b[0m\n\u001b[0m\u001b[0;32m     93\u001b[0m \u001b[1;33m\u001b[0m\u001b[0m\n\u001b[0;32m     94\u001b[0m     \u001b[1;32mdef\u001b[0m \u001b[0mrun_static_constructors\u001b[0m\u001b[1;33m(\u001b[0m\u001b[0mself\u001b[0m\u001b[1;33m)\u001b[0m\u001b[1;33m:\u001b[0m\u001b[1;33m\u001b[0m\u001b[1;33m\u001b[0m\u001b[0m\n",
      "\u001b[1;32m~\\anaconda3\\envs\\tscode\\lib\\site-packages\\llvmlite\\binding\\ffi.py\u001b[0m in \u001b[0;36m__call__\u001b[1;34m(self, *args, **kwargs)\u001b[0m\n\u001b[0;32m    149\u001b[0m     \u001b[1;32mdef\u001b[0m \u001b[0m__call__\u001b[0m\u001b[1;33m(\u001b[0m\u001b[0mself\u001b[0m\u001b[1;33m,\u001b[0m \u001b[1;33m*\u001b[0m\u001b[0margs\u001b[0m\u001b[1;33m,\u001b[0m \u001b[1;33m**\u001b[0m\u001b[0mkwargs\u001b[0m\u001b[1;33m)\u001b[0m\u001b[1;33m:\u001b[0m\u001b[1;33m\u001b[0m\u001b[1;33m\u001b[0m\u001b[0m\n\u001b[0;32m    150\u001b[0m         \u001b[1;32mwith\u001b[0m \u001b[0mself\u001b[0m\u001b[1;33m.\u001b[0m\u001b[0m_lock\u001b[0m\u001b[1;33m:\u001b[0m\u001b[1;33m\u001b[0m\u001b[1;33m\u001b[0m\u001b[0m\n\u001b[1;32m--> 151\u001b[1;33m             \u001b[1;32mreturn\u001b[0m \u001b[0mself\u001b[0m\u001b[1;33m.\u001b[0m\u001b[0m_cfn\u001b[0m\u001b[1;33m(\u001b[0m\u001b[1;33m*\u001b[0m\u001b[0margs\u001b[0m\u001b[1;33m,\u001b[0m \u001b[1;33m**\u001b[0m\u001b[0mkwargs\u001b[0m\u001b[1;33m)\u001b[0m\u001b[1;33m\u001b[0m\u001b[1;33m\u001b[0m\u001b[0m\n\u001b[0m\u001b[0;32m    152\u001b[0m \u001b[1;33m\u001b[0m\u001b[0m\n\u001b[0;32m    153\u001b[0m \u001b[1;33m\u001b[0m\u001b[0m\n",
      "\u001b[1;31mKeyboardInterrupt\u001b[0m: "
     ]
    }
   ],
   "source": [
    "%time cyclical_embed(embedder)"
   ]
  },
  {
   "cell_type": "code",
   "execution_count": null,
   "metadata": {},
   "outputs": [
    {
     "name": "stdout",
     "output_type": "stream",
     "text": [
      "\n",
      "--> Performing cyclical embed (698400 candidates)\n",
      "Embedding structures  |##################################################| 100.0% \n"
     ]
    },
    {
     "data": {
      "text/plain": [
       "array([[[-2.217693  , -3.97823347,  1.67203574],\n",
       "        [-1.97263602, -4.55921266,  0.44166294],\n",
       "        [-1.00803263, -4.05399341, -0.42258065],\n",
       "        ...,\n",
       "        [-0.1928466 , -0.86494394, -6.54777597],\n",
       "        [-2.31221913,  1.31263874, -7.01245704],\n",
       "        [-0.43184089,  1.43432951, -6.4989627 ]],\n",
       "\n",
       "       [[-2.217693  , -3.97823347,  1.67203574],\n",
       "        [-1.97263602, -4.55921266,  0.44166294],\n",
       "        [-1.00803263, -4.05399341, -0.42258065],\n",
       "        ...,\n",
       "        [-0.1928466 , -0.86494394, -6.54777597],\n",
       "        [-2.31221913,  1.31263874, -7.01245704],\n",
       "        [-0.43184089,  1.43432951, -6.4989627 ]],\n",
       "\n",
       "       [[-2.217693  , -3.97823347,  1.67203574],\n",
       "        [-1.97263602, -4.55921266,  0.44166294],\n",
       "        [-1.00803263, -4.05399341, -0.42258065],\n",
       "        ...,\n",
       "        [-0.1928466 , -0.86494394, -6.54777597],\n",
       "        [-2.31221913,  1.31263874, -7.01245704],\n",
       "        [-0.43184089,  1.43432951, -6.4989627 ]],\n",
       "\n",
       "       ...,\n",
       "\n",
       "       [[-2.217693  , -3.97823347,  1.67203574],\n",
       "        [-1.97263602, -4.55921266,  0.44166294],\n",
       "        [-1.00803263, -4.05399341, -0.42258065],\n",
       "        ...,\n",
       "        [-0.1928466 , -0.86494394, -6.54777597],\n",
       "        [-2.31221913,  1.31263874, -7.01245704],\n",
       "        [-0.43184089,  1.43432951, -6.4989627 ]],\n",
       "\n",
       "       [[-2.217693  , -3.97823347,  1.67203574],\n",
       "        [-1.97263602, -4.55921266,  0.44166294],\n",
       "        [-1.00803263, -4.05399341, -0.42258065],\n",
       "        ...,\n",
       "        [-0.1928466 , -0.86494394, -6.54777597],\n",
       "        [-2.31221913,  1.31263874, -7.01245704],\n",
       "        [-0.43184089,  1.43432951, -6.4989627 ]],\n",
       "\n",
       "       [[-2.217693  , -3.97823347,  1.67203574],\n",
       "        [-1.97263602, -4.55921266,  0.44166294],\n",
       "        [-1.00803263, -4.05399341, -0.42258065],\n",
       "        ...,\n",
       "        [-0.1928466 , -0.86494394, -6.54777597],\n",
       "        [-2.31221913,  1.31263874, -7.01245704],\n",
       "        [-0.43184089,  1.43432951, -6.4989627 ]]])"
      ]
     },
     "execution_count": 3,
     "metadata": {},
     "output_type": "execute_result"
    }
   ],
   "source": [
    "%time _fast_bimol_rigid_cyclical_embed(embedder)"
   ]
  },
  {
   "cell_type": "code",
   "execution_count": 6,
   "metadata": {},
   "outputs": [],
   "source": [
    "from tscode.utils import cartesian_product, polygonize\n",
    "from tscode.embeds import _get_cyclical_reactive_indexes, get_embed\n",
    "from tscode.algebra import align_vec_pair, rot_mat_from_pointer\n",
    "from tscode.python_functions import compenetration_check\n",
    "from tscode.errors import ZeroCandidatesError\n",
    "import numpy as np\n",
    "\n",
    "def new_fast_bimol_rigid_cyclical_embed(embedder):\n",
    "    '''\n",
    "    return threads: return embedded structures, with position and rotation attributes set, ready to be pumped\n",
    "                    into embedder.structures. Algorithm used is the \"cyclical\" algorithm (see docs).\n",
    "    '''\n",
    "    \n",
    "    embedder.log(f'\\n--> Performing {embedder.embed} embed ({embedder.candidates} candidates)')\n",
    "\n",
    "    conf_number = [len(mol.atomcoords) for mol in embedder.objects]\n",
    "    conf_indexes = cartesian_product(*[np.array(range(i)) for i in conf_number])\n",
    "\n",
    "    poses = []\n",
    "    constrained_indexes = []\n",
    "    for ci, conf_ids in enumerate(conf_indexes):\n",
    "\n",
    "        pivots_indexes = cartesian_product(*[range(len(mol.pivots[conf_ids[i]])) for i, mol in enumerate(embedder.objects)])\n",
    "        # indexes of pivots in each molecule self.pivots[conf] list. For three mols with 2 pivots each: [[0,0,0], [0,0,1], [0,1,0], ...]\n",
    "        \n",
    "        for p, pi in enumerate(pivots_indexes):\n",
    "            \n",
    "            pivots = [embedder.objects[m].pivots[conf_ids[m]][pi[m]] for m, _ in enumerate(embedder.objects)]\n",
    "            # getting the active pivot for each molecule for this run\n",
    "            \n",
    "            norms = np.linalg.norm(np.array([p.pivot for p in pivots]), axis=1)\n",
    "            # getting the pivots norms to feed into the polygonize function\n",
    "\n",
    "            if abs(norms[0] - norms[1]) > 5:\n",
    "                continue\n",
    "            # skip if norms are too different\n",
    "\n",
    "            polygon_vectors = polygonize(norms)\n",
    "\n",
    "            directions = np.array([[0, 1,0], [0,-1,0]])\n",
    "            # directions to orient the molecules toward, orthogonal to each vec_pair\n",
    "\n",
    "            for v, vecs in enumerate(polygon_vectors):\n",
    "            # getting vertexes to embed molecules with and iterating over start/end points\n",
    "\n",
    "                ids = _get_cyclical_reactive_indexes(embedder, pivots, v)\n",
    "                # get indexes of atoms that face each other\n",
    "\n",
    "                if not embedder.pairings_table or all([pair in ids for pair in embedder.pairings_table.values()]):\n",
    "                # ensure that the active arrangement has all the pairings that the user specified\n",
    "                        \n",
    "                    for angles in embedder.systematic_angles:\n",
    "\n",
    "                        for i, vec_pair in enumerate(vecs):\n",
    "                        # setting molecular positions and rotations (embedding)\n",
    "                        # i is the molecule index, vecs is a tuple of start and end positions\n",
    "                        # for the pivot vector\n",
    "\n",
    "                            start, end = vec_pair\n",
    "                            angle = angles[i]\n",
    "\n",
    "                            reactive_coords = embedder.objects[i].atomcoords[conf_ids[i]][embedder.objects[i].reactive_indexes]\n",
    "                            # coordinates for the reactive atoms in this run\n",
    "\n",
    "                            atomic_pivot_mean = np.mean(reactive_coords, axis=0)\n",
    "                            # mean position of the atoms active in this run \n",
    "\n",
    "                            mol_direction = pivots[i].meanpoint-atomic_pivot_mean\n",
    "                            if np.all(mol_direction == 0.):\n",
    "                                mol_direction = pivots[i].meanpoint\n",
    "                                # log.write(f'mol {i} - improper pivot? Thread {len(threads)-1}\\n')\n",
    "\n",
    "                            # Direction in which the molecule should be oriented, based on the mean of reactive\n",
    "                            # atom positions and the mean point of the active pivot for the run.\n",
    "                            # If this vector is too small and gets rounded to zero (as it can happen for\n",
    "                            # \"antrafacial\" vectors), we fallback to the vector starting from the molecule\n",
    "                            # center (mean of atomic positions) and ending in pivot_means[i], so to avoid\n",
    "                            # numeric errors in the next function.\n",
    "                                \n",
    "                            alignment_rotation = align_vec_pair(np.array([end-start, directions[i]]),\n",
    "                                                                np.array([pivots[i].pivot, mol_direction]))\n",
    "                            # this rotation superimposes the molecular orbitals active in this run (pivots[i].pivot\n",
    "                            # goes to end-start) and also aligns the molecules so that they face each other\n",
    "                            # (mol_direction goes to directions[i])\n",
    "                            \n",
    "                            if len(reactive_coords) == 2:\n",
    "                                axis_of_step_rotation = alignment_rotation @ (reactive_coords[0]-reactive_coords[1])\n",
    "                            else:\n",
    "                                axis_of_step_rotation = alignment_rotation @ pivots[i].pivot\n",
    "                            # molecules with two reactive atoms are step-rotated around the line connecting\n",
    "                            # the reactive atoms, while single reactive atom mols around their active pivot\n",
    "\n",
    "                            step_rotation = rot_mat_from_pointer(axis_of_step_rotation, angle)\n",
    "                            # this rotation cycles through all different rotation angles for each molecule\n",
    "\n",
    "                            center_of_rotation = alignment_rotation @ atomic_pivot_mean\n",
    "                            # center_of_rotation is the mean point between the reactive atoms so\n",
    "                            # as to keep the reactive distances constant\n",
    "\n",
    "                            embedder.objects[i].rotation = step_rotation @ alignment_rotation\n",
    "                            # overall rotation for the molecule is given by the matrices product\n",
    "\n",
    "                            pos = np.mean(vec_pair, axis=0) - alignment_rotation @ pivots[i].meanpoint\n",
    "                            embedder.objects[i].position = center_of_rotation - step_rotation @ center_of_rotation + pos\n",
    "                            # overall position is given by superimposing mean of active pivot (connecting orbitals)\n",
    "                            # to mean of vec_pair (defining the target position - the side of a triangle for three molecules)\n",
    "\n",
    "                        embedded_structure = get_embed(embedder.objects, conf_ids)\n",
    "                        if compenetration_check(embedded_structure, ids=embedder.ids, thresh=embedder.options.clash_thresh):\n",
    "\n",
    "                            poses.append(embedded_structure)\n",
    "                            constrained_indexes.append(ids)\n",
    "                            # Save indexes to be constrained later in the optimization step\n",
    "\n",
    "    embedder.constrained_indexes = np.array(constrained_indexes)\n",
    "\n",
    "    if not poses:\n",
    "        s = ('\\n--> Cyclical embed did not find any suitable disposition of molecules.\\n' +\n",
    "                '    This is probably because one molecule has two reactive centers at a great distance,\\n' +\n",
    "                '    preventing the other two molecules from forming a closed, cyclical structure.')\n",
    "        embedder.log(s, p=False)\n",
    "        raise ZeroCandidatesError(s)\n",
    "\n",
    "    return np.array(poses)\n"
   ]
  },
  {
   "cell_type": "code",
   "execution_count": 7,
   "metadata": {},
   "outputs": [
    {
     "name": "stdout",
     "output_type": "stream",
     "text": [
      "\n",
      "--> Performing cyclical embed (698400 candidates)\n"
     ]
    },
    {
     "data": {
      "text/plain": [
       "array([[[-2.217693  , -3.97823347,  1.67203574],\n",
       "        [-1.97263602, -4.55921266,  0.44166294],\n",
       "        [-1.00803263, -4.05399341, -0.42258065],\n",
       "        ...,\n",
       "        [-0.1928466 , -0.86494394, -6.54777597],\n",
       "        [-2.31221913,  1.31263874, -7.01245704],\n",
       "        [-0.43184089,  1.43432951, -6.4989627 ]],\n",
       "\n",
       "       [[-2.217693  , -3.97823347,  1.67203574],\n",
       "        [-1.97263602, -4.55921266,  0.44166294],\n",
       "        [-1.00803263, -4.05399341, -0.42258065],\n",
       "        ...,\n",
       "        [-0.1928466 , -0.86494394, -6.54777597],\n",
       "        [-2.31221913,  1.31263874, -7.01245704],\n",
       "        [-0.43184089,  1.43432951, -6.4989627 ]],\n",
       "\n",
       "       [[-2.217693  , -3.97823347,  1.67203574],\n",
       "        [-1.97263602, -4.55921266,  0.44166294],\n",
       "        [-1.00803263, -4.05399341, -0.42258065],\n",
       "        ...,\n",
       "        [-0.1928466 , -0.86494394, -6.54777597],\n",
       "        [-2.31221913,  1.31263874, -7.01245704],\n",
       "        [-0.43184089,  1.43432951, -6.4989627 ]],\n",
       "\n",
       "       ...,\n",
       "\n",
       "       [[-2.217693  , -3.97823347,  1.67203574],\n",
       "        [-1.97263602, -4.55921266,  0.44166294],\n",
       "        [-1.00803263, -4.05399341, -0.42258065],\n",
       "        ...,\n",
       "        [-0.1928466 , -0.86494394, -6.54777597],\n",
       "        [-2.31221913,  1.31263874, -7.01245704],\n",
       "        [-0.43184089,  1.43432951, -6.4989627 ]],\n",
       "\n",
       "       [[-2.217693  , -3.97823347,  1.67203574],\n",
       "        [-1.97263602, -4.55921266,  0.44166294],\n",
       "        [-1.00803263, -4.05399341, -0.42258065],\n",
       "        ...,\n",
       "        [-0.1928466 , -0.86494394, -6.54777597],\n",
       "        [-2.31221913,  1.31263874, -7.01245704],\n",
       "        [-0.43184089,  1.43432951, -6.4989627 ]],\n",
       "\n",
       "       [[-2.217693  , -3.97823347,  1.67203574],\n",
       "        [-1.97263602, -4.55921266,  0.44166294],\n",
       "        [-1.00803263, -4.05399341, -0.42258065],\n",
       "        ...,\n",
       "        [-0.1928466 , -0.86494394, -6.54777597],\n",
       "        [-2.31221913,  1.31263874, -7.01245704],\n",
       "        [-0.43184089,  1.43432951, -6.4989627 ]]])"
      ]
     },
     "execution_count": 7,
     "metadata": {},
     "output_type": "execute_result"
    }
   ],
   "source": [
    "new_fast_bimol_rigid_cyclical_embed(embedder)"
   ]
  },
  {
   "cell_type": "code",
   "execution_count": 10,
   "metadata": {},
   "outputs": [
    {
     "name": "stdout",
     "output_type": "stream",
     "text": [
      "\n",
      "--> Performing cyclical embed (698400 candidates)\n",
      "Embedding structures  |##################################################| 100.0% \n",
      " "
     ]
    },
    {
     "name": "stdout",
     "output_type": "stream",
     "text": [
      "         46879030 function calls (46862036 primitive calls) in 185.132 seconds\n",
      "\n",
      "   Ordered by: cumulative time\n",
      "\n",
      "   ncalls  tottime  percall  cumtime  percall filename:lineno(function)\n",
      "        1    0.000    0.000  185.132  185.132 {built-in method builtins.exec}\n",
      "        1    0.000    0.000  185.132  185.132 <string>:1(<module>)\n",
      "        1   57.934   57.934  185.132  185.132 embeds.py:585(fast_bimol_rigid_cyclical_embed)\n",
      "3538768/3521774    5.901    0.000   64.297    0.000 {built-in method numpy.core._multiarray_umath.implement_array_function}\n",
      "  2001600    2.568    0.000   53.982    0.000 <__array_function__ internals>:2(mean)\n",
      "  2001600    4.819    0.000   48.823    0.000 fromnumeric.py:3301(mean)\n",
      "  2001600   19.896    0.000   44.005    0.000 _methods.py:161(_mean)\n",
      "  1000800   17.979    0.000   19.147    0.000 algebra.py:258(align_vec_pair)\n",
      "  3009384   14.849    0.000   14.849    0.000 {method 'reduce' of 'numpy.ufunc' objects}\n",
      "   500400    1.705    0.000   13.641    0.000 embeds.py:868(get_embed)\n",
      "   500400   11.589    0.000   11.589    0.000 python_functions.py:46(compenetration_check)\n",
      "  1000800    0.977    0.000   10.812    0.000 <__array_function__ internals>:2(all)\n",
      "  4080144   10.802    0.000   10.802    0.000 {built-in method numpy.array}\n",
      "  2001600    7.861    0.000    9.630    0.000 _methods.py:65(_count_reduce_items)\n",
      "  1000800    1.517    0.000    8.719    0.000 fromnumeric.py:2355(all)\n",
      "   500400    8.372    0.000    8.372    0.000 embeds.py:876(<listcomp>)\n",
      "  1000800    2.655    0.000    7.202    0.000 fromnumeric.py:70(_wrapreduction)\n",
      "  1000800    4.499    0.000    5.207    0.000 algebra.py:325(rot_mat_from_pointer)\n",
      "   508897    0.634    0.000    3.657    0.000 <__array_function__ internals>:2(concatenate)\n",
      "  2025580    0.972    0.000    2.283    0.000 _asarray.py:110(asanyarray)\n",
      "  2001600    1.875    0.000    1.875    0.000 serialize.py:29(_numba_unpickle)\n",
      "     6985    0.070    0.000    1.407    0.000 utils.py:132(loadbar)\n",
      "     6987    0.054    0.000    1.304    0.000 {built-in method builtins.print}\n",
      "    13973    0.088    0.000    1.250    0.000 iostream.py:490(write)\n",
      "  4029161    1.206    0.000    1.206    0.000 {built-in method builtins.isinstance}\n",
      "    14805    0.086    0.000    1.106    0.000 iostream.py:206(schedule)\n",
      "  2005093    0.946    0.000    0.946    0.000 {built-in method numpy.core._multiarray_umath.normalize_axis_index}\n",
      "    14805    0.913    0.000    0.913    0.000 socket.py:438(send)\n",
      "  1000800    0.739    0.000    0.739    0.000 fromnumeric.py:71(<dictcomp>)\n",
      "  4010184    0.710    0.000    0.710    0.000 {built-in method builtins.issubclass}\n",
      "     3493    0.020    0.000    0.602    0.000 utils.py:140(cartesian_product)\n",
      "     5004    0.189    0.000    0.494    0.000 utils.py:170(polygonize)\n",
      "  2001600    0.492    0.000    0.492    0.000 fromnumeric.py:3296(_mean_dispatcher)\n",
      "     3493    0.010    0.000    0.441    0.000 <__array_function__ internals>:2(meshgrid)\n",
      "     3493    0.039    0.000    0.412    0.000 function_base.py:4177(meshgrid)\n",
      "  1093691    0.375    0.000    0.375    0.000 {built-in method builtins.len}\n",
      "  1000800    0.294    0.000    0.294    0.000 {method 'items' of 'dict' objects}\n",
      "     3493    0.010    0.000    0.260    0.000 <__array_function__ internals>:2(broadcast_arrays)\n",
      "     6984    0.019    0.000    0.258    0.000 <__array_function__ internals>:2(norm)\n",
      "     5004    0.011    0.000    0.248    0.000 <__array_function__ internals>:2(vstack)\n",
      "  1000800    0.247    0.000    0.247    0.000 fromnumeric.py:2350(_all_dispatcher)\n",
      "     3493    0.029    0.000    0.242    0.000 stride_tricks.py:478(broadcast_arrays)\n",
      "     6984    0.116    0.000    0.221    0.000 linalg.py:2362(norm)\n",
      "     5004    0.023    0.000    0.209    0.000 shape_base.py:223(vstack)\n",
      "     3493    0.009    0.000    0.159    0.000 stride_tricks.py:544(<listcomp>)\n",
      "   508897    0.156    0.000    0.156    0.000 multiarray.py:143(concatenate)\n",
      "    10008    0.060    0.000    0.152    0.000 embeds.py:708(_get_cyclical_reactive_indexes)\n",
      "     6986    0.119    0.000    0.150    0.000 stride_tricks.py:339(_broadcast_to)\n",
      "     3493    0.009    0.000    0.136    0.000 <__array_function__ internals>:2(stack)\n",
      "     5004    0.011    0.000    0.130    0.000 <__array_function__ internals>:2(atleast_2d)\n",
      "     5004    0.027    0.000    0.109    0.000 shape_base.py:82(atleast_2d)\n",
      "     3493    0.035    0.000    0.106    0.000 shape_base.py:358(stack)\n",
      "     3493    0.020    0.000    0.089    0.000 function_base.py:4288(<listcomp>)\n",
      "    14805    0.039    0.000    0.081    0.000 threading.py:1071(is_alive)\n",
      "    13973    0.009    0.000    0.060    0.000 iostream.py:427(_schedule_flush)\n",
      "    10008    0.017    0.000    0.048    0.000 embeds.py:726(<listcomp>)\n",
      "     6984    0.042    0.000    0.042    0.000 embeds.py:607(<listcomp>)\n",
      "    10008    0.042    0.000    0.042    0.000 embeds.py:714(<listcomp>)\n",
      "    13973    0.027    0.000    0.037    0.000 iostream.py:408(_is_master_process)\n",
      "    14805    0.017    0.000    0.036    0.000 threading.py:1017(_wait_for_tstate_lock)\n",
      "    10008    0.034    0.000    0.034    0.000 embeds.py:628(<listcomp>)\n",
      "     6985    0.034    0.000    0.034    0.000 {method 'format' of 'str' objects}\n",
      "     3493    0.032    0.000    0.033    0.000 stride_tricks.py:414(_broadcast_shape)\n",
      "    20016    0.031    0.000    0.031    0.000 embeds.py:716(orient)\n",
      "     3493    0.006    0.000    0.024    0.000 function_base.py:4301(<listcomp>)\n",
      "    14805    0.021    0.000    0.021    0.000 iostream.py:96(_event_pipe)\n",
      "     3492    0.019    0.000    0.021    0.000 embeds.py:600(<listcomp>)\n",
      "    14805    0.019    0.000    0.019    0.000 {method 'acquire' of '_thread.lock' objects}\n",
      "     8497    0.008    0.000    0.018    0.000 shape_base.py:208(_arrays_for_stack_dispatcher)\n",
      "     6986    0.018    0.000    0.018    0.000 {method 'copy' of 'numpy.ndarray' objects}\n",
      "     5004    0.006    0.000    0.018    0.000 shape_base.py:219(_vhstack_dispatcher)\n",
      "    10479    0.015    0.000    0.015    0.000 {method 'reshape' of 'numpy.ndarray' objects}\n",
      "     6986    0.008    0.000    0.014    0.000 {built-in method builtins.any}\n",
      "     3493    0.007    0.000    0.013    0.000 shape_base.py:349(_stack_dispatcher)\n",
      "    13501    0.009    0.000    0.013    0.000 {built-in method builtins.all}\n",
      "     3493    0.005    0.000    0.012    0.000 shape_base.py:421(<listcomp>)\n",
      "     6984    0.006    0.000    0.011    0.000 _asarray.py:23(asarray)\n",
      "     5004    0.011    0.000    0.011    0.000 {built-in method numpy.zeros}\n",
      "     8497    0.011    0.000    0.011    0.000 {built-in method builtins.hasattr}\n",
      "    13973    0.010    0.000    0.010    0.000 {built-in method nt.getpid}\n",
      "     3493    0.009    0.000    0.009    0.000 shape_base.py:425(<setcomp>)\n",
      "     6984    0.009    0.000    0.009    0.000 embeds.py:610(<listcomp>)\n",
      "     3493    0.005    0.000    0.009    0.000 stride_tricks.py:536(<listcomp>)\n",
      "     6986    0.006    0.000    0.008    0.000 function_base.py:244(iterable)\n",
      "    10478    0.008    0.000    0.008    0.000 stride_tricks.py:540(<genexpr>)\n",
      "     3493    0.008    0.000    0.008    0.000 shape_base.py:433(<listcomp>)\n",
      "     6984    0.005    0.000    0.005    0.000 {method 'conj' of 'numpy.ndarray' objects}\n",
      "    14805    0.005    0.000    0.005    0.000 threading.py:513(is_set)\n",
      "    20958    0.005    0.000    0.005    0.000 stride_tricks.py:344(<genexpr>)\n",
      "    14805    0.005    0.000    0.005    0.000 {method 'append' of 'collections.deque' objects}\n",
      "     6986    0.005    0.000    0.005    0.000 stride_tricks.py:25(_maybe_view_as_subclass)\n",
      "     6984    0.004    0.000    0.004    0.000 {built-in method builtins.abs}\n",
      "    10080    0.004    0.000    0.004    0.000 {method 'append' of 'list' objects}\n",
      "    10008    0.004    0.000    0.004    0.000 {method 'values' of 'dict' objects}\n",
      "     6984    0.003    0.000    0.003    0.000 linalg.py:2358(_norm_dispatcher)\n",
      "     6986    0.002    0.000    0.002    0.000 {built-in method builtins.iter}\n",
      "     5004    0.002    0.000    0.002    0.000 shape_base.py:78(_atleast_2d_dispatcher)\n",
      "     3493    0.001    0.000    0.001    0.000 function_base.py:4172(_meshgrid_dispatcher)\n",
      "     3493    0.001    0.000    0.001    0.000 stride_tricks.py:474(_broadcast_arrays_dispatcher)\n",
      "        1    0.000    0.000    0.001    0.001 embedder.py:109(log)\n",
      "        1    0.000    0.000    0.000    0.000 {method 'write' of '_io.TextIOWrapper' objects}\n",
      "        1    0.000    0.000    0.000    0.000 embeds.py:594(<listcomp>)\n",
      "        1    0.000    0.000    0.000    0.000 cp1252.py:18(encode)\n",
      "        1    0.000    0.000    0.000    0.000 embeds.py:593(<listcomp>)\n",
      "        1    0.000    0.000    0.000    0.000 {built-in method _codecs.charmap_encode}\n",
      "        1    0.000    0.000    0.000    0.000 {method 'disable' of '_lsprof.Profiler' objects}"
     ]
    }
   ],
   "source": [
    "%prun -s \"cumulative\" fast_bimol_rigid_cyclical_embed(embedder)"
   ]
  },
  {
   "cell_type": "code",
   "execution_count": null,
   "metadata": {},
   "outputs": [],
   "source": []
  },
  {
   "cell_type": "markdown",
   "metadata": {},
   "source": [
    "## DBSCAN Clustering"
   ]
  },
  {
   "cell_type": "code",
   "execution_count": 8,
   "metadata": {},
   "outputs": [
    {
     "data": {
      "text/plain": [
       "[Torsion(1, 0, 47, 48; 3-fold),\n",
       " Torsion(5, 35, 7, 15; 3-fold),\n",
       " Torsion(5, 35, 38, 39; 3-fold),\n",
       " Torsion(6, 5, 35, 7; 3-fold),\n",
       " Torsion(13, 37, 22, 23; 3-fold),\n",
       " Torsion(23, 22, 24, 25; 3-fold),\n",
       " Torsion(24, 22, 23, 31; 3-fold),\n",
       " Torsion(35, 38, 39, 40; 3-fold)]"
      ]
     },
     "execution_count": 8,
     "metadata": {},
     "output_type": "execute_result"
    }
   ],
   "source": [
    "from tscode.utils import read_xyz, graphize, write_xyz\n",
    "from tscode.clustered_csearch import _get_torsions, _get_hydrogen_bonds, get_double_bonds_indexes\n",
    "import matplotlib.pyplot as plt\n",
    "from sklearn.cluster import KMeans, dbscan\n",
    "import numpy as np\n",
    "import os\n",
    "\n",
    "mol = read_xyz(r'C:\\Users\\Nik\\Desktop\\P2\\binding_mode\\csearch_bind\\P2.xyz')\n",
    "coords = mol.atomcoords[0]\n",
    "graph = graphize(coords, mol.atomnos)\n",
    "hbs = _get_hydrogen_bonds(coords, mol.atomnos, graph)\n",
    "for hb in hbs:\n",
    "    graph.add_edge(*hb)\n",
    "db = get_double_bonds_indexes(coords, mol.atomnos)\n",
    "torsions = _get_torsions(graph, hbs, db)\n",
    "\n",
    "torsions"
   ]
  },
  {
   "cell_type": "code",
   "execution_count": 9,
   "metadata": {},
   "outputs": [],
   "source": [
    "os.chdir(r'C:\\Users\\Nik\\Desktop\\P2\\binding_mode\\csearch_bind')\n",
    "\n",
    "\n",
    "centers = np.array([np.mean((coords[torsion.i2], coords[torsion.i3]), axis=0) for torsion in torsions])\n",
    "with open('xxx.xyz', 'w') as f: \n",
    "    write_xyz(centers, np.array([0 for _ in centers]), f)\n"
   ]
  },
  {
   "cell_type": "code",
   "execution_count": 27,
   "metadata": {},
   "outputs": [
    {
     "data": {
      "text/plain": [
       "[[Torsion(1, 0, 47, 48; 3-fold)],\n",
       " [Torsion(13, 37, 22, 23; 3-fold),\n",
       "  Torsion(23, 22, 24, 25; 3-fold),\n",
       "  Torsion(24, 22, 23, 31; 3-fold)],\n",
       " [Torsion(5, 35, 7, 15; 3-fold),\n",
       "  Torsion(5, 35, 38, 39; 3-fold),\n",
       "  Torsion(6, 5, 35, 7; 3-fold),\n",
       "  Torsion(35, 38, 39, 40; 3-fold)]]"
      ]
     },
     "execution_count": 27,
     "metadata": {},
     "output_type": "execute_result"
    }
   ],
   "source": [
    "def _group_torsions_dbscan(coords, torsions, max_size=3):\n",
    "    '''\n",
    "    '''\n",
    "    torsions_indexes = [t.torsion for t in torsions]\n",
    "    # get torsion indexes\n",
    "\n",
    "    torsions_centers = np.array([np.mean((coords[i2], coords[i3]), axis=0) for _, i2, i3, _ in torsions_indexes])\n",
    "    # compute spatial distance\n",
    "\n",
    "    for eps in np.arange(10, 1.5, -0.5):\n",
    "        labels = dbscan(torsions_centers, eps=eps, min_samples=1)[1]\n",
    "        n_clusters = max(labels) + 1\n",
    "        biggest_cluster_size = max([np.count_nonzero(labels==i) for i in set(labels)])\n",
    "\n",
    "        if biggest_cluster_size <= max_size:\n",
    "            break\n",
    "\n",
    "    output = [[] for _ in range(n_clusters)]\n",
    "    for torsion, cluster in zip(torsions, labels):\n",
    "        output[cluster].append(torsion)\n",
    "\n",
    "    output = sorted(output, key=len)\n",
    "    # largest groups last\n",
    "    \n",
    "    return output\n",
    "\n",
    "\n",
    "_group_torsions_dbscan(coords, torsions)"
   ]
  },
  {
   "cell_type": "markdown",
   "metadata": {},
   "source": [
    "## Let's try to improve the clustering speed (KMeans?)"
   ]
  },
  {
   "cell_type": "code",
   "execution_count": null,
   "metadata": {},
   "outputs": [],
   "source": [
    "# can it also be that appending to list and then turning to numpy array is slower than np alone?"
   ]
  },
  {
   "cell_type": "code",
   "execution_count": 3,
   "metadata": {},
   "outputs": [
    {
     "data": {
      "text/plain": [
       "(1000, 141, 3)"
      ]
     },
     "execution_count": 3,
     "metadata": {},
     "output_type": "execute_result"
    }
   ],
   "source": [
    "from numba import njit\n",
    "import numpy as np\n",
    "from tscode.utils import read_xyz\n",
    "\n",
    "data = read_xyz(r'C:\\Users\\Nik\\Desktop\\P2\\binding_mode\\csearch_bind\\monobound\\TSCoDe_embedded_mono.xyz')\n",
    "data.atomcoords.shape"
   ]
  },
  {
   "cell_type": "code",
   "execution_count": 31,
   "metadata": {},
   "outputs": [
    {
     "data": {
      "text/plain": [
       "(5000, 141, 3)"
      ]
     },
     "execution_count": 31,
     "metadata": {},
     "output_type": "execute_result"
    }
   ],
   "source": [
    "x = 5\n",
    "data2 = np.concatenate([data.atomcoords for _ in range(x)])\n",
    "data2.shape"
   ]
  },
  {
   "cell_type": "code",
   "execution_count": 162,
   "metadata": {},
   "outputs": [
    {
     "data": {
      "text/plain": [
       "(10000, 71)"
      ]
     },
     "execution_count": 162,
     "metadata": {},
     "output_type": "execute_result"
    }
   ],
   "source": [
    "from sklearn.cluster import KMeans, dbscan\n",
    "from tscode.hypermolecule_class import align_structures\n",
    "# https://hdbscan.readthedocs.io/en/latest/performance_and_scalability.html\n",
    "\n",
    "# structures = data2\n",
    "structures = data.atomcoords\n",
    "\n",
    "structures = align_structures(structures)\n",
    "structures = np.concatenate([structures for _ in range(10)])\n",
    "features = structures.reshape((structures.shape[0], structures.shape[1]*structures.shape[2]))\n",
    "# reduce the dimensionality of the rest of the structure array to cluster them with KMeans\n",
    "\n",
    "features_l = np.linalg.norm(structures, axis=2)\n",
    "features_l.shape\n",
    "\n",
    "heavy_mask = data.atomnos != 1\n",
    "features_h = np.concatenate([data.atomcoords[:,heavy_mask] for _ in range(10)])\n",
    "features_h = np.linalg.norm(features_h, axis=2)\n",
    "features_h.shape"
   ]
  },
  {
   "cell_type": "code",
   "execution_count": 153,
   "metadata": {},
   "outputs": [
    {
     "name": "stdout",
     "output_type": "stream",
     "text": [
      "Wall time: 17.2 s\n"
     ]
    },
    {
     "data": {
      "text/plain": [
       "KMeans(n_clusters=100)"
      ]
     },
     "execution_count": 153,
     "metadata": {},
     "output_type": "execute_result"
    }
   ],
   "source": [
    "%time model = KMeans(n_clusters=100); model.fit(features)"
   ]
  },
  {
   "cell_type": "code",
   "execution_count": 154,
   "metadata": {},
   "outputs": [
    {
     "name": "stdout",
     "output_type": "stream",
     "text": [
      "Wall time: 7.12 s\n"
     ]
    },
    {
     "data": {
      "text/plain": [
       "KMeans(n_clusters=100)"
      ]
     },
     "execution_count": 154,
     "metadata": {},
     "output_type": "execute_result"
    }
   ],
   "source": [
    "%time model = KMeans(n_clusters=100); model.fit(features_l)"
   ]
  },
  {
   "cell_type": "code",
   "execution_count": 163,
   "metadata": {},
   "outputs": [
    {
     "name": "stdout",
     "output_type": "stream",
     "text": [
      "Wall time: 4.73 s\n"
     ]
    },
    {
     "data": {
      "text/plain": [
       "KMeans(n_clusters=100)"
      ]
     },
     "execution_count": 163,
     "metadata": {},
     "output_type": "execute_result"
    }
   ],
   "source": [
    "%time model = KMeans(n_clusters=100); model.fit(features_h)"
   ]
  },
  {
   "cell_type": "code",
   "execution_count": 166,
   "metadata": {},
   "outputs": [
    {
     "name": "stdout",
     "output_type": "stream",
     "text": [
      "Wall time: 10.7 s\n"
     ]
    },
    {
     "data": {
      "text/plain": [
       "KMeans(n_clusters=250)"
      ]
     },
     "execution_count": 166,
     "metadata": {},
     "output_type": "execute_result"
    }
   ],
   "source": [
    "%time model = KMeans(n_clusters=250); model.fit(features_h)"
   ]
  },
  {
   "cell_type": "code",
   "execution_count": 155,
   "metadata": {},
   "outputs": [
    {
     "data": {
      "text/plain": [
       "[<matplotlib.lines.Line2D at 0x19a96c67e20>]"
      ]
     },
     "execution_count": 155,
     "metadata": {},
     "output_type": "execute_result"
    },
    {
     "data": {
      "image/png": "[encoded data removed]",
      "text/plain": [
       "<Figure size 432x288 with 1 Axes>"
      ]
     },
     "metadata": {
      "needs_background": "light"
     },
     "output_type": "display_data"
    }
   ],
   "source": [
    "from sklearn.neighbors import NearestNeighbors\n",
    "import matplotlib.pyplot as plt\n",
    "neigh = NearestNeighbors(n_neighbors=20)\n",
    "nbrs = neigh.fit(features_l)\n",
    "distances, indices = nbrs.kneighbors(features_l)\n",
    "distances = np.sort(distances, axis=0)\n",
    "distances = distances[:,1]\n",
    "plt.plot(distances)"
   ]
  },
  {
   "cell_type": "code",
   "execution_count": 156,
   "metadata": {},
   "outputs": [
    {
     "data": {
      "text/plain": [
       "[<matplotlib.lines.Line2D at 0x19a9662a460>]"
      ]
     },
     "execution_count": 156,
     "metadata": {},
     "output_type": "execute_result"
    },
    {
     "data": {
      "image/png": "[encoded data removed]",
      "text/plain": [
       "<Figure size 432x288 with 1 Axes>"
      ]
     },
     "metadata": {
      "needs_background": "light"
     },
     "output_type": "display_data"
    }
   ],
   "source": [
    "plt.plot(distances[:500])"
   ]
  },
  {
   "cell_type": "code",
   "execution_count": 186,
   "metadata": {},
   "outputs": [
    {
     "data": {
      "text/plain": [
       "array(['0', '1', '2', '4', '5', '8', '15', '17', '19', '19'], dtype='<U2')"
      ]
     },
     "execution_count": 186,
     "metadata": {},
     "output_type": "execute_result"
    }
   ],
   "source": [
    "n = 10\n",
    "l = 20\n",
    "indexes = np.sort(np.random.choice(20, size=10))\n",
    "# np.arange(l)[indexes]\n",
    "np.array([str(i) for i in range(l)])[indexes]"
   ]
  },
  {
   "cell_type": "code",
   "execution_count": 194,
   "metadata": {},
   "outputs": [],
   "source": [
    "def pretty_num(n):\n",
    "    if n < 1e3:\n",
    "        return str(n)\n",
    "    if n < 1e6:\n",
    "        return str(round(n/1e3, 2)) + ' k'\n",
    "    return str(round(n/1e6, 2)) + ' M'"
   ]
  },
  {
   "cell_type": "code",
   "execution_count": 196,
   "metadata": {},
   "outputs": [
    {
     "data": {
      "text/plain": [
       "'415.64 M'"
      ]
     },
     "execution_count": 196,
     "metadata": {},
     "output_type": "execute_result"
    }
   ],
   "source": [
    "pretty_num(415637338)"
   ]
  },
  {
   "cell_type": "markdown",
   "metadata": {},
   "source": [
    "## Debug for bimol csearch"
   ]
  },
  {
   "cell_type": "code",
   "execution_count": 1,
   "metadata": {},
   "outputs": [
    {
     "name": "stdout",
     "output_type": "stream",
     "text": [
      "\n",
      "O***********************************************************O\n",
      "*  /             ___  __   __   __   __   ___            \\  *\n",
      "* /_____________  |  /__` /  ` /  \\ |  \\ |__  ____________\\ *\n",
      "*/                |  .__/ \\__, \\__/ |__/ |___              \\*\n",
      "*                                                           *\n",
      "*           Transition State Conformational Docker          *\n",
      "*                       Version 0.1.0                       *\n",
      "*\\                                                         /*\n",
      "* \\    Nicolo' Tampellini - nicolo.tampellini@yale.edu    / *\n",
      "*  \\                                                     /  *\n",
      "O***********************************************************O\n",
      "\n"
     ]
    }
   ],
   "source": [
    "from tscode.embedder import Embedder\n",
    "from tscode.operators import csearch_operator\n",
    "\n",
    "embedder = Embedder(r'C:\\Users\\Nik\\Desktop\\debug\\debug.txt')"
   ]
  },
  {
   "cell_type": "code",
   "execution_count": 2,
   "metadata": {},
   "outputs": [
    {
     "name": "stdout",
     "output_type": "stream",
     "text": [
      "--> Performing conformational search on C:\\Users\\Nik\\Desktop\\debug\\cat_salt.xyz_conf0.xyz\n"
     ]
    },
    {
     "ename": "SegmentedGraphError",
     "evalue": "C:\\Users\\Nik\\Desktop\\debug\\cat_salt.xyz_conf0.xyz_conf0 has a segmented connectivity graph: double check the input geometry.\nif this is supposed to be a complex, TSCoDe was not able to find hydrogen bonds\nconnecting the molecules, and the algorithm is not designed to reliably perform\nconformational searches on loosely bound multimolecular arrangements.",
     "output_type": "error",
     "traceback": [
      "\u001b[1;31m---------------------------------------------------------------------------\u001b[0m",
      "\u001b[1;31mSegmentedGraphError\u001b[0m                       Traceback (most recent call last)",
      "\u001b[1;32m~\\AppData\\Local\\Temp/ipykernel_9108/2889280303.py\u001b[0m in \u001b[0;36m<module>\u001b[1;34m\u001b[0m\n\u001b[1;32m----> 1\u001b[1;33m \u001b[0mcsearch_operator\u001b[0m\u001b[1;33m(\u001b[0m\u001b[1;34mr'C:\\Users\\Nik\\Desktop\\debug\\cat_salt.xyz_conf0.xyz'\u001b[0m\u001b[1;33m,\u001b[0m \u001b[0membedder\u001b[0m\u001b[1;33m)\u001b[0m\u001b[1;33m\u001b[0m\u001b[1;33m\u001b[0m\u001b[0m\n\u001b[0m",
      "\u001b[1;32mc:\\users\\nik\\desktop\\coding\\tscode\\tscode\\operators.py\u001b[0m in \u001b[0;36mcsearch_operator\u001b[1;34m(filename, embedder, keep_hb)\u001b[0m\n\u001b[0;32m    150\u001b[0m         \u001b[1;31m# optimize starting structure before running csearch\u001b[0m\u001b[1;33m\u001b[0m\u001b[1;33m\u001b[0m\u001b[1;33m\u001b[0m\u001b[0m\n\u001b[0;32m    151\u001b[0m \u001b[1;33m\u001b[0m\u001b[0m\n\u001b[1;32m--> 152\u001b[1;33m         conf_batch = clustered_csearch(opt_coords,\n\u001b[0m\u001b[0;32m    153\u001b[0m                                        \u001b[0mdata\u001b[0m\u001b[1;33m.\u001b[0m\u001b[0matomnos\u001b[0m\u001b[1;33m,\u001b[0m\u001b[1;33m\u001b[0m\u001b[1;33m\u001b[0m\u001b[0m\n\u001b[0;32m    154\u001b[0m                                        \u001b[0mkeep_hb\u001b[0m\u001b[1;33m=\u001b[0m\u001b[0mkeep_hb\u001b[0m\u001b[1;33m,\u001b[0m\u001b[1;33m\u001b[0m\u001b[1;33m\u001b[0m\u001b[0m\n",
      "\u001b[1;32mc:\\users\\nik\\desktop\\coding\\tscode\\tscode\\clustered_csearch.py\u001b[0m in \u001b[0;36mclustered_csearch\u001b[1;34m(coords, atomnos, constrained_indexes, keep_hb, ff_opt, n, n_out, mode, calc, method, title, logfunction, interactive_print, write_torsions)\u001b[0m\n\u001b[0;32m    550\u001b[0m \u001b[1;33m\u001b[0m\u001b[0m\n\u001b[0;32m    551\u001b[0m     \u001b[1;32mif\u001b[0m \u001b[0mlen\u001b[0m\u001b[1;33m(\u001b[0m\u001b[0mlist\u001b[0m\u001b[1;33m(\u001b[0m\u001b[0mnx\u001b[0m\u001b[1;33m.\u001b[0m\u001b[0mconnected_components\u001b[0m\u001b[1;33m(\u001b[0m\u001b[0mgraph\u001b[0m\u001b[1;33m)\u001b[0m\u001b[1;33m)\u001b[0m\u001b[1;33m)\u001b[0m \u001b[1;33m>\u001b[0m \u001b[1;36m1\u001b[0m\u001b[1;33m:\u001b[0m\u001b[1;33m\u001b[0m\u001b[1;33m\u001b[0m\u001b[0m\n\u001b[1;32m--> 552\u001b[1;33m         raise SegmentedGraphError(\n\u001b[0m\u001b[0;32m    553\u001b[0m             \u001b[1;34mf'{title} has a segmented connectivity graph: double check the input geometry.\\n'\u001b[0m \u001b[1;33m+\u001b[0m\u001b[1;33m\u001b[0m\u001b[1;33m\u001b[0m\u001b[0m\n\u001b[0;32m    554\u001b[0m              \u001b[1;34m'if this is supposed to be a complex, TSCoDe was not able to find hydrogen bonds\\n'\u001b[0m \u001b[1;33m+\u001b[0m\u001b[1;33m\u001b[0m\u001b[1;33m\u001b[0m\u001b[0m\n",
      "\u001b[1;31mSegmentedGraphError\u001b[0m: C:\\Users\\Nik\\Desktop\\debug\\cat_salt.xyz_conf0.xyz_conf0 has a segmented connectivity graph: double check the input geometry.\nif this is supposed to be a complex, TSCoDe was not able to find hydrogen bonds\nconnecting the molecules, and the algorithm is not designed to reliably perform\nconformational searches on loosely bound multimolecular arrangements."
     ]
    }
   ],
   "source": [
    "csearch_operator(r'C:\\Users\\Nik\\Desktop\\debug\\cat_salt.xyz_conf0.xyz', embedder)"
   ]
  },
  {
   "cell_type": "code",
   "execution_count": 1,
   "metadata": {},
   "outputs": [],
   "source": [
    "## Clash_thresh sample"
   ]
  },
  {
   "cell_type": "code",
   "execution_count": 28,
   "metadata": {},
   "outputs": [
    {
     "data": {
      "text/plain": [
       "(1000, 137, 3)"
      ]
     },
     "execution_count": 28,
     "metadata": {},
     "output_type": "execute_result"
    }
   ],
   "source": [
    "from tscode.python_functions import compenetration_check\n",
    "from tscode.utils import read_xyz\n",
    "data = read_xyz(r'C:\\Users\\Nik\\Desktop\\debug\\TSCoDe_embedded_Apr__4_03-29.xyz')\n",
    "data.atomcoords.shape"
   ]
  },
  {
   "cell_type": "code",
   "execution_count": 29,
   "metadata": {},
   "outputs": [],
   "source": [
    "from tscode.algebra import all_dists\n",
    "import numpy as np\n",
    "import matplotlib.pyplot as plt\n",
    "\n",
    "ids = [102,0]\n",
    "min_ds = []\n",
    "for coords in data.atomcoords:\n",
    "\n",
    "    m1 = coords[0:ids[0]]\n",
    "    m2 = coords[ids[0]:]\n",
    "    # fragment identification by length (contiguous)\n",
    "\n",
    "    d = all_dists(m2,m1)\n",
    "    m = np.min(d)\n",
    "    # print(m)\n",
    "    # print(np.where(d==m))\n",
    "\n",
    "    min_ds.append(m)"
   ]
  },
  {
   "cell_type": "code",
   "execution_count": 30,
   "metadata": {},
   "outputs": [
    {
     "data": {
      "image/png": "[encoded data removed]",
      "text/plain": [
       "<Figure size 432x288 with 1 Axes>"
      ]
     },
     "metadata": {
      "needs_background": "light"
     },
     "output_type": "display_data"
    }
   ],
   "source": [
    "\n",
    "plot = plt.hist(min_ds, bins=10)"
   ]
  },
  {
   "cell_type": "code",
   "execution_count": 32,
   "metadata": {},
   "outputs": [
    {
     "data": {
      "text/plain": [
       "(93, 137, 3)"
      ]
     },
     "execution_count": 32,
     "metadata": {},
     "output_type": "execute_result"
    }
   ],
   "source": [
    "from tscode.utils import write_xyz\n",
    "thr = 1.5\n",
    "out = []\n",
    "\n",
    "for c in data.atomcoords:\n",
    "    m1 = c[0:102]\n",
    "    m2 = c[102:]\n",
    "\n",
    "    d = all_dists(m2,m1)\n",
    "    m = np.min(d)\n",
    "\n",
    "    if m > thr:\n",
    "        out.append(c)\n",
    "\n",
    "out = np.array(out)\n",
    "\n",
    "with open(r'C:\\Users\\Nik\\Desktop\\debug\\clean.xyz', 'w') as f:\n",
    "    for s in out:\n",
    "        write_xyz(s, data.atomnos, f)\n",
    "\n",
    "out.shape\n"
   ]
  },
  {
   "cell_type": "markdown",
   "metadata": {},
   "source": [
    "## OB UFF convergence\n",
    "### Actually kinda bad. 200 is fast and loose, 500 seems to be a good amount"
   ]
  },
  {
   "cell_type": "code",
   "execution_count": 8,
   "metadata": {},
   "outputs": [],
   "source": [
    "from openbabel import openbabel as ob\n",
    "import matplotlib.pyplot as plt\n",
    "import numpy as np\n",
    "    \n",
    "def nsteps_plot(filename):\n",
    "\n",
    "    # Standard openbabel molecule load\n",
    "    conv = ob.OBConversion()\n",
    "    conv.SetInAndOutFormats('xyz','xyz')\n",
    "    mol = ob.OBMol()\n",
    "    more = conv.ReadFile(mol, filename)\n",
    "    i = 0\n",
    "\n",
    "    # Define constraints\n",
    "    constraints = ob.OBFFConstraints()\n",
    "\n",
    "    # constraints.AddTorsionConstraint(1, 2, 3, 4, 180.0) # Degrees\n",
    "\n",
    "    # Setup the force field with the constraints\n",
    "    forcefield = ob.OBForceField.FindForceField('UFF')\n",
    "    forcefield.Setup(mol, constraints)\n",
    "    forcefield.SetConstraints(constraints)\n",
    "\n",
    "    # Do a nsteps conjugate gradient minimization\n",
    "    # (or less if converges) and save the coordinates to mol.\n",
    "    energies = []\n",
    "    for n in range(1,1001):\n",
    "        forcefield.ConjugateGradients(1)\n",
    "        forcefield.GetCoordinates(mol)\n",
    "        energy = forcefield.Energy() * 0.2390057361376673 # kJ/mol to kcal/mol\n",
    "\n",
    "        energies.append(energy)\n",
    "\n",
    "    energies = np.array(energies)\n",
    "    plt.plot(energies-min(energies))\n",
    "    plt.show()"
   ]
  },
  {
   "cell_type": "code",
   "execution_count": 9,
   "metadata": {},
   "outputs": [
    {
     "data": {
      "image/png": "[encoded data removed]",
      "text/plain": [
       "<Figure size 432x288 with 1 Axes>"
      ]
     },
     "metadata": {
      "needs_background": "light"
     },
     "output_type": "display_data"
    }
   ],
   "source": [
    "nsteps_plot(r'C:\\Users\\Nik\\Desktop\\debug\\aug\\start.xyz')"
   ]
  },
  {
   "cell_type": "code",
   "execution_count": 12,
   "metadata": {},
   "outputs": [],
   "source": [
    "def nsteps_plot_sd(filename):\n",
    "\n",
    "    # Standard openbabel molecule load\n",
    "    conv = ob.OBConversion()\n",
    "    conv.SetInAndOutFormats('xyz','xyz')\n",
    "    mol = ob.OBMol()\n",
    "    more = conv.ReadFile(mol, filename)\n",
    "    i = 0\n",
    "\n",
    "    # Define constraints\n",
    "    constraints = ob.OBFFConstraints()\n",
    "\n",
    "    # constraints.AddTorsionConstraint(1, 2, 3, 4, 180.0) # Degrees\n",
    "\n",
    "    # Setup the force field with the constraints\n",
    "    forcefield = ob.OBForceField.FindForceField('UFF')\n",
    "    forcefield.Setup(mol, constraints)\n",
    "    forcefield.SetConstraints(constraints)\n",
    "\n",
    "    # Do a nsteps conjugate gradient minimization\n",
    "    # (or less if converges) and save the coordinates to mol.\n",
    "    energies = []\n",
    "    for n in range(1,1001):\n",
    "        forcefield.SteepestDescent(1)\n",
    "        forcefield.GetCoordinates(mol)\n",
    "        energy = forcefield.Energy() * 0.2390057361376673 # kJ/mol to kcal/mol\n",
    "\n",
    "        energies.append(energy)\n",
    "\n",
    "    energies = np.array(energies)\n",
    "    plt.plot(energies-min(energies))\n",
    "    plt.show()"
   ]
  },
  {
   "cell_type": "code",
   "execution_count": 13,
   "metadata": {},
   "outputs": [
    {
     "data": {
      "image/png": "[encoded data removed]",
      "text/plain": [
       "<Figure size 432x288 with 1 Axes>"
      ]
     },
     "metadata": {
      "needs_background": "light"
     },
     "output_type": "display_data"
    }
   ],
   "source": [
    "nsteps_plot_sd(r'C:\\Users\\Nik\\Desktop\\debug\\aug\\start.xyz')"
   ]
  },
  {
   "cell_type": "markdown",
   "metadata": {},
   "source": [
    "## is conf aug giving ok energies?\n",
    "### Yes, but minor adjustments in the constrained distance can make great energy differences, and we don't want that actually"
   ]
  },
  {
   "cell_type": "code",
   "execution_count": 23,
   "metadata": {},
   "outputs": [],
   "source": [
    "import numpy as np\n",
    "from tscode.utils import read_xyz\n",
    "from tscode.calculators._openbabel import openbabel_opt\n",
    "m0 = read_xyz(r'C:\\Users\\Nik\\Desktop\\debug\\aug\\best_of_aug_run_0.xyz')\n",
    "m1 = read_xyz(r'C:\\Users\\Nik\\Desktop\\debug\\aug\\best_of_aug_run_1.xyz')\n",
    "m2 = read_xyz(r'C:\\Users\\Nik\\Desktop\\debug\\aug\\best_of_aug_run_2.xyz')"
   ]
  },
  {
   "cell_type": "code",
   "execution_count": 17,
   "metadata": {},
   "outputs": [
    {
     "name": "stdout",
     "output_type": "stream",
     "text": [
      "642.8060877951402\n",
      "629.751825420276\n",
      "623.0391161767941\n"
     ]
    }
   ],
   "source": [
    "_, e0, _ = openbabel_opt(m0.atomcoords[0], m0.atomnos, (), nsteps=0)\n",
    "_, e1, _ = openbabel_opt(m1.atomcoords[0], m1.atomnos, (), nsteps=0)\n",
    "_, e2, _ = openbabel_opt(m2.atomcoords[0], m2.atomnos, (), nsteps=0)\n",
    "print(e0)\n",
    "print(e1)\n",
    "print(e2)"
   ]
  },
  {
   "cell_type": "code",
   "execution_count": 18,
   "metadata": {},
   "outputs": [
    {
     "name": "stdout",
     "output_type": "stream",
     "text": [
      "-13.054262374864265\n",
      "-19.766971618346133\n"
     ]
    }
   ],
   "source": [
    "print(e1-e0)\n",
    "print(e2-e0)"
   ]
  },
  {
   "cell_type": "code",
   "execution_count": 22,
   "metadata": {},
   "outputs": [
    {
     "name": "stdout",
     "output_type": "stream",
     "text": [
      "625.9908623686828\n",
      "620.0405332127516\n",
      "619.1433114323739\n",
      "-16.81522542645746\n",
      "-9.711292207524366\n",
      "-3.895804744420161\n"
     ]
    }
   ],
   "source": [
    "n = 10000\n",
    "m0_, e0_, _ = openbabel_opt(m0.atomcoords[0], m0.atomnos, [[39, 136]], nsteps=n)\n",
    "m1_, e1_, _ = openbabel_opt(m1.atomcoords[0], m1.atomnos, [[39, 136]], nsteps=n)\n",
    "m2_, e2_, _ = openbabel_opt(m2.atomcoords[0], m2.atomnos, [[39, 136]], nsteps=n)\n",
    "print(e0_)\n",
    "print(e1_)\n",
    "print(e2_)\n",
    "print(e0_-e0)\n",
    "print(e1_-e1)\n",
    "print(e2_-e2)"
   ]
  },
  {
   "cell_type": "code",
   "execution_count": 26,
   "metadata": {},
   "outputs": [
    {
     "name": "stdout",
     "output_type": "stream",
     "text": [
      "1.8600563874786162\n",
      "1.8706799948147197\n",
      "1.8804921293640129\n",
      "-0.010623607336103458\n",
      "-0.020435741885396652\n"
     ]
    }
   ],
   "source": [
    "d0 = np.linalg.norm(m0_[39]-m0_[136])\n",
    "d1 = np.linalg.norm(m1_[39]-m1_[136])\n",
    "d2 = np.linalg.norm(m2_[39]-m2_[136])\n",
    "print(d0)\n",
    "print(d1)\n",
    "print(d2)\n",
    "print(d0-d1)\n",
    "print(d0-d2)"
   ]
  },
  {
   "cell_type": "markdown",
   "metadata": {},
   "source": [
    "### Let's see if microscopic deviations cause that energy increase with the XTB GFN-FF calculator"
   ]
  },
  {
   "cell_type": "code",
   "execution_count": null,
   "metadata": {},
   "outputs": [],
   "source": [
    "..."
   ]
  }
 ],
 "metadata": {
  "interpreter": {
   "hash": "422f1aa206118b9971a857b28e0a49927c5d286f30fdcfc2308e1ad607d060af"
  },
  "kernelspec": {
   "display_name": "Python 3.8.10 ('tscode')",
   "language": "python",
   "name": "python3"
  },
  "language_info": {
   "codemirror_mode": {
    "name": "ipython",
    "version": 3
   },
   "file_extension": ".py",
   "mimetype": "text/x-python",
   "name": "python",
   "nbconvert_exporter": "python",
   "pygments_lexer": "ipython3",
   "version": "3.8.10"
  },
  "orig_nbformat": 4
 },
 "nbformat": 4,
 "nbformat_minor": 2
}
