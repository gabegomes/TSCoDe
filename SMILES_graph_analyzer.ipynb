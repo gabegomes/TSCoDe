{
 "cells": [
  {
   "cell_type": "code",
   "execution_count": 77,
   "id": "worldwide-bread",
   "metadata": {},
   "outputs": [],
   "source": [
    "from rdkit import Chem\n",
    "from rdkit.Chem import Draw\n",
    "from rdkit.Chem.Draw import IPythonConsole\n",
    "from rdkit.Chem import Descriptors\n",
    "from rdkit.Chem import AllChem\n",
    "from rdkit import DataStructs\n",
    "import numpy as np\n",
    "# IPythonConsole.ipython_useSVG=False"
   ]
  },
  {
   "cell_type": "code",
   "execution_count": 78,
   "id": "hidden-marble",
   "metadata": {},
   "outputs": [],
   "source": [
    "def label(mol):\n",
    "    for atom in mol.GetAtoms():\n",
    "        atom.SetAtomMapNum(atom.GetIdx())\n",
    "    return mol"
   ]
  },
  {
   "cell_type": "code",
   "execution_count": 87,
   "id": "posted-cornell",
   "metadata": {},
   "outputs": [
    {
     "output_type": "stream",
     "name": "stdout",
     "text": [
      "1\n2\n"
     ]
    },
    {
     "output_type": "execute_result",
     "data": {
      "text/plain": [
       "<rdkit.Chem.rdchem.Mol at 0x2a672334440>"
      ],
      "image/png": "[encoded data removed]"
     },
     "metadata": {},
     "execution_count": 87
    }
   ],
   "source": [
    "from rdkit.Chem.Lipinski import NumRotatableBonds, NHOHCount\n",
    "test = Chem.MolFromMolFile('Resources/funky_single.mol')\n",
    "print(NumRotatableBonds(test))\n",
    "print(NHOHCount(mol))\n",
    "label(test)"
   ]
  },
  {
   "cell_type": "code",
   "execution_count": 89,
   "metadata": {},
   "outputs": [
    {
     "output_type": "stream",
     "name": "stdout",
     "text": [
      "6\n"
     ]
    },
    {
     "output_type": "execute_result",
     "data": {
      "text/plain": [
       "<rdkit.Chem.rdchem.Mol at 0x2a6723348a0>"
      ],
      "image/png": "[encoded data removed]"
     },
     "metadata": {},
     "execution_count": 89
    }
   ],
   "source": [
    "test2 = Chem.MolFromSmiles('C(CC(=O)NC(CS)C(=O)NCC(=O)O)C(C(=O)O)N')\n",
    "print(NHOHCount(test2))\n",
    "test2"
   ]
  },
  {
   "cell_type": "code",
   "execution_count": 80,
   "id": "employed-nursery",
   "metadata": {},
   "outputs": [
    {
     "output_type": "execute_result",
     "data": {
      "text/plain": [
       "array([[0, 1, 1, 0, 0, 0, 0, 0],\n",
       "       [1, 0, 1, 1, 0, 0, 1, 0],\n",
       "       [1, 1, 0, 0, 0, 0, 0, 0],\n",
       "       [0, 1, 0, 0, 1, 1, 0, 1],\n",
       "       [0, 0, 0, 1, 0, 1, 0, 0],\n",
       "       [0, 0, 0, 1, 1, 0, 0, 0],\n",
       "       [0, 1, 0, 0, 0, 0, 0, 0],\n",
       "       [0, 0, 0, 1, 0, 0, 0, 0]], dtype=int32)"
      ]
     },
     "metadata": {},
     "execution_count": 80
    }
   ],
   "source": [
    "Chem.GetAdjacencyMatrix(test)"
   ]
  },
  {
   "cell_type": "code",
   "execution_count": 81,
   "id": "derived-interstate",
   "metadata": {},
   "outputs": [
    {
     "output_type": "execute_result",
     "data": {
      "text/plain": [
       "array([[0., 1., 1., 2., 3., 3., 2., 3.],\n",
       "       [1., 0., 1., 1., 2., 2., 1., 2.],\n",
       "       [1., 1., 0., 2., 3., 3., 2., 3.],\n",
       "       [2., 1., 2., 0., 1., 1., 2., 1.],\n",
       "       [3., 2., 3., 1., 0., 1., 3., 2.],\n",
       "       [3., 2., 3., 1., 1., 0., 3., 2.],\n",
       "       [2., 1., 2., 2., 3., 3., 0., 3.],\n",
       "       [3., 2., 3., 1., 2., 2., 3., 0.]])"
      ]
     },
     "metadata": {},
     "execution_count": 81
    }
   ],
   "source": [
    "Chem.GetDistanceMatrix(test)"
   ]
  },
  {
   "cell_type": "code",
   "execution_count": 82,
   "metadata": {},
   "outputs": [],
   "source": [
    "for atom in mol.GetAtoms():\n",
    "    atom.SetAtomMapNum(atom.GetIdx())"
   ]
  }
 ],
 "metadata": {
  "kernelspec": {
   "display_name": "Python 3",
   "language": "python",
   "name": "python3"
  },
  "language_info": {
   "codemirror_mode": {
    "name": "ipython",
    "version": 3
   },
   "file_extension": ".py",
   "mimetype": "text/x-python",
   "name": "python",
   "nbconvert_exporter": "python",
   "pygments_lexer": "ipython3",
   "version": "3.6.12-final"
  }
 },
 "nbformat": 4,
 "nbformat_minor": 5
}