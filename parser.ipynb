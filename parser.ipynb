{
 "metadata": {
  "language_info": {
   "codemirror_mode": {
    "name": "ipython",
    "version": 3
   },
   "file_extension": ".py",
   "mimetype": "text/x-python",
   "name": "python",
   "nbconvert_exporter": "python",
   "pygments_lexer": "ipython3",
   "version": "3.6.13"
  },
  "orig_nbformat": 2,
  "kernelspec": {
   "name": "python3613jvsc74a57bd0f42432a105b8acee4ebf0bed7c821d7ab9f1c868b5ed9ce15efef0e0d7067e2c",
   "display_name": "Python 3.6.13 64-bit ('tscode': conda)"
  }
 },
 "nbformat": 4,
 "nbformat_minor": 2,
 "cells": [
  {
   "source": [
    "# PARSER\n",
    "        mol1.xyz 4a 8b\n",
    "        mol2.xyz 5c 7a\n",
    "        mol3.xyz 12b 17c\n"
   ],
   "cell_type": "markdown",
   "metadata": {}
  },
  {
   "cell_type": "code",
   "execution_count": 71,
   "metadata": {},
   "outputs": [],
   "source": [
    "s = 'mol1.xyz 4a 8b\\n''mol2.xyz 5 7a\\nmol3.xyz 12b 17'\n",
    "s = 'mol1.xyz 4 8\\n''mol2.xyz 5 7\\nmol3.xyz 12 17'\n",
    "ids = [10, 12, 18]"
   ]
  },
  {
   "cell_type": "code",
   "execution_count": 72,
   "metadata": {},
   "outputs": [
    {
     "output_type": "execute_result",
     "data": {
      "text/plain": [
       "['mol1.xyz 4 8', 'mol2.xyz 5 7', 'mol3.xyz 12 17']"
      ]
     },
     "metadata": {},
     "execution_count": 72
    }
   ],
   "source": [
    "lines = s.split('\\n')\n",
    "lines"
   ]
  },
  {
   "cell_type": "code",
   "execution_count": 73,
   "metadata": {},
   "outputs": [
    {
     "output_type": "execute_result",
     "data": {
      "text/plain": [
       "True"
      ]
     },
     "metadata": {},
     "execution_count": 73
    }
   ],
   "source": [
    "'asd34FF.w'.lower().islower()\n",
    "'34A'.lower().islower()"
   ]
  },
  {
   "cell_type": "code",
   "execution_count": 79,
   "metadata": {},
   "outputs": [
    {
     "output_type": "execute_result",
     "data": {
      "text/plain": [
       "[[0, 15]]"
      ]
     },
     "metadata": {},
     "execution_count": 79
    }
   ],
   "source": [
    "import re\n",
    "\n",
    "def _read_pairings(filename):\n",
    "    '''\n",
    "    '''\n",
    "    with open(filename, 'r') as f:\n",
    "        lines = f.readlines()\n",
    "\n",
    "    for i, line in enumerate(lines):\n",
    "        pairings = line.split()[1:]\n",
    "        \n",
    "        pairings = [[int(i[:-1]), i[-1]] for i in pairings if i.lower().islower()]\n",
    "        if i > 0:\n",
    "            for z in pairings:\n",
    "                z[0] += sum([j for j in ids[:i]])\n",
    "\n",
    "        for j in pairings:\n",
    "            parsed.append(j)\n",
    "\n",
    "    links = {j:[] for j in set([i[1] for i in parsed])}\n",
    "    for index, tag in parsed:\n",
    "        links[tag].append(index)\n",
    "\n",
    "    pairings = list(links.values())\n",
    "    pairings = [sorted(i) for i in pairings]\n",
    "    return pairings\n",
    "\n",
    "_read_pairings('test_input.txt')\n"
   ]
  },
  {
   "cell_type": "code",
   "execution_count": null,
   "metadata": {},
   "outputs": [],
   "source": []
  }
 ]
}